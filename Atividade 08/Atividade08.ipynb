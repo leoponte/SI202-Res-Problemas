{
  "nbformat": 4,
  "nbformat_minor": 0,
  "metadata": {
    "colab": {
      "name": "Atividade08.ipynb",
      "provenance": [],
      "collapsed_sections": []
    },
    "kernelspec": {
      "name": "python3",
      "display_name": "Python 3"
    }
  },
  "cells": [
    {
      "cell_type": "markdown",
      "metadata": {
        "id": "Lkqw1rkczSLg"
      },
      "source": [
        "# **Inicializando o Tabuleiro**\r\n",
        "\r\n",
        "---\r\n",
        "\r\n"
      ]
    },
    {
      "cell_type": "markdown",
      "metadata": {
        "id": "UQSrTiaEBha3"
      },
      "source": [
        "###Definindo o tabuleiro"
      ]
    },
    {
      "cell_type": "code",
      "metadata": {
        "id": "MnrD-1NfBnh5"
      },
      "source": [
        "### **Definindo tabuleiro** ------------------------------------------------------------------------------------ >>\r\n",
        "def initialize_board():\r\n",
        "  ## Tabuleiro vazio:\r\n",
        "  tabuleiroList = []\r\n",
        "  for i in range(64):\r\n",
        "    if i == 27 or i == 36:\r\n",
        "      tabuleiroList.append(-1) #colocando peças BRANCAS na posição inicial do meio do tabuleiro\r\n",
        "    elif i == 28 or i == 35:\r\n",
        "      tabuleiroList.append(1) #colocando peças PRETAS na posição inicial do meio do tabuleiro\r\n",
        "    else:\r\n",
        "      tabuleiroList.append(0)\r\n",
        "      \r\n",
        "  tabuleiro = tuple(tabuleiroList)\r\n",
        "\r\n",
        "  return tabuleiro\r\n"
      ],
      "execution_count": 1,
      "outputs": []
    },
    {
      "cell_type": "markdown",
      "metadata": {
        "id": "8Ehd66fLBuRH"
      },
      "source": [
        "###Desenhando as peças no tabuleiro"
      ]
    },
    {
      "cell_type": "code",
      "metadata": {
        "id": "LucT7YZCB0O4"
      },
      "source": [
        "### **Desenhando as peças no tabuleiro** ------------------------------------------------------------------------------------ >>\r\n",
        "\r\n",
        "def draw_piece(draw, cell, piece) :\r\n",
        "    ## Convertendo linear para matricial\r\n",
        "    line   = cell // 8\r\n",
        "    column = cell  % 8\r\n",
        "\r\n",
        "    ## Gerando as coordenadas\r\n",
        "    x0 = column * 50\r\n",
        "    x1 = (column+1)*50\r\n",
        "    y0 = line*50\r\n",
        "    y1 = (line+1)*50\r\n",
        "\r\n",
        "    if piece == 1 :\r\n",
        "        draw.ellipse([x0, y0, x1, y1], width=2, fill = \"black\")\r\n",
        "    elif piece == -1 :\r\n",
        "        draw.ellipse([x0, y0, x1, y1], width=2, fill = \"white\")\r\n",
        "\r\n",
        "\r\n"
      ],
      "execution_count": 2,
      "outputs": []
    },
    {
      "cell_type": "markdown",
      "metadata": {
        "id": "Yl-ke_JIB51B"
      },
      "source": [
        "###Desenhando jogadas válidas no tabuleiro"
      ]
    },
    {
      "cell_type": "code",
      "metadata": {
        "id": "uqws7izLB950"
      },
      "source": [
        "### **Desenhando jogadas válidas no tabuleiro** ------------------------------------------------------------------------------------ >>\r\n",
        "\r\n",
        "def draw_piece_valid_moves(draw, cell) :\r\n",
        "    ## Convertendo linear para matricial\r\n",
        "    line   = cell // 8\r\n",
        "    column = cell  % 8\r\n",
        "\r\n",
        "    ## Gerando as coordenadas\r\n",
        "    x0 = column * 50\r\n",
        "    x1 = (column+1)*50\r\n",
        "    y0 = line*50\r\n",
        "    y1 = (line+1)*50\r\n",
        "\r\n",
        "    draw.ellipse([x0, y0, x1, y1], width=1, outline = \"silver\")"
      ],
      "execution_count": 3,
      "outputs": []
    },
    {
      "cell_type": "markdown",
      "metadata": {
        "id": "IfKSEqXwCMSb"
      },
      "source": [
        "###Desenhando números no tabuleiro"
      ]
    },
    {
      "cell_type": "code",
      "metadata": {
        "id": "gZNN_eRFCQkb"
      },
      "source": [
        "### **Desenhando número no tabuleiro** ------------------------------------------------------------------------------------ >>\r\n",
        "\r\n",
        "def draw_number(draw, cell) :\r\n",
        "    ## Convertendo linear para matricial\r\n",
        "    line   = cell // 8\r\n",
        "    column = cell  % 8\r\n",
        "\r\n",
        "    ## Gerando as coordenadas\r\n",
        "    x = column * 50 + 20\r\n",
        "    y = line*50 + 20\r\n",
        "\r\n",
        "    text = str(cell)\r\n",
        "    draw.text((x, y), text, fill = \"darkgreen\", align =\"center\")"
      ],
      "execution_count": 4,
      "outputs": []
    },
    {
      "cell_type": "markdown",
      "metadata": {
        "id": "PfAdaJFYCUEB"
      },
      "source": [
        "###Desenhando tabuleiro junto com as jogadas válidas"
      ]
    },
    {
      "cell_type": "code",
      "metadata": {
        "id": "OoU5uanjzcgo"
      },
      "source": [
        "### **Desenhando tabuleiro junto com jogadas válidas** ------------------------------------------------------------------------------------ >>\n",
        "\n",
        "## Importa biblioteca\n",
        "from PIL import Image, ImageDraw\n",
        "\n",
        "def draw_board(tab, turn, valids) :\n",
        "    turno = turn\n",
        "    ## Desenhamos um quadrado 400x400\n",
        "    board = Image.new('RGB', (400, 400),  \"green\")\n",
        "    ## Criamos uma espécie de canvas para desenhar\n",
        "    draw  = ImageDraw.Draw(board)\n",
        "\n",
        "    ## Desenhamos duas linhas horizontais\n",
        "    x0 = 0\n",
        "    y0 = 0\n",
        "    x1 = 400\n",
        "    y1 = 0\n",
        "\n",
        "    for i in range(9):\n",
        "      draw.line( (x0, y0, x1, y1), fill = \"black\", width = 1 ) \n",
        "      y0 += 50\n",
        "      y1 = y0\n",
        "\n",
        "    ## Desenhamos duas linhas verticais\n",
        "    x0 = 0\n",
        "    y0 = 0\n",
        "    x1 = 0\n",
        "    y1 = 400\n",
        "    for i in range(9):\n",
        "      draw.line( (x0, y0, x1, y1), fill = \"black\", width = 1 ) \n",
        "      x0 += 50\n",
        "      x1 = x0\n",
        "\n",
        "    for i in range(len(tab)) :\n",
        "        ## Desenha a peça no tabuleiro\n",
        "        if (tab[i]) :\n",
        "            draw_piece(draw, i, tab[i])\n",
        "        else:\n",
        "          ## Desenha o número\n",
        "          draw_number(draw, i)\n",
        "\n",
        "    validMove = valids\n",
        "\n",
        "    for i in range(len(validMove)) :\n",
        "        draw_piece_valid_moves(draw, validMove[i])   \n",
        "\n",
        "    return board\n"
      ],
      "execution_count": 5,
      "outputs": []
    },
    {
      "cell_type": "markdown",
      "metadata": {
        "id": "Q8SlgtiYKH4_"
      },
      "source": [
        "#**Construindo o jogo**\r\n",
        "\r\n",
        "---\r\n",
        "\r\n"
      ]
    },
    {
      "cell_type": "markdown",
      "metadata": {
        "id": "8evfp5FaDAwi"
      },
      "source": [
        "###Definindo as jogadas válidas"
      ]
    },
    {
      "cell_type": "code",
      "metadata": {
        "id": "FqzjwZ6BDEzZ"
      },
      "source": [
        "### **Definindo Jogadas Válidas** ------------------------------------------------------------------------------------ >>\r\n",
        "\r\n",
        "## Função que devolve as jogadas válidas\r\n",
        "def get_valid_moves(tab, turn) :\r\n",
        "    valids = []\r\n",
        "    for i in range(len(tab)) :\r\n",
        "        if tab[i] == turn:  \r\n",
        "            ##Verificação da linha sentido direita \r\n",
        "            if i <= 61 and (i+1)%8!=0:\r\n",
        "              if tab[i+1] == -(turn):\r\n",
        "                for y in range(2,8):\r\n",
        "                  if (i+y)%8==0:\r\n",
        "                    break\r\n",
        "                  elif tab[i+y] == 0:\r\n",
        "                    valids.append(i+y)\r\n",
        "                    break\r\n",
        "                  elif tab[i+y] == turn:\r\n",
        "                    break\r\n",
        "            ##Verificação da linha sentido esquerda\r\n",
        "            if i >= 2 and (i-1)%8!=7:\r\n",
        "              if tab[i-1] == -(turn):\r\n",
        "                for y in range(2,8):\r\n",
        "                  if (i-y)%8==7:\r\n",
        "                    break\r\n",
        "                  elif tab[i-y] == 0:\r\n",
        "                    valids.append(i-y)\r\n",
        "                    break  \r\n",
        "                  elif tab[i-y] == turn:\r\n",
        "                    break   \r\n",
        "            ##Verificação da coluna sentido baixo \r\n",
        "            if i <= 47:\r\n",
        "              if tab[i+8] == -(turn):\r\n",
        "                for y in range(16,57,8):\r\n",
        "                  if (i+y) > 63:\r\n",
        "                    break\r\n",
        "                  if tab[i+y] == 0:\r\n",
        "                    valids.append(i+y)\r\n",
        "                    break\r\n",
        "                  elif tab[i+y] == turn:\r\n",
        "                    break\r\n",
        "            ##Verificação da coluna sentido cima\r\n",
        "            if i > 15:\r\n",
        "              if tab[i-8] == -(turn):\r\n",
        "                for y in range(16,57,8):\r\n",
        "                  if (i-y) < 0:\r\n",
        "                    break\r\n",
        "                  if tab[i-y] == 0:\r\n",
        "                    valids.append(i-y)\r\n",
        "                    break\r\n",
        "                  elif tab[i-y] == turn:\r\n",
        "                    break\r\n",
        "            ##Verificação da diagonal inferior direita \r\n",
        "            if i <= 45:\r\n",
        "              if tab[i+9] == -(turn):\r\n",
        "                for y in range(18,64,9):\r\n",
        "                  if (i+y) > 63:\r\n",
        "                    break\r\n",
        "                  elif (i+y) % 8 == 0:\r\n",
        "                    break\r\n",
        "                  elif tab[i+y] == 0:\r\n",
        "                    valids.append(i+y)\r\n",
        "                    break\r\n",
        "                  elif tab[i+y] == turn:\r\n",
        "                    break\r\n",
        "            ##Verificação da diagonal inferior esquerda\r\n",
        "            if i <= 47:\r\n",
        "              if tab[i+7] == -(turn):\r\n",
        "                for y in range(14,50,7):\r\n",
        "                  if (i+y) > 63:\r\n",
        "                    break\r\n",
        "                  elif (i+y) % 8 == 7:\r\n",
        "                    break\r\n",
        "                  elif tab[i+y] == 0:\r\n",
        "                    valids.append(i+y)\r\n",
        "                    break\r\n",
        "                  elif tab[i+y] == turn:\r\n",
        "                    break  \r\n",
        "            ##Verificação da diagonal superior direita\r\n",
        "            if i >= 16:\r\n",
        "              if tab[i-7] == -(turn):\r\n",
        "                for y in range(14,50,7):\r\n",
        "                  if (i-y) < 0:\r\n",
        "                    break\r\n",
        "                  elif (i-y) % 8 == 0:\r\n",
        "                    break\r\n",
        "                  if tab[i-y] == 0:\r\n",
        "                    valids.append(i-y)\r\n",
        "                    break\r\n",
        "                  elif tab[i-y] == turn:\r\n",
        "                    break\r\n",
        "            ##Verificação da diagonal superior esquerda\r\n",
        "            if i >= 18:\r\n",
        "              if tab[i-9] == -(turn):\r\n",
        "                for y in range(18,64,9):\r\n",
        "                  if (i-y) < 0:\r\n",
        "                    break\r\n",
        "                  elif (i-y) % 8 == 7:\r\n",
        "                    break\r\n",
        "                  elif tab[i-y] == 0:\r\n",
        "                    valids.append(i-y)\r\n",
        "                    break\r\n",
        "                  elif tab[i-y] == turn:\r\n",
        "                    break \r\n",
        "    return sorted(set(valids))  "
      ],
      "execution_count": 6,
      "outputs": []
    },
    {
      "cell_type": "markdown",
      "metadata": {
        "id": "pM2SAfP_DM6M"
      },
      "source": [
        "###Definindo o ganhador da partida"
      ]
    },
    {
      "cell_type": "code",
      "metadata": {
        "id": "ifSNXTPpDSto"
      },
      "source": [
        "### **Definindo ganhador** ------------------------------------------------------------------------------------ >>\r\n",
        "\r\n",
        "## Código que devolve o jogador vencedor, \r\n",
        "## ou zero em caso de não ter um vencedor\r\n",
        "## definido\r\n",
        "def winner(tab) :\r\n",
        "    somas0 = tab.count(0)\r\n",
        "    somas1 = tab.count(1)\r\n",
        "    somas2 = tab.count(-1)\r\n",
        "    if (somas2 > somas1) and (somas0 == 0) : #Pecas BRANCAS ganham quando forem maioria, e quando não houverem espacos vazios\r\n",
        "        return -1\r\n",
        "    elif (somas2 < somas1) and (somas0 == 0): #Pecas PRETAS ganham quando forem maioria, e quando não houverem espacos vazios\r\n",
        "        return 1\r\n",
        "    else:\r\n",
        "        return 0    "
      ],
      "execution_count": 7,
      "outputs": []
    },
    {
      "cell_type": "markdown",
      "metadata": {
        "id": "JQT2hnv6DYH1"
      },
      "source": [
        "###Construindo um player que realiza jogadas ao acaso"
      ]
    },
    {
      "cell_type": "code",
      "metadata": {
        "id": "-Co-WlysDgRF"
      },
      "source": [
        "### **Jogador bobinho que faz jogadas ao acaso** ------------------------------------------------------------- >>\r\n",
        "\r\n",
        "import random\r\n",
        "def player(tab, turn, valids) :\r\n",
        "    valids = get_valid_moves(tab, turn)\r\n",
        "    if valids :\r\n",
        "        return (turn, random.choice(valids) )"
      ],
      "execution_count": 8,
      "outputs": []
    },
    {
      "cell_type": "markdown",
      "metadata": {
        "id": "ZCVN-3SoDmoh"
      },
      "source": [
        "###Definindo um jogador humano"
      ]
    },
    {
      "cell_type": "code",
      "metadata": {
        "id": "CB3hlrmXDx72"
      },
      "source": [
        "### **Jogador humano** ------------------------------------------------------------------------------------ >>\r\n",
        "\r\n",
        "def human_player(tab, turn, valids) : \r\n",
        "    print(\"\\n\")     \r\n",
        "    ## Desenha tabuleiro antes do jogador humano \r\n",
        "    board = draw_board( tab, turn, valids)\r\n",
        "    display(board)  \r\n",
        "    print(\"Jogadas válidas: %s\" % (valids))\r\n",
        "    move = int(input())\r\n",
        "\r\n",
        "    while not move in valids : \r\n",
        "        print(\"Jogadas válidos: %s\" % (valids))\r\n",
        "        move = int(input())\r\n",
        "    return turn, move"
      ],
      "execution_count": 9,
      "outputs": []
    },
    {
      "cell_type": "markdown",
      "metadata": {
        "id": "Mo-rX4IrD1M0"
      },
      "source": [
        "###Definindo função que gira as peças"
      ]
    },
    {
      "cell_type": "code",
      "metadata": {
        "id": "OHmutxWwELXV"
      },
      "source": [
        "# **Função que vira as peças** ------------------------------------------------------------------------------------ >>\r\n",
        "\r\n",
        "def flip_pieces( tab, piece, pos ) : \r\n",
        "  for i in range(len(tab)):\r\n",
        "    if i == pos:            \r\n",
        "      contador = 1\r\n",
        "      ##linha sentido direita\r\n",
        "      if i <= 61 and (i+1)%8!=7:\r\n",
        "        if tab[i+1] == -(piece):\r\n",
        "          for y in range(1,8):\r\n",
        "            if (y+i)%8 == 7:\r\n",
        "              break\r\n",
        "            elif tab[y+i] == -(piece):\r\n",
        "              contador = contador + 1\r\n",
        "            elif tab[i+y] == piece:\r\n",
        "              for z in range(1,contador):\r\n",
        "                tab[i+z] = piece\r\n",
        "              break\r\n",
        "            \r\n",
        "      contador = 1\r\n",
        "      ##linha sentido esquerda\r\n",
        "      if i >= 2 and (i-1)%8!=7:\r\n",
        "        if tab[i-1] == -(piece):\r\n",
        "          for y in range(1,8):\r\n",
        "            if (i-y)%8 == 0:\r\n",
        "              break\r\n",
        "            if tab[i-y] == -(piece):\r\n",
        "              contador = contador + 1\r\n",
        "            elif tab[i-y] == piece:\r\n",
        "              for z in range(1,contador):\r\n",
        "                tab[i-z] = piece\r\n",
        "              break \r\n",
        "\r\n",
        "      contador = 1\r\n",
        "      ##coluna sentido baixo\r\n",
        "      if i <= 47:\r\n",
        "        if tab[i+8] == -(piece):\r\n",
        "          for y in range(8,49,8):\r\n",
        "            if (i+y) > 63:\r\n",
        "              break\r\n",
        "            if tab[y+i] == -(piece):\r\n",
        "              contador = contador + 8\r\n",
        "            elif tab[i+y] == piece:\r\n",
        "              for z in range(8,contador,8):   \r\n",
        "                tab[i+z] = piece\r\n",
        "              break\r\n",
        "\r\n",
        "      contador = 1\r\n",
        "      ##coluna sentido cima\r\n",
        "      if i > 15:\r\n",
        "        if tab[i-8] == -(piece):\r\n",
        "          for y in range(8,49,8):\r\n",
        "            if (i-y) < 0:\r\n",
        "              break\r\n",
        "            if tab[i-y] == -(piece):\r\n",
        "              contador = contador + 8\r\n",
        "            elif tab[i-y] == piece:\r\n",
        "              for z in range(8,contador,8):\r\n",
        "                tab[i-z] = piece\r\n",
        "              break   \r\n",
        "\r\n",
        "      contador = 1\r\n",
        "      ##diagonal inferior direita\r\n",
        "      if i <= 45:\r\n",
        "        if tab[i+9] == -(piece):\r\n",
        "          for y in range(9,64,9):\r\n",
        "            if (i+y) > 63:\r\n",
        "                break\r\n",
        "            if tab[i+y] == -(piece):\r\n",
        "              contador = contador + 9\r\n",
        "            elif tab[i+y] == piece:\r\n",
        "              for z in range(9,contador,9):\r\n",
        "                tab[i+z] = piece\r\n",
        "              break\r\n",
        "\r\n",
        "      contador = 1\r\n",
        "      ##diagonal inferior esquerda\r\n",
        "      if i <= 47:\r\n",
        "        if tab[i+7] == -(piece):\r\n",
        "          for y in range(7,50,7):\r\n",
        "            if (i+y) > 63:\r\n",
        "              break\r\n",
        "            if tab[i+y] == -(piece):\r\n",
        "              contador = contador + 7\r\n",
        "            elif tab[i+y] == piece:\r\n",
        "              for z in range(7,contador,7):\r\n",
        "                tab[i+z] = piece\r\n",
        "              break\r\n",
        "\r\n",
        "      contador = 1\r\n",
        "      ##diagonal superior direita\r\n",
        "      if i >= 16:\r\n",
        "        if tab[i-7] == -(piece):\r\n",
        "          for y in range(7,50,7):\r\n",
        "            if (i-y) < 0:\r\n",
        "              break\r\n",
        "            if tab[i-y] == -(piece):\r\n",
        "              contador = contador + 7\r\n",
        "            elif tab[i-y] == piece:\r\n",
        "              for z in range(7,contador,7):\r\n",
        "                tab[i-z] = piece\r\n",
        "              break\r\n",
        "\r\n",
        "      contador = 1\r\n",
        "      ##diagonal superior esquerda\r\n",
        "      if i >= 18:\r\n",
        "        if tab[i-9] == -(piece):\r\n",
        "          for y in range(9,64,9):\r\n",
        "            if (i-y) < 0:\r\n",
        "              break\r\n",
        "            elif tab[i-y] == -(piece):\r\n",
        "              contador = contador + 9\r\n",
        "            elif tab[i-y] == piece:\r\n",
        "              for z in range(9,contador,9):\r\n",
        "                tab[i-z] = piece\r\n",
        "              break\r\n",
        "  return tab"
      ],
      "execution_count": 10,
      "outputs": []
    },
    {
      "cell_type": "markdown",
      "metadata": {
        "id": "thGXm8JkE8B4"
      },
      "source": [
        "###Definindo função que gerencia uma partida"
      ]
    },
    {
      "cell_type": "code",
      "metadata": {
        "id": "rINHBLw1o1xW"
      },
      "source": [
        "# **Função que gerencia o jogo** ------------------------------------------------------------------------------------ >>\n",
        "\n",
        "def game(player1, player2) :\n",
        "    ## Inicialização\n",
        "    playgame = False\n",
        "    turn   = 1\n",
        "    result = 0 \n",
        "    tabuleiro = initialize_board()\n",
        "\n",
        "    ## Lista que guardará o histórico\n",
        "    history = [] \n",
        "\n",
        "    ## Enquanto houverem jogadas, pedimos para o jogador vez prosseguir\n",
        "    while get_valid_moves(tabuleiro, turn) :\n",
        "        ## Verifica jogadas válidas\n",
        "        validMoves  = get_valid_moves(tabuleiro, turn)\n",
        "    \n",
        "        ## para ver os passo a passo das jogadas com mais detalhes, \n",
        "        ## mostre o tabuleiro aqui\n",
        "        ## board = draw_board( tabuleiro, turn, validMoves)\n",
        "        ## display(board)\n",
        "    \n",
        "        ## Pedindo uma jogada ao jogador da vez.\n",
        "        piece, pos = None, None\n",
        "        if turn == 1 :\n",
        "            piece, pos = player1(tabuleiro, turn, validMoves)    \n",
        "        else : \n",
        "            piece, pos = player2(tabuleiro, turn, validMoves)\n",
        "            #print(\"\\n\")\n",
        "            #print(\"O bobinho jogou na posição %s\\n\" % (pos))\n",
        "        \n",
        "        # Colocando a peça no tabuleiro\n",
        "        ltab = list(tabuleiro)\n",
        "\n",
        "        ## EU queria deixar assim >> \n",
        "        ltab = flip_pieces( ltab, piece, pos )\n",
        "        \n",
        "        ##Flippando as peças\n",
        "\n",
        "        ltab[pos] = piece\n",
        "       \n",
        "        tabuleiro = tuple(ltab)\n",
        "\n",
        "        ## Adicionando tabuleiro no histórico\n",
        "        history.append(tabuleiro)\n",
        "\n",
        "        ## Verificando se alguém ganhou\n",
        "        result = winner(tabuleiro)\n",
        "\n",
        "        ## Trocando a vez de jogar\n",
        "        turn = -turn\n",
        "    \n",
        "    return result, history\n"
      ],
      "execution_count": 11,
      "outputs": []
    },
    {
      "cell_type": "markdown",
      "metadata": {
        "id": "WZFDnykSFGaz"
      },
      "source": [
        "###Realizando um jogo entre um humano e um jogador ao acaso"
      ]
    },
    {
      "cell_type": "code",
      "metadata": {
        "id": "Pf4Uf61q7nfa"
      },
      "source": [
        "result, history = game(human_player, player)\n",
        "\n",
        "if result == 1 :\n",
        "  print(\"#========================================#\\n\")\n",
        "  print(\"|      CONGRATULATIONS, YOU WIN          |\\n\")\n",
        "  print(\"#========================================#\\n\")\n",
        "\n",
        "elif result == -1 :\n",
        "  print(\"#========================================#\\n\")\n",
        "  print(\"|        GAME OVER... TRAIN MORE         |\\n\")\n",
        "  print(\"#========================================#\\n\")\n",
        "else:\n",
        "  print(\"#========================================#\\n\")\n",
        "  print(\"|            THAT'S A DRAW!!             |\\n\")\n",
        "  print(\"#========================================#\\n\")"
      ],
      "execution_count": null,
      "outputs": []
    },
    {
      "cell_type": "markdown",
      "metadata": {
        "id": "Tv2XcQhyr0lE"
      },
      "source": [
        "###Campeonato com 1000 partidas"
      ]
    },
    {
      "cell_type": "code",
      "metadata": {
        "id": "IJKUFt8Qr2Ki"
      },
      "source": [
        "def campeonato(player1, player2, num_games = 1000) :\r\n",
        "    results = [0,0,0]\r\n",
        "    for i in range(num_games) :\r\n",
        "        result, x = game(player1, player2)\r\n",
        "        results[result] += 1\r\n",
        "    return tuple(results)"
      ],
      "execution_count": null,
      "outputs": []
    },
    {
      "cell_type": "markdown",
      "metadata": {
        "id": "bX4dwwfQ5ZdQ"
      },
      "source": [
        "# **Jogo contra bot um pouco mais inteligente**\r\n",
        "\r\n",
        "---\r\n",
        "\r\n"
      ]
    },
    {
      "cell_type": "markdown",
      "metadata": {
        "id": "BjrNRDK2LR0Y"
      },
      "source": [
        "###Realizando um campeonato com algum conhecimento"
      ]
    },
    {
      "cell_type": "code",
      "metadata": {
        "id": "0TCPwB-vLjm1"
      },
      "source": [
        "## Função campeonato_with_knowledge ------------------------------------------------------------->>\r\n",
        "\r\n",
        "def campeonato_with_knowledge(player1, player2, num_games = 10000, knowledge = {}) :\r\n",
        "    results = [0,0,0]\r\n",
        "\r\n",
        "    for i in range(num_games) :\r\n",
        "        result, history = game(player1, player2)\r\n",
        "        results[result] += 1\r\n",
        "\r\n",
        "        ## Adicionando as jogadas no histórico\r\n",
        "        for tab in history :\r\n",
        "            if not tab in knowledge :\r\n",
        "                knowledge[tab] = [0, 0, 0]\r\n",
        "            knowledge[tab][result] += 1\r\n",
        "\r\n",
        "    return tuple(results), knowledge\r\n",
        "\r\n",
        "## Gerando jogos e guardando em knowledge\r\n",
        "results, knowledge = campeonato_with_knowledge(player, player)"
      ],
      "execution_count": null,
      "outputs": []
    },
    {
      "cell_type": "markdown",
      "metadata": {
        "id": "43kpMG9bMC0s"
      },
      "source": [
        "###Criando um player com algum conhecimento"
      ]
    },
    {
      "cell_type": "code",
      "metadata": {
        "id": "fRSXBRqHAjWN"
      },
      "source": [
        "## Criando bot com knowledge ------------------------------------------------------------->>\n",
        "\n",
        "def create_player(knowledge) :\n",
        "    def player(tab, turn, valid_moves) :\n",
        "        ## Computando scores de cada move\n",
        "        scores = []\n",
        "        for move in valid_moves :\n",
        "            ## Colocando a peça no tabuleiro\n",
        "            ltab = list(tab)\n",
        "            ltab[move] = turn\n",
        "\n",
        "            ## Computando score\n",
        "            a,b,c = knowledge.get( tuple(ltab), (1,0,0) )\n",
        "            scores.append(  turn*(b-c)/(a+b+c) )\n",
        "\n",
        "        \n",
        "        chosen = valid_moves[ scores.index( max(scores) )  ] \n",
        "        return (turn, chosen )\n",
        "    return player\n",
        "\n",
        "player2 = create_player(knowledge)"
      ],
      "execution_count": null,
      "outputs": []
    },
    {
      "cell_type": "markdown",
      "metadata": {
        "id": "sb7HA1JqMMip"
      },
      "source": [
        "###Realizando um jogo entre um humano e um jogador com algum conhecimento\r\n",
        "\r\n"
      ]
    },
    {
      "cell_type": "code",
      "metadata": {
        "id": "kizavXXjEh1Y"
      },
      "source": [
        "result, history = game(human_player, player2)\n",
        "\n",
        "if result == 1 :\n",
        "  print(\"#========================================#\\n\")\n",
        "  print(\"|      CONGRATULATIONS, YOU WIN          |\\n\")\n",
        "  print(\"#========================================#\\n\")\n",
        "\n",
        "else :\n",
        "  print(\"#========================================#\\n\")\n",
        "  print(\"|        GAME OVER... TRAIN MORE         |\\n\")\n",
        "  print(\"#========================================#\\n\")"
      ],
      "execution_count": null,
      "outputs": []
    },
    {
      "cell_type": "markdown",
      "metadata": {
        "id": "V9dPL4wnmGYk"
      },
      "source": [
        "# **Monte Carlo**\r\n",
        "\r\n",
        "---\r\n",
        "\r\n"
      ]
    },
    {
      "cell_type": "markdown",
      "metadata": {
        "id": "Fwk3knyRqv-M"
      },
      "source": [
        "### Construindo um jogador que selecione os melhores movimentos\r\n",
        "\r\n"
      ]
    },
    {
      "cell_type": "code",
      "metadata": {
        "id": "ssILaC3Gq2zf"
      },
      "source": [
        "def generate_rl_player(state_values, epsilon) :\r\n",
        "  def player(tab, turn, valid_moves) :\r\n",
        "    valid_moves = get_valid_moves(tab,turn)\r\n",
        "\r\n",
        "    epsilon_random = random.random()\r\n",
        "    if epsilon_random < epsilon :        \r\n",
        "      return turn, random.choice(valid_moves)\r\n",
        "    else :       \r\n",
        "      ## A nossa política será fazer o movimento de acordo com os state_values.\r\n",
        "      ## Escolheremos um dos melhores movimentos. Se turn = 1, significa maximizar \r\n",
        "      ## os state_values, caso contrário seria minimizar.\r\n",
        "      scores = []\r\n",
        "      for move in valid_moves :\r\n",
        "        next_state = list(tab)\r\n",
        "        next_state[move] = turn\r\n",
        "\r\n",
        "        ## Vejam que estamos inicializando com zero.\r\n",
        "        scores.append(state_values.get(tuple(next_state), 0))\r\n",
        "      \r\n",
        "      ## Analisando qual o best score de um tabuleiro.\r\n",
        "\r\n",
        "      best_score = None\r\n",
        "      if (turn == 1) :\r\n",
        "          best_score = max(scores)\r\n",
        "      else :\r\n",
        "          best_score = min(scores)\r\n",
        "          \r\n",
        "\r\n",
        "      ## Selecionando quais as jogadas de melhor score. Em caso de empate,\r\n",
        "      ## escolheremos ao acaso.\r\n",
        "      best_moves = []\r\n",
        "      for i in range(len(scores)) :  \r\n",
        "        if scores[i] == best_score :\r\n",
        "          best_moves.append(valid_moves[i])\r\n",
        "          \r\n",
        "      ## retornando um dos melhores movimentos\r\n",
        "      return turn, random.choice(best_moves)\r\n",
        "  return player"
      ],
      "execution_count": null,
      "outputs": []
    },
    {
      "cell_type": "markdown",
      "metadata": {
        "id": "RTCK4KQZrA0Y"
      },
      "source": [
        "## Recompensando Tabuleiros\r\n",
        "\r\n",
        "> A partir da nossa função *winner*, que definimos quem foi o vencedor daquela partida, definimos uma simples recompensa quando aquele player sai vitorioso naquele tabuleiro\r\n"
      ]
    },
    {
      "cell_type": "code",
      "metadata": {
        "id": "vvhiE2ifrFmU"
      },
      "source": [
        "def rewards(tab) :\r\n",
        "  return winner(tab)"
      ],
      "execution_count": null,
      "outputs": []
    },
    {
      "cell_type": "markdown",
      "metadata": {
        "id": "cTlqwEizrI27"
      },
      "source": [
        "## Atualizando Valores"
      ]
    },
    {
      "cell_type": "code",
      "metadata": {
        "id": "qoDsMzpGrRqf"
      },
      "source": [
        "def update_state_values_monte_carlo(values, rewards, amostra, gamma = 0.9, alpha = 0.1) :\r\n",
        "    ## Definiremos o último state_value como zero para iniciar o processo iterativo.\r\n",
        "    discounted_return = 0\r\n",
        "    next_state        = amostra[-1]\r\n",
        "\r\n",
        "    ## Observe o uso de \"reversed\" estamos iterando de trás pra frente.\r\n",
        "    for state in reversed(amostra[:-1]) :\r\n",
        "        ## Abaixo simplesmente computamos o retorno a longo prazo e somamos com a recompensa imediata\r\n",
        "        discounted_return = gamma*discounted_return + rewards(next_state)\r\n",
        "\r\n",
        "        ## Abaixo a fórmula para atualização dos state-values. Isso substitui o valor esperado (média).\r\n",
        "        ## Note que estamos inicializando os state_values com zero\r\n",
        "        values[state] = values.get(state,0) + alpha*(discounted_return - values.get(state, 0))\r\n",
        "        next_state = state\r\n",
        "\r\n",
        "    return state_values"
      ],
      "execution_count": null,
      "outputs": []
    },
    {
      "cell_type": "markdown",
      "metadata": {
        "id": "6805uJY5rUFo"
      },
      "source": [
        "## Efetuando aprendizado"
      ]
    },
    {
      "cell_type": "code",
      "metadata": {
        "id": "uPlmlTXtrXGq"
      },
      "source": [
        "gamma  = 0.999\r\n",
        "alpha  = 0.001\r\n",
        "state_values = {}\r\n",
        "player_rl = generate_rl_player(state_values, 1)\r\n",
        "\r\n",
        "ITERACOES = 40000\r\n",
        "for i in range(ITERACOES) :\r\n",
        "  random_prob = max(0.01, (ITERACOES - i)/ITERACOES)  \r\n",
        "\r\n",
        "  _, amostra = game(player_rl, player_rl)\r\n",
        "  state_values = update_state_values_monte_carlo(state_values, rewards, amostra, gamma, alpha)\r\n",
        "  player_rl = generate_rl_player(state_values, random_prob) \r\n",
        "\r\n",
        "player_rl = generate_rl_player(state_values, 0)  "
      ],
      "execution_count": null,
      "outputs": []
    },
    {
      "cell_type": "markdown",
      "metadata": {
        "id": "5VLbTXmIrZ1d"
      },
      "source": [
        "## Validando Resultados\r\n",
        "\r\n",
        "Vamos colocar nosso jogador ao acaso para jogar contra o jogador com as técnicas de aprendizado de Monte Carlo"
      ]
    },
    {
      "cell_type": "code",
      "metadata": {
        "colab": {
          "base_uri": "https://localhost:8080/"
        },
        "id": "TxCM0dRWrddo",
        "outputId": "40d8ebd7-56a7-472f-bd8c-65bc5877a58f"
      },
      "source": [
        "results = campeonato(player, player_rl)\r\n",
        "print(\"Draw = %i, Acaso = %i, RL = %i\" % results)\r\n",
        "\r\n",
        "results = campeonato(player_rl, player)\r\n",
        "print(\"Draw = %i, RL = %i, Acaso = %i\" % results)"
      ],
      "execution_count": null,
      "outputs": [
        {
          "output_type": "stream",
          "text": [
            "Draw = 285, Acaso = 367, RL = 348\n",
            "Draw = 325, RL = 350, Acaso = 325\n"
          ],
          "name": "stdout"
        }
      ]
    },
    {
      "cell_type": "markdown",
      "metadata": {
        "id": "NBLVvj0LRRA8"
      },
      "source": [
        "###Desafiando um jogador Humano"
      ]
    },
    {
      "cell_type": "code",
      "metadata": {
        "id": "fSD_tlxeRWhX"
      },
      "source": [
        "result, history = game(player_rl, human_player)\r\n"
      ],
      "execution_count": null,
      "outputs": []
    }
  ]
}