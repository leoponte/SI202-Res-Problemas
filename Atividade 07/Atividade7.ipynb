{
  "nbformat": 4,
  "nbformat_minor": 0,
  "metadata": {
    "colab": {
      "name": "Atividade7.ipynb",
      "provenance": [],
      "collapsed_sections": []
    },
    "kernelspec": {
      "name": "python3",
      "display_name": "Python 3"
    }
  },
  "cells": [
    {
      "cell_type": "markdown",
      "metadata": {
        "id": "Lkqw1rkczSLg"
      },
      "source": [
        "# **Inicializando o Tabuleiro**"
      ]
    },
    {
      "cell_type": "code",
      "metadata": {
        "id": "OoU5uanjzcgo"
      },
      "source": [
        "### **Definindo tabuleiro** ------------------------------------------------------------------------------------ >>\n",
        "def initialize_board():\n",
        "  ## Tabuleiro vazio:\n",
        "  tabuleiroList = []\n",
        "  for i in range(64):\n",
        "    if i == 27 or i == 36:\n",
        "      tabuleiroList.append(-1) #colocando peças BRANCAS na posição inicial do meio do tabuleiro\n",
        "    elif i == 28 or i == 35:\n",
        "      tabuleiroList.append(1) #colocando peças PRETAS na posição inicial do meio do tabuleiro\n",
        "    else:\n",
        "      tabuleiroList.append(0)\n",
        "      \n",
        "  tabuleiro = tuple(tabuleiroList)\n",
        "\n",
        "  return tabuleiro\n",
        "\n",
        "\n",
        "### **Desenhando as peças no tabuleiro** ------------------------------------------------------------------------------------ >>\n",
        "\n",
        "def draw_piece(draw, cell, piece) :\n",
        "    ## Convertendo linear para matricial\n",
        "    line   = cell // 8\n",
        "    column = cell  % 8\n",
        "\n",
        "    ## Gerando as coordenadas\n",
        "    x0 = column * 50\n",
        "    x1 = (column+1)*50\n",
        "    y0 = line*50\n",
        "    y1 = (line+1)*50\n",
        "\n",
        "    if piece == 1 :\n",
        "        draw.ellipse([x0, y0, x1, y1], width=2, fill = \"black\")\n",
        "    elif piece == -1 :\n",
        "        draw.ellipse([x0, y0, x1, y1], width=2, fill = \"white\")\n",
        "\n",
        "\n",
        "\n",
        "### **Desenhando jogadas válidas no tabuleiro** ------------------------------------------------------------------------------------ >>\n",
        "\n",
        "def draw_piece_valid_moves(draw, cell) :\n",
        "    ## Convertendo linear para matricial\n",
        "    line   = cell // 8\n",
        "    column = cell  % 8\n",
        "\n",
        "    ## Gerando as coordenadas\n",
        "    x0 = column * 50\n",
        "    x1 = (column+1)*50\n",
        "    y0 = line*50\n",
        "    y1 = (line+1)*50\n",
        "\n",
        "    draw.ellipse([x0, y0, x1, y1], width=1, outline = \"silver\")\n",
        "\n",
        "\n",
        "### **Desenhando número no tabuleiro** ------------------------------------------------------------------------------------ >>\n",
        "\n",
        "def draw_number(draw, cell) :\n",
        "    ## Convertendo linear para matricial\n",
        "    line   = cell // 8\n",
        "    column = cell  % 8\n",
        "\n",
        "    ## Gerando as coordenadas\n",
        "    x = column * 50 + 20\n",
        "    y = line*50 + 20\n",
        "\n",
        "    text = str(cell)\n",
        "    draw.text((x, y), text, fill = \"darkgreen\", align =\"center\")\n",
        "\n",
        "\n",
        "\n",
        "### **Desenhando tabuleiro junto com jogadas válidas** ------------------------------------------------------------------------------------ >>\n",
        "\n",
        "## Importa biblioteca\n",
        "from PIL import Image, ImageDraw\n",
        "\n",
        "def draw_board(tab, turn, valids) :\n",
        "    turno = turn\n",
        "    ## Desenhamos um quadrado 400x400\n",
        "    board = Image.new('RGB', (400, 400),  \"green\")\n",
        "    ## Criamos uma espécie de canvas para desenhar\n",
        "    draw  = ImageDraw.Draw(board)\n",
        "\n",
        "    ## Desenhamos duas linhas horizontais\n",
        "    x0 = 0\n",
        "    y0 = 0\n",
        "    x1 = 400\n",
        "    y1 = 0\n",
        "\n",
        "    for i in range(9):\n",
        "      draw.line( (x0, y0, x1, y1), fill = \"black\", width = 1 ) \n",
        "      y0 += 50\n",
        "      y1 = y0\n",
        "\n",
        "    ## Desenhamos duas linhas verticais\n",
        "    x0 = 0\n",
        "    y0 = 0\n",
        "    x1 = 0\n",
        "    y1 = 400\n",
        "    for i in range(9):\n",
        "      draw.line( (x0, y0, x1, y1), fill = \"black\", width = 1 ) \n",
        "      x0 += 50\n",
        "      x1 = x0\n",
        "\n",
        "    for i in range(len(tab)) :\n",
        "        ## Desenha a peça no tabuleiro\n",
        "        if (tab[i]) :\n",
        "            draw_piece(draw, i, tab[i])\n",
        "        else:\n",
        "          ## Desenha o número\n",
        "          draw_number(draw, i)\n",
        "\n",
        "    validMove = valids\n",
        "\n",
        "    for i in range(len(validMove)) :\n",
        "        draw_piece_valid_moves(draw, validMove[i])   \n",
        "\n",
        "    return board\n"
      ],
      "execution_count": 1,
      "outputs": []
    },
    {
      "cell_type": "markdown",
      "metadata": {
        "id": "XAL_INhsotHX"
      },
      "source": [
        "# **Funções auxiliares**"
      ]
    },
    {
      "cell_type": "code",
      "metadata": {
        "id": "rINHBLw1o1xW"
      },
      "source": [
        "\n",
        "### **Definindo Jogadas Válidas** ------------------------------------------------------------------------------------ >>\n",
        "\n",
        "## Função que devolve as jogadas válidas\n",
        "def get_valid_moves(tab, turn) :\n",
        "    valids = []\n",
        "    for i in range(len(tab)) :\n",
        "        if tab[i] == turn:  \n",
        "            ##Verificação da linha sentido direita \n",
        "            if i <= 61 and (i+1)%8!=0:\n",
        "              if tab[i+1] == -(turn):\n",
        "                for y in range(2,8):\n",
        "                  if (i+y)%8==0:\n",
        "                    break\n",
        "                  elif tab[i+y] == 0:\n",
        "                    valids.append(i+y)\n",
        "                    break\n",
        "                  elif tab[i+y] == turn:\n",
        "                    break\n",
        "            ##Verificação da linha sentido esquerda\n",
        "            if i >= 2 and (i-1)%8!=7:\n",
        "              if tab[i-1] == -(turn):\n",
        "                for y in range(2,8):\n",
        "                  if (i-y)%8==7:\n",
        "                    break\n",
        "                  elif tab[i-y] == 0:\n",
        "                    valids.append(i-y)\n",
        "                    break  \n",
        "                  elif tab[i-y] == turn:\n",
        "                    break   \n",
        "            ##Verificação da coluna sentido baixo \n",
        "            if i <= 47:\n",
        "              if tab[i+8] == -(turn):\n",
        "                for y in range(16,57,8):\n",
        "                  if (i+y) > 63:\n",
        "                    break\n",
        "                  if tab[i+y] == 0:\n",
        "                    valids.append(i+y)\n",
        "                    break\n",
        "                  elif tab[i+y] == turn:\n",
        "                    break\n",
        "            ##Verificação da coluna sentido cima\n",
        "            if i > 15:\n",
        "              if tab[i-8] == -(turn):\n",
        "                for y in range(16,57,8):\n",
        "                  if (i-y) < 0:\n",
        "                    break\n",
        "                  if tab[i-y] == 0:\n",
        "                    valids.append(i-y)\n",
        "                    break\n",
        "                  elif tab[i-y] == turn:\n",
        "                    break\n",
        "            ##Verificação da diagonal inferior direita \n",
        "            if i <= 45:\n",
        "              if tab[i+9] == -(turn):\n",
        "                for y in range(18,64,9):\n",
        "                  if (i+y) > 63:\n",
        "                    break\n",
        "                  elif (i+y) % 8 == 0:\n",
        "                    break\n",
        "                  elif tab[i+y] == 0:\n",
        "                    valids.append(i+y)\n",
        "                    break\n",
        "                  elif tab[i+y] == turn:\n",
        "                    break\n",
        "            ##Verificação da diagonal inferior esquerda\n",
        "            if i <= 47:\n",
        "              if tab[i+7] == -(turn):\n",
        "                for y in range(14,50,7):\n",
        "                  if (i+y) > 63:\n",
        "                    break\n",
        "                  elif (i+y) % 8 == 7:\n",
        "                    break\n",
        "                  elif tab[i+y] == 0:\n",
        "                    valids.append(i+y)\n",
        "                    break\n",
        "                  elif tab[i+y] == turn:\n",
        "                    break  \n",
        "              ##Verificação da diagonal superior direita\n",
        "              if i >= 16:\n",
        "                if tab[i-7] == -(turn):\n",
        "                  for y in range(14,50,7):\n",
        "                    if (i-y) < 0:\n",
        "                      break\n",
        "                    elif (i-y) % 8 == 0:\n",
        "                      break\n",
        "                    if tab[i-y] == 0:\n",
        "                      valids.append(i-y)\n",
        "                      break\n",
        "                    elif tab[i-y] == turn:\n",
        "                      break\n",
        "            ##Verificação da diagonal superior esquerda\n",
        "            if i >= 18:\n",
        "              if tab[i-9] == -(turn):\n",
        "                for y in range(18,64,9):\n",
        "                  if (i-y) < 0:\n",
        "                    break\n",
        "                  elif (i-y) % 8 == 7:\n",
        "                    break\n",
        "                  elif tab[i-y] == 0:\n",
        "                    valids.append(i-y)\n",
        "                    break\n",
        "                  elif tab[i-y] == turn:\n",
        "                    break \n",
        "    return sorted(set(valids))  \n",
        "\n",
        "\n",
        "\n",
        "### **Definindo ganhador** ------------------------------------------------------------------------------------ >>\n",
        "\n",
        "## Código que devolve o jogador vencedor, \n",
        "## ou zero em caso de não ter um vencedor\n",
        "## definido\n",
        "def winner(tab) :\n",
        "    somas0 = tab.count(0)\n",
        "    somas1 = tab.count(1)\n",
        "    somas2 = tab.count(-1)\n",
        "    if (somas2 > somas1) and (somas0 == 0) : #Pecas BRANCAS ganham quando forem maioria, e quando não houverem espacos vazios\n",
        "        return -1\n",
        "    elif (somas2 < somas1) and (somas0 == 0): #Pecas PRETAS ganham quando forem maioria, e quando não houverem espacos vazios\n",
        "        return 1\n",
        "    else:\n",
        "        return 0    \n",
        "\n",
        "\n",
        "### **Jogador bobinho que faz jogadas ao acaso** ------------------------------------------------------------- >>\n",
        "\n",
        "import random\n",
        "def player(tab, turn, valids) :\n",
        "    valids = get_valid_moves(tab, turn)\n",
        "    if valids :\n",
        "        return (turn, random.choice(valids) )\n",
        "\n",
        "\n",
        "\n",
        "### **Jogador humano** ------------------------------------------------------------------------------------ >>\n",
        "\n",
        "def human_player(tab, turn, valids) : \n",
        "    print(\"\\n\")     \n",
        "    ## Desenha tabuleiro antes do jogador humano \n",
        "    board = draw_board( tab, turn, valids)\n",
        "    display(board)  \n",
        "    print(\"Jogadas válidas: %s\" % (valids))\n",
        "    move = int(input())\n",
        "\n",
        "    while not move in valids : \n",
        "        print(\"Jogadas válidos: %s\" % (valids))\n",
        "        move = int(input())\n",
        "    return turn, move\n",
        "\n",
        "\n",
        "\n",
        "# **Função que vira as peças** ------------------------------------------------------------------------------------ >>\n",
        "\n",
        "def flip_pieces( tab, piece, pos ) : \n",
        "  for i in range(len(tab)):\n",
        "    if i == pos:            \n",
        "      contador = 1\n",
        "      ##linha sentido direita\n",
        "      if i <= 61 and (i+1)%8!=7:\n",
        "        if tab[i+1] == -(piece):\n",
        "          for y in range(1,8):\n",
        "            if (y+i)%8 == 7:\n",
        "              break\n",
        "            elif tab[y+i] == -(piece):\n",
        "              contador = contador + 1\n",
        "            elif tab[i+y] == piece:\n",
        "              for z in range(1,contador):\n",
        "                tab[i+z] = piece\n",
        "              break\n",
        "            \n",
        "      contador = 1\n",
        "      ##linha sentido esquerda\n",
        "      if i >= 2 and (i-1)%8!=7:\n",
        "        if tab[i-1] == -(piece):\n",
        "          for y in range(1,8):\n",
        "            if (i-y)%8 == 0:\n",
        "              break\n",
        "            if tab[i-y] == -(piece):\n",
        "              contador = contador + 1\n",
        "            elif tab[i-y] == piece:\n",
        "              for z in range(1,contador):\n",
        "                tab[i-z] = piece\n",
        "              break \n",
        "\n",
        "      contador = 1\n",
        "      ##coluna sentido baixo\n",
        "      if i <= 47:\n",
        "        if tab[i+8] == -(piece):\n",
        "          for y in range(8,49,8):\n",
        "            if (i+y) > 63:\n",
        "              break\n",
        "            if tab[y+i] == -(piece):\n",
        "              contador = contador + 8\n",
        "            elif tab[i+y] == piece:\n",
        "              for z in range(8,contador,8):   \n",
        "                tab[i+z] = piece\n",
        "              break\n",
        "\n",
        "      contador = 1\n",
        "      ##coluna sentido cima\n",
        "      if i > 15:\n",
        "        if tab[i-8] == -(piece):\n",
        "          for y in range(8,49,8):\n",
        "            if (i-y) < 0:\n",
        "              break\n",
        "            if tab[i-y] == -(piece):\n",
        "              contador = contador + 8\n",
        "            elif tab[i-y] == piece:\n",
        "              for z in range(8,contador,8):\n",
        "                tab[i-z] = piece\n",
        "              break   \n",
        "\n",
        "      contador = 1\n",
        "      ##diagonal inferior direita\n",
        "      if i <= 45:\n",
        "        if tab[i+9] == -(piece):\n",
        "          for y in range(9,46,9):\n",
        "            if (i+y) > 63:\n",
        "                break\n",
        "            if tab[i+y] == -(piece):\n",
        "              contador = contador + 9\n",
        "            elif tab[i+y] == piece:\n",
        "              for z in range(9,contador,9):\n",
        "                tab[i+z] = piece\n",
        "              break\n",
        "\n",
        "      contador = 1\n",
        "      ##diagonal inferior esquerda\n",
        "      if i <= 47:\n",
        "        if tab[i+7] == -(piece):\n",
        "          for y in range(7,43,7):\n",
        "            if (i+y) > 63:\n",
        "              break\n",
        "            if tab[i+y] == -(piece):\n",
        "              contador = contador + 7\n",
        "            elif tab[i+y] == piece:\n",
        "              for z in range(7,contador,7):\n",
        "                tab[i+z] = piece\n",
        "              break\n",
        "\n",
        "      contador = 1\n",
        "      ##diagonal superior direita\n",
        "      if i >= 16:\n",
        "        if tab[i-7] == -(piece):\n",
        "          for y in range(7,43,7):\n",
        "            if (i-y) < 0:\n",
        "              break\n",
        "            if tab[i-y] == -(piece):\n",
        "              contador = contador + 7\n",
        "            elif tab[i-y] == piece:\n",
        "              for z in range(7,contador,7):\n",
        "                tab[i-z] = piece\n",
        "              break\n",
        "\n",
        "      contador = 1\n",
        "      ##diagonal superior esquerda\n",
        "      if i >= 18:\n",
        "        if tab[i-9] == -(piece):\n",
        "          for y in range(9,46,9):\n",
        "            if (i-y) < 0:\n",
        "              break\n",
        "            elif tab[i-y] == -(piece):\n",
        "              contador = contador + 9\n",
        "            elif tab[i-y] == piece:\n",
        "              for z in range(9,contador,9):\n",
        "                tab[i-z] = piece\n",
        "              break\n",
        "  return tab\n",
        "\n",
        "\n",
        "\n",
        "# **Função que gerencia o jogo** ------------------------------------------------------------------------------------ >>\n",
        "\n",
        "## Abaixo uma função que gerencia um jogo. \n",
        "def game(player1, player2) :\n",
        "    ## Inicialização\n",
        "    playgame = False\n",
        "    turn   = 1\n",
        "    result = 0 \n",
        "    tabuleiro = initialize_board()\n",
        "    \n",
        "    ## Lista que guardará o histórico\n",
        "    history = [] \n",
        "\n",
        "    ## Enquanto houverem jogadas, pedimos para o jogador vez prosseguir\n",
        "    while get_valid_moves(tabuleiro, turn) :\n",
        "        ## Verifica jogadas válidas\n",
        "        validMoves  = get_valid_moves(tabuleiro, turn)\n",
        "    \n",
        "        ## para ver os passo a passo das jogadas com mais detalhes, \n",
        "        ## mostre o tabuleiro aqui\n",
        "        ## board = draw_board( tabuleiro, turn, validMoves)\n",
        "        ## display(board)\n",
        "    \n",
        "        ## Pedindo uma jogada ao jogador da vez.\n",
        "        piece, pos = None, None\n",
        "        if turn == 1 :\n",
        "            piece, pos = player1(tabuleiro, turn, validMoves)    \n",
        "        else : \n",
        "            piece, pos = player2(tabuleiro, turn, validMoves)\n",
        "            print(\"\\n\")\n",
        "            print(\"O bobinho jogou na posição %s\\n\" % (pos))\n",
        "        \n",
        "        # Colocando a peça no tabuleiro\n",
        "        ltab = list(tabuleiro)\n",
        "\n",
        "        ## EU queria deixar assim >> \n",
        "        ltab = flip_pieces( ltab, piece, pos )\n",
        "        \n",
        "        ##Flippando as peças\n",
        "\n",
        "        ltab[pos] = piece\n",
        "       \n",
        "        tabuleiro = tuple(ltab)\n",
        "\n",
        "        ## Adicionando tabuleiro no histórico\n",
        "        history.append(tabuleiro)\n",
        "\n",
        "        ## Verificando se alguém ganhou\n",
        "        result = winner(tabuleiro)\n",
        "\n",
        "        ## Trocando a vez de jogar\n",
        "        turn = -turn\n",
        "    \n",
        "    return result, history\n"
      ],
      "execution_count": 2,
      "outputs": []
    },
    {
      "cell_type": "code",
      "metadata": {
        "id": "Pf4Uf61q7nfa",
        "colab": {
          "base_uri": "https://localhost:8080/",
          "height": 1000
        },
        "outputId": "e6f60ae2-639e-49d4-8da5-933a83461b55"
      },
      "source": [
        "result, history = game(human_player, player)\n",
        "\n",
        "if result == 1 :\n",
        "  print(\"#========================================#\\n\")\n",
        "  print(\"|      CONGRATULATIONS, YOU WIN          |\\n\")\n",
        "  print(\"#========================================#\\n\")\n",
        "\n",
        "else :\n",
        "  print(\"#========================================#\\n\")\n",
        "  print(\"|        GAME OVER... TRAIN MORE         |\\n\")\n",
        "  print(\"#========================================#\\n\")"
      ],
      "execution_count": 3,
      "outputs": [
        {
          "output_type": "stream",
          "text": [
            "\n",
            "\n"
          ],
          "name": "stdout"
        },
        {
          "output_type": "display_data",
          "data": {
            "image/png": "[encoded data removed]",
            "text/plain": [
              "<PIL.Image.Image image mode=RGB size=400x400 at 0x7F796A6F88D0>"
            ]
          },
          "metadata": {
            "tags": []
          }
        },
        {
          "output_type": "stream",
          "text": [
            "Jogadas válidas: [19, 26, 37, 44]\n",
            "19\n",
            "\n",
            "\n",
            "O bobinho jogou na posição 20\n",
            "\n",
            "\n",
            "\n"
          ],
          "name": "stdout"
        },
        {
          "output_type": "display_data",
          "data": {
            "image/png": "[encoded data removed]",
            "text/plain": [
              "<PIL.Image.Image image mode=RGB size=400x400 at 0x7F79696D3DD8>"
            ]
          },
          "metadata": {
            "tags": []
          }
        },
        {
          "output_type": "stream",
          "text": [
            "Jogadas válidas: [13, 21, 29, 37, 45]\n",
            "13\n",
            "\n",
            "\n",
            "O bobinho jogou na posição 10\n",
            "\n",
            "\n",
            "\n"
          ],
          "name": "stdout"
        },
        {
          "output_type": "display_data",
          "data": {
            "image/png": "[encoded data removed]",
            "text/plain": [
              "<PIL.Image.Image image mode=RGB size=400x400 at 0x7F79696D3DA0>"
            ]
          },
          "metadata": {
            "tags": []
          }
        },
        {
          "output_type": "stream",
          "text": [
            "Jogadas válidas: [11, 18, 21, 29, 37, 44, 45]\n",
            "11\n",
            "\n",
            "\n",
            "O bobinho jogou na posição 26\n",
            "\n",
            "\n",
            "\n"
          ],
          "name": "stdout"
        },
        {
          "output_type": "display_data",
          "data": {
            "image/png": "[encoded data removed]",
            "text/plain": [
              "<PIL.Image.Image image mode=RGB size=400x400 at 0x7F796A6F8908>"
            ]
          },
          "metadata": {
            "tags": []
          }
        },
        {
          "output_type": "stream",
          "text": [
            "Jogadas válidas: [1, 9, 17, 21, 33, 34, 37, 44]\n",
            "1\n",
            "\n",
            "\n",
            "O bobinho jogou na posição 12\n",
            "\n",
            "\n",
            "\n"
          ],
          "name": "stdout"
        },
        {
          "output_type": "display_data",
          "data": {
            "image/png": "[encoded data removed]",
            "text/plain": [
              "<PIL.Image.Image image mode=RGB size=400x400 at 0x7F79696D3DA0>"
            ]
          },
          "metadata": {
            "tags": []
          }
        },
        {
          "output_type": "stream",
          "text": [
            "Jogadas válidas: [17, 21, 29, 34, 37]\n",
            "21\n",
            "\n",
            "\n",
            "O bobinho jogou na posição 14\n",
            "\n",
            "\n",
            "\n"
          ],
          "name": "stdout"
        },
        {
          "output_type": "display_data",
          "data": {
            "image/png": "[encoded data removed]",
            "text/plain": [
              "<PIL.Image.Image image mode=RGB size=400x400 at 0x7F796A6F8B38>"
            ]
          },
          "metadata": {
            "tags": []
          }
        },
        {
          "output_type": "stream",
          "text": [
            "Jogadas válidas: [3, 4, 5, 7, 15, 17, 18, 25, 29, 37, 44]\n",
            "7\n",
            "\n",
            "\n",
            "O bobinho jogou na posição 15\n",
            "\n",
            "\n",
            "\n"
          ],
          "name": "stdout"
        },
        {
          "output_type": "display_data",
          "data": {
            "image/png": "[encoded data removed]",
            "text/plain": [
              "<PIL.Image.Image image mode=RGB size=400x400 at 0x7F79696D3DD8>"
            ]
          },
          "metadata": {
            "tags": []
          }
        },
        {
          "output_type": "stream",
          "text": [
            "Jogadas válidas: [3, 4, 5, 17, 18, 23, 25, 29, 37, 44]\n",
            "3\n",
            "\n",
            "\n",
            "O bobinho jogou na posição 43\n",
            "\n",
            "\n",
            "\n"
          ],
          "name": "stdout"
        },
        {
          "output_type": "display_data",
          "data": {
            "image/png": "[encoded data removed]",
            "text/plain": [
              "<PIL.Image.Image image mode=RGB size=400x400 at 0x7F796A6F8780>"
            ]
          },
          "metadata": {
            "tags": []
          }
        },
        {
          "output_type": "stream",
          "text": [
            "Jogadas válidas: [5, 18, 23, 25, 29, 33, 42, 44, 51]\n",
            "42\n",
            "\n",
            "\n",
            "O bobinho jogou na posição 9\n",
            "\n",
            "\n",
            "\n"
          ],
          "name": "stdout"
        },
        {
          "output_type": "display_data",
          "data": {
            "image/png": "[encoded data removed]",
            "text/plain": [
              "<PIL.Image.Image image mode=RGB size=400x400 at 0x7F79696D3DD8>"
            ]
          },
          "metadata": {
            "tags": []
          }
        },
        {
          "output_type": "stream",
          "text": [
            "Jogadas válidas: [4, 5, 17, 18, 23, 25, 37, 44, 51]\n",
            "51\n",
            "\n",
            "\n",
            "O bobinho jogou na posição 49\n",
            "\n",
            "\n",
            "\n"
          ],
          "name": "stdout"
        },
        {
          "output_type": "display_data",
          "data": {
            "image/png": "[encoded data removed]",
            "text/plain": [
              "<PIL.Image.Image image mode=RGB size=400x400 at 0x7F796A6F8B38>"
            ]
          },
          "metadata": {
            "tags": []
          }
        },
        {
          "output_type": "stream",
          "text": [
            "Jogadas válidas: [17, 23, 29, 30, 33, 37, 41, 56]\n",
            "56\n",
            "\n",
            "\n",
            "O bobinho jogou na posição 44\n",
            "\n",
            "\n",
            "\n"
          ],
          "name": "stdout"
        },
        {
          "output_type": "display_data",
          "data": {
            "image/png": "[encoded data removed]",
            "text/plain": [
              "<PIL.Image.Image image mode=RGB size=400x400 at 0x7F79696D3DD8>"
            ]
          },
          "metadata": {
            "tags": []
          }
        },
        {
          "output_type": "stream",
          "text": [
            "Jogadas válidas: [17, 23, 30, 33, 37]\n"
          ],
          "name": "stdout"
        },
        {
          "output_type": "error",
          "ename": "KeyboardInterrupt",
          "evalue": "ignored",
          "traceback": [
            "\u001b[0;31m---------------------------------------------------------------------------\u001b[0m",
            "\u001b[0;31mKeyboardInterrupt\u001b[0m                         Traceback (most recent call last)",
            "\u001b[0;32m/usr/local/lib/python3.6/dist-packages/ipykernel/kernelbase.py\u001b[0m in \u001b[0;36m_input_request\u001b[0;34m(self, prompt, ident, parent, password)\u001b[0m\n\u001b[1;32m    728\u001b[0m             \u001b[0;32mtry\u001b[0m\u001b[0;34m:\u001b[0m\u001b[0;34m\u001b[0m\u001b[0;34m\u001b[0m\u001b[0m\n\u001b[0;32m--> 729\u001b[0;31m                 \u001b[0mident\u001b[0m\u001b[0;34m,\u001b[0m \u001b[0mreply\u001b[0m \u001b[0;34m=\u001b[0m \u001b[0mself\u001b[0m\u001b[0;34m.\u001b[0m\u001b[0msession\u001b[0m\u001b[0;34m.\u001b[0m\u001b[0mrecv\u001b[0m\u001b[0;34m(\u001b[0m\u001b[0mself\u001b[0m\u001b[0;34m.\u001b[0m\u001b[0mstdin_socket\u001b[0m\u001b[0;34m,\u001b[0m \u001b[0;36m0\u001b[0m\u001b[0;34m)\u001b[0m\u001b[0;34m\u001b[0m\u001b[0;34m\u001b[0m\u001b[0m\n\u001b[0m\u001b[1;32m    730\u001b[0m             \u001b[0;32mexcept\u001b[0m \u001b[0mException\u001b[0m\u001b[0;34m:\u001b[0m\u001b[0;34m\u001b[0m\u001b[0;34m\u001b[0m\u001b[0m\n",
            "\u001b[0;32m/usr/local/lib/python3.6/dist-packages/jupyter_client/session.py\u001b[0m in \u001b[0;36mrecv\u001b[0;34m(self, socket, mode, content, copy)\u001b[0m\n\u001b[1;32m    802\u001b[0m         \u001b[0;32mtry\u001b[0m\u001b[0;34m:\u001b[0m\u001b[0;34m\u001b[0m\u001b[0;34m\u001b[0m\u001b[0m\n\u001b[0;32m--> 803\u001b[0;31m             \u001b[0mmsg_list\u001b[0m \u001b[0;34m=\u001b[0m \u001b[0msocket\u001b[0m\u001b[0;34m.\u001b[0m\u001b[0mrecv_multipart\u001b[0m\u001b[0;34m(\u001b[0m\u001b[0mmode\u001b[0m\u001b[0;34m,\u001b[0m \u001b[0mcopy\u001b[0m\u001b[0;34m=\u001b[0m\u001b[0mcopy\u001b[0m\u001b[0;34m)\u001b[0m\u001b[0;34m\u001b[0m\u001b[0;34m\u001b[0m\u001b[0m\n\u001b[0m\u001b[1;32m    804\u001b[0m         \u001b[0;32mexcept\u001b[0m \u001b[0mzmq\u001b[0m\u001b[0;34m.\u001b[0m\u001b[0mZMQError\u001b[0m \u001b[0;32mas\u001b[0m \u001b[0me\u001b[0m\u001b[0;34m:\u001b[0m\u001b[0;34m\u001b[0m\u001b[0;34m\u001b[0m\u001b[0m\n",
            "\u001b[0;32m/usr/local/lib/python3.6/dist-packages/zmq/sugar/socket.py\u001b[0m in \u001b[0;36mrecv_multipart\u001b[0;34m(self, flags, copy, track)\u001b[0m\n\u001b[1;32m    565\u001b[0m         \"\"\"\n\u001b[0;32m--> 566\u001b[0;31m         \u001b[0mparts\u001b[0m \u001b[0;34m=\u001b[0m \u001b[0;34m[\u001b[0m\u001b[0mself\u001b[0m\u001b[0;34m.\u001b[0m\u001b[0mrecv\u001b[0m\u001b[0;34m(\u001b[0m\u001b[0mflags\u001b[0m\u001b[0;34m,\u001b[0m \u001b[0mcopy\u001b[0m\u001b[0;34m=\u001b[0m\u001b[0mcopy\u001b[0m\u001b[0;34m,\u001b[0m \u001b[0mtrack\u001b[0m\u001b[0;34m=\u001b[0m\u001b[0mtrack\u001b[0m\u001b[0;34m)\u001b[0m\u001b[0;34m]\u001b[0m\u001b[0;34m\u001b[0m\u001b[0;34m\u001b[0m\u001b[0m\n\u001b[0m\u001b[1;32m    567\u001b[0m         \u001b[0;31m# have first part already, only loop while more to receive\u001b[0m\u001b[0;34m\u001b[0m\u001b[0;34m\u001b[0m\u001b[0;34m\u001b[0m\u001b[0m\n",
            "\u001b[0;32mzmq/backend/cython/socket.pyx\u001b[0m in \u001b[0;36mzmq.backend.cython.socket.Socket.recv\u001b[0;34m()\u001b[0m\n",
            "\u001b[0;32mzmq/backend/cython/socket.pyx\u001b[0m in \u001b[0;36mzmq.backend.cython.socket.Socket.recv\u001b[0;34m()\u001b[0m\n",
            "\u001b[0;32mzmq/backend/cython/socket.pyx\u001b[0m in \u001b[0;36mzmq.backend.cython.socket._recv_copy\u001b[0;34m()\u001b[0m\n",
            "\u001b[0;32m/usr/local/lib/python3.6/dist-packages/zmq/backend/cython/checkrc.pxd\u001b[0m in \u001b[0;36mzmq.backend.cython.checkrc._check_rc\u001b[0;34m()\u001b[0m\n",
            "\u001b[0;31mKeyboardInterrupt\u001b[0m: ",
            "\nDuring handling of the above exception, another exception occurred:\n",
            "\u001b[0;31mKeyboardInterrupt\u001b[0m                         Traceback (most recent call last)",
            "\u001b[0;32m<ipython-input-3-9e804921ce8c>\u001b[0m in \u001b[0;36m<module>\u001b[0;34m()\u001b[0m\n\u001b[0;32m----> 1\u001b[0;31m \u001b[0mresult\u001b[0m\u001b[0;34m,\u001b[0m \u001b[0mhistory\u001b[0m \u001b[0;34m=\u001b[0m \u001b[0mgame\u001b[0m\u001b[0;34m(\u001b[0m\u001b[0mhuman_player\u001b[0m\u001b[0;34m,\u001b[0m \u001b[0mplayer\u001b[0m\u001b[0;34m)\u001b[0m\u001b[0;34m\u001b[0m\u001b[0;34m\u001b[0m\u001b[0m\n\u001b[0m\u001b[1;32m      2\u001b[0m \u001b[0;34m\u001b[0m\u001b[0m\n\u001b[1;32m      3\u001b[0m \u001b[0;32mif\u001b[0m \u001b[0mresult\u001b[0m \u001b[0;34m==\u001b[0m \u001b[0;36m1\u001b[0m \u001b[0;34m:\u001b[0m\u001b[0;34m\u001b[0m\u001b[0;34m\u001b[0m\u001b[0m\n\u001b[1;32m      4\u001b[0m   \u001b[0mprint\u001b[0m\u001b[0;34m(\u001b[0m\u001b[0;34m\"#========================================#\\n\"\u001b[0m\u001b[0;34m)\u001b[0m\u001b[0;34m\u001b[0m\u001b[0;34m\u001b[0m\u001b[0m\n\u001b[1;32m      5\u001b[0m   \u001b[0mprint\u001b[0m\u001b[0;34m(\u001b[0m\u001b[0;34m\"|      CONGRATULATIONS, YOU WIN          |\\n\"\u001b[0m\u001b[0;34m)\u001b[0m\u001b[0;34m\u001b[0m\u001b[0;34m\u001b[0m\u001b[0m\n",
            "\u001b[0;32m<ipython-input-2-1a64b7fe6b26>\u001b[0m in \u001b[0;36mgame\u001b[0;34m(player1, player2)\u001b[0m\n\u001b[1;32m    297\u001b[0m         \u001b[0mpiece\u001b[0m\u001b[0;34m,\u001b[0m \u001b[0mpos\u001b[0m \u001b[0;34m=\u001b[0m \u001b[0;32mNone\u001b[0m\u001b[0;34m,\u001b[0m \u001b[0;32mNone\u001b[0m\u001b[0;34m\u001b[0m\u001b[0;34m\u001b[0m\u001b[0m\n\u001b[1;32m    298\u001b[0m         \u001b[0;32mif\u001b[0m \u001b[0mturn\u001b[0m \u001b[0;34m==\u001b[0m \u001b[0;36m1\u001b[0m \u001b[0;34m:\u001b[0m\u001b[0;34m\u001b[0m\u001b[0;34m\u001b[0m\u001b[0m\n\u001b[0;32m--> 299\u001b[0;31m             \u001b[0mpiece\u001b[0m\u001b[0;34m,\u001b[0m \u001b[0mpos\u001b[0m \u001b[0;34m=\u001b[0m \u001b[0mplayer1\u001b[0m\u001b[0;34m(\u001b[0m\u001b[0mtabuleiro\u001b[0m\u001b[0;34m,\u001b[0m \u001b[0mturn\u001b[0m\u001b[0;34m,\u001b[0m \u001b[0mvalidMoves\u001b[0m\u001b[0;34m)\u001b[0m\u001b[0;34m\u001b[0m\u001b[0;34m\u001b[0m\u001b[0m\n\u001b[0m\u001b[1;32m    300\u001b[0m         \u001b[0;32melse\u001b[0m \u001b[0;34m:\u001b[0m\u001b[0;34m\u001b[0m\u001b[0;34m\u001b[0m\u001b[0m\n\u001b[1;32m    301\u001b[0m             \u001b[0mpiece\u001b[0m\u001b[0;34m,\u001b[0m \u001b[0mpos\u001b[0m \u001b[0;34m=\u001b[0m \u001b[0mplayer2\u001b[0m\u001b[0;34m(\u001b[0m\u001b[0mtabuleiro\u001b[0m\u001b[0;34m,\u001b[0m \u001b[0mturn\u001b[0m\u001b[0;34m,\u001b[0m \u001b[0mvalidMoves\u001b[0m\u001b[0;34m)\u001b[0m\u001b[0;34m\u001b[0m\u001b[0;34m\u001b[0m\u001b[0m\n",
            "\u001b[0;32m<ipython-input-2-1a64b7fe6b26>\u001b[0m in \u001b[0;36mhuman_player\u001b[0;34m(tab, turn, valids)\u001b[0m\n\u001b[1;32m    142\u001b[0m     \u001b[0mdisplay\u001b[0m\u001b[0;34m(\u001b[0m\u001b[0mboard\u001b[0m\u001b[0;34m)\u001b[0m\u001b[0;34m\u001b[0m\u001b[0;34m\u001b[0m\u001b[0m\n\u001b[1;32m    143\u001b[0m     \u001b[0mprint\u001b[0m\u001b[0;34m(\u001b[0m\u001b[0;34m\"Jogadas válidas: %s\"\u001b[0m \u001b[0;34m%\u001b[0m \u001b[0;34m(\u001b[0m\u001b[0mvalids\u001b[0m\u001b[0;34m)\u001b[0m\u001b[0;34m)\u001b[0m\u001b[0;34m\u001b[0m\u001b[0;34m\u001b[0m\u001b[0m\n\u001b[0;32m--> 144\u001b[0;31m     \u001b[0mmove\u001b[0m \u001b[0;34m=\u001b[0m \u001b[0mint\u001b[0m\u001b[0;34m(\u001b[0m\u001b[0minput\u001b[0m\u001b[0;34m(\u001b[0m\u001b[0;34m)\u001b[0m\u001b[0;34m)\u001b[0m\u001b[0;34m\u001b[0m\u001b[0;34m\u001b[0m\u001b[0m\n\u001b[0m\u001b[1;32m    145\u001b[0m \u001b[0;34m\u001b[0m\u001b[0m\n\u001b[1;32m    146\u001b[0m     \u001b[0;32mwhile\u001b[0m \u001b[0;32mnot\u001b[0m \u001b[0mmove\u001b[0m \u001b[0;32min\u001b[0m \u001b[0mvalids\u001b[0m \u001b[0;34m:\u001b[0m\u001b[0;34m\u001b[0m\u001b[0;34m\u001b[0m\u001b[0m\n",
            "\u001b[0;32m/usr/local/lib/python3.6/dist-packages/ipykernel/kernelbase.py\u001b[0m in \u001b[0;36mraw_input\u001b[0;34m(self, prompt)\u001b[0m\n\u001b[1;32m    702\u001b[0m             \u001b[0mself\u001b[0m\u001b[0;34m.\u001b[0m\u001b[0m_parent_ident\u001b[0m\u001b[0;34m,\u001b[0m\u001b[0;34m\u001b[0m\u001b[0;34m\u001b[0m\u001b[0m\n\u001b[1;32m    703\u001b[0m             \u001b[0mself\u001b[0m\u001b[0;34m.\u001b[0m\u001b[0m_parent_header\u001b[0m\u001b[0;34m,\u001b[0m\u001b[0;34m\u001b[0m\u001b[0;34m\u001b[0m\u001b[0m\n\u001b[0;32m--> 704\u001b[0;31m             \u001b[0mpassword\u001b[0m\u001b[0;34m=\u001b[0m\u001b[0;32mFalse\u001b[0m\u001b[0;34m,\u001b[0m\u001b[0;34m\u001b[0m\u001b[0;34m\u001b[0m\u001b[0m\n\u001b[0m\u001b[1;32m    705\u001b[0m         )\n\u001b[1;32m    706\u001b[0m \u001b[0;34m\u001b[0m\u001b[0m\n",
            "\u001b[0;32m/usr/local/lib/python3.6/dist-packages/ipykernel/kernelbase.py\u001b[0m in \u001b[0;36m_input_request\u001b[0;34m(self, prompt, ident, parent, password)\u001b[0m\n\u001b[1;32m    732\u001b[0m             \u001b[0;32mexcept\u001b[0m \u001b[0mKeyboardInterrupt\u001b[0m\u001b[0;34m:\u001b[0m\u001b[0;34m\u001b[0m\u001b[0;34m\u001b[0m\u001b[0m\n\u001b[1;32m    733\u001b[0m                 \u001b[0;31m# re-raise KeyboardInterrupt, to truncate traceback\u001b[0m\u001b[0;34m\u001b[0m\u001b[0;34m\u001b[0m\u001b[0;34m\u001b[0m\u001b[0m\n\u001b[0;32m--> 734\u001b[0;31m                 \u001b[0;32mraise\u001b[0m \u001b[0mKeyboardInterrupt\u001b[0m\u001b[0;34m\u001b[0m\u001b[0;34m\u001b[0m\u001b[0m\n\u001b[0m\u001b[1;32m    735\u001b[0m             \u001b[0;32melse\u001b[0m\u001b[0;34m:\u001b[0m\u001b[0;34m\u001b[0m\u001b[0;34m\u001b[0m\u001b[0m\n\u001b[1;32m    736\u001b[0m                 \u001b[0;32mbreak\u001b[0m\u001b[0;34m\u001b[0m\u001b[0;34m\u001b[0m\u001b[0m\n",
            "\u001b[0;31mKeyboardInterrupt\u001b[0m: "
          ]
        }
      ]
    },
    {
      "cell_type": "markdown",
      "metadata": {
        "id": "bX4dwwfQ5ZdQ"
      },
      "source": [
        "# **Jogo contra bot um pouco mais inteligente**"
      ]
    },
    {
      "cell_type": "code",
      "metadata": {
        "id": "fRSXBRqHAjWN"
      },
      "source": [
        "## Função campeonato_with_knowledge ------------------------------------------------------------->>\n",
        "\n",
        "def campeonato_with_knowledge(player1, player2, num_games = 10000, knowledge = {}) :\n",
        "    results = [0,0,0]\n",
        "\n",
        "    for i in range(num_games) :\n",
        "        result, history = game(player1, player2)\n",
        "        results[result] += 1\n",
        "\n",
        "        ## Adicionando as jogadas no histórico\n",
        "        for tab in history :\n",
        "            if not tab in knowledge :\n",
        "                knowledge[tab] = [0, 0, 0]\n",
        "            knowledge[tab][result] += 1\n",
        "\n",
        "    return tuple(results), knowledge\n",
        "\n",
        "\n",
        "## Gerando jogos e guardando em knowledge\n",
        "results, knowledge = campeonato_with_knowledge(player, player)\n",
        "\n",
        "\n",
        "\n",
        "## Criando bot com knowledge ------------------------------------------------------------->>\n",
        "\n",
        "def create_player(knowledge) :\n",
        "    def player(tab, turn, valid_moves) :\n",
        "        ## Computando scores de cada move\n",
        "        scores = []\n",
        "        for move in valid_moves :\n",
        "            ## Colocando a peça no tabuleiro\n",
        "            ltab = list(tab)\n",
        "            ltab[move] = turn\n",
        "\n",
        "            ## Computando score\n",
        "            a,b,c = knowledge.get( tuple(ltab), (1,0,0) )\n",
        "            scores.append(  turn*(b-c)/(a+b+c) )\n",
        "\n",
        "        \n",
        "        chosen = valid_moves[ scores.index( max(scores) )  ] \n",
        "        return (turn, chosen )\n",
        "    return player\n",
        "\n",
        "player2 = create_player(knowledge)"
      ],
      "execution_count": null,
      "outputs": []
    },
    {
      "cell_type": "code",
      "metadata": {
        "id": "kizavXXjEh1Y"
      },
      "source": [
        "result, history = game(human_player, player2)\n",
        "\n",
        "if result == 1 :\n",
        "  print(\"#========================================#\\n\")\n",
        "  print(\"|      CONGRATULATIONS, YOU WIN          |\\n\")\n",
        "  print(\"#========================================#\\n\")\n",
        "\n",
        "else :\n",
        "  print(\"#========================================#\\n\")\n",
        "  print(\"|        GAME OVER... TRAIN MORE         |\\n\")\n",
        "  print(\"#========================================#\\n\")\n"
      ],
      "execution_count": null,
      "outputs": []
    }
  ]
}