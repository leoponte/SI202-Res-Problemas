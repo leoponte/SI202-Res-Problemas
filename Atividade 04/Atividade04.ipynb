{
  "nbformat": 4,
  "nbformat_minor": 0,
  "metadata": {
    "colab": {
      "name": "Atividade04.ipynb",
      "provenance": [],
      "collapsed_sections": []
    },
    "kernelspec": {
      "display_name": "Python 3",
      "language": "python",
      "name": "python3"
    },
    "language_info": {
      "codemirror_mode": {
        "name": "ipython",
        "version": 3
      },
      "file_extension": ".py",
      "mimetype": "text/x-python",
      "name": "python",
      "nbconvert_exporter": "python",
      "pygments_lexer": "ipython3",
      "version": "3.7.6"
    }
  },
  "cells": [
    {
      "cell_type": "markdown",
      "metadata": {
        "id": "E1cOVfsOWUXb"
      },
      "source": [
        "###REVERSI\n"
      ]
    },
    {
      "cell_type": "markdown",
      "metadata": {
        "id": "k4Us71l9WzF8"
      },
      "source": [
        "#1 - Tabuleiro Vazio do Jogo\n",
        "<img src=\"https://bonaludo.files.wordpress.com/2016/01/othello-board.png?w=454&h=454\" width=\"200\"/> <br/><br/>\n",
        "\n",
        "###O tabuleiro padrão do jogo Reversi (também chamado de Othello) é composto por um quadrado de dimensão 8x8, e se suas coordenadas fossem aumentadas ou diminuídas, isso mudaria um pouco sobre a execução do jogo, mas não o invalidaria por completo, mantendo a mesma mecânica de jogo.\n",
        "\n",
        "\n",
        "<!---\n",
        "\n",
        "</br></br></br></br>\n",
        "Descrição: Avise se o tabuleiro pode ser diminuído ou aumentado para simplificar ou complicar a partida, ou se isso invalidaria o jogo completamente. </br>\n",
        "       Por exemplo, eu posso aumento um tabuleiro de damas facilmente e colocar mais peças. O jogo seria muito parecido, só que com mais peças e um tabuleiro maior. Entretanto, eu não posso fazer isso com um tabuleiro de Xadrez, porque a expansão não faria sentido (quais seriam as novas peças, ...).-->\n"
      ]
    },
    {
      "cell_type": "markdown",
      "metadata": {
        "id": "CGj3G50TW5pO"
      },
      "source": [
        "#2 - VISUALIZAÇÃO DE TODOS OS MOVIMENTOS POSSÍVEIS\n",
        "###O jogo possui apenas 2 jogadores, representados pelas peças pretas e brancas, cada um. \n",
        "<br/>\n",
        "<br/>\n",
        "\n",
        "##Eles são iniciados na seguinte formação:\n",
        "<img src=\"https://www.iggamecenter.com/images/info/reversi/2.png\" width=\"200\"/>\n",
        "<!--   -->\n",
        "\n",
        "###O jogo é sempre iniciado pelas peças pretas.\n",
        "\n",
        "<br/>\n",
        "<br/>\n",
        "\n",
        "##Sobre a movimentação:\n",
        "\n",
        "###É preciso que haja pelo menos uma linha reta (horizontal, vertical ou diagonal) sem espaços vazios entre a posição que o jogador deseja e uma outra peça de sua cor, e que haja uma ou mais peças do oponente entre elas.\n",
        "\n",
        "<br/>\n",
        "\n",
        "###Após isso, uma vez que um jogador faça uma jogada válida, todas as peças do oponente que estejam em uma linha reta (horizontal, vertical ou diagonal) entre a peça recém-colocada e qualquer outra peça do jogador que fez o movimento são viradas e passam a ser da cor deste jogador.\n",
        "\n",
        "<br/>\n",
        "\n",
        "<img src = \"https://roobeedoo2.files.wordpress.com/2017/08/othello-game.gif?w=700\" width=\"200\" />\n",
        "\n",
        "\n",
        "\n",
        "\n",
        "\n"
      ]
    },
    {
      "cell_type": "markdown",
      "metadata": {
        "id": "23snu8ffXZCx"
      },
      "source": [
        "#3 - CONDIÇÕES DE VITÓRIA\n",
        "###O jogo se encerra quando o tabuleiro está completamente preenchido por todas as peças do jogo, e vence o jogador que possuir o maior número de peças de sua cor viradas para cima no tabuleiro.\n",
        "<br/><br/>\n",
        "\n",
        "##Vitória das peças pretas\n",
        "\n",
        "<img src=\"https://images.yourturnmyturn.com/rules/reversi/image026.jpg\" width=\"200\"/>\n",
        "\n",
        "<!-- -->\n",
        "\n",
        "Na situação do tabuleiro final demonstrado acima, o jogador que estivesse controlando as peças **pretas** teria vencido a partida, pois o tabuleiro possuía 40 peças pretas contra apenas 24 peças brancas.\n",
        "<br/><br/>\n",
        "\n",
        "##Vitória das peças brancas\n",
        "<img src=\"https://images.yourturnmyturn.com/rules/reversi/image016.jpg\" width=\"200\"/>\n",
        "\n",
        "Já na situação do tabuleiro posto acima, a vitória seria do jogador que estivesse controlando as peças **brancas** do jogo pois, uma vez com o tabuleiro completo, elas seriam maioria na partida, tendo 40 peças dispostas, jogando contra 24 peças pretas no tabuleiro."
      ]
    },
    {
      "cell_type": "markdown",
      "metadata": {
        "id": "kWgrHpFWnWZg"
      },
      "source": [
        "#ATIVIDADE 04"
      ]
    },
    {
      "cell_type": "markdown",
      "metadata": {
        "id": "i8r9m7jBnk0B"
      },
      "source": [
        "1 - Você deverá decidir como irá representar um tabuleiro. Tente representar da maneira mais simples possível levando em conta o que você aprendeu na aula para o jogo da velha. Existem várias formas de representar qualquer jogo, escolha a que julgar mais conveniente. Não esqueça de sempre representar um tabuleiro com tuplas, precisamos que os tabuleiros sejam imutáveis por motivos já discutidos em aula."
      ]
    },
    {
      "cell_type": "code",
      "metadata": {
        "id": "pu71XTfannsS",
        "outputId": "83542d27-c055-487c-821a-4efc3fc9a75f",
        "colab": {
          "base_uri": "https://localhost:8080/",
          "height": 289
        }
      },
      "source": [
        "## Tabuleiro vazio:\n",
        "tabuleiroList = []\n",
        "for i in range(64):\n",
        "  if i == 27 or i == 36:\n",
        "    tabuleiroList.append(-1) #colocando peças BRANCAS na posição inicial do meio do tabuleiro\n",
        "  elif i == 28 or i == 35:\n",
        "    tabuleiroList.append(1) #colocando peças PRETAS na posição inicial do meio do tabuleiro\n",
        "  else:\n",
        "    tabuleiroList.append(0)\n",
        "tabuleiro = tuple(tabuleiroList)\n",
        "\n",
        "#Printa conteúdo do tabuleiro na proporção de 8x8\n",
        "for i in range(64):\n",
        "  print(\"   {}\".format(tabuleiro[i]), end=\"\")\n",
        "  if ((i + 1) % 8 == 0):\n",
        "    print(\"\\n\")\n"
      ],
      "execution_count": 29,
      "outputs": [
        {
          "output_type": "stream",
          "text": [
            "   0   0   0   0   0   0   0   0\n",
            "\n",
            "   0   0   0   0   0   0   0   0\n",
            "\n",
            "   0   0   0   0   0   0   0   0\n",
            "\n",
            "   0   0   0   -1   1   0   0   0\n",
            "\n",
            "   0   0   0   1   -1   0   0   0\n",
            "\n",
            "   0   0   0   0   0   0   0   0\n",
            "\n",
            "   0   0   0   0   0   0   0   0\n",
            "\n",
            "   0   0   0   0   0   0   0   0\n",
            "\n"
          ],
          "name": "stdout"
        }
      ]
    },
    {
      "cell_type": "markdown",
      "metadata": {
        "id": "N5zQbjzRnydv"
      },
      "source": [
        "2 - Feita a escolha da forma como iremos representar um tabuleiro, deveremos começar a escrever algumas funções. A primeira dessas funções deve ser a função winner, que deve decidir se com o tabuleiro já podemos definir a vitória de um dos jogadores. A sua função winner deverá receber um tabuleiro e retornar qual jogador obteve a vitória (+1 ou -1). Se ninguém tiver vencido ainda ou em caso de empate, a função winner deverá retornar 0. "
      ]
    },
    {
      "cell_type": "code",
      "metadata": {
        "id": "jQ4P9ssZn3Zz"
      },
      "source": [
        "## Código que devolve o jogador vencedor, \n",
        "## ou zero em caso de não ter um vencedor\n",
        "## definido\n",
        "def winner(tab) :\n",
        "    somas0 = tab.count(0)\n",
        "    somas1 = tab.count(1)\n",
        "    somas2 = tab.count(-1)\n",
        "    if (somas2 > somas1) and (somas0 == 0) : #Pecas BRANCAS ganham quando forem maioria, e quando não houverem espacos vazios\n",
        "        return -1\n",
        "    elif (somas2 < somas1) and (somas0 == 0): #Pecas PRETAS ganham quando forem maioria, e quando não houverem espacos vazios\n",
        "        return 1\n",
        "    else:\n",
        "        return 0"
      ],
      "execution_count": 30,
      "outputs": []
    },
    {
      "cell_type": "code",
      "metadata": {
        "id": "ZKvgNVQc98Ew",
        "outputId": "0d58247f-dd7d-4a9b-b880-f69d9ff6f406",
        "colab": {
          "base_uri": "https://localhost:8080/",
          "height": 34
        }
      },
      "source": [
        "## Exemplo de uso do que temos até agora.\n",
        "## Tabuleiro vazio:\n",
        "tabuleiroList = []\n",
        "for i in range(64): #Preenche o tabuleiro com uma peça preta a mais que as brancas\n",
        "  if (i<=32):\n",
        "    tabuleiroList.append(1)\n",
        "  else:\n",
        "    tabuleiroList.append(-1)\n",
        "tabuleiro = tuple(tabuleiroList)\n",
        "winner(tabuleiro)"
      ],
      "execution_count": 31,
      "outputs": [
        {
          "output_type": "execute_result",
          "data": {
            "text/plain": [
              "1"
            ]
          },
          "metadata": {
            "tags": []
          },
          "execution_count": 31
        }
      ]
    },
    {
      "cell_type": "markdown",
      "metadata": {
        "id": "_W7Sy5Fjn5rL"
      },
      "source": [
        "3 - Crie uma função que defina os movimentos válidos. Talvez esse seja o caso mais difícil, os movimentos válidos podem variar muito de um jogo para outro, tente representar esses movimentos com um número reduzido de parâmetros, se possível. A sua função deve se chamar get_valid_moves para manter o padrão da disciplina, e talvez precise receber alguma variável \"turn\" para saber qual dos jogadores está na vez de jogar. Você é quem decide."
      ]
    },
    {
      "cell_type": "code",
      "metadata": {
        "id": "wawE4imun8fN",
        "outputId": "bc48f79e-644e-46f8-a5bd-9bbfe49418f1",
        "colab": {
          "base_uri": "https://localhost:8080/",
          "height": 34
        }
      },
      "source": [
        "## Função que devolve as jogadas válidas\n",
        "def get_valid_moves(tab, turn) :\n",
        "    valids = []\n",
        "    for i in range(len(tab)) :\n",
        "        if tab[i] == turn:  \n",
        "\n",
        "\n",
        "            ##Verificação da linha sentido direita \n",
        "            if i <= 61 and (i+1)%8!=0:\n",
        "              if tab[i+1] == -(turn):\n",
        "                for y in range(2,8):\n",
        "                  if (i+y)%8==0:\n",
        "                    break\n",
        "                  elif tab[i+y] == 0:\n",
        "                    valids.append(i+y)\n",
        "                    break\n",
        "\n",
        " \n",
        "            if i >= 2 and (i-1)%8!=7:\n",
        "              if tab[i-1] == -(turn):\n",
        "                for y in range(2,8):\n",
        "                  if (i-y)%8==7:\n",
        "                    break\n",
        "                  elif tab[i-y] == 0:\n",
        "                    valids.append(i-y)\n",
        "                    break     \n",
        "                \n",
        "\n",
        "\n",
        "            ##Verificação da coluna sentido baixo \n",
        "            if i <= 47:\n",
        "              if tab[i+8] == -(turn): #Verificação de igualdade com a peça adversária\n",
        "                if tab[i+16] == 0:\n",
        "                    valids.append(i+16)\n",
        "                elif tab[i+24] == 0:\n",
        "                    valids.append(i+24)\n",
        "                elif tab[i+32] == 0:\n",
        "                    valids.append(i+32)\n",
        "                elif tab[i+40] == 0:\n",
        "                    valids.append(i+40)\n",
        "                elif tab[i+48] == 0:\n",
        "                    valids.append(i+48)\n",
        "                elif tab[i+56] == 0:\n",
        "                  valids.append(i+56)\n",
        "\n",
        "            \n",
        "            ##Verificação da coluna sentido cima\n",
        "            if i > 15:\n",
        "              if tab[i-8] == -(turn): #Verificação de igualdade com a peça adversária\n",
        "                if tab[i-16] == 0:\n",
        "                  valids.append(i-16)\n",
        "                elif tab[i-24] == 0:\n",
        "                  valids.append(i-24)\n",
        "                elif tab[i-32] == 0:\n",
        "                  valids.append(i-32)\n",
        "                elif tab[i-40] == 0:\n",
        "                  valids.append(i-40)\n",
        "                elif tab[i-48] == 0:\n",
        "                  valids.append(i-48)\n",
        "                elif tab[i-56] == 0:\n",
        "                  valids.append(i-56)\n",
        "            \n",
        "\n",
        "            ##Verificação da diagonal inferior direita \n",
        "            if i <= 45:\n",
        "              if tab[i+9] == -(turn): #Verificação da diagonal inferior direita\n",
        "                if tab[i+18] == 0:\n",
        "                  valids.append(i+18)\n",
        "                elif tab[i+27] == 0:\n",
        "                  valids.append(i+27)\n",
        "                elif tab[i+36] == 0:\n",
        "                  valids.append(i+36)\n",
        "                elif tab[i+45] == 0:\n",
        "                  valids.append(i+45)\n",
        "                elif tab[i+54] == 0:\n",
        "                  valids.append(i+54)\n",
        "                elif tab[i+63] == 0:\n",
        "                  valids.append(i+63)\n",
        "\n",
        "            ##Verificação da diagonal inferior esquerda\n",
        "            if i <= 47:\n",
        "              if tab[i+7] == -(turn):\n",
        "                if tab[i+14] == 0:\n",
        "                  valids.append(i+14)\n",
        "                elif tab[i+21] == 0:\n",
        "                  valids.append(i+21)\n",
        "                elif tab[i+28] == 0:\n",
        "                  valids.append(i+28)\n",
        "                elif tab[i+35] == 0:\n",
        "                  valids.append(i+35)\n",
        "                elif tab[i+42] == 0:\n",
        "                  valids.append(i+42)\n",
        "                elif tab[i+49] == 0:\n",
        "                  valids.append(i+49)\n",
        "\n",
        "              ##Verificação da diagonal superior direita\n",
        "              if i >= 16:\n",
        "                if tab[i-7] == -(turn):\n",
        "                  if tab[i-14] == 0:\n",
        "                    valids.append(i-14)\n",
        "                  elif tab[i-21] == 0:\n",
        "                    valids.append(i-21)\n",
        "                  elif tab[i-28] == 0:\n",
        "                    valids.append(i-28)\n",
        "                  elif tab[i-35] == 0:\n",
        "                    valids.append(i-35)\n",
        "                  elif tab[i-42] == 0:\n",
        "                    valids.append(i-42)\n",
        "                  elif tab[i-49] == 0:\n",
        "                    valids.append(i-49)\n",
        "\n",
        "            ##Verificação da diagonal superior esquerda\n",
        "            if i >= 18:\n",
        "              if tab[i-9] == -(turn): #Verificação da diagonal inferior direita\n",
        "                if tab[i-18] == 0:\n",
        "                  valids.append(i-18)\n",
        "                elif tab[i-27] == 0:\n",
        "                  valids.append(i-27)\n",
        "                elif tab[i-36] == 0:\n",
        "                  valids.append(i-36)\n",
        "                elif tab[i-45] == 0:\n",
        "                  valids.append(i-45)\n",
        "                elif tab[i+54] == 0:\n",
        "                  valids.append(i-54)\n",
        "                elif tab[i-63] == 0:\n",
        "                  valids.append(i-63)  \n",
        "\n",
        "\n",
        "    return valids\n",
        "\n",
        "tabuleiro = (0,  0,  0,  0,  0,  0,  0,  0,\n",
        "             0,  0,  0,  0,  0,  0,  0,  0,\n",
        "             0,  0,  0,  0,  0,  0,  0,  0,\n",
        "             0,  0,  0, -1,  1,  0,  0,  0,\n",
        "             0,  0,  0,  1, -1,  0,  0,  0,\n",
        "             0,  0,  0,  0,  0,  0,  0,  0,\n",
        "             0,  0,  0,  0,  0,  0,  0,  0,\n",
        "             0,  0,  0,  0,  0,  0,  0,  0)\n",
        "\n",
        "get_valid_moves(tabuleiro, -1)\n",
        "\n",
        "##peca preta(1)pos 35 com branca(-1) na direita 19, 37 \n",
        "##peca preta(1)pos 28 com branca(-1) na esquerda 26, 44"
      ],
      "execution_count": 32,
      "outputs": [
        {
          "output_type": "execute_result",
          "data": {
            "text/plain": [
              "[29, 43, 34, 20]"
            ]
          },
          "metadata": {
            "tags": []
          },
          "execution_count": 32
        }
      ]
    },
    {
      "cell_type": "markdown",
      "metadata": {
        "id": "oe1FlalUn-zk"
      },
      "source": [
        "4 - Por fim, crie um jogador bobinho que faz jogadas ao acaso. Esse jogador deverá receber um tabuleiro e um parâmetro turn para saber de quem é a vez de jogar. Recebido isso, o jogador deverá retornar uma jogada ao acaso."
      ]
    },
    {
      "cell_type": "code",
      "metadata": {
        "id": "lFWNZ6MyoCHX",
        "outputId": "e18e4789-5288-42a9-d43c-9e538f51cb0f",
        "colab": {
          "base_uri": "https://localhost:8080/",
          "height": 34
        }
      },
      "source": [
        "#FUNÇÃO FEITA PELO PROFESSOR NO JOGO DA VELHA PRA USAR DE REFERÊNCIA\n",
        "\n",
        "\n",
        "## O nosso jogador fará uma jogada ao acaso, então usamos \n",
        "## a biblioteca random para poder gerar números aleatórios\n",
        "import random\n",
        "\n",
        "## A função abaixo é um jogador. Ele receberá um tabuleiro\n",
        "## como parâmetro pela variável \"tab\". Na variável \"turn\", \n",
        "## o jogador saberá se deverá efetuar uma jogada como \"x\"\n",
        "## ou \"o\". Em outras palavras, se turn = 1, então o jogador\n",
        "## deverá efetuar uma jogada como \"x\". Caso contrário, se \n",
        "## turn = -1, o jogador deverá efetuar uma jogada como \"o\".\n",
        "def player(tab, turn) :\n",
        "    valid_moves = get_valid_moves(tab, turn)\n",
        "    if valid_moves :\n",
        "        return (turn, random.choice(valid_moves) )\n",
        "     \n",
        "tabuleiro = (0, 0, 0, 0, 0, 0, 0, 0,\n",
        "             0, 0, 0, 0, 0, 0, 0, 0,\n",
        "             0, 0, 0, 0, 0, 0, 0, 0,\n",
        "             0, 0, 0, -1, 1, 0, 0, 0,\n",
        "             0, 0, 0, 1, -1, 0, 0, 0,\n",
        "             0, 0, 0, 0, 0, 0, 0, 0,\n",
        "             0, 0, 0, 0, 0, 0, 0, 0,\n",
        "             0, 0, 0, 0, 0, 0, 0, 0)\n",
        "\n",
        "## O jogador retornará a peça que irá colocar no \n",
        "## tabuleiro, seguida da posição no tabuleiro onde\n",
        "## deverá colocar a peça. \n",
        "player(tabuleiro, -1)"
      ],
      "execution_count": 38,
      "outputs": [
        {
          "output_type": "execute_result",
          "data": {
            "text/plain": [
              "(-1, 20)"
            ]
          },
          "metadata": {
            "tags": []
          },
          "execution_count": 38
        }
      ]
    }
  ]
}