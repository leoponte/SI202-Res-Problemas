{
  "nbformat": 4,
  "nbformat_minor": 0,
  "metadata": {
    "colab": {
      "name": "Atividade06.ipynb",
      "provenance": [],
      "collapsed_sections": [
        "uOJeZeFoe3Ot",
        "DX6YhK1hOXVV",
        "uQlJdwuIYhX3"
      ]
    },
    "kernelspec": {
      "name": "python3",
      "display_name": "Python 3"
    }
  },
  "cells": [
    {
      "cell_type": "markdown",
      "metadata": {
        "id": "Lkqw1rkczSLg"
      },
      "source": [
        "# **Inicializando o Tabuleiro**"
      ]
    },
    {
      "cell_type": "markdown",
      "metadata": {
        "id": "uOJeZeFoe3Ot"
      },
      "source": [
        "### **Definindo tabuleiro**"
      ]
    },
    {
      "cell_type": "code",
      "metadata": {
        "id": "OoU5uanjzcgo"
      },
      "source": [
        "def initialize_board():\n",
        "  ## Tabuleiro vazio:\n",
        "  tabuleiroList = []\n",
        "  for i in range(64):\n",
        "    if i == 27 or i == 36:\n",
        "      tabuleiroList.append(-1) #colocando peças BRANCAS na posição inicial do meio do tabuleiro\n",
        "    elif i == 28 or i == 35:\n",
        "      tabuleiroList.append(1) #colocando peças PRETAS na posição inicial do meio do tabuleiro\n",
        "    else:\n",
        "      tabuleiroList.append(0)\n",
        "      \n",
        "  tabuleiro = tuple(tabuleiroList)\n",
        "\n",
        "  return tabuleiro\n",
        "\n",
        "  #Printa conteúdo do tabuleiro na proporção de 8x8\n",
        "  #for i in range(64):\n",
        "  #  print(\"   {}\".format(tabuleiro[i]), end=\"\")\n",
        "  #  if ((i + 1) % 8 == 0):\n",
        "#    print(\"\\n\")\n"
      ],
      "execution_count": null,
      "outputs": []
    },
    {
      "cell_type": "markdown",
      "metadata": {
        "id": "_bWT59-qF_Hl"
      },
      "source": [
        "### **Definindo Jogadas Válidas**"
      ]
    },
    {
      "cell_type": "code",
      "metadata": {
        "id": "pWyXpDFpGGR7"
      },
      "source": [
        "## Função que devolve as jogadas válidas\n",
        "def get_valid_moves(tab, turn) :\n",
        "    valids = []\n",
        "    for i in range(len(tab)) :\n",
        "        if tab[i] == turn:  \n",
        "\n",
        "\n",
        "            ##Verificação da linha sentido direita \n",
        "            if i <= 61 and (i+1)%8!=0:\n",
        "              if tab[i+1] == -(turn):\n",
        "                for y in range(2,8):\n",
        "                  if (i+y)%8==0:\n",
        "                    break\n",
        "                  elif tab[i+y] == 0:\n",
        "                    valids.append(i+y)\n",
        "                    break\n",
        "                  elif tab[i+y] == turn:\n",
        "                    break\n",
        "\n",
        "\n",
        "            ##Verificação da linha sentido esquerda\n",
        "            if i >= 2 and (i-1)%8!=7:\n",
        "              if tab[i-1] == -(turn):\n",
        "                for y in range(2,8):\n",
        "                  if (i-y)%8==7:\n",
        "                    break\n",
        "                  elif tab[i-y] == 0:\n",
        "                    valids.append(i-y)\n",
        "                    break  \n",
        "                  elif tab[i-y] == turn:\n",
        "                    break   \n",
        "                \n",
        "\n",
        "            ##Verificação da coluna sentido baixo \n",
        "\n",
        "            if i <= 47:\n",
        "              if tab[i+8] == -(turn):\n",
        "                for y in range(16,57,8):\n",
        "                  if (i+y) > 63:\n",
        "                    break\n",
        "                  if tab[i+y] == 0:\n",
        "                    valids.append(i+y)\n",
        "                    break\n",
        "                  elif tab[i+y] == turn:\n",
        "                    break\n",
        "\n",
        "\n",
        "            ##Verificação da coluna sentido cima\n",
        "\n",
        "            if i > 15:\n",
        "              if tab[i-8] == -(turn):\n",
        "                for y in range(16,57,8):\n",
        "                  if (i-y) < 0:\n",
        "                    break\n",
        "                  if tab[i-y] == 0:\n",
        "                    valids.append(i-y)\n",
        "                    break\n",
        "                  elif tab[i-y] == turn:\n",
        "                    break\n",
        "            \n",
        "\n",
        "            ##Verificação da diagonal inferior direita \n",
        "\n",
        "            if i <= 45:\n",
        "              if tab[i+9] == -(turn):\n",
        "                for y in range(18,64,9):\n",
        "                  if (i+y) > 63:\n",
        "                    break\n",
        "                  elif (i+y) % 8 == 0:\n",
        "                    break\n",
        "                  elif tab[i+y] == 0:\n",
        "                    valids.append(i+y)\n",
        "                    break\n",
        "                  elif tab[i+y] == turn:\n",
        "                    break\n",
        "\n",
        "\n",
        "            ##Verificação da diagonal inferior esquerda\n",
        "\n",
        "            if i <= 47:\n",
        "              if tab[i+7] == -(turn):\n",
        "                for y in range(14,50,7):\n",
        "                  if (i+y) > 63:\n",
        "                    break\n",
        "                  elif (i+y) % 8 == 7:\n",
        "                    break\n",
        "                  elif tab[i+y] == 0:\n",
        "                    valids.append(i+y)\n",
        "                    break\n",
        "                  elif tab[i+y] == turn:\n",
        "                    break  \n",
        "\n",
        "\n",
        "            ##Verificação da diagonal superior direita\n",
        "\n",
        "            if i >= 16:\n",
        "              if tab[i-7] == -(turn):\n",
        "                for y in range(14,50,7):\n",
        "                  if (i-y) < 0:\n",
        "                    break\n",
        "                  elif (i-y) % 8 == 0:\n",
        "                    break\n",
        "                  elif tab[i-y] == 0:\n",
        "                    valids.append(i-y)\n",
        "                    break\n",
        "                  elif tab[i-y] == turn:\n",
        "                    break\n",
        "\n",
        "            \n",
        "            ##Verificação da diagonal superior esquerda\n",
        "\n",
        "            if i >= 18:\n",
        "              if tab[i-9] == -(turn):\n",
        "                for y in range(18,64,9):\n",
        "                  if (i-y) < 0:\n",
        "                    break\n",
        "                  elif (i-y) % 8 == 7:\n",
        "                    break\n",
        "                  elif tab[i-y] == 0:\n",
        "                    valids.append(i-y)\n",
        "                    break\n",
        "                  elif tab[i-y] == turn:\n",
        "                    break \n",
        "\n",
        "\n",
        "\n",
        "    return sorted(set(valids))"
      ],
      "execution_count": null,
      "outputs": []
    },
    {
      "cell_type": "markdown",
      "metadata": {
        "id": "DX6YhK1hOXVV"
      },
      "source": [
        "### **Desenhando as peças no tabuleiro**"
      ]
    },
    {
      "cell_type": "code",
      "metadata": {
        "id": "Mgi8Qi0VOcW-"
      },
      "source": [
        "def draw_piece(draw, cell, piece) :\n",
        "    ## Convertendo linear para matricial\n",
        "    line   = cell // 8\n",
        "    column = cell  % 8\n",
        "\n",
        "    ## Gerando as coordenadas\n",
        "    x0 = column * 50\n",
        "    x1 = (column+1)*50\n",
        "    y0 = line*50\n",
        "    y1 = (line+1)*50\n",
        "\n",
        "    if piece == 1 :\n",
        "        draw.ellipse([x0, y0, x1, y1], width=2, fill = \"black\")\n",
        "    elif piece == -1 :\n",
        "        draw.ellipse([x0, y0, x1, y1], width=2, fill = \"white\")"
      ],
      "execution_count": null,
      "outputs": []
    },
    {
      "cell_type": "markdown",
      "metadata": {
        "id": "AEQ6LKT4Rhk3"
      },
      "source": [
        "### **Desenhando jogadas válidas no tabuleiro**"
      ]
    },
    {
      "cell_type": "code",
      "metadata": {
        "id": "YjU6UiuTRYzI"
      },
      "source": [
        "def draw_piece_valid_moves(draw, cell) :\n",
        "    ## Convertendo linear para matricial\n",
        "    line   = cell // 8\n",
        "    column = cell  % 8\n",
        "\n",
        "    ## Gerando as coordenadas\n",
        "    x0 = column * 50\n",
        "    x1 = (column+1)*50\n",
        "    y0 = line*50\n",
        "    y1 = (line+1)*50\n",
        "\n",
        "    draw.ellipse([x0, y0, x1, y1], width=1, outline = \"silver\")"
      ],
      "execution_count": null,
      "outputs": []
    },
    {
      "cell_type": "markdown",
      "metadata": {
        "id": "cL2yDQ-0CWOQ"
      },
      "source": [
        "### **Desenhando tabuleiro junto com jogadas válidas**"
      ]
    },
    {
      "cell_type": "code",
      "metadata": {
        "id": "OmqX3dXLn3Ps"
      },
      "source": [
        "## Importa biblioteca\n",
        "from PIL import Image, ImageDraw\n",
        "\n",
        "def draw_board(tab, turn, valids) :\n",
        "    turno = turn\n",
        "    ## Desenhamos um quadrado 400x400\n",
        "    board = Image.new('RGB', (400, 400),  \"green\")\n",
        "    #playgame = True\n",
        "    ## Criamos uma espécie de canvas para desenhar\n",
        "    draw  = ImageDraw.Draw(board)\n",
        "\n",
        "    ## Desenhamos duas linhas horizontais\n",
        "    x0 = 0\n",
        "    y0 = 0\n",
        "    x1 = 400\n",
        "    y1 = 0\n",
        "    for i in range(9):\n",
        "      draw.line( (x0, y0, x1, y1), fill = \"black\", width = 1 ) \n",
        "      y0 += 50\n",
        "      y1 = y0\n",
        "\n",
        "    ## Desenhamos duas linhas verticais\n",
        "    x0 = 0\n",
        "    y0 = 0\n",
        "    x1 = 0\n",
        "    y1 = 400\n",
        "    for i in range(9):\n",
        "      draw.line( (x0, y0, x1, y1), fill = \"black\", width = 1 ) \n",
        "      x0 += 50\n",
        "      x1 = x0\n",
        "\n",
        "    ## Desenha as peças no tabuleiro\n",
        "    for i in range(len(tab)) :\n",
        "        if (tab[i]) :\n",
        "            draw_piece(draw, i, tab[i])\n",
        "   \n",
        "    ## Define as jogadas válidas para o atual ou próximo jogador no tabuleiro\n",
        "    #if playgame == True :  \n",
        "    #if turn == 1:\n",
        "    #  turno = -1\n",
        "    #else :\n",
        "    #  turno = 1\n",
        "   \n",
        "    validMove = valids\n",
        "\n",
        "    for i in range(len(validMove)) :\n",
        "        draw_piece_valid_moves(draw, validMove[i])   \n",
        "\n",
        "    return board\n",
        "\n"
      ],
      "execution_count": null,
      "outputs": []
    },
    {
      "cell_type": "code",
      "metadata": {
        "id": "9nd2FwoNMRNw",
        "colab": {
          "base_uri": "https://localhost:8080/",
          "height": 181
        },
        "outputId": "051d61e5-5d66-4f6f-e3f9-c2bdfa819b7b"
      },
      "source": [
        "board = draw_board(tabuleiro, 1)\n",
        "display(board)"
      ],
      "execution_count": null,
      "outputs": [
        {
          "output_type": "error",
          "ename": "NameError",
          "evalue": "ignored",
          "traceback": [
            "\u001b[0;31m---------------------------------------------------------------------------\u001b[0m",
            "\u001b[0;31mNameError\u001b[0m                                 Traceback (most recent call last)",
            "\u001b[0;32m<ipython-input-7-c450d88f0c5d>\u001b[0m in \u001b[0;36m<module>\u001b[0;34m()\u001b[0m\n\u001b[0;32m----> 1\u001b[0;31m \u001b[0mboard\u001b[0m \u001b[0;34m=\u001b[0m \u001b[0mdraw_board\u001b[0m\u001b[0;34m(\u001b[0m\u001b[0mtabuleiro\u001b[0m\u001b[0;34m,\u001b[0m \u001b[0;36m1\u001b[0m\u001b[0;34m)\u001b[0m\u001b[0;34m\u001b[0m\u001b[0;34m\u001b[0m\u001b[0m\n\u001b[0m\u001b[1;32m      2\u001b[0m \u001b[0mdisplay\u001b[0m\u001b[0;34m(\u001b[0m\u001b[0mboard\u001b[0m\u001b[0;34m)\u001b[0m\u001b[0;34m\u001b[0m\u001b[0;34m\u001b[0m\u001b[0m\n",
            "\u001b[0;31mNameError\u001b[0m: name 'tabuleiro' is not defined"
          ]
        }
      ]
    },
    {
      "cell_type": "markdown",
      "metadata": {
        "id": "wlT6sqfyxuBK"
      },
      "source": [
        "# **Criando jogadores \"bobinho\" e humano**"
      ]
    },
    {
      "cell_type": "markdown",
      "metadata": {
        "id": "Ioo465nq1Spj"
      },
      "source": [
        "### **Jogador bobinho que faz jogadas ao acaso**"
      ]
    },
    {
      "cell_type": "code",
      "metadata": {
        "id": "inAGb1S5WCz1"
      },
      "source": [
        "import random\n",
        "def player(tab, turn) :\n",
        "    valid_moves = get_valid_moves(tab, turn)\n",
        "    if valid_moves :\n",
        "        return (turn, random.choice(valid_moves) )"
      ],
      "execution_count": null,
      "outputs": []
    },
    {
      "cell_type": "code",
      "metadata": {
        "id": "4o4Q3roCY0d2"
      },
      "source": [
        "jogada = player(tabuleiro, 1)\n",
        "print(jogada)"
      ],
      "execution_count": null,
      "outputs": []
    },
    {
      "cell_type": "markdown",
      "metadata": {
        "id": "2sA1eYmEyBmu"
      },
      "source": [
        "### **Jogador humano**"
      ]
    },
    {
      "cell_type": "code",
      "metadata": {
        "id": "ni3UvZ-dyHh5"
      },
      "source": [
        "def human_player(tab, turn) :        \n",
        "    valids  = get_valid_moves(tab, turn)\n",
        "    print(\"Jogadas válidas: %s\\n\" % (valids))\n",
        "\n",
        "    ##board = draw_board( tab, turn, valids)\n",
        "    ##display(board)\n",
        "    \n",
        "    print(\"\\n\")\n",
        "    move = int(input())\n",
        "\n",
        "    while not move in valids : \n",
        "        print(\"Jogadas válidos: %s\" % (valids))\n",
        "        move = int(input())\n",
        "    return turn, move"
      ],
      "execution_count": null,
      "outputs": []
    },
    {
      "cell_type": "code",
      "metadata": {
        "id": "maOUveN-6Z82"
      },
      "source": [
        "human_player(tabuleiro, 1)"
      ],
      "execution_count": null,
      "outputs": []
    },
    {
      "cell_type": "markdown",
      "metadata": {
        "id": "uQlJdwuIYhX3"
      },
      "source": [
        "### **Definindo ganhador**"
      ]
    },
    {
      "cell_type": "code",
      "metadata": {
        "id": "jq9kiWN_Yp_q"
      },
      "source": [
        "## Código que devolve o jogador vencedor, \n",
        "## ou zero em caso de não ter um vencedor\n",
        "## definido\n",
        "def winner(tab) :\n",
        "    somas0 = tab.count(0)\n",
        "    somas1 = tab.count(1)\n",
        "    somas2 = tab.count(-1)\n",
        "    if (somas2 > somas1) and (somas0 == 0) : #Pecas BRANCAS ganham quando forem maioria, e quando não houverem espacos vazios\n",
        "        #print(somas0, somas1,somas2)\n",
        "        return -1\n",
        "    elif (somas2 < somas1) and (somas0 == 0): #Pecas PRETAS ganham quando forem maioria, e quando não houverem espacos vazios\n",
        "        #print(somas0, somas1,somas2)\n",
        "        return 1\n",
        "    else:\n",
        "        #print(somas0, somas1,somas2)\n",
        "        return 0"
      ],
      "execution_count": null,
      "outputs": []
    },
    {
      "cell_type": "markdown",
      "metadata": {
        "id": "roS_X8aUa-Cy"
      },
      "source": [
        "### **Pintando Bolinhas (NÃO EXECUTAR ESSA FUNÇÃO, SERÁ FEITA DEPOIS!)**"
      ]
    },
    {
      "cell_type": "code",
      "metadata": {
        "id": "vA86hAgbo4M3"
      },
      "source": [
        "def paint_ball(tab, pos, turn) :\n",
        "  cont = 2\n",
        "  \n",
        "  if tab[pos-2] == turn :\n",
        "\n",
        "\n"
      ],
      "execution_count": null,
      "outputs": []
    },
    {
      "cell_type": "markdown",
      "metadata": {
        "id": "LVvMACkjyxPv"
      },
      "source": [
        "# **Função que gerencia o jogo**"
      ]
    },
    {
      "cell_type": "code",
      "metadata": {
        "id": "QX8zdr3_y3pP"
      },
      "source": [
        "## Abaixo uma função que gerencia um jogo. \n",
        "def game(player1, player2) :\n",
        "    ## Inicialização\n",
        "    playgame = False\n",
        "    turn   = 1\n",
        "    result = 0\n",
        "    contador = 1\n",
        "    tabuleiro = initialize_board()\n",
        "    # tabuleiro = (   0,   -1,   0,   0,   0,   0,   0,   0,\n",
        "\n",
        "    #                 0,   -1,   -1,   0,   0,   -1,   -1,   0,\n",
        "\n",
        "    #                 0,   0,   -1,   1,   1,   -1,   -1,   0,\n",
        "\n",
        "    #                 0,   0,   0,   -1,   -1,   0,   0,   -1,\n",
        "\n",
        "    #                 0,   0,   1,   -1,   -1,   0,   0,   0,\n",
        "\n",
        "    #                 0,   0,   -1,   0,  1,   -1,   0,   0,\n",
        "\n",
        "    #                 0,   -1,   0,   0,   0,   1,   -1,   0,\n",
        "\n",
        "    #                 1,   0,   0,   0,   0,   0,   0,   1\n",
        "    #             )\n",
        "    ## Lista que guardará o histórico\n",
        "    history = [] \n",
        "\n",
        "    ## Enquanto houverem jogadas, pedimos para o jogador vez prosseguir\n",
        "    while get_valid_moves(tabuleiro, turn) :\n",
        "        \n",
        "  ##Printa conteúdo do tabuleiro na proporção de 8x8\n",
        "        for i in range(64):\n",
        "         print(\"   {}\".format(tabuleiro[i]), end=\"\")\n",
        "         if ((i + 1) % 8 == 0):\n",
        "           print(\"\\n\")\n",
        "        print(\"\\n\")    \n",
        "\n",
        "        ## Pedindo uma jogada ao jogador da vez.\n",
        "        piece, pos = None, None\n",
        "        if turn == 1 :\n",
        "            piece, pos = player1(tabuleiro, turn)\n",
        "            #print(\"\\n\")\n",
        "                \n",
        "        else : \n",
        "            piece, pos = player2(tabuleiro, turn)\n",
        "            #print(\"Posição: %s\\n\" %(pos))\n",
        "            #print(\"\\n\")\n",
        "        \n",
        "\n",
        "        ## Colocando a peça no tabuleiro\n",
        "        ltab = list(tabuleiro)\n",
        "\n",
        "        ##Flippando as peças\n",
        "        for i in range(len(ltab)):\n",
        "          if i == pos:\n",
        "            \n",
        "            contador = 1\n",
        "            ##linha sentido direita\n",
        "            if i <= 61 and (i+1)%8!=7:\n",
        "              if ltab[i+1] == -(piece):\n",
        "                for y in range(1,8):\n",
        "                  if (y+i)%8 == 7:\n",
        "                    break\n",
        "                  elif ltab[y+i] == -(piece):\n",
        "                    contador = contador + 1\n",
        "                  elif ltab[i+y] == piece:\n",
        "                    for z in range(1,contador):\n",
        "                      ltab[i+z] = piece\n",
        "                    break\n",
        "                  elif ltab[i+y] == 0:\n",
        "                    break\n",
        "                  \n",
        "            contador = 1\n",
        "            ##linha sentido esquerda\n",
        "            if i >= 2 and (i-1)%8!=7:\n",
        "              if ltab[i-1] == -(piece):\n",
        "                for y in range(1,8):\n",
        "                  if (i-y)%8 == 0:\n",
        "                    break\n",
        "                  elif ltab[i-y] == -(piece):\n",
        "                    contador = contador + 1\n",
        "                  elif ltab[i-y] == piece:\n",
        "                    for z in range(1,contador):\n",
        "                      ltab[i-z] = piece\n",
        "                    break \n",
        "                  elif ltab[i-y] == 0:\n",
        "                    break\n",
        "\n",
        "            contador = 1\n",
        "            ##coluna sentido baixo\n",
        "            if i <= 47:\n",
        "              if ltab[i+8] == -(piece):\n",
        "                for y in range(8,49,8):\n",
        "                  if (i+y) > 63:\n",
        "                    break\n",
        "                  elif ltab[y+i] == -(piece):\n",
        "                    contador = contador + 8\n",
        "                  elif ltab[i+y] == piece:\n",
        "                    for z in range(8,contador,8):   \n",
        "                      ltab[i+z] = piece\n",
        "                    break\n",
        "                  elif ltab[i+y] == 0:\n",
        "                    break\n",
        "\n",
        "            contador = 1\n",
        "            ##coluna sentido cima\n",
        "            if i > 15:\n",
        "              if ltab[i-8] == -(piece):\n",
        "                for y in range(8,49,8):\n",
        "                  if (i-y) < 0:\n",
        "                    break\n",
        "                  elif ltab[i-y] == -(piece):\n",
        "                   contador = contador + 8\n",
        "                  elif ltab[i-y] == piece:\n",
        "                    for z in range(8,contador,8):\n",
        "                      ltab[i-z] = piece\n",
        "                    break\n",
        "                  elif ltab[i-y] == 0:\n",
        "                    break   \n",
        "\n",
        "            contador = 1\n",
        "            ##diagonal inferior direita\n",
        "            if i <= 45:\n",
        "              if ltab[i+9] == -(piece):\n",
        "                for y in range(9,64,9):\n",
        "                  if (i+y) > 63:\n",
        "                     break\n",
        "                  elif ltab[i+y] == -(piece):\n",
        "                    contador = contador + 9\n",
        "                  elif ltab[i+y] == piece:\n",
        "                    for z in range(9,contador,9):\n",
        "                      ltab[i+z] = piece\n",
        "                    break\n",
        "                  elif ltab[i+y] == 0:\n",
        "                    break\n",
        "\n",
        "            contador = 1\n",
        "            ##diagonal inferior esquerda\n",
        "            if i <= 47:\n",
        "              if ltab[i+7] == -(piece):\n",
        "                for y in range(7,50,7):\n",
        "                  if (i+y) > 63:\n",
        "                    break\n",
        "                  elif ltab[i+y] == -(piece):\n",
        "                    contador = contador + 7\n",
        "                  elif ltab[i+y] == piece:\n",
        "                    for z in range(7,contador,7):\n",
        "                      ltab[i+z] = piece\n",
        "                    break\n",
        "                  elif ltab[i+y] == 0:\n",
        "                    break\n",
        "\n",
        "            contador = 1\n",
        "            ##diagonal superior direita\n",
        "            if i >= 16:\n",
        "              if ltab[i-7] == -(piece):\n",
        "                for y in range(7,50,7):\n",
        "                  if (i-y) < 0:\n",
        "                    break\n",
        "                  elif ltab[i-y] == -(piece):\n",
        "                    contador = contador + 7\n",
        "                  elif ltab[i-y] == piece:\n",
        "                    for z in range(7,contador,7):\n",
        "                      ltab[i-z] = piece\n",
        "                    break\n",
        "                  elif ltab[i-y] == 0:\n",
        "                    break\n",
        "\n",
        "            contador = 1\n",
        "            ##diagonal superior esquerda\n",
        "            if i >= 18:\n",
        "              if ltab[i-9] == -(piece):\n",
        "                for y in range(9,64,9):\n",
        "                  if (i-y) < 0:\n",
        "                    break\n",
        "                  elif ltab[i-y] == -(piece):\n",
        "                    contador = contador + 9\n",
        "                  elif ltab[i-y] == piece:\n",
        "                    for z in range(9,contador,9):\n",
        "                      ltab[i-z] = piece\n",
        "                    break\n",
        "                  elif ltab[i-y] == 0:\n",
        "                    break\n",
        "\n",
        "        ltab[pos] = piece\n",
        "        ##ltab = paint_ball(ltab) ----------------------------->>>>>>>>> função que irá mudar as cores das peças\n",
        "        tabuleiro  = tuple(ltab)\n",
        "\n",
        "        # Após o primeiro lance indica que o jogo começou\n",
        "        playgame = True;\n",
        "\n",
        "        ## Adicionando tabuleiro no histórico\n",
        "        history.append(tabuleiro)\n",
        "\n",
        "        ## Verificando se alguém ganhou\n",
        " #       if result :\n",
        "#            break\n",
        "\n",
        "        ## Trocando a vez de jogar\n",
        "        turn = -turn\n",
        "\n",
        "    result = winner(tabuleiro)\n",
        "\n",
        "    \n",
        "    return result, history\n"
      ],
      "execution_count": null,
      "outputs": []
    },
    {
      "cell_type": "code",
      "metadata": {
        "id": "aoZA7MmxkbSG",
        "colab": {
          "base_uri": "https://localhost:8080/",
          "height": 1000
        },
        "outputId": "9a33fcb9-2779-4c97-8ded-478f3f6f1dd8"
      },
      "source": [
        "result, history = game(human_player, player)\n",
        "print(result)\n",
        "print(history)"
      ],
      "execution_count": null,
      "outputs": [
        {
          "output_type": "stream",
          "text": [
            "   0   -1   0   0   0   0   0   0\n",
            "\n",
            "   0   -1   -1   0   0   -1   -1   0\n",
            "\n",
            "   0   0   -1   1   1   -1   -1   0\n",
            "\n",
            "   0   0   0   -1   -1   0   0   -1\n",
            "\n",
            "   0   0   1   -1   -1   0   0   0\n",
            "\n",
            "   0   0   -1   0   1   -1   0   0\n",
            "\n",
            "   0   -1   0   0   0   1   -1   0\n",
            "\n",
            "   1   0   0   0   0   0   0   1\n",
            "\n",
            "\n",
            "\n",
            "Jogadas válidas: [0, 6, 17, 23, 26, 37, 43, 46, 50, 55]\n",
            "\n",
            "\n",
            "\n",
            "6\n",
            "   0   -1   0   0   0   0   1   0\n",
            "\n",
            "   0   -1   -1   0   0   1   -1   0\n",
            "\n",
            "   0   0   -1   1   1   -1   -1   0\n",
            "\n",
            "   0   0   0   -1   -1   0   0   -1\n",
            "\n",
            "   0   0   1   -1   -1   0   0   0\n",
            "\n",
            "   0   0   -1   0   1   -1   0   0\n",
            "\n",
            "   0   -1   0   0   0   1   -1   0\n",
            "\n",
            "   1   0   0   0   0   0   0   1\n",
            "\n",
            "\n",
            "\n",
            "   0   -1   0   0   -1   0   1   0\n",
            "\n",
            "   0   -1   -1   0   0   -1   -1   0\n",
            "\n",
            "   0   0   -1   1   1   -1   -1   0\n",
            "\n",
            "   0   0   0   -1   -1   0   0   -1\n",
            "\n",
            "   0   0   1   -1   -1   0   0   0\n",
            "\n",
            "   0   0   -1   0   1   -1   0   0\n",
            "\n",
            "   0   -1   0   0   0   1   -1   0\n",
            "\n",
            "   1   0   0   0   0   0   0   1\n",
            "\n",
            "\n",
            "\n",
            "Jogadas válidas: [0, 17, 23, 26, 30, 37, 43, 46, 50, 55]\n",
            "\n",
            "\n",
            "\n"
          ],
          "name": "stdout"
        },
        {
          "output_type": "error",
          "ename": "KeyboardInterrupt",
          "evalue": "ignored",
          "traceback": [
            "\u001b[0;31m---------------------------------------------------------------------------\u001b[0m",
            "\u001b[0;31mKeyboardInterrupt\u001b[0m                         Traceback (most recent call last)",
            "\u001b[0;32m/usr/local/lib/python3.6/dist-packages/ipykernel/kernelbase.py\u001b[0m in \u001b[0;36m_input_request\u001b[0;34m(self, prompt, ident, parent, password)\u001b[0m\n\u001b[1;32m    728\u001b[0m             \u001b[0;32mtry\u001b[0m\u001b[0;34m:\u001b[0m\u001b[0;34m\u001b[0m\u001b[0;34m\u001b[0m\u001b[0m\n\u001b[0;32m--> 729\u001b[0;31m                 \u001b[0mident\u001b[0m\u001b[0;34m,\u001b[0m \u001b[0mreply\u001b[0m \u001b[0;34m=\u001b[0m \u001b[0mself\u001b[0m\u001b[0;34m.\u001b[0m\u001b[0msession\u001b[0m\u001b[0;34m.\u001b[0m\u001b[0mrecv\u001b[0m\u001b[0;34m(\u001b[0m\u001b[0mself\u001b[0m\u001b[0;34m.\u001b[0m\u001b[0mstdin_socket\u001b[0m\u001b[0;34m,\u001b[0m \u001b[0;36m0\u001b[0m\u001b[0;34m)\u001b[0m\u001b[0;34m\u001b[0m\u001b[0;34m\u001b[0m\u001b[0m\n\u001b[0m\u001b[1;32m    730\u001b[0m             \u001b[0;32mexcept\u001b[0m \u001b[0mException\u001b[0m\u001b[0;34m:\u001b[0m\u001b[0;34m\u001b[0m\u001b[0;34m\u001b[0m\u001b[0m\n",
            "\u001b[0;32m/usr/local/lib/python3.6/dist-packages/jupyter_client/session.py\u001b[0m in \u001b[0;36mrecv\u001b[0;34m(self, socket, mode, content, copy)\u001b[0m\n\u001b[1;32m    802\u001b[0m         \u001b[0;32mtry\u001b[0m\u001b[0;34m:\u001b[0m\u001b[0;34m\u001b[0m\u001b[0;34m\u001b[0m\u001b[0m\n\u001b[0;32m--> 803\u001b[0;31m             \u001b[0mmsg_list\u001b[0m \u001b[0;34m=\u001b[0m \u001b[0msocket\u001b[0m\u001b[0;34m.\u001b[0m\u001b[0mrecv_multipart\u001b[0m\u001b[0;34m(\u001b[0m\u001b[0mmode\u001b[0m\u001b[0;34m,\u001b[0m \u001b[0mcopy\u001b[0m\u001b[0;34m=\u001b[0m\u001b[0mcopy\u001b[0m\u001b[0;34m)\u001b[0m\u001b[0;34m\u001b[0m\u001b[0;34m\u001b[0m\u001b[0m\n\u001b[0m\u001b[1;32m    804\u001b[0m         \u001b[0;32mexcept\u001b[0m \u001b[0mzmq\u001b[0m\u001b[0;34m.\u001b[0m\u001b[0mZMQError\u001b[0m \u001b[0;32mas\u001b[0m \u001b[0me\u001b[0m\u001b[0;34m:\u001b[0m\u001b[0;34m\u001b[0m\u001b[0;34m\u001b[0m\u001b[0m\n",
            "\u001b[0;32m/usr/local/lib/python3.6/dist-packages/zmq/sugar/socket.py\u001b[0m in \u001b[0;36mrecv_multipart\u001b[0;34m(self, flags, copy, track)\u001b[0m\n\u001b[1;32m    565\u001b[0m         \"\"\"\n\u001b[0;32m--> 566\u001b[0;31m         \u001b[0mparts\u001b[0m \u001b[0;34m=\u001b[0m \u001b[0;34m[\u001b[0m\u001b[0mself\u001b[0m\u001b[0;34m.\u001b[0m\u001b[0mrecv\u001b[0m\u001b[0;34m(\u001b[0m\u001b[0mflags\u001b[0m\u001b[0;34m,\u001b[0m \u001b[0mcopy\u001b[0m\u001b[0;34m=\u001b[0m\u001b[0mcopy\u001b[0m\u001b[0;34m,\u001b[0m \u001b[0mtrack\u001b[0m\u001b[0;34m=\u001b[0m\u001b[0mtrack\u001b[0m\u001b[0;34m)\u001b[0m\u001b[0;34m]\u001b[0m\u001b[0;34m\u001b[0m\u001b[0;34m\u001b[0m\u001b[0m\n\u001b[0m\u001b[1;32m    567\u001b[0m         \u001b[0;31m# have first part already, only loop while more to receive\u001b[0m\u001b[0;34m\u001b[0m\u001b[0;34m\u001b[0m\u001b[0;34m\u001b[0m\u001b[0m\n",
            "\u001b[0;32mzmq/backend/cython/socket.pyx\u001b[0m in \u001b[0;36mzmq.backend.cython.socket.Socket.recv\u001b[0;34m()\u001b[0m\n",
            "\u001b[0;32mzmq/backend/cython/socket.pyx\u001b[0m in \u001b[0;36mzmq.backend.cython.socket.Socket.recv\u001b[0;34m()\u001b[0m\n",
            "\u001b[0;32mzmq/backend/cython/socket.pyx\u001b[0m in \u001b[0;36mzmq.backend.cython.socket._recv_copy\u001b[0;34m()\u001b[0m\n",
            "\u001b[0;32m/usr/local/lib/python3.6/dist-packages/zmq/backend/cython/checkrc.pxd\u001b[0m in \u001b[0;36mzmq.backend.cython.checkrc._check_rc\u001b[0;34m()\u001b[0m\n",
            "\u001b[0;31mKeyboardInterrupt\u001b[0m: ",
            "\nDuring handling of the above exception, another exception occurred:\n",
            "\u001b[0;31mKeyboardInterrupt\u001b[0m                         Traceback (most recent call last)",
            "\u001b[0;32m<ipython-input-26-9dc6854e76c5>\u001b[0m in \u001b[0;36m<module>\u001b[0;34m()\u001b[0m\n\u001b[0;32m----> 1\u001b[0;31m \u001b[0mresult\u001b[0m\u001b[0;34m,\u001b[0m \u001b[0mhistory\u001b[0m \u001b[0;34m=\u001b[0m \u001b[0mgame\u001b[0m\u001b[0;34m(\u001b[0m\u001b[0mhuman_player\u001b[0m\u001b[0;34m,\u001b[0m \u001b[0mplayer\u001b[0m\u001b[0;34m)\u001b[0m\u001b[0;34m\u001b[0m\u001b[0;34m\u001b[0m\u001b[0m\n\u001b[0m\u001b[1;32m      2\u001b[0m \u001b[0mprint\u001b[0m\u001b[0;34m(\u001b[0m\u001b[0mresult\u001b[0m\u001b[0;34m)\u001b[0m\u001b[0;34m\u001b[0m\u001b[0;34m\u001b[0m\u001b[0m\n\u001b[1;32m      3\u001b[0m \u001b[0mprint\u001b[0m\u001b[0;34m(\u001b[0m\u001b[0mhistory\u001b[0m\u001b[0;34m)\u001b[0m\u001b[0;34m\u001b[0m\u001b[0;34m\u001b[0m\u001b[0m\n",
            "\u001b[0;32m<ipython-input-25-fdf618acd1d5>\u001b[0m in \u001b[0;36mgame\u001b[0;34m(player1, player2)\u001b[0m\n\u001b[1;32m     39\u001b[0m         \u001b[0mpiece\u001b[0m\u001b[0;34m,\u001b[0m \u001b[0mpos\u001b[0m \u001b[0;34m=\u001b[0m \u001b[0;32mNone\u001b[0m\u001b[0;34m,\u001b[0m \u001b[0;32mNone\u001b[0m\u001b[0;34m\u001b[0m\u001b[0;34m\u001b[0m\u001b[0m\n\u001b[1;32m     40\u001b[0m         \u001b[0;32mif\u001b[0m \u001b[0mturn\u001b[0m \u001b[0;34m==\u001b[0m \u001b[0;36m1\u001b[0m \u001b[0;34m:\u001b[0m\u001b[0;34m\u001b[0m\u001b[0;34m\u001b[0m\u001b[0m\n\u001b[0;32m---> 41\u001b[0;31m             \u001b[0mpiece\u001b[0m\u001b[0;34m,\u001b[0m \u001b[0mpos\u001b[0m \u001b[0;34m=\u001b[0m \u001b[0mplayer1\u001b[0m\u001b[0;34m(\u001b[0m\u001b[0mtabuleiro\u001b[0m\u001b[0;34m,\u001b[0m \u001b[0mturn\u001b[0m\u001b[0;34m)\u001b[0m\u001b[0;34m\u001b[0m\u001b[0;34m\u001b[0m\u001b[0m\n\u001b[0m\u001b[1;32m     42\u001b[0m             \u001b[0;31m#print(\"\\n\")\u001b[0m\u001b[0;34m\u001b[0m\u001b[0;34m\u001b[0m\u001b[0;34m\u001b[0m\u001b[0m\n\u001b[1;32m     43\u001b[0m \u001b[0;34m\u001b[0m\u001b[0m\n",
            "\u001b[0;32m<ipython-input-7-a697212d997d>\u001b[0m in \u001b[0;36mhuman_player\u001b[0;34m(tab, turn)\u001b[0m\n\u001b[1;32m      7\u001b[0m \u001b[0;34m\u001b[0m\u001b[0m\n\u001b[1;32m      8\u001b[0m     \u001b[0mprint\u001b[0m\u001b[0;34m(\u001b[0m\u001b[0;34m\"\\n\"\u001b[0m\u001b[0;34m)\u001b[0m\u001b[0;34m\u001b[0m\u001b[0;34m\u001b[0m\u001b[0m\n\u001b[0;32m----> 9\u001b[0;31m     \u001b[0mmove\u001b[0m \u001b[0;34m=\u001b[0m \u001b[0mint\u001b[0m\u001b[0;34m(\u001b[0m\u001b[0minput\u001b[0m\u001b[0;34m(\u001b[0m\u001b[0;34m)\u001b[0m\u001b[0;34m)\u001b[0m\u001b[0;34m\u001b[0m\u001b[0;34m\u001b[0m\u001b[0m\n\u001b[0m\u001b[1;32m     10\u001b[0m \u001b[0;34m\u001b[0m\u001b[0m\n\u001b[1;32m     11\u001b[0m     \u001b[0;32mwhile\u001b[0m \u001b[0;32mnot\u001b[0m \u001b[0mmove\u001b[0m \u001b[0;32min\u001b[0m \u001b[0mvalids\u001b[0m \u001b[0;34m:\u001b[0m\u001b[0;34m\u001b[0m\u001b[0;34m\u001b[0m\u001b[0m\n",
            "\u001b[0;32m/usr/local/lib/python3.6/dist-packages/ipykernel/kernelbase.py\u001b[0m in \u001b[0;36mraw_input\u001b[0;34m(self, prompt)\u001b[0m\n\u001b[1;32m    702\u001b[0m             \u001b[0mself\u001b[0m\u001b[0;34m.\u001b[0m\u001b[0m_parent_ident\u001b[0m\u001b[0;34m,\u001b[0m\u001b[0;34m\u001b[0m\u001b[0;34m\u001b[0m\u001b[0m\n\u001b[1;32m    703\u001b[0m             \u001b[0mself\u001b[0m\u001b[0;34m.\u001b[0m\u001b[0m_parent_header\u001b[0m\u001b[0;34m,\u001b[0m\u001b[0;34m\u001b[0m\u001b[0;34m\u001b[0m\u001b[0m\n\u001b[0;32m--> 704\u001b[0;31m             \u001b[0mpassword\u001b[0m\u001b[0;34m=\u001b[0m\u001b[0;32mFalse\u001b[0m\u001b[0;34m,\u001b[0m\u001b[0;34m\u001b[0m\u001b[0;34m\u001b[0m\u001b[0m\n\u001b[0m\u001b[1;32m    705\u001b[0m         )\n\u001b[1;32m    706\u001b[0m \u001b[0;34m\u001b[0m\u001b[0m\n",
            "\u001b[0;32m/usr/local/lib/python3.6/dist-packages/ipykernel/kernelbase.py\u001b[0m in \u001b[0;36m_input_request\u001b[0;34m(self, prompt, ident, parent, password)\u001b[0m\n\u001b[1;32m    732\u001b[0m             \u001b[0;32mexcept\u001b[0m \u001b[0mKeyboardInterrupt\u001b[0m\u001b[0;34m:\u001b[0m\u001b[0;34m\u001b[0m\u001b[0;34m\u001b[0m\u001b[0m\n\u001b[1;32m    733\u001b[0m                 \u001b[0;31m# re-raise KeyboardInterrupt, to truncate traceback\u001b[0m\u001b[0;34m\u001b[0m\u001b[0;34m\u001b[0m\u001b[0;34m\u001b[0m\u001b[0m\n\u001b[0;32m--> 734\u001b[0;31m                 \u001b[0;32mraise\u001b[0m \u001b[0mKeyboardInterrupt\u001b[0m\u001b[0;34m\u001b[0m\u001b[0;34m\u001b[0m\u001b[0m\n\u001b[0m\u001b[1;32m    735\u001b[0m             \u001b[0;32melse\u001b[0m\u001b[0;34m:\u001b[0m\u001b[0;34m\u001b[0m\u001b[0;34m\u001b[0m\u001b[0m\n\u001b[1;32m    736\u001b[0m                 \u001b[0;32mbreak\u001b[0m\u001b[0;34m\u001b[0m\u001b[0;34m\u001b[0m\u001b[0m\n",
            "\u001b[0;31mKeyboardInterrupt\u001b[0m: "
          ]
        }
      ]
    },
    {
      "cell_type": "markdown",
      "metadata": {
        "id": "hAMVSqAxHlHV"
      },
      "source": [
        "# **Função Campeonato**"
      ]
    },
    {
      "cell_type": "code",
      "metadata": {
        "id": "bR0Iz6olHsSB"
      },
      "source": [
        "def campeonato(player1, player2, num_games = 1000) :\n",
        "    results = [0,0,0]\n",
        "    for i in range(num_games) :\n",
        "        result, _ = game(player1, player2)\n",
        "        results[result] += 1\n",
        "    return tuple(results)"
      ],
      "execution_count": null,
      "outputs": []
    },
    {
      "cell_type": "code",
      "metadata": {
        "id": "RTSvWyQ7IBkW",
        "colab": {
          "base_uri": "https://localhost:8080/"
        },
        "outputId": "6df3161c-b95a-4c29-8df1-ff8929873f58"
      },
      "source": [
        "draw, p1, p2 = campeonato(player, player)\n",
        "print(\"Draw = %i, P1 = %i, P2 = %i\" % (draw, p1, p2))"
      ],
      "execution_count": null,
      "outputs": [
        {
          "output_type": "stream",
          "text": [
            "Draw = 301, P1 = 247, P2 = 452\n"
          ],
          "name": "stdout"
        }
      ]
    },
    {
      "cell_type": "markdown",
      "metadata": {
        "id": "dAc0rqjCI7SY"
      },
      "source": [
        "# **Função campeonato_with_knowledge**"
      ]
    },
    {
      "cell_type": "code",
      "metadata": {
        "id": "FeEFkw-kJA99"
      },
      "source": [
        "def campeonato_with_knowledge(player1, player2, num_games = 10, knowledge = {}) :\n",
        "    results = [0,0,0]\n",
        "\n",
        "    for i in range(num_games) :\n",
        "        result, history = game(player1, player2)\n",
        "        results[result] += 1\n",
        "\n",
        "        ## Adicionando as jogadas no histórico\n",
        "        for tab in history :\n",
        "            if not tab in knowledge :\n",
        "                knowledge[tab] = [0, 0, 0]\n",
        "            knowledge[tab][result] += 1\n",
        "\n",
        "    return tuple(results), knowledge"
      ],
      "execution_count": null,
      "outputs": []
    },
    {
      "cell_type": "code",
      "metadata": {
        "id": "eW3Rs4XzJebT",
        "colab": {
          "base_uri": "https://localhost:8080/"
        },
        "outputId": "584752ae-72c8-41a3-d955-0266b4603574"
      },
      "source": [
        "results, knowledge = campeonato_with_knowledge(player, player, num_games = 10)\n",
        "print(results)\n",
        "print(knowledge)"
      ],
      "execution_count": null,
      "outputs": [
        {
          "output_type": "stream",
          "text": [
            "(3, 2, 5)\n",
            "{(0, 0, 0, 0, 0, 0, 0, 0, 0, 0, 0, 0, 0, 0, 0, 0, 0, 0, 0, 0, 0, 0, 0, 0, 0, 0, 0, -1, 1, 0, 0, 0, 0, 0, 0, 1, 1, 0, 0, 0, 0, 0, 0, 0, 1, 0, 0, 0, 0, 0, 0, 0, 0, 0, 0, 0, 0, 0, 0, 0, 0, 0, 0, 0): [1, 0, 2], (0, 0, 0, 0, 0, 0, 0, 0, 0, 0, 0, 0, 0, 0, 0, 0, 0, 0, 0, 0, 0, 0, 0, 0, 0, 0, 0, -1, 1, 0, 0, 0, 0, 0, 0, 1, -1, 0, 0, 0, 0, 0, 0, 0, 1, -1, 0, 0, 0, 0, 0, 0, 0, 0, 0, 0, 0, 0, 0, 0, 0, 0, 0, 0): [1, 0, 1], (0, 0, 0, 0, 0, 0, 0, 0, 0, 0, 0, 0, 0, 0, 0, 0, 0, 0, 0, 0, 0, 0, 0, 0, 0, 0, 0, -1, 1, 0, 0, 0, 0, 0, 0, 1, 1, 1, 0, 0, 0, 0, 0, 0, 1, -1, 0, 0, 0, 0, 0, 0, 0, 0, 0, 0, 0, 0, 0, 0, 0, 0, 0, 0): [1, 0, 1], (0, 0, 0, 0, 0, 0, 0, 0, 0, 0, 0, 0, 0, 0, 0, 0, 0, 0, 0, 0, 0, 0, 0, 0, 0, 0, 0, -1, -1, -1, 0, 0, 0, 0, 0, 1, 1, -1, 0, 0, 0, 0, 0, 0, 1, -1, 0, 0, 0, 0, 0, 0, 0, 0, 0, 0, 0, 0, 0, 0, 0, 0, 0, 0): [1, 0, 0], (0, 0, 0, 0, 0, 0, 0, 0, 0, 0, 0, 0, 0, 0, 0, 0, 0, 0, 0, 0, 0, 0, 0, 0, 0, 0, 0, -1, -1, -1, 1, 0, 0, 0, 0, 1, 1, 1, 0, 0, 0, 0, 0, 0, 1, -1, 0, 0, 0, 0, 0, 0, 0, 0, 0, 0, 0, 0, 0, 0, 0, 0, 0, 0): [1, 0, 0], (0, 0, 0, 0, 0, 0, 0, 0, 0, 0, 0, 0, 0, 0, 0, 0, 0, 0, 0, 0, 0, 0, 0, 0, 0, 0, 0, -1, -1, -1, 1, 0, 0, 0, 0, 1, 1, -1, 0, 0, 0, 0, 0, 0, 1, -1, -1, 0, 0, 0, 0, 0, 0, 0, 0, 0, 0, 0, 0, 0, 0, 0, 0, 0): [1, 0, 0], (0, 0, 0, 0, 0, 0, 0, 0, 0, 0, 0, 0, 0, 0, 0, 0, 0, 0, 1, 0, 0, 0, 0, 0, 0, 0, 0, 1, -1, -1, 1, 0, 0, 0, 0, 1, 1, -1, 0, 0, 0, 0, 0, 0, 1, -1, -1, 0, 0, 0, 0, 0, 0, 0, 0, 0, 0, 0, 0, 0, 0, 0, 0, 0): [1, 0, 0], (0, 0, 0, 0, 0, 0, 0, 0, 0, 0, 0, 0, 0, 0, 0, 0, 0, 0, 1, 0, 0, 0, 0, 0, 0, 0, 0, 1, -1, -1, -1, -1, 0, 0, 0, 1, 1, -1, 0, 0, 0, 0, 0, 0, 1, -1, -1, 0, 0, 0, 0, 0, 0, 0, 0, 0, 0, 0, 0, 0, 0, 0, 0, 0): [1, 0, 0], (0, 0, 0, 0, 0, 0, 0, 0, 0, 0, 0, 0, 0, 0, 0, 0, 0, 0, 1, 0, 0, 1, 0, 0, 0, 0, 0, 1, 1, -1, -1, -1, 0, 0, 0, 1, 1, -1, 0, 0, 0, 0, 0, 0, 1, -1, -1, 0, 0, 0, 0, 0, 0, 0, 0, 0, 0, 0, 0, 0, 0, 0, 0, 0): [1, 0, 0], (0, 0, 0, 0, 0, 0, 0, 0, 0, 0, 0, 0, 0, 0, 0, 0, 0, 0, 1, 0, 0, 1, 0, 0, 0, 0, 0, 1, 1, -1, -1, -1, 0, 0, 0, 1, 1, -1, 0, 0, 0, 0, 0, 0, -1, -1, -1, 0, 0, 0, 0, -1, 0, 0, 0, 0, 0, 0, 0, 0, 0, 0, 0, 0): [1, 0, 0], (0, 0, 0, 0, 0, 0, 0, 0, 0, 0, 0, 0, 0, 0, 0, 0, 0, 0, 1, 0, 0, 1, 0, 0, 0, 0, 0, 1, 1, -1, 1, -1, 0, 0, 0, 1, 1, -1, 0, 1, 0, 0, 0, 0, -1, -1, -1, 0, 0, 0, 0, -1, 0, 0, 0, 0, 0, 0, 0, 0, 0, 0, 0, 0): [1, 0, 0], (0, 0, 0, 0, 0, 0, 0, 0, 0, 0, 0, 0, 0, -1, 0, 0, 0, 0, 1, 0, 0, -1, 0, 0, 0, 0, 0, 1, 1, -1, 1, -1, 0, 0, 0, 1, 1, -1, 0, 1, 0, 0, 0, 0, -1, -1, -1, 0, 0, 0, 0, -1, 0, 0, 0, 0, 0, 0, 0, 0, 0, 0, 0, 0): [1, 0, 0], (0, 0, 0, 0, 0, 0, 0, 0, 0, 0, 0, 0, 0, -1, 0, 0, 0, 0, 1, 0, 0, -1, 0, 0, 0, 0, 0, 1, 1, -1, 1, -1, 0, 0, 0, 1, 1, 1, 0, 1, 0, 0, 0, 0, -1, -1, 1, 0, 0, 0, 0, -1, 0, 0, 0, 1, 0, 0, 0, 0, 0, 0, 0, 0): [1, 0, 0], (0, 0, 0, 0, 0, 0, 0, 0, 0, 0, 0, 0, 0, -1, 0, 0, 0, 0, 1, 0, 0, -1, 0, 0, 0, 0, -1, -1, -1, -1, 1, -1, 0, 0, 0, -1, 1, 1, 0, 1, 0, 0, 0, 0, -1, -1, 1, 0, 0, 0, 0, -1, 0, 0, 0, 1, 0, 0, 0, 0, 0, 0, 0, 0): [1, 0, 0], (0, 0, 0, 0, 0, 0, 0, 0, 0, 0, 0, 0, 0, -1, 0, 0, 0, 0, 1, 0, 0, -1, 0, 0, 0, 0, -1, -1, -1, -1, 1, -1, 0, 0, 0, -1, 1, 1, 0, 1, 0, 0, 0, 0, 1, -1, 1, 0, 0, 0, 0, -1, 1, 0, 0, 1, 0, 0, 0, 0, 0, 0, 0, 0): [1, 0, 0], (0, 0, 0, 0, 0, 0, 0, 0, 0, 0, 0, 0, 0, -1, 0, 0, 0, 0, 1, 0, 0, -1, 0, 0, 0, 0, -1, -1, -1, -1, 1, -1, 0, 0, 0, -1, -1, -1, -1, 1, 0, 0, 0, 0, 1, -1, 1, 0, 0, 0, 0, -1, 1, 0, 0, 1, 0, 0, 0, 0, 0, 0, 0, 0): [1, 0, 0], (0, 0, 0, 0, 0, 0, 0, 0, 0, 0, 0, 0, 0, -1, 0, 0, 0, 0, 1, 1, 0, -1, 0, 0, 0, 0, -1, -1, 1, -1, 1, -1, 0, 0, 0, -1, -1, 1, -1, 1, 0, 0, 0, 0, 1, -1, 1, 0, 0, 0, 0, -1, 1, 0, 0, 1, 0, 0, 0, 0, 0, 0, 0, 0): [1, 0, 0], (0, 0, 0, 0, 0, 0, 0, 0, 0, 0, 0, 0, 0, -1, 0, 0, 0, 0, 1, 1, 0, -1, 0, 0, 0, 0, -1, -1, 1, -1, 1, -1, 0, 0, 0, -1, -1, 1, -1, 1, 0, 0, 0, 0, 1, -1, -1, 0, 0, 0, 0, -1, 1, 0, -1, 1, 0, 0, 0, 0, 0, 0, 0, 0): [1, 0, 0], (0, 0, 0, 0, 0, 0, 0, 0, 0, 0, 0, 0, 0, -1, 0, 0, 0, 0, 1, 1, 0, -1, 0, 0, 0, 1, 1, 1, 1, -1, 1, -1, 0, 0, 0, -1, -1, 1, -1, 1, 0, 0, 0, 0, 1, -1, -1, 0, 0, 0, 0, -1, 1, 0, -1, 1, 0, 0, 0, 0, 0, 0, 0, 0): [1, 0, 0], (0, 0, 0, 0, 0, 0, 0, 0, 0, 0, 0, 0, 0, -1, 0, 0, 0, 0, 1, 1, 0, -1, -1, 0, 0, 1, 1, 1, 1, -1, -1, -1, 0, 0, 0, -1, -1, 1, -1, 1, 0, 0, 0, 0, 1, -1, -1, 0, 0, 0, 0, -1, 1, 0, -1, 1, 0, 0, 0, 0, 0, 0, 0, 0): [1, 0, 0], (0, 0, 0, 0, 0, 0, 0, 0, 0, 0, 0, 0, 0, -1, 0, 0, 0, 0, 1, 1, 0, -1, -1, 0, 0, 1, 1, 1, 1, -1, -1, -1, 0, 0, 0, -1, 1, 1, -1, 1, 0, 0, 0, 0, 1, 1, -1, 0, 0, 0, 0, -1, 1, 0, 1, 1, 0, 0, 0, 0, 0, 0, 0, 1): [1, 0, 0], (0, 0, 0, 0, 0, 0, 0, 0, 0, 0, 0, 0, 0, -1, 0, 0, 0, -1, 1, 1, 0, -1, -1, 0, 0, 1, -1, 1, 1, -1, -1, -1, 0, 0, 0, -1, 1, 1, -1, 1, 0, 0, 0, 0, 1, 1, -1, 0, 0, 0, 0, -1, 1, 0, 1, 1, 0, 0, 0, 0, 0, 0, 0, 1): [1, 0, 0], (0, 0, 0, 0, 0, 0, 0, 0, 0, 0, 0, 0, 0, -1, 0, 0, 0, -1, 1, 1, 0, -1, -1, 0, 0, 1, -1, 1, 1, -1, -1, -1, 0, 0, 0, 1, 1, 1, -1, 1, 0, 0, 0, 1, 1, 1, -1, 0, 0, 0, 0, -1, 1, 0, 1, 1, 0, 0, 0, 0, 0, 0, 0, 1): [1, 0, 0], (0, 0, 0, 0, 0, 0, 0, 0, 0, 0, 0, 0, 0, -1, 0, 0, 0, -1, 1, 1, 0, -1, -1, 0, 0, 1, -1, 1, 1, -1, -1, -1, 0, 0, 0, 1, 1, 1, -1, 1, 0, 0, 0, 1, 1, 1, -1, 0, 0, 0, 0, -1, 1, 0, -1, 1, 0, 0, 0, 0, 0, 0, -1, 1): [1, 0, 0], (0, 0, 0, 0, 0, 0, 0, 0, 0, 0, 0, 0, 0, -1, 0, 1, 0, -1, 1, 1, 0, -1, 1, 0, 0, 1, -1, 1, 1, 1, -1, -1, 0, 0, 0, 1, 1, 1, -1, 1, 0, 0, 0, 1, 1, 1, -1, 0, 0, 0, 0, -1, 1, 0, -1, 1, 0, 0, 0, 0, 0, 0, -1, 1): [1, 0, 0], (0, 0, 0, 0, 0, 0, 0, 0, 0, -1, 0, 0, 0, -1, 0, 1, 0, -1, -1, 1, 0, -1, 1, 0, 0, 1, -1, -1, 1, 1, -1, -1, 0, 0, 0, 1, -1, 1, -1, 1, 0, 0, 0, 1, 1, -1, -1, 0, 0, 0, 0, -1, 1, 0, -1, 1, 0, 0, 0, 0, 0, 0, -1, 1): [1, 0, 0], (0, 0, 0, 0, 0, 0, 0, 0, 0, -1, 0, 0, 0, -1, 0, 1, 0, -1, -1, 1, 0, -1, 1, 0, 0, 1, -1, -1, 1, 1, -1, -1, 0, 0, 0, 1, -1, 1, -1, 1, 0, 0, 0, 1, 1, -1, -1, 0, 0, 0, 0, 1, 1, 0, -1, 1, 0, 0, 1, 0, 0, 0, -1, 1): [1, 0, 0], (0, 0, 0, 0, 0, 0, 0, 0, 0, -1, 0, 0, 0, -1, 0, 1, 0, -1, -1, 1, 0, -1, 1, 0, 0, 1, -1, -1, 1, 1, -1, -1, 0, 0, 0, 1, -1, 1, -1, 1, 0, 0, 0, -1, 1, -1, -1, 0, 0, 0, -1, 1, 1, 0, -1, 1, 0, 0, 1, 0, 0, 0, -1, 1): [1, 0, 0], (0, 0, 0, 0, 0, 0, 0, 0, 0, -1, 0, 0, 0, -1, 0, 1, 0, -1, -1, 1, 0, -1, 1, 0, 0, 1, -1, -1, 1, 1, -1, -1, 0, 0, 0, 1, -1, 1, -1, 1, 0, 0, 0, -1, 1, -1, -1, 0, 0, 1, 1, 1, 1, 0, -1, 1, 0, 0, 1, 0, 0, 0, -1, 1): [1, 0, 0], (0, 0, 0, 0, 0, 0, 0, 0, 0, -1, 0, -1, 0, -1, 0, 1, 0, -1, -1, -1, 0, -1, 1, 0, 0, 1, -1, -1, 1, 1, -1, -1, 0, 0, 0, 1, -1, 1, -1, 1, 0, 0, 0, -1, 1, -1, -1, 0, 0, 1, 1, 1, 1, 0, -1, 1, 0, 0, 1, 0, 0, 0, -1, 1): [1, 0, 0], (0, 0, 0, 0, 0, 0, 0, 0, 0, -1, 0, -1, 0, -1, 1, 1, 0, -1, -1, -1, 0, 1, 1, 0, 0, 1, -1, -1, 1, 1, -1, -1, 0, 0, 0, 1, -1, 1, -1, 1, 0, 0, 0, -1, 1, -1, -1, 0, 0, 1, 1, 1, 1, 0, -1, 1, 0, 0, 1, 0, 0, 0, -1, 1): [1, 0, 0], (0, 0, 0, 0, 0, 0, 0, 0, 0, -1, 0, -1, 0, -1, 1, 1, 0, -1, -1, -1, 0, 1, 1, 0, 0, 1, -1, -1, 1, 1, -1, -1, 0, 0, 0, -1, -1, 1, -1, 1, 0, 0, 0, -1, -1, -1, -1, 0, 0, 1, 1, 1, 1, -1, -1, 1, 0, 0, 1, 0, 0, 0, -1, 1): [1, 0, 0], (1, 0, 0, 0, 0, 0, 0, 0, 0, -1, 0, -1, 0, -1, 1, 1, 0, -1, -1, -1, 0, 1, 1, 0, 0, 1, -1, -1, 1, 1, -1, -1, 0, 0, 0, -1, -1, 1, -1, 1, 0, 0, 0, -1, -1, -1, -1, 0, 0, 1, 1, 1, 1, -1, -1, 1, 0, 0, 1, 0, 0, 0, -1, 1): [1, 0, 0], (1, 0, 0, 0, 0, 0, 0, 0, 0, -1, 0, -1, 0, -1, 1, 1, 0, -1, -1, -1, 0, 1, 1, 0, 0, 1, -1, -1, 1, 1, -1, -1, 0, 0, 0, -1, -1, 1, -1, 1, 0, 0, 0, -1, -1, -1, -1, 0, 0, 1, -1, 1, 1, -1, -1, 1, 0, -1, 1, 0, 0, 0, -1, 1): [1, 0, 0], (1, 0, 0, 0, 0, 0, 0, 0, 0, -1, 0, -1, 1, 1, 1, 1, 0, -1, -1, -1, 0, 1, 1, 0, 0, 1, -1, -1, 1, 1, -1, -1, 0, 0, 0, -1, -1, 1, -1, 1, 0, 0, 0, -1, -1, -1, -1, 0, 0, 1, -1, 1, 1, -1, -1, 1, 0, -1, 1, 0, 0, 0, -1, 1): [1, 0, 0], (1, 0, 0, 0, 0, -1, 0, 0, 0, -1, 0, -1, -1, -1, 1, 1, 0, -1, -1, -1, 0, -1, 1, 0, 0, 1, -1, -1, 1, -1, -1, -1, 0, 0, 0, -1, -1, -1, -1, 1, 0, 0, 0, -1, -1, -1, -1, 0, 0, 1, -1, 1, 1, -1, -1, 1, 0, -1, 1, 0, 0, 0, -1, 1): [1, 0, 0], (1, 0, 0, 0, 0, -1, 0, 0, 0, -1, 0, -1, -1, -1, 1, 1, 0, -1, -1, -1, 0, -1, 1, 0, 0, 1, -1, -1, 1, -1, -1, -1, 0, 0, 1, -1, -1, -1, -1, 1, 0, 0, 0, 1, -1, -1, -1, 0, 0, 1, -1, 1, 1, -1, -1, 1, 0, -1, 1, 0, 0, 0, -1, 1): [1, 0, 0], (1, 0, 0, 0, 0, -1, 0, -1, 0, -1, 0, -1, -1, -1, -1, 1, 0, -1, -1, -1, 0, -1, 1, 0, 0, 1, -1, -1, 1, -1, -1, -1, 0, 0, 1, -1, -1, -1, -1, 1, 0, 0, 0, 1, -1, -1, -1, 0, 0, 1, -1, 1, 1, -1, -1, 1, 0, -1, 1, 0, 0, 0, -1, 1): [1, 0, 0], (1, 0, 0, 0, 1, -1, 0, -1, 0, -1, 0, 1, -1, 1, -1, 1, 0, -1, 1, -1, 0, -1, 1, 0, 0, 1, -1, -1, 1, -1, -1, -1, 0, 0, 1, -1, -1, -1, -1, 1, 0, 0, 0, 1, -1, -1, -1, 0, 0, 1, -1, 1, 1, -1, -1, 1, 0, -1, 1, 0, 0, 0, -1, 1): [1, 0, 0], (1, 0, 0, 0, 1, -1, 0, -1, 0, -1, 0, 1, -1, 1, -1, 1, 0, -1, 1, -1, 0, -1, 1, 0, 0, -1, -1, -1, 1, -1, -1, -1, 0, -1, -1, -1, -1, -1, -1, 1, 0, 0, 0, 1, -1, -1, -1, 0, 0, 1, -1, 1, 1, -1, -1, 1, 0, -1, 1, 0, 0, 0, -1, 1): [1, 0, 0], (1, 0, 0, 0, 1, -1, 0, -1, 0, -1, 0, 1, -1, 1, -1, 1, 0, -1, 1, -1, 0, 1, 1, 0, 0, -1, -1, -1, 1, 1, -1, -1, 0, -1, -1, -1, -1, 1, -1, 1, 0, 0, 0, 1, -1, 1, -1, 0, 0, 1, -1, 1, 1, 1, -1, 1, 0, -1, 1, 0, 0, 1, -1, 1): [1, 0, 0], (1, 0, 0, 0, 1, -1, 0, -1, 0, -1, -1, -1, -1, 1, -1, 1, 0, -1, -1, -1, 0, 1, 1, 0, 0, -1, -1, -1, 1, 1, -1, -1, 0, -1, -1, -1, -1, 1, -1, 1, 0, 0, 0, 1, -1, 1, -1, 0, 0, 1, -1, 1, 1, 1, -1, 1, 0, -1, 1, 0, 0, 1, -1, 1): [1, 0, 0], (1, 0, 0, 0, 1, -1, 0, -1, 0, -1, -1, -1, -1, 1, -1, 1, 0, -1, -1, -1, 0, 1, 1, 0, 0, -1, -1, -1, 1, 1, -1, -1, 0, -1, -1, -1, -1, 1, -1, 1, 0, 0, 0, 1, -1, 1, -1, 0, 0, 1, -1, 1, 1, 1, -1, 1, 1, 1, 1, 0, 0, 1, -1, 1): [1, 0, 0], (1, 0, 0, 0, 1, -1, 0, -1, 0, -1, -1, -1, -1, 1, -1, 1, 0, -1, -1, -1, 0, 1, 1, 0, 0, -1, -1, -1, 1, 1, -1, -1, 0, -1, -1, -1, -1, 1, -1, -1, 0, 0, 0, 1, -1, 1, -1, -1, 0, 1, -1, 1, 1, 1, -1, 1, 1, 1, 1, 0, 0, 1, -1, 1): [1, 0, 0], (1, 0, 0, 1, 1, -1, 0, -1, 0, -1, -1, 1, 1, 1, -1, 1, 0, -1, -1, 1, 0, 1, 1, 0, 0, -1, -1, 1, 1, 1, -1, -1, 0, -1, -1, 1, -1, 1, -1, -1, 0, 0, 0, 1, -1, 1, -1, -1, 0, 1, -1, 1, 1, 1, -1, 1, 1, 1, 1, 0, 0, 1, -1, 1): [1, 0, 0], (1, 0, 0, 1, 1, -1, 0, -1, 0, -1, -1, 1, 1, 1, -1, -1, 0, -1, -1, 1, 0, 1, 1, -1, 0, -1, -1, 1, 1, 1, -1, -1, 0, -1, -1, 1, -1, 1, -1, -1, 0, 0, 0, 1, -1, 1, -1, -1, 0, 1, -1, 1, 1, 1, -1, 1, 1, 1, 1, 0, 0, 1, -1, 1): [1, 0, 0], (1, 1, 0, 1, 1, -1, 0, -1, 0, -1, 1, 1, 1, 1, -1, -1, 0, -1, -1, 1, 0, 1, 1, -1, 0, -1, -1, 1, 1, 1, -1, -1, 0, -1, -1, 1, -1, 1, -1, -1, 0, 0, 0, 1, -1, 1, -1, -1, 0, 1, -1, 1, 1, 1, -1, 1, 1, 1, 1, 0, 0, 1, -1, 1): [1, 0, 0], (1, 1, -1, -1, -1, -1, 0, -1, 0, -1, -1, 1, 1, 1, -1, -1, 0, -1, -1, 1, 0, 1, 1, -1, 0, -1, -1, 1, 1, 1, -1, -1, 0, -1, -1, 1, -1, 1, -1, -1, 0, 0, 0, 1, -1, 1, -1, -1, 0, 1, -1, 1, 1, 1, -1, 1, 1, 1, 1, 0, 0, 1, -1, 1): [1, 0, 0], (1, 1, -1, -1, -1, -1, 0, -1, 0, 1, -1, 1, 1, 1, -1, -1, 0, 1, -1, 1, 0, 1, 1, -1, 0, 1, -1, 1, 1, 1, -1, -1, 0, 1, 1, 1, -1, 1, -1, -1, 0, 1, 0, 1, -1, 1, -1, -1, 0, 1, -1, 1, 1, 1, -1, 1, 1, 1, 1, 0, 0, 1, -1, 1): [1, 0, 0], (1, 1, -1, -1, -1, -1, 0, -1, 0, 1, -1, -1, -1, 1, -1, -1, 0, 1, -1, -1, -1, 1, 1, -1, 0, 1, -1, 1, -1, -1, -1, -1, 0, 1, 1, 1, -1, 1, -1, -1, 0, 1, 0, 1, -1, 1, -1, -1, 0, 1, -1, 1, 1, 1, -1, 1, 1, 1, 1, 0, 0, 1, -1, 1): [1, 0, 0], (1, 1, -1, -1, -1, -1, 0, -1, 0, 1, -1, -1, -1, 1, -1, -1, 0, 1, -1, -1, -1, 1, 1, -1, 0, 1, -1, 1, -1, -1, -1, -1, 0, 1, 1, 1, -1, 1, -1, -1, 0, 1, 0, 1, -1, 1, -1, -1, 0, 1, 1, 1, 1, 1, -1, 1, 1, 1, 1, 1, 0, 1, -1, 1): [1, 0, 0], (1, 1, -1, -1, -1, -1, 0, -1, 0, -1, -1, -1, -1, 1, -1, -1, -1, -1, -1, -1, -1, 1, 1, -1, 0, 1, -1, 1, -1, -1, -1, -1, 0, 1, 1, 1, -1, 1, -1, -1, 0, 1, 0, 1, -1, 1, -1, -1, 0, 1, 1, 1, 1, 1, -1, 1, 1, 1, 1, 1, 0, 1, -1, 1): [1, 0, 0], (1, 1, 1, 1, 1, 1, 1, -1, 0, -1, -1, -1, -1, 1, 1, -1, -1, -1, -1, -1, -1, 1, 1, -1, 0, 1, -1, 1, -1, -1, -1, -1, 0, 1, 1, 1, -1, 1, -1, -1, 0, 1, 0, 1, -1, 1, -1, -1, 0, 1, 1, 1, 1, 1, -1, 1, 1, 1, 1, 1, 0, 1, -1, 1): [1, 0, 0], (1, 1, 1, 1, 1, 1, 1, -1, 0, -1, -1, -1, -1, 1, 1, -1, -1, -1, -1, -1, -1, 1, 1, -1, 0, 1, -1, 1, -1, -1, -1, -1, 0, 1, 1, 1, -1, 1, -1, -1, 0, 1, 0, 1, -1, 1, -1, -1, 0, 1, 1, 1, -1, -1, -1, 1, 1, 1, 1, 1, -1, -1, -1, 1): [1, 0, 0], (1, 1, 1, 1, 1, 1, 1, -1, 0, -1, 1, -1, -1, 1, 1, 1, -1, 1, -1, -1, -1, 1, 1, -1, 1, 1, -1, 1, -1, -1, -1, 1, 0, 1, 1, 1, -1, 1, 1, -1, 0, 1, 0, 1, -1, 1, -1, -1, 0, 1, 1, 1, -1, -1, -1, 1, 1, 1, 1, 1, -1, -1, -1, 1): [1, 0, 0], (1, 1, 1, 1, 1, 1, 1, -1, 0, -1, 1, -1, -1, 1, 1, 1, -1, 1, -1, -1, -1, 1, 1, -1, -1, -1, -1, 1, -1, -1, -1, 1, -1, -1, -1, -1, -1, 1, 1, -1, 0, 1, 0, 1, -1, 1, -1, -1, 0, 1, 1, 1, -1, -1, -1, 1, 1, 1, 1, 1, -1, -1, -1, 1): [1, 0, 0], (1, 1, 1, 1, 1, 1, 1, -1, 0, -1, 1, -1, -1, 1, 1, 1, -1, 1, 1, -1, -1, 1, 1, -1, 1, -1, 1, 1, 1, -1, -1, 1, -1, 1, 1, 1, -1, 1, 1, -1, 0, 1, 1, 1, -1, 1, -1, -1, 0, 1, 1, 1, -1, -1, -1, 1, 1, 1, 1, 1, -1, -1, -1, 1): [1, 0, 0], (1, 1, 1, 1, 1, 1, 1, -1, 0, -1, 1, -1, -1, 1, 1, 1, -1, 1, 1, -1, -1, 1, 1, -1, 1, -1, 1, -1, 1, -1, -1, 1, -1, 1, -1, 1, -1, 1, 1, -1, 0, -1, 1, 1, -1, 1, -1, -1, -1, -1, -1, -1, -1, -1, -1, 1, 1, 1, 1, 1, -1, -1, -1, 1): [1, 0, 0], (1, 1, 1, 1, 1, 1, 1, -1, 0, -1, 1, -1, -1, 1, 1, 1, -1, 1, 1, -1, -1, 1, 1, -1, 1, -1, 1, -1, 1, -1, -1, 1, 1, 1, -1, 1, -1, 1, 1, -1, 1, 1, 1, 1, -1, 1, -1, -1, 1, 1, -1, -1, -1, -1, -1, 1, 1, 1, 1, 1, -1, -1, -1, 1): [1, 0, 0], (1, 1, 1, 1, 1, 1, 1, -1, -1, -1, 1, -1, -1, 1, 1, -1, -1, -1, 1, -1, -1, 1, -1, -1, 1, -1, -1, -1, 1, -1, -1, 1, 1, 1, -1, -1, -1, 1, 1, -1, 1, 1, 1, 1, -1, 1, -1, -1, 1, 1, -1, -1, -1, -1, -1, 1, 1, 1, 1, 1, -1, -1, -1, 1): [1, 0, 0], (0, 0, 0, 0, 0, 0, 0, 0, 0, 0, 0, 0, 0, 0, 0, 0, 0, 0, 0, 0, 0, 0, 0, 0, 0, 0, 1, 1, 1, 0, 0, 0, 0, 0, 0, 1, -1, 0, 0, 0, 0, 0, 0, 0, 0, 0, 0, 0, 0, 0, 0, 0, 0, 0, 0, 0, 0, 0, 0, 0, 0, 0, 0, 0): [0, 2, 2], (0, 0, 0, 0, 0, 0, 0, 0, 0, 0, 0, 0, 0, 0, 0, 0, 0, 0, -1, 0, 0, 0, 0, 0, 0, 0, 1, -1, 1, 0, 0, 0, 0, 0, 0, 1, -1, 0, 0, 0, 0, 0, 0, 0, 0, 0, 0, 0, 0, 0, 0, 0, 0, 0, 0, 0, 0, 0, 0, 0, 0, 0, 0, 0): [0, 2, 2], (0, 0, 0, 0, 0, 0, 0, 0, 0, 0, 0, 0, 0, 0, 0, 0, 0, 0, -1, 0, 0, 0, 0, 0, 0, 0, 1, -1, 1, 0, 0, 0, 0, 0, 0, 1, 1, 1, 0, 0, 0, 0, 0, 0, 0, 0, 0, 0, 0, 0, 0, 0, 0, 0, 0, 0, 0, 0, 0, 0, 0, 0, 0, 0): [0, 1, 2], (0, 0, 0, 0, 0, 0, 0, 0, 0, 0, 0, 0, 0, 0, 0, 0, 0, 0, -1, 0, 0, 0, 0, 0, 0, 0, 1, -1, 1, 0, 0, 0, 0, 0, 0, -1, 1, 1, 0, 0, 0, 0, 0, -1, 0, 0, 0, 0, 0, 0, 0, 0, 0, 0, 0, 0, 0, 0, 0, 0, 0, 0, 0, 0): [0, 0, 1], (0, 0, 0, 0, 0, 0, 0, 0, 0, 0, 0, 0, 0, 0, 0, 0, 0, 0, -1, 0, 0, 0, 0, 0, 0, 0, 1, -1, 1, 0, 0, 0, 0, 0, 0, 1, 1, 1, 0, 0, 0, 0, 0, -1, 1, 0, 0, 0, 0, 0, 0, 0, 0, 0, 0, 0, 0, 0, 0, 0, 0, 0, 0, 0): [0, 0, 1], (0, 0, 0, 0, 0, 0, 0, 0, 0, 0, 0, 0, 0, 0, 0, 0, 0, 0, -1, 0, 0, 0, 0, 0, 0, 0, 1, -1, -1, -1, 0, 0, 0, 0, 0, 1, -1, 1, 0, 0, 0, 0, 0, -1, 1, 0, 0, 0, 0, 0, 0, 0, 0, 0, 0, 0, 0, 0, 0, 0, 0, 0, 0, 0): [0, 0, 1], (0, 0, 0, 0, 0, 0, 0, 0, 0, 0, 0, 0, 0, 0, 0, 0, 0, 0, -1, 1, 0, 0, 0, 0, 0, 0, 1, 1, 1, -1, 0, 0, 0, 0, 0, 1, -1, 1, 0, 0, 0, 0, 0, -1, 1, 0, 0, 0, 0, 0, 0, 0, 0, 0, 0, 0, 0, 0, 0, 0, 0, 0, 0, 0): [0, 0, 1], (0, 0, 0, 0, 0, 0, 0, 0, 0, 0, 0, 0, 0, 0, 0, 0, 0, 0, -1, 1, 0, 0, 0, 0, 0, 0, 1, 1, 1, -1, 0, 0, 0, 0, 0, 1, -1, -1, 0, 0, 0, 0, 0, -1, -1, -1, 0, 0, 0, 0, 0, 0, 0, 0, 0, 0, 0, 0, 0, 0, 0, 0, 0, 0): [0, 0, 1], (0, 0, 0, 0, 0, 0, 0, 0, 0, 0, 0, 0, 0, 0, 0, 0, 0, 0, -1, 1, 0, 0, 0, 0, 0, 0, 1, 1, 1, -1, 0, 0, 0, 0, 0, 1, -1, 1, 0, 0, 0, 0, 0, -1, -1, -1, 1, 0, 0, 0, 0, 0, 0, 0, 0, 0, 0, 0, 0, 0, 0, 0, 0, 0): [0, 0, 1], (0, 0, 0, 0, 0, 0, 0, 0, 0, 0, 0, 0, 0, 0, 0, 0, 0, 0, -1, 1, 0, 0, 0, 0, 0, 0, 1, 1, 1, -1, -1, 0, 0, 0, 0, 1, -1, -1, 0, 0, 0, 0, 0, -1, -1, -1, 1, 0, 0, 0, 0, 0, 0, 0, 0, 0, 0, 0, 0, 0, 0, 0, 0, 0): [0, 0, 1], (0, 0, 0, 0, 0, 0, 0, 0, 0, 0, 0, 0, 0, 0, 0, 0, 0, 0, -1, 1, 0, 0, 0, 0, 0, 0, 1, 1, 1, -1, -1, 0, 0, 0, 0, 1, 1, 1, 1, 0, 0, 0, 0, -1, -1, -1, 1, 0, 0, 0, 0, 0, 0, 0, 0, 0, 0, 0, 0, 0, 0, 0, 0, 0): [0, 0, 1], (0, 0, 0, 0, 0, 0, 0, 0, 0, 0, 0, 0, 0, 0, 0, 0, 0, 0, -1, 1, 0, 0, 0, 0, 0, 0, 1, 1, 1, -1, -1, -1, 0, 0, 0, 1, 1, 1, -1, 0, 0, 0, 0, -1, -1, -1, 1, 0, 0, 0, 0, 0, 0, 0, 0, 0, 0, 0, 0, 0, 0, 0, 0, 0): [0, 0, 1], (0, 0, 0, 0, 0, 0, 0, 0, 0, 0, 0, 0, 0, 0, 0, 0, 0, 0, -1, 1, 0, 0, 0, 0, 0, 0, 1, 1, 1, -1, -1, -1, 0, 0, 0, 1, 1, 1, -1, 0, 0, 0, 0, -1, -1, 1, 1, 0, 0, 0, 0, 0, 0, 0, 1, 0, 0, 0, 0, 0, 0, 0, 0, 0): [0, 0, 1], (0, 0, 0, 0, 0, 0, 0, 0, 0, 0, 0, 0, 0, 0, 0, 0, 0, -1, -1, 1, 0, 0, 0, 0, 0, 0, -1, 1, 1, -1, -1, -1, 0, 0, 0, -1, 1, 1, -1, 0, 0, 0, 0, -1, -1, 1, 1, 0, 0, 0, 0, 0, 0, 0, 1, 0, 0, 0, 0, 0, 0, 0, 0, 0): [0, 0, 1], (0, 0, 0, 0, 0, 0, 0, 0, 0, 0, 0, 0, 0, 0, 0, 0, 0, -1, -1, 1, 0, 0, 0, 0, 0, 0, -1, 1, 1, -1, -1, -1, 0, 0, 1, 1, 1, 1, -1, 0, 0, 0, 0, -1, -1, 1, 1, 0, 0, 0, 0, 0, 0, 0, 1, 0, 0, 0, 0, 0, 0, 0, 0, 0): [0, 0, 1], (0, 0, 0, 0, 0, 0, 0, 0, 0, 0, 0, 0, 0, 0, 0, 0, 0, -1, -1, 1, 0, 0, 0, 0, 0, 0, -1, 1, 1, -1, -1, -1, 0, 0, 1, 1, 1, -1, -1, 0, 0, 0, 0, -1, -1, -1, 1, 0, 0, 0, 0, 0, 0, -1, 1, 0, 0, 0, 0, 0, 0, 0, 0, 0): [0, 0, 1], (0, 0, 0, 0, 0, 0, 0, 0, 0, 0, 0, 0, 0, 0, 0, 0, 0, -1, -1, 1, 0, 0, 0, 0, 0, 0, -1, 1, 1, -1, -1, -1, 0, 0, 1, 1, 1, -1, -1, 0, 0, 0, 0, 1, 1, -1, 1, 0, 0, 0, 0, 0, 1, 1, 1, 0, 0, 0, 0, 0, 0, 0, 0, 0): [0, 0, 1], (0, 0, 0, 0, 0, 0, 0, 0, 0, 0, 0, 0, 0, 0, 0, 0, 0, -1, -1, 1, 0, 0, 0, 0, 0, 0, -1, 1, 1, -1, -1, -1, 0, 0, 1, 1, 1, -1, -1, 0, 0, 0, 0, 1, 1, -1, 1, 0, 0, 0, 0, 0, -1, 1, 1, 0, 0, 0, 0, -1, 0, 0, 0, 0): [0, 0, 1], (0, 0, 0, 0, 0, 0, 0, 0, 0, 0, 0, 0, 0, 0, 0, 0, 0, -1, -1, 1, 0, 0, 0, 0, 0, 0, -1, 1, 1, -1, -1, -1, 0, 0, 1, 1, 1, 1, 1, 1, 0, 0, 0, 1, 1, -1, 1, 0, 0, 0, 0, 0, -1, 1, 1, 0, 0, 0, 0, -1, 0, 0, 0, 0): [0, 0, 1], (0, 0, 0, 0, 0, 0, 0, 0, 0, 0, 0, 0, 0, 0, 0, 0, 0, -1, -1, 1, 0, 0, 0, 0, 0, 0, -1, 1, 1, -1, -1, -1, 0, 0, -1, 1, 1, 1, 1, 1, 0, 0, -1, -1, -1, -1, 1, 0, 0, 0, 0, 0, -1, 1, 1, 0, 0, 0, 0, -1, 0, 0, 0, 0): [0, 0, 1], (0, 0, 0, 0, 0, 0, 0, 0, 0, 0, 0, 0, 0, 0, 0, 0, 0, -1, -1, 1, 0, 0, 1, 0, 0, 0, -1, 1, 1, 1, 1, -1, 0, 0, -1, 1, 1, 1, 1, 1, 0, 0, -1, -1, -1, -1, 1, 0, 0, 0, 0, 0, -1, 1, 1, 0, 0, 0, 0, -1, 0, 0, 0, 0): [0, 0, 1], (0, 0, 0, 0, 0, 0, 0, 0, 0, 0, 0, 0, 0, 0, 0, 0, 0, -1, -1, 1, 0, -1, 1, 0, 0, 0, -1, 1, -1, -1, 1, -1, 0, 0, -1, -1, 1, -1, 1, 1, 0, 0, -1, -1, -1, -1, 1, 0, 0, 0, 0, 0, -1, 1, 1, 0, 0, 0, 0, -1, 0, 0, 0, 0): [0, 0, 1], (0, 0, 0, 0, 0, 0, 0, 0, 0, 0, 0, 0, 0, 0, 0, 0, 0, -1, -1, 1, 0, -1, 1, 0, 0, 0, -1, 1, -1, -1, 1, -1, 0, 0, -1, -1, 1, -1, 1, 1, 0, 0, -1, 1, -1, -1, 1, 0, 0, 0, 1, 0, -1, 1, 1, 0, 0, 0, 0, -1, 0, 0, 0, 0): [0, 0, 1], (0, 0, 0, 0, 0, 0, 0, 0, 0, 0, -1, 0, 0, 0, 0, 0, 0, -1, -1, -1, 0, -1, 1, 0, 0, 0, -1, 1, -1, -1, 1, -1, 0, 0, -1, -1, 1, -1, 1, 1, 0, 0, -1, 1, -1, -1, 1, 0, 0, 0, 1, 0, -1, 1, 1, 0, 0, 0, 0, -1, 0, 0, 0, 0): [0, 0, 1], (0, 0, 0, 0, 0, 0, 0, 0, 1, 0, -1, 0, 0, 0, 0, 0, 0, 1, -1, -1, 0, -1, 1, 0, 0, 0, 1, 1, -1, -1, 1, -1, 0, 0, -1, 1, 1, -1, 1, 1, 0, 0, -1, 1, 1, -1, 1, 0, 0, 0, 1, 0, -1, 1, 1, 0, 0, 0, 0, -1, 0, 0, 0, 0): [0, 0, 1], (0, 0, 0, 0, 0, 0, 0, 0, 1, 0, -1, 0, 0, -1, 0, 0, 0, 1, -1, -1, 0, -1, -1, 0, 0, 0, 1, 1, -1, -1, 1, -1, 0, 0, -1, 1, 1, -1, 1, 1, 0, 0, -1, 1, 1, -1, 1, 0, 0, 0, 1, 0, -1, 1, 1, 0, 0, 0, 0, -1, 0, 0, 0, 0): [0, 0, 1], (0, 0, 0, 0, 0, 0, 0, 0, 1, 0, -1, 0, 0, -1, 0, 0, 0, 1, -1, -1, 0, -1, -1, 0, 0, 0, 1, 1, -1, -1, 1, -1, 0, 0, 1, 1, 1, -1, 1, 1, 0, 1, 1, 1, 1, -1, 1, 0, 0, 0, 1, 0, -1, 1, 1, 0, 0, 0, 0, -1, 0, 0, 0, 0): [0, 0, 1], (0, 0, 0, 0, 0, 0, 0, 0, 1, 0, -1, 0, 0, -1, 0, 0, 0, 1, -1, -1, 0, -1, -1, 0, 0, 0, 1, 1, -1, -1, 1, -1, 0, 0, 1, 1, 1, -1, -1, -1, 0, 1, 1, 1, 1, -1, -1, -1, 0, 0, 1, 0, -1, 1, 1, 0, 0, 0, 0, -1, 0, 0, 0, 0): [0, 0, 1], (0, 0, 0, 0, 0, 0, 0, 0, 1, 0, -1, 0, 0, -1, 1, 0, 0, 1, -1, -1, 0, 1, 1, 0, 0, 0, 1, 1, 1, -1, 1, -1, 0, 0, 1, 1, 1, -1, -1, -1, 0, 1, 1, 1, 1, -1, -1, -1, 0, 0, 1, 0, -1, 1, 1, 0, 0, 0, 0, -1, 0, 0, 0, 0): [0, 0, 1], (0, 0, 0, 0, 0, 0, 0, 0, 1, 0, -1, 0, 0, -1, 1, 0, 0, 1, -1, -1, 0, 1, 1, 0, 0, 0, -1, 1, 1, -1, 1, -1, 0, -1, -1, -1, -1, -1, -1, -1, 0, 1, 1, 1, 1, -1, -1, -1, 0, 0, 1, 0, -1, 1, 1, 0, 0, 0, 0, -1, 0, 0, 0, 0): [0, 0, 1], (0, 0, 0, 0, 0, 0, 0, 0, 1, 0, -1, 1, 0, -1, 1, 0, 0, 1, -1, 1, 0, 1, 1, 0, 0, 0, -1, 1, 1, -1, 1, -1, 0, -1, -1, -1, -1, -1, -1, -1, 0, 1, 1, 1, 1, -1, -1, -1, 0, 0, 1, 0, -1, 1, 1, 0, 0, 0, 0, -1, 0, 0, 0, 0): [0, 0, 1], (0, 0, 0, 0, 0, 0, 0, 0, 1, 0, -1, 1, 0, -1, -1, -1, 0, 1, -1, 1, 0, 1, -1, 0, 0, 0, -1, 1, 1, -1, 1, -1, 0, -1, -1, -1, -1, -1, -1, -1, 0, 1, 1, 1, 1, -1, -1, -1, 0, 0, 1, 0, -1, 1, 1, 0, 0, 0, 0, -1, 0, 0, 0, 0): [0, 0, 1], (0, 0, 0, 0, 0, 0, 0, 0, 1, 0, -1, 1, 0, -1, -1, -1, 0, 1, -1, 1, 0, 1, 1, 1, 0, 0, -1, 1, 1, -1, 1, -1, 0, -1, -1, -1, -1, -1, -1, -1, 0, 1, 1, 1, 1, -1, -1, -1, 0, 0, 1, 0, -1, 1, 1, 0, 0, 0, 0, -1, 0, 0, 0, 0): [0, 0, 1], (0, 0, 0, -1, 0, 0, 0, 0, 1, 0, -1, -1, 0, -1, -1, -1, 0, 1, -1, -1, 0, 1, 1, 1, 0, 0, -1, -1, 1, -1, 1, -1, 0, -1, -1, -1, -1, -1, -1, -1, 0, 1, 1, 1, 1, -1, -1, -1, 0, 0, 1, 0, -1, 1, 1, 0, 0, 0, 0, -1, 0, 0, 0, 0): [0, 0, 1], (0, 0, 1, -1, 0, 0, 0, 0, 1, 0, 1, -1, 0, -1, -1, -1, 0, 1, 1, -1, 0, 1, 1, 1, 0, 0, 1, -1, 1, -1, 1, -1, 0, -1, 1, -1, -1, -1, -1, -1, 0, 1, 1, 1, 1, -1, -1, -1, 0, 0, 1, 0, -1, 1, 1, 0, 0, 0, 0, -1, 0, 0, 0, 0): [0, 0, 1], (0, 0, 1, -1, 0, 0, 0, 0, 1, 0, -1, -1, 0, -1, -1, -1, 0, -1, 1, -1, 0, 1, 1, 1, -1, 0, 1, -1, 1, -1, 1, -1, 0, -1, 1, -1, -1, -1, -1, -1, 0, 1, 1, 1, 1, -1, -1, -1, 0, 0, 1, 0, -1, 1, 1, 0, 0, 0, 0, -1, 0, 0, 0, 0): [0, 0, 1], (0, 1, 1, -1, 0, 0, 0, 0, 1, 0, 1, -1, 0, -1, -1, -1, 0, -1, 1, 1, 0, 1, 1, 1, -1, 0, 1, -1, 1, -1, 1, -1, 0, -1, 1, -1, -1, -1, -1, -1, 0, 1, 1, 1, 1, -1, -1, -1, 0, 0, 1, 0, -1, 1, 1, 0, 0, 0, 0, -1, 0, 0, 0, 0): [0, 0, 1], (0, 1, 1, -1, 0, 0, 0, 0, 1, 0, 1, -1, 0, -1, -1, -1, 0, -1, -1, 1, 0, 1, 1, 1, -1, -1, -1, -1, 1, -1, 1, -1, 0, -1, -1, -1, -1, -1, -1, -1, 0, 1, 1, -1, 1, -1, -1, -1, 0, 0, 1, 0, -1, 1, 1, 0, 0, 0, 0, -1, 0, 0, 0, 0): [0, 0, 1], (0, 1, 1, -1, 0, 0, 0, 1, 1, 0, 1, -1, 0, -1, 1, 1, 0, -1, -1, 1, 0, 1, 1, 1, -1, -1, -1, -1, 1, -1, 1, -1, 0, -1, -1, -1, -1, -1, -1, -1, 0, 1, 1, -1, 1, -1, -1, -1, 0, 0, 1, 0, -1, 1, 1, 0, 0, 0, 0, -1, 0, 0, 0, 0): [0, 0, 1], (0, 1, 1, -1, 0, 0, 0, 1, 1, 0, 1, -1, 0, -1, 1, 1, 0, -1, -1, 1, 0, 1, 1, 1, -1, -1, -1, -1, 1, -1, 1, -1, 0, -1, -1, -1, -1, -1, -1, -1, 0, 1, 1, -1, 1, -1, -1, -1, 0, 0, 1, 0, -1, -1, -1, -1, 0, 0, 0, -1, 0, 0, 0, 0): [0, 0, 1], (0, 1, 1, -1, 0, 0, 0, 1, 1, 0, 1, -1, 0, -1, 1, 1, 1, 1, 1, 1, 0, 1, 1, 1, -1, -1, -1, -1, 1, -1, 1, -1, 0, -1, -1, -1, -1, -1, -1, -1, 0, 1, 1, -1, 1, -1, -1, -1, 0, 0, 1, 0, -1, -1, -1, -1, 0, 0, 0, -1, 0, 0, 0, 0): [0, 0, 1], (0, 1, 1, -1, 0, 0, 0, 1, 1, 0, 1, -1, 0, -1, 1, 1, 1, 1, 1, 1, 0, 1, 1, 1, -1, -1, -1, -1, 1, -1, 1, -1, 0, -1, -1, -1, -1, -1, -1, -1, 0, -1, -1, -1, 1, -1, -1, -1, 0, -1, 1, 0, -1, -1, -1, -1, 0, 0, 0, -1, 0, 0, 0, 0): [0, 0, 1], (0, 1, 1, -1, 0, 0, 0, 1, 1, 0, 1, 1, 0, -1, 1, 1, 1, 1, 1, 1, 1, 1, 1, 1, -1, -1, -1, -1, 1, -1, 1, -1, 0, -1, -1, -1, -1, -1, -1, -1, 0, -1, -1, -1, 1, -1, -1, -1, 0, -1, 1, 0, -1, -1, -1, -1, 0, 0, 0, -1, 0, 0, 0, 0): [0, 0, 1], (0, 1, 1, -1, 0, 0, 0, 1, 1, 0, 1, 1, 0, -1, 1, 1, 1, 1, 1, 1, 1, 1, 1, 1, -1, -1, -1, -1, 1, -1, 1, -1, 0, -1, -1, -1, -1, -1, -1, -1, 0, -1, -1, -1, 1, -1, -1, -1, 0, -1, -1, 0, -1, -1, -1, -1, 0, -1, 0, -1, 0, 0, 0, 0): [0, 0, 1], (0, 1, 1, -1, 0, 0, 0, 1, 1, 0, 1, 1, 0, -1, 1, 1, 1, 1, 1, 1, 1, 1, 1, 1, -1, -1, -1, -1, 1, -1, 1, -1, 0, -1, -1, -1, -1, -1, -1, -1, 0, -1, -1, -1, 1, -1, -1, -1, 0, -1, -1, 0, 1, -1, -1, -1, 0, -1, 0, -1, 1, 0, 0, 0): [0, 0, 1], (0, 1, 1, -1, -1, 0, 0, 1, 1, 0, 1, -1, 0, -1, 1, 1, 1, 1, -1, 1, 1, 1, 1, 1, -1, -1, -1, -1, 1, -1, 1, -1, 0, -1, -1, -1, -1, -1, -1, -1, 0, -1, -1, -1, 1, -1, -1, -1, 0, -1, -1, 0, 1, -1, -1, -1, 0, -1, 0, -1, 1, 0, 0, 0): [0, 0, 1], (0, 1, 1, -1, -1, 0, 0, 1, 1, 0, 1, -1, 0, -1, 1, 1, 1, 1, 1, 1, 1, 1, 1, 1, -1, -1, 1, -1, 1, -1, 1, -1, 0, -1, 1, -1, -1, -1, -1, -1, 0, -1, 1, -1, 1, -1, -1, -1, 0, -1, 1, 0, 1, -1, -1, -1, 0, -1, 1, 1, 1, 0, 0, 0): [0, 0, 1], (0, 1, 1, -1, -1, 0, 0, 1, 1, 0, 1, -1, -1, -1, 1, 1, 1, 1, 1, -1, -1, -1, 1, 1, -1, -1, -1, -1, -1, -1, -1, -1, 0, -1, 1, -1, -1, -1, -1, -1, 0, -1, 1, -1, 1, -1, -1, -1, 0, -1, 1, 0, 1, -1, -1, -1, 0, -1, 1, 1, 1, 0, 0, 0): [0, 0, 1], (0, 1, 1, -1, -1, 0, 0, 1, 1, 0, 1, -1, -1, -1, 1, 1, 1, 1, 1, -1, -1, -1, 1, 1, -1, -1, -1, -1, -1, -1, -1, 1, 0, -1, 1, -1, -1, -1, -1, -1, 1, 1, 1, -1, 1, -1, -1, -1, 0, 1, 1, 0, 1, -1, -1, -1, 0, -1, 1, 1, 1, 0, 0, 0): [0, 0, 1], (-1, -1, -1, -1, -1, 0, 0, -1, -1, 0, 1, -1, -1, -1, -1, 1, -1, 1, 1, -1, -1, -1, 1, 1, -1, -1, -1, -1, -1, -1, -1, 1, 0, -1, 1, -1, -1, -1, -1, -1, 1, 1, 1, -1, 1, -1, -1, -1, 0, 1, 1, 0, 1, -1, -1, -1, 0, -1, 1, 1, 1, 0, 0, 0): [0, 0, 1], (-1, -1, -1, -1, -1, 0, 0, -1, -1, 0, 1, -1, -1, -1, -1, 1, -1, 1, 1, -1, -1, -1, 1, 1, -1, -1, -1, 1, -1, -1, -1, 1, 0, -1, 1, -1, 1, -1, -1, 1, 1, 1, 1, -1, 1, 1, -1, 1, 0, 1, 1, 0, 1, -1, 1, 1, 0, -1, 1, 1, 1, 0, 0, 1): [0, 0, 1], (-1, -1, -1, -1, -1, 0, 0, -1, -1, 0, 1, -1, -1, -1, -1, 1, -1, 1, 1, -1, -1, -1, 1, 1, -1, -1, -1, 1, -1, -1, -1, 1, 0, -1, 1, -1, 1, -1, -1, 1, 1, 1, -1, -1, -1, 1, -1, 1, 0, 1, 1, -1, -1, -1, 1, 1, 0, -1, 1, 1, 1, 0, 0, 1): [0, 0, 1], (-1, -1, -1, -1, -1, 1, 0, -1, -1, 0, 1, -1, 1, 1, 1, 1, -1, 1, 1, 1, -1, 1, 1, 1, -1, -1, 1, 1, -1, 1, -1, 1, 0, 1, 1, -1, 1, 1, -1, 1, 1, 1, -1, -1, -1, 1, -1, 1, 0, 1, 1, -1, -1, -1, 1, 1, 0, -1, 1, 1, 1, 0, 0, 1): [0, 0, 1], (-1, -1, -1, -1, -1, 1, 0, -1, -1, 0, 1, -1, 1, 1, 1, 1, -1, 1, 1, 1, -1, 1, 1, 1, -1, -1, 1, 1, -1, 1, -1, 1, 0, 1, 1, -1, 1, 1, -1, 1, 1, 1, -1, -1, -1, 1, -1, 1, 0, 1, 1, -1, -1, -1, -1, 1, 0, -1, 1, 1, 1, 0, -1, 1): [0, 0, 1], (-1, -1, -1, -1, -1, 1, 0, -1, -1, 0, 1, -1, 1, 1, 1, 1, -1, 1, 1, 1, -1, 1, 1, 1, -1, -1, 1, 1, -1, 1, -1, 1, 0, 1, 1, -1, 1, 1, -1, 1, 1, 1, -1, -1, -1, 1, -1, 1, 0, 1, 1, -1, -1, -1, -1, 1, 1, 1, 1, 1, 1, 0, -1, 1): [0, 0, 1], (-1, -1, -1, -1, -1, 1, 0, -1, -1, 0, 1, -1, 1, 1, 1, 1, -1, 1, 1, 1, -1, 1, 1, 1, -1, -1, 1, 1, -1, 1, -1, 1, -1, -1, -1, -1, 1, 1, -1, -1, 1, 1, -1, -1, -1, 1, -1, 1, 0, 1, 1, -1, -1, -1, -1, 1, 1, 1, 1, 1, 1, 0, -1, 1): [0, 0, 1], (-1, -1, -1, -1, -1, 1, 0, -1, -1, 0, 1, -1, 1, 1, 1, 1, -1, 1, 1, 1, -1, 1, 1, 1, -1, -1, 1, 1, -1, 1, -1, 1, -1, -1, -1, -1, 1, 1, -1, -1, 1, 1, -1, -1, -1, 1, -1, 1, 0, 1, 1, -1, -1, 1, 1, 1, 1, 1, 1, 1, 1, 1, -1, 1): [0, 0, 1], (-1, -1, -1, -1, -1, 1, 0, -1, -1, 0, 1, -1, 1, 1, 1, 1, -1, 1, 1, 1, -1, 1, 1, 1, -1, -1, 1, 1, -1, 1, -1, 1, -1, -1, -1, -1, 1, 1, -1, -1, -1, -1, -1, -1, -1, 1, -1, 1, -1, -1, -1, -1, -1, 1, 1, 1, 1, 1, 1, 1, 1, 1, -1, 1): [0, 0, 1], (-1, -1, -1, -1, -1, 1, 0, -1, -1, 1, 1, -1, 1, 1, 1, 1, 1, 1, 1, 1, -1, 1, 1, 1, -1, -1, 1, 1, -1, 1, -1, 1, -1, -1, -1, -1, 1, 1, -1, -1, -1, -1, -1, -1, -1, 1, -1, 1, -1, -1, -1, -1, -1, 1, 1, 1, 1, 1, 1, 1, 1, 1, -1, 1): [0, 0, 1], (-1, -1, -1, -1, -1, -1, -1, -1, -1, 1, 1, -1, 1, -1, -1, -1, 1, 1, 1, 1, -1, 1, -1, 1, -1, -1, 1, 1, -1, 1, -1, 1, -1, -1, -1, -1, 1, 1, -1, -1, -1, -1, -1, -1, -1, 1, -1, 1, -1, -1, -1, -1, -1, 1, 1, 1, 1, 1, 1, 1, 1, 1, -1, 1): [0, 0, 1], (0, 0, 0, 0, 0, 0, 0, 0, 0, 0, 0, 0, 0, 0, 0, 0, 0, 0, 0, 1, 0, 0, 0, 0, 0, 0, 0, 1, 1, 0, 0, 0, 0, 0, 0, 1, -1, 0, 0, 0, 0, 0, 0, 0, 0, 0, 0, 0, 0, 0, 0, 0, 0, 0, 0, 0, 0, 0, 0, 0, 0, 0, 0, 0): [2, 0, 0], (0, 0, 0, 0, 0, 0, 0, 0, 0, 0, 0, 0, 0, 0, 0, 0, 0, 0, -1, 1, 0, 0, 0, 0, 0, 0, 0, -1, 1, 0, 0, 0, 0, 0, 0, 1, -1, 0, 0, 0, 0, 0, 0, 0, 0, 0, 0, 0, 0, 0, 0, 0, 0, 0, 0, 0, 0, 0, 0, 0, 0, 0, 0, 0): [1, 0, 0], (0, 0, 0, 0, 0, 0, 0, 0, 0, 0, 0, 0, 0, 0, 0, 0, 0, 0, -1, 1, 0, 0, 0, 0, 0, 0, 0, -1, 1, 0, 0, 0, 0, 0, 0, 1, 1, 0, 0, 0, 0, 0, 0, 0, 1, 0, 0, 0, 0, 0, 0, 0, 0, 0, 0, 0, 0, 0, 0, 0, 0, 0, 0, 0): [1, 0, 0], (0, 0, 0, 0, 0, 0, 0, 0, 0, 0, 0, 0, 0, 0, 0, 0, 0, 0, -1, 1, 0, 0, 0, 0, 0, 0, 0, -1, -1, -1, 0, 0, 0, 0, 0, 1, 1, 0, 0, 0, 0, 0, 0, 0, 1, 0, 0, 0, 0, 0, 0, 0, 0, 0, 0, 0, 0, 0, 0, 0, 0, 0, 0, 0): [1, 0, 0], (0, 0, 0, 0, 0, 0, 0, 0, 0, 0, 0, 0, 0, 0, 0, 0, 0, 0, -1, 1, 1, 0, 0, 0, 0, 0, 0, -1, 1, -1, 0, 0, 0, 0, 0, 1, 1, 0, 0, 0, 0, 0, 0, 0, 1, 0, 0, 0, 0, 0, 0, 0, 0, 0, 0, 0, 0, 0, 0, 0, 0, 0, 0, 0): [1, 0, 0], (0, 0, 0, 0, 0, 0, 0, 0, 0, 0, 0, 0, 0, 0, 0, 0, 0, 0, -1, 1, 1, 0, 0, 0, 0, 0, 0, -1, 1, -1, 0, 0, 0, 0, 0, 1, -1, 0, 0, 0, 0, 0, 0, 0, 1, -1, 0, 0, 0, 0, 0, 0, 0, 0, 0, 0, 0, 0, 0, 0, 0, 0, 0, 0): [1, 0, 0], (0, 0, 0, 0, 0, 0, 0, 0, 0, 0, 0, 0, 0, 0, 0, 0, 0, 0, -1, 1, 1, 0, 0, 0, 0, 0, 1, 1, 1, -1, 0, 0, 0, 0, 0, 1, -1, 0, 0, 0, 0, 0, 0, 0, 1, -1, 0, 0, 0, 0, 0, 0, 0, 0, 0, 0, 0, 0, 0, 0, 0, 0, 0, 0): [1, 0, 0], (0, 0, 0, 0, 0, 0, 0, 0, 0, 0, 0, 0, 0, 0, 0, 0, 0, 0, -1, 1, 1, 0, 0, 0, 0, 0, 1, 1, 1, -1, 0, 0, 0, 0, 0, 1, -1, 0, 0, 0, 0, 0, 0, -1, -1, -1, 0, 0, 0, 0, 0, 0, 0, 0, 0, 0, 0, 0, 0, 0, 0, 0, 0, 0): [1, 0, 0], (0, 0, 0, 0, 0, 0, 0, 0, 0, 0, 0, 0, 0, 0, 0, 0, 0, 0, -1, 1, 1, 0, 0, 0, 0, 0, 1, 1, 1, -1, 0, 0, 0, 0, 0, 1, 1, 0, 0, 0, 0, 0, 0, -1, -1, 1, 0, 0, 0, 0, 0, 0, 0, 0, 1, 0, 0, 0, 0, 0, 0, 0, 0, 0): [1, 0, 0], (0, 0, 0, 0, 0, 0, 0, 0, 0, 0, 0, 0, 0, 0, 0, 0, 0, 0, -1, 1, 1, 0, 0, 0, 0, 0, 1, -1, 1, -1, 0, 0, 0, 0, 0, 1, -1, 0, 0, 0, 0, 0, 0, -1, -1, -1, 0, 0, 0, 0, 0, 0, 0, 0, -1, 0, 0, 0, 0, 0, 0, 0, 0, -1): [1, 0, 0], (0, 0, 0, 0, 0, 0, 0, 0, 0, 0, 0, 0, 0, 0, 0, 0, 0, 0, -1, 1, 1, 0, 0, 0, 0, 0, 1, -1, 1, 1, 1, 0, 0, 0, 0, 1, -1, 0, 0, 0, 0, 0, 0, -1, -1, -1, 0, 0, 0, 0, 0, 0, 0, 0, -1, 0, 0, 0, 0, 0, 0, 0, 0, -1): [1, 0, 0], (0, 0, 0, 0, 0, 0, 0, 0, 0, 0, 0, 0, 0, 0, 0, 0, 0, 0, -1, 1, 1, 0, -1, 0, 0, 0, 1, -1, 1, -1, 1, 0, 0, 0, 0, 1, -1, 0, 0, 0, 0, 0, 0, -1, -1, -1, 0, 0, 0, 0, 0, 0, 0, 0, -1, 0, 0, 0, 0, 0, 0, 0, 0, -1): [1, 0, 0], (0, 0, 0, 0, 0, 0, 0, 0, 0, 0, 0, 0, 0, 0, 0, 0, 0, 0, -1, 1, 1, 0, -1, 0, 0, 0, 1, -1, 1, -1, 1, 0, 0, 0, 0, 1, -1, 0, 0, 0, 0, 0, 0, -1, 1, -1, 0, 0, 0, 0, 0, 0, 0, 1, -1, 0, 0, 0, 0, 0, 0, 0, 0, -1): [1, 0, 0], (0, 0, 0, 0, 0, 0, 0, 0, 0, 0, 0, 0, 0, 0, 0, 0, 0, 0, -1, 1, 1, 0, -1, 0, 0, 0, -1, -1, 1, -1, 1, 0, 0, 0, -1, -1, -1, 0, 0, 0, 0, 0, 0, -1, 1, -1, 0, 0, 0, 0, 0, 0, 0, 1, -1, 0, 0, 0, 0, 0, 0, 0, 0, -1): [1, 0, 0], (0, 0, 0, 0, 0, 0, 0, 0, 0, 0, 0, 0, 0, 0, 0, 0, 0, 0, -1, 1, 1, 0, -1, 0, 0, 1, 1, 1, 1, -1, 1, 0, 0, 0, -1, -1, -1, 0, 0, 0, 0, 0, 0, -1, 1, -1, 0, 0, 0, 0, 0, 0, 0, 1, -1, 0, 0, 0, 0, 0, 0, 0, 0, -1): [1, 0, 0], (0, 0, 0, 0, 0, 0, 0, 0, 0, 0, 0, 0, 0, 0, 0, 0, 0, 0, -1, 1, 1, 0, -1, 0, 0, 1, 1, 1, 1, -1, 1, 0, 0, 0, -1, -1, -1, 0, 0, 0, 0, 0, 0, -1, -1, -1, 0, 0, 0, 0, 0, 0, -1, -1, -1, 0, 0, 0, 0, 0, 0, 0, 0, -1): [1, 0, 0], (0, 0, 0, 0, 0, 0, 0, 0, 0, 0, 0, 0, 0, 0, 0, 0, 0, 0, -1, 1, 1, 0, -1, 0, 0, 1, 1, 1, 1, -1, 1, 0, 0, 0, 1, 1, -1, 0, 0, 0, 0, 0, 1, -1, -1, -1, 0, 0, 0, 0, 0, 0, -1, -1, -1, 0, 0, 0, 0, 0, 0, 0, 0, -1): [1, 0, 0], (0, 0, 0, 0, 0, 0, 0, 0, 0, 0, 0, 0, -1, 0, 0, 0, 0, 0, -1, 1, -1, 0, -1, 0, 0, 1, 1, 1, -1, -1, 1, 0, 0, 0, 1, 1, -1, 0, 0, 0, 0, 0, 1, -1, -1, -1, 0, 0, 0, 0, 0, 0, -1, -1, -1, 0, 0, 0, 0, 0, 0, 0, 0, -1): [1, 0, 0], (0, 0, 0, 0, 0, 0, 0, 0, 0, 0, 0, 1, -1, 0, 0, 0, 0, 0, 1, 1, -1, 0, -1, 0, 0, 1, 1, 1, -1, -1, 1, 0, 0, 0, 1, 1, -1, 0, 0, 0, 0, 0, 1, -1, -1, -1, 0, 0, 0, 0, 0, 0, -1, -1, -1, 0, 0, 0, 0, 0, 0, 0, 0, -1): [1, 0, 0], (0, 0, 0, 0, 0, 0, 0, 0, 0, 0, 0, 1, -1, 0, 0, 0, 0, 0, 1, 1, -1, 0, -1, 0, 0, 1, 1, 1, -1, -1, -1, 0, 0, 0, 1, 1, -1, 0, -1, 0, 0, 0, 1, -1, -1, -1, 0, 0, 0, 0, 0, 0, -1, -1, -1, 0, 0, 0, 0, 0, 0, 0, 0, -1): [1, 0, 0], (0, 0, 0, 0, 0, 0, 0, 0, 0, 0, 0, 1, -1, 0, 0, 0, 0, 0, 1, 1, -1, 0, -1, 0, 0, 1, 1, 1, -1, -1, -1, 0, 0, 0, 1, 1, -1, 0, -1, 0, 0, 0, 1, 1, 1, 1, 1, 0, 0, 0, 0, 0, -1, -1, -1, 0, 0, 0, 0, 0, 0, 0, 0, -1): [1, 0, 0], (0, 0, 0, 0, 0, 0, 0, 0, 0, 0, 0, 1, -1, 0, 0, 0, 0, 0, 1, 1, -1, 0, -1, 0, 0, 1, 1, -1, -1, -1, -1, 0, 0, 0, -1, 1, -1, 0, -1, 0, 0, -1, 1, 1, 1, 1, 1, 0, 0, 0, 0, 0, -1, -1, -1, 0, 0, 0, 0, 0, 0, 0, 0, -1): [1, 0, 0], (0, 0, 0, 0, 0, 0, 0, 0, 0, 0, 0, 1, -1, 0, 0, 0, 0, 0, 1, 1, -1, 0, -1, 0, 0, 1, 1, -1, -1, -1, -1, 0, 0, 0, -1, 1, -1, 0, -1, 0, 0, -1, 1, 1, 1, 1, 1, 0, 0, 0, 0, 0, -1, 1, 1, 0, 0, 0, 0, 0, 0, 0, 1, -1): [1, 0, 0], (0, 0, 0, 0, 0, 0, 0, 0, 0, 0, 0, 1, -1, 0, 0, 0, 0, 0, 1, 1, -1, 0, -1, 0, 0, 1, 1, -1, -1, -1, -1, 0, 0, 0, -1, 1, -1, 0, -1, 0, 0, -1, -1, -1, -1, -1, -1, -1, 0, 0, 0, 0, -1, 1, 1, 0, 0, 0, 0, 0, 0, 0, 1, -1): [1, 0, 0], (0, 0, 0, 0, 0, 0, 0, 0, 0, 0, 0, 1, -1, 0, 1, 0, 0, 0, 1, 1, -1, 0, 1, 0, 0, 1, 1, -1, -1, -1, 1, 0, 0, 0, -1, 1, -1, 0, 1, 0, 0, -1, -1, -1, -1, -1, 1, -1, 0, 0, 0, 0, -1, 1, 1, 0, 0, 0, 0, 0, 0, 0, 1, -1): [1, 0, 0], (0, 0, 0, 0, 0, 0, 0, 0, 0, 0, 0, 1, -1, 0, 1, 0, 0, -1, -1, -1, -1, 0, 1, 0, 0, 1, -1, -1, -1, -1, 1, 0, 0, 0, -1, -1, -1, 0, 1, 0, 0, -1, -1, -1, -1, -1, 1, -1, 0, 0, 0, 0, -1, 1, 1, 0, 0, 0, 0, 0, 0, 0, 1, -1): [1, 0, 0], (0, 0, 0, 0, 0, 0, 0, 0, 0, 0, 0, 1, -1, 0, 1, 0, 0, -1, -1, -1, -1, 0, 1, 0, 0, 1, -1, -1, -1, -1, 1, 0, 0, 0, -1, -1, -1, 1, 1, 0, 0, -1, -1, -1, -1, 1, 1, -1, 0, 0, 0, 0, -1, 1, 1, 0, 0, 0, 0, 0, 0, 0, 1, -1): [1, 0, 0], (0, 0, 0, 0, 0, 0, 0, 0, 0, 0, -1, -1, -1, 0, 1, 0, 0, -1, -1, -1, -1, 0, 1, 0, 0, 1, -1, -1, -1, -1, 1, 0, 0, 0, -1, -1, -1, 1, 1, 0, 0, -1, -1, -1, -1, 1, 1, -1, 0, 0, 0, 0, -1, 1, 1, 0, 0, 0, 0, 0, 0, 0, 1, -1): [1, 0, 0], (0, 0, 0, 0, 0, 0, 0, 0, 0, 0, -1, -1, -1, 0, 1, 0, 0, -1, -1, -1, -1, 0, 1, 0, 0, 1, -1, -1, -1, 1, 1, 0, 0, 0, -1, -1, 1, 1, 1, 0, 0, -1, -1, 1, -1, 1, 1, -1, 0, 0, 1, 0, -1, 1, 1, 0, 0, 0, 0, 0, 0, 0, 1, -1): [1, 0, 0], (0, 0, 0, 0, 0, 0, 0, 0, 0, 0, -1, -1, -1, 0, 1, 0, 0, -1, -1, -1, -1, 0, 1, 0, 0, 1, -1, -1, -1, 1, 1, 0, 0, 0, -1, -1, -1, -1, -1, -1, 0, -1, -1, 1, -1, 1, 1, -1, 0, 0, 1, 0, -1, 1, 1, 0, 0, 0, 0, 0, 0, 0, 1, -1): [1, 0, 0], (0, 0, 0, 0, 1, 0, 0, 0, 0, 0, -1, 1, -1, 0, 1, 0, 0, -1, 1, -1, -1, 0, 1, 0, 0, 1, -1, -1, -1, 1, 1, 0, 0, 0, -1, -1, -1, -1, -1, -1, 0, -1, -1, 1, -1, 1, 1, -1, 0, 0, 1, 0, -1, 1, 1, 0, 0, 0, 0, 0, 0, 0, 1, -1): [1, 0, 0], (0, 0, 0, 0, 1, 0, 0, 0, 0, 0, -1, 1, -1, 0, 1, 0, 0, -1, 1, -1, -1, 0, 1, 0, 0, -1, -1, -1, -1, 1, 1, 0, 0, -1, -1, -1, -1, -1, -1, -1, 0, -1, -1, 1, -1, 1, 1, -1, 0, 0, 1, 0, -1, 1, 1, 0, 0, 0, 0, 0, 0, 0, 1, -1): [1, 0, 0], (0, 0, 1, 0, 1, 0, 0, 0, 0, 0, 1, 1, -1, 0, 1, 0, 0, -1, 1, -1, -1, 0, 1, 0, 0, -1, -1, -1, -1, 1, 1, 0, 0, -1, -1, -1, -1, -1, -1, -1, 0, -1, -1, 1, -1, 1, 1, -1, 0, 0, 1, 0, -1, 1, 1, 0, 0, 0, 0, 0, 0, 0, 1, -1): [1, 0, 0], (0, 0, 1, 0, 1, 0, 0, 0, 0, 0, 1, 1, -1, 0, 1, -1, 0, -1, 1, -1, -1, 0, -1, 0, 0, -1, -1, -1, -1, -1, 1, 0, 0, -1, -1, -1, -1, -1, -1, -1, 0, -1, -1, 1, -1, 1, 1, -1, 0, 0, 1, 0, -1, 1, 1, 0, 0, 0, 0, 0, 0, 0, 1, -1): [1, 0, 0], (0, 0, 1, 0, 1, 0, 0, 0, 0, 0, 1, 1, -1, 0, 1, -1, 0, -1, 1, -1, -1, 0, -1, 0, 0, -1, -1, -1, -1, -1, 1, 0, 0, -1, -1, -1, -1, -1, -1, -1, 0, -1, -1, 1, -1, 1, 1, -1, 0, 0, 1, 0, 1, 1, 1, 0, 0, 0, 0, 0, 0, 1, 1, -1): [1, 0, 0], (0, 0, 1, 0, 1, 0, 0, 0, 0, 0, 1, 1, -1, 0, 1, -1, 0, -1, 1, -1, -1, 0, -1, 0, 0, -1, -1, -1, -1, -1, 1, 0, 0, -1, -1, -1, -1, -1, -1, -1, 0, -1, -1, 1, -1, 1, -1, -1, 0, 0, 1, 0, -1, -1, 1, 0, 0, 0, 0, 0, -1, 1, 1, -1): [1, 0, 0], (0, 0, 1, 0, 1, 0, 0, 0, 1, 0, 1, 1, -1, 0, 1, 1, 0, -1, 1, -1, -1, 0, 1, 0, 0, -1, -1, -1, -1, 1, 1, 0, 0, -1, -1, -1, 1, -1, -1, -1, 0, -1, -1, 1, -1, 1, -1, -1, 0, 0, 1, 0, -1, -1, 1, 0, 0, 0, 0, 0, -1, 1, 1, -1): [1, 0, 0], (0, 0, 1, 0, 1, 0, 0, 0, 1, 0, 1, 1, -1, 0, 1, 1, 0, -1, 1, -1, -1, 0, 1, 0, 0, -1, -1, -1, -1, -1, -1, -1, 0, -1, -1, -1, 1, -1, -1, -1, 0, -1, -1, 1, -1, 1, -1, -1, 0, 0, 1, 0, -1, -1, 1, 0, 0, 0, 0, 0, -1, 1, 1, -1): [1, 0, 0], (0, 0, 1, 0, 1, 0, 0, 0, 1, 0, 1, 1, 1, 1, 1, 1, 0, -1, 1, -1, -1, 0, 1, 0, 0, -1, -1, -1, -1, -1, -1, -1, 0, -1, -1, -1, 1, -1, -1, -1, 0, -1, -1, 1, -1, 1, -1, -1, 0, 0, 1, 0, -1, -1, 1, 0, 0, 0, 0, 0, -1, 1, 1, -1): [1, 0, 0], (0, 0, 1, 0, 1, 0, 0, 0, 1, 0, 1, 1, 1, 1, 1, 1, 0, -1, 1, -1, -1, 0, 1, 0, 0, -1, -1, -1, -1, -1, -1, -1, 0, -1, -1, -1, 1, -1, -1, -1, 0, -1, -1, 1, -1, 1, -1, -1, 0, 0, -1, 0, -1, -1, 1, 0, 0, 0, 0, -1, -1, 1, 1, -1): [1, 0, 0], (0, 0, 1, 0, 1, 0, 0, 0, 1, 0, 1, 1, 1, 1, 1, 1, 0, 1, 1, -1, -1, 0, 1, 0, 1, -1, -1, -1, -1, -1, -1, 1, 0, -1, -1, -1, 1, -1, 1, -1, 0, -1, -1, 1, -1, 1, -1, -1, 0, 0, -1, 0, -1, -1, 1, 0, 0, 0, 0, -1, -1, 1, 1, -1): [1, 0, 0], (0, 0, 1, 0, 1, 0, -1, 0, 1, 0, 1, 1, 1, -1, -1, -1, 0, 1, 1, -1, -1, 0, -1, 0, -1, -1, -1, -1, -1, -1, -1, 1, 0, -1, -1, -1, 1, -1, 1, -1, 0, -1, -1, 1, -1, 1, -1, -1, 0, 0, -1, 0, -1, -1, 1, 0, 0, 0, 0, -1, -1, 1, 1, -1): [1, 0, 0], (0, 0, 1, 0, 1, 0, -1, 0, 1, 0, 1, 1, 1, -1, -1, -1, 0, 1, 1, -1, -1, 0, -1, 0, -1, 1, -1, -1, -1, -1, -1, 1, 1, 1, 1, 1, 1, -1, 1, -1, 0, -1, -1, 1, -1, 1, -1, -1, 0, 0, -1, 0, -1, -1, 1, 0, 0, 0, 0, -1, -1, 1, 1, -1): [1, 0, 0], (0, 0, 1, 0, 1, 0, -1, 0, 1, 0, 1, 1, 1, -1, -1, -1, 0, 1, 1, -1, -1, 0, -1, -1, -1, 1, -1, -1, -1, -1, -1, -1, -1, 1, 1, 1, 1, -1, 1, -1, 0, -1, -1, 1, -1, 1, -1, -1, 0, 0, -1, 0, -1, -1, 1, 0, 0, 0, 0, -1, -1, 1, 1, -1): [1, 0, 0], (0, 0, 1, 0, 1, 0, -1, 0, 1, 0, 1, 1, 1, -1, -1, -1, 0, 1, 1, -1, -1, 0, -1, -1, -1, 1, -1, -1, -1, -1, -1, -1, -1, 1, 1, 1, 1, -1, 1, -1, 0, 1, -1, 1, -1, 1, -1, -1, 1, 0, -1, 0, -1, -1, 1, 0, 0, 0, 0, -1, -1, 1, 1, -1): [1, 0, 0], (0, 0, 1, 0, 1, 0, -1, 0, 1, 0, 1, 1, 1, -1, -1, -1, 0, 1, 1, -1, -1, 0, -1, -1, -1, 1, -1, -1, -1, -1, -1, -1, -1, 1, 1, 1, 1, -1, 1, -1, 0, 1, -1, 1, -1, 1, -1, -1, -1, 0, -1, 0, -1, -1, 1, 0, 0, -1, 0, -1, -1, 1, 1, -1): [1, 0, 0], (0, 0, 1, 0, 1, 0, -1, 0, 1, 0, 1, 1, 1, -1, -1, -1, 0, 1, 1, -1, -1, 0, -1, -1, -1, 1, -1, -1, -1, -1, -1, -1, -1, 1, 1, 1, 1, -1, 1, -1, 0, 1, 1, 1, -1, 1, -1, -1, -1, 0, -1, 1, 1, 1, 1, 0, 0, -1, 0, -1, -1, 1, 1, -1): [1, 0, 0], (0, 0, 1, 0, 1, 0, -1, 0, 1, 0, 1, 1, 1, -1, -1, -1, 0, 1, 1, -1, -1, 0, -1, -1, -1, 1, -1, -1, -1, -1, -1, -1, -1, 1, 1, 1, 1, -1, 1, -1, 0, 1, 1, 1, -1, 1, -1, -1, -1, 0, -1, -1, -1, -1, -1, -1, 0, -1, 0, -1, -1, 1, 1, -1): [1, 0, 0], (0, 0, 1, 0, 1, 0, -1, 0, 1, 0, 1, 1, 1, -1, -1, -1, 0, 1, 1, 1, 1, 1, -1, -1, -1, 1, -1, -1, 1, 1, -1, -1, -1, 1, 1, 1, 1, 1, 1, -1, 0, 1, 1, 1, -1, 1, -1, -1, -1, 0, -1, -1, -1, -1, -1, -1, 0, -1, 0, -1, -1, 1, 1, -1): [1, 0, 0], (0, -1, 1, 0, 1, 0, -1, 0, -1, 0, -1, 1, 1, -1, -1, -1, 0, 1, 1, -1, 1, 1, -1, -1, -1, 1, -1, -1, -1, 1, -1, -1, -1, 1, 1, 1, 1, -1, 1, -1, 0, 1, 1, 1, -1, 1, -1, -1, -1, 0, -1, -1, -1, -1, -1, -1, 0, -1, 0, -1, -1, 1, 1, -1): [1, 0, 0], (0, -1, 1, 0, 1, 0, -1, 1, -1, 0, -1, 1, 1, -1, 1, -1, 0, 1, 1, -1, 1, 1, -1, -1, -1, 1, -1, -1, -1, 1, -1, -1, -1, 1, 1, 1, 1, -1, 1, -1, 0, 1, 1, 1, -1, 1, -1, -1, -1, 0, -1, -1, -1, -1, -1, -1, 0, -1, 0, -1, -1, 1, 1, -1): [1, 0, 0], (0, -1, -1, -1, 1, 0, -1, 1, -1, 0, -1, -1, -1, -1, 1, -1, 0, 1, 1, -1, 1, -1, -1, -1, -1, 1, -1, -1, -1, 1, -1, -1, -1, 1, 1, 1, 1, -1, 1, -1, 0, 1, 1, 1, -1, 1, -1, -1, -1, 0, -1, -1, -1, -1, -1, -1, 0, -1, 0, -1, -1, 1, 1, -1): [1, 0, 0], (0, -1, -1, -1, 1, 0, -1, 1, -1, 1, 1, 1, 1, 1, 1, -1, 0, 1, 1, -1, 1, -1, -1, -1, -1, 1, -1, -1, -1, 1, -1, -1, -1, 1, 1, 1, 1, -1, 1, -1, 0, 1, 1, 1, -1, 1, -1, -1, -1, 0, -1, -1, -1, -1, -1, -1, 0, -1, 0, -1, -1, 1, 1, -1): [1, 0, 0], (0, -1, -1, -1, 1, 0, -1, 1, -1, -1, 1, 1, 1, 1, 1, -1, -1, -1, -1, -1, 1, -1, -1, -1, -1, -1, -1, -1, -1, 1, -1, -1, -1, 1, -1, 1, 1, -1, 1, -1, 0, 1, 1, -1, -1, 1, -1, -1, -1, 0, -1, -1, -1, -1, -1, -1, 0, -1, 0, -1, -1, 1, 1, -1): [1, 0, 0], (1, 1, 1, 1, 1, 0, -1, 1, -1, 1, 1, 1, 1, 1, 1, -1, -1, -1, 1, -1, 1, -1, -1, -1, -1, -1, -1, 1, -1, 1, -1, -1, -1, 1, -1, 1, 1, -1, 1, -1, 0, 1, 1, -1, -1, 1, -1, -1, -1, 0, -1, -1, -1, -1, -1, -1, 0, -1, 0, -1, -1, 1, 1, -1): [1, 0, 0], (1, 1, 1, 1, 1, 0, -1, 1, -1, 1, 1, 1, 1, 1, 1, -1, -1, -1, 1, -1, 1, -1, -1, -1, -1, -1, -1, 1, -1, 1, -1, -1, -1, -1, -1, -1, 1, -1, 1, -1, 0, -1, -1, -1, -1, 1, -1, -1, -1, -1, -1, -1, -1, -1, -1, -1, 0, -1, 0, -1, -1, 1, 1, -1): [1, 0, 0], (1, 1, 1, 1, 1, 0, -1, 1, -1, 1, 1, 1, 1, 1, 1, -1, -1, -1, 1, -1, 1, -1, -1, -1, -1, -1, 1, 1, -1, 1, -1, -1, -1, -1, 1, -1, 1, -1, 1, -1, 0, -1, 1, -1, -1, 1, -1, -1, -1, -1, 1, -1, -1, -1, -1, -1, 0, -1, 1, 1, 1, 1, 1, -1): [1, 0, 0], (1, 1, 1, 1, 1, -1, -1, 1, -1, 1, 1, 1, -1, -1, -1, -1, -1, -1, 1, -1, 1, -1, -1, -1, -1, -1, 1, 1, -1, 1, -1, -1, -1, -1, 1, -1, 1, -1, 1, -1, 0, -1, 1, -1, -1, 1, -1, -1, -1, -1, 1, -1, -1, -1, -1, -1, 0, -1, 1, 1, 1, 1, 1, -1): [1, 0, 0], (1, 1, 1, 1, 1, -1, -1, 1, -1, 1, 1, 1, -1, -1, -1, -1, -1, -1, 1, -1, 1, -1, -1, -1, -1, -1, 1, 1, -1, 1, -1, -1, -1, -1, 1, -1, 1, -1, 1, -1, 0, -1, 1, -1, -1, 1, -1, 1, -1, 1, 1, -1, -1, -1, -1, -1, 1, 1, 1, 1, 1, 1, 1, -1): [1, 0, 0], (0, 0, 0, 0, 0, 0, 0, 0, 0, 0, 0, 0, 0, 0, 0, 0, 0, 0, 0, 0, 0, 0, 0, 0, 0, 0, 0, -1, 1, 0, 0, 0, 0, 0, 0, -1, 1, 1, 0, 0, 0, 0, 0, -1, -1, -1, 0, 0, 0, 0, 0, 0, 0, 0, 0, 0, 0, 0, 0, 0, 0, 0, 0, 0): [0, 0, 1], (0, 0, 0, 0, 0, 0, 0, 0, 0, 0, 0, 0, 0, 0, 0, 0, 0, 0, 0, 0, 0, 0, 0, 0, 0, 0, 0, -1, 1, 0, 0, 0, 0, 0, 0, -1, 1, 1, 0, 0, 0, 0, 0, -1, -1, 1, 0, 0, 0, 0, 0, 0, 0, 0, 1, 0, 0, 0, 0, 0, 0, 0, 0, 0): [0, 0, 1], (0, 0, 0, 0, 0, 0, 0, 0, 0, 0, 0, 0, 0, 0, 0, 0, 0, 0, 0, 0, 0, 0, 0, 0, 0, 0, 0, -1, -1, -1, 0, 0, 0, 0, 0, -1, -1, 1, 0, 0, 0, 0, 0, -1, -1, 1, 0, 0, 0, 0, 0, 0, 0, 0, 1, 0, 0, 0, 0, 0, 0, 0, 0, 0): [0, 0, 1], (0, 0, 0, 0, 0, 0, 0, 0, 0, 0, 0, 0, 0, 0, 0, 0, 0, 0, 0, 0, 0, 0, 0, 0, 0, 0, 0, -1, -1, -1, 0, 0, 0, 0, 1, 1, 1, 1, 0, 0, 0, 0, 0, -1, -1, 1, 0, 0, 0, 0, 0, 0, 0, 0, 1, 0, 0, 0, 0, 0, 0, 0, 0, 0): [0, 0, 1], (0, 0, 0, 0, 0, 0, 0, 0, 0, 0, 0, 0, 0, 0, 0, 0, 0, 0, 0, 0, 0, 0, 0, 0, 0, 0, 0, -1, -1, -1, 0, 0, 0, 0, -1, 1, 1, 1, 0, 0, 0, -1, 0, -1, -1, 1, 0, 0, 0, 0, 0, 0, 0, 0, 1, 0, 0, 0, 0, 0, 0, 0, 0, 0): [0, 0, 1], (0, 0, 0, 0, 0, 0, 0, 0, 0, 0, 0, 0, 0, 0, 0, 0, 0, 0, 0, 0, 0, 0, 0, 0, 0, 0, 0, -1, -1, -1, 0, 0, 0, 0, -1, 1, 1, 1, 0, 0, 0, -1, 0, -1, 1, 1, 0, 0, 0, 0, 0, 0, 0, 1, 1, 0, 0, 0, 0, 0, 0, 0, 0, 0): [0, 0, 1], (0, 0, 0, 0, 0, 0, 0, 0, 0, 0, 0, 0, 0, 0, 0, 0, 0, 0, 0, 0, 0, 0, 0, 0, 0, 0, 0, -1, -1, -1, 0, 0, 0, 0, -1, 1, -1, 1, 0, 0, 0, -1, 0, -1, -1, 1, 0, 0, 0, 0, 0, 0, -1, 1, 1, 0, 0, 0, 0, 0, 0, 0, 0, 0): [0, 0, 1], (0, 0, 0, 0, 0, 0, 0, 0, 0, 0, 0, 0, 0, 0, 0, 0, 0, 0, 1, 0, 0, 0, 0, 0, 0, 0, 0, 1, -1, -1, 0, 0, 0, 0, -1, 1, 1, 1, 0, 0, 0, -1, 0, -1, -1, 1, 0, 0, 0, 0, 0, 0, -1, 1, 1, 0, 0, 0, 0, 0, 0, 0, 0, 0): [0, 0, 1], (0, 0, 0, 0, 0, 0, 0, 0, 0, 0, 0, 0, 0, 0, 0, 0, 0, 0, 1, 0, 0, 0, 0, 0, 0, 0, 0, 1, -1, -1, 0, 0, 0, 0, -1, 1, 1, 1, 0, 0, 0, -1, 0, -1, -1, 1, 0, 0, 0, 0, 0, 0, -1, -1, -1, -1, 0, 0, 0, 0, 0, 0, 0, 0): [0, 0, 1], (0, 0, 0, 0, 0, 0, 0, 0, 0, 0, 0, 0, 0, 0, 0, 0, 0, 0, 1, 0, 0, 0, 0, 0, 0, 0, 0, 1, 1, 1, 1, 0, 0, 0, -1, 1, 1, 1, 0, 0, 0, -1, 0, -1, -1, 1, 0, 0, 0, 0, 0, 0, -1, -1, -1, -1, 0, 0, 0, 0, 0, 0, 0, 0): [0, 0, 1], (0, 0, 0, 0, 0, 0, 0, 0, 0, 0, 0, 0, 0, 0, 0, 0, 0, 0, 1, 0, 0, 0, -1, 0, 0, 0, 0, 1, 1, -1, 1, 0, 0, 0, -1, 1, -1, 1, 0, 0, 0, -1, 0, -1, -1, 1, 0, 0, 0, 0, 0, 0, -1, -1, -1, -1, 0, 0, 0, 0, 0, 0, 0, 0): [0, 0, 1], (0, 0, 0, 0, 0, 0, 0, 0, 0, 0, 0, 0, 0, 0, 0, 0, 0, 0, 1, 0, 0, 0, -1, 0, 0, 0, 0, 1, 1, -1, 1, 0, 0, 1, 1, 1, -1, 1, 0, 0, 0, -1, 0, -1, -1, 1, 0, 0, 0, 0, 0, 0, -1, -1, -1, -1, 0, 0, 0, 0, 0, 0, 0, 0): [0, 0, 1], (0, 0, 0, 0, 0, 0, 0, 0, 0, 0, 0, 0, 0, 0, 0, 0, 0, 0, 1, 0, 0, 0, -1, 0, 0, 0, 0, 1, 1, -1, -1, -1, 0, 1, 1, 1, -1, 1, 0, 0, 0, -1, 0, -1, -1, 1, 0, 0, 0, 0, 0, 0, -1, -1, -1, -1, 0, 0, 0, 0, 0, 0, 0, 0): [0, 0, 1], (0, 0, 0, 0, 0, 0, 0, 0, 0, 0, 0, 0, 0, 0, 0, 0, 0, 0, 1, 0, 0, 0, -1, 0, 0, 0, 0, 1, 1, -1, -1, -1, 0, 1, 1, 1, 1, 1, 0, 0, 0, -1, 0, -1, 1, 1, 0, 0, 0, 0, 0, 0, 1, -1, -1, -1, 0, 0, 0, 0, 1, 0, 0, 0): [0, 0, 1], (0, 0, 0, 0, 0, 0, 0, 0, 0, 0, 0, 0, 0, 0, 0, 0, 0, 0, 1, 0, 0, 0, -1, 0, 0, 0, -1, -1, -1, -1, -1, -1, 0, 1, 1, -1, 1, 1, 0, 0, 0, -1, 0, -1, -1, 1, 0, 0, 0, 0, 0, 0, 1, -1, -1, -1, 0, 0, 0, 0, 1, 0, 0, 0): [0, 0, 1], (0, 0, 0, 0, 0, 0, 0, 0, 0, 0, 0, 0, 0, 0, 0, 0, 0, 0, 1, 0, 0, 0, -1, 0, 0, 0, -1, -1, -1, -1, -1, -1, 0, 1, 1, -1, 1, 1, 0, 0, 0, -1, 0, 1, -1, 1, 0, 0, 0, 0, 1, 0, 1, -1, -1, -1, 0, 0, 0, 0, 1, 0, 0, 0): [0, 0, 1], (0, 0, 0, 0, 0, 0, 0, 0, 0, 0, 0, 0, 0, 0, 0, 0, 0, 0, 1, 0, 0, 0, -1, 0, 0, 0, -1, -1, -1, -1, -1, -1, 0, 1, 1, -1, -1, -1, -1, 0, 0, -1, 0, 1, -1, 1, 0, 0, 0, 0, 1, 0, 1, -1, -1, -1, 0, 0, 0, 0, 1, 0, 0, 0): [0, 0, 1], (0, 0, 0, 0, 0, 0, 0, 0, 0, 0, 0, 0, 0, 0, 0, 0, 0, 0, 1, 0, 0, 0, -1, 0, 0, 0, -1, -1, -1, -1, -1, -1, 0, 1, 1, -1, -1, -1, -1, 0, 0, 1, 0, 1, -1, 1, 0, 0, 1, 0, 1, 0, 1, -1, -1, -1, 0, 0, 0, 0, 1, 0, 0, 0): [0, 0, 1], (0, 0, 0, 0, 0, 0, 0, 0, 0, 0, 0, 0, 0, 0, 0, 0, 0, 0, 1, 0, 0, 0, -1, 0, 0, 0, -1, -1, -1, -1, -1, -1, 0, 1, 1, -1, -1, -1, -1, 0, 0, 1, 0, -1, -1, 1, 0, 0, 1, 0, 1, -1, -1, -1, -1, -1, 0, 0, 0, 0, 1, 0, 0, 0): [0, 0, 1], (0, 0, 0, 0, 0, 0, 0, 0, 0, 0, 0, 0, 0, 0, 0, 0, 0, 0, 1, 0, 0, 1, -1, 0, 0, 0, -1, -1, -1, 1, -1, -1, 0, 1, 1, -1, -1, 1, -1, 0, 0, 1, 0, -1, -1, 1, 0, 0, 1, 0, 1, -1, -1, -1, -1, -1, 0, 0, 0, 0, 1, 0, 0, 0): [0, 0, 1], (0, 0, 0, 0, 0, 0, 0, 0, 0, 0, 0, 0, 0, 0, 0, 0, 0, 0, 1, 0, 0, 1, -1, 0, 0, 0, -1, -1, -1, 1, -1, -1, 0, 1, 1, -1, -1, 1, -1, 0, 0, 1, 0, -1, -1, 1, 0, 0, 1, -1, -1, -1, -1, -1, -1, -1, 0, 0, 0, 0, 1, 0, 0, 0): [0, 0, 1], (0, 0, 0, 0, 0, 0, 0, 0, 0, 0, 0, 0, 0, 0, 0, 0, 0, 0, 1, 0, 0, 1, -1, 0, 0, 0, -1, -1, -1, 1, -1, -1, 0, 1, 1, -1, -1, 1, -1, 0, 0, 1, 0, 1, -1, 1, 0, 0, 1, -1, -1, -1, 1, 1, -1, -1, 0, 0, 0, 0, 1, 1, 0, 0): [0, 0, 1], (0, 0, 0, 0, 0, 0, 0, 0, 0, 0, 0, 0, 0, 0, 0, 0, 0, 0, 1, 0, -1, -1, -1, 0, 0, 0, -1, -1, -1, -1, -1, -1, 0, 1, 1, -1, -1, 1, -1, 0, 0, 1, 0, 1, -1, 1, 0, 0, 1, -1, -1, -1, 1, 1, -1, -1, 0, 0, 0, 0, 1, 1, 0, 0): [0, 0, 1], (0, 0, 0, 0, 0, 0, 0, 0, 0, 0, 0, 0, 0, 1, 0, 0, 0, 0, 1, 0, 1, 1, -1, 0, 0, 0, -1, 1, -1, 1, -1, -1, 0, 1, 1, -1, -1, 1, -1, 0, 0, 1, 0, 1, -1, 1, 0, 0, 1, -1, -1, -1, 1, 1, -1, -1, 0, 0, 0, 0, 1, 1, 0, 0): [0, 0, 1], (0, 0, 0, 0, 0, 0, 0, 0, 0, 0, 0, 0, -1, 1, 0, 0, 0, 0, 1, 0, -1, -1, -1, 0, 0, 0, -1, 1, -1, 1, -1, -1, 0, 1, 1, -1, -1, 1, -1, 0, 0, 1, 0, 1, -1, 1, 0, 0, 1, -1, -1, -1, 1, 1, -1, -1, 0, 0, 0, 0, 1, 1, 0, 0): [0, 0, 1], (0, 0, 0, 0, 0, 0, 0, 0, 0, 0, 0, 1, 1, 1, 0, 0, 0, 0, 1, 0, 1, -1, -1, 0, 0, 0, -1, 1, -1, 1, -1, -1, 0, 1, 1, -1, -1, 1, -1, 0, 0, 1, 0, 1, -1, 1, 0, 0, 1, -1, -1, -1, 1, 1, -1, -1, 0, 0, 0, 0, 1, 1, 0, 0): [0, 0, 1], (0, 0, 0, 0, 0, 0, 0, 0, 0, 0, 0, 1, 1, 1, 0, 0, 0, 0, 1, -1, -1, -1, -1, 0, 0, 0, -1, -1, -1, 1, -1, -1, 0, 1, 1, -1, -1, 1, -1, 0, 0, 1, 0, 1, -1, 1, 0, 0, 1, -1, -1, -1, 1, 1, -1, -1, 0, 0, 0, 0, 1, 1, 0, 0): [0, 0, 1], (0, 0, 0, 0, 0, 0, 0, 0, 0, 0, 0, 1, 1, 1, 0, 0, 0, 1, 1, -1, -1, -1, -1, 0, 0, 0, 1, -1, -1, 1, -1, -1, 0, 1, 1, 1, -1, 1, -1, 0, 0, 1, 0, 1, 1, 1, 0, 0, 1, -1, -1, -1, 1, 1, -1, -1, 0, 0, 0, 0, 1, 1, 0, 0): [0, 0, 1], (0, 0, 0, 0, 0, 0, 0, 0, 0, -1, 0, 1, 1, 1, 0, 0, 0, 1, -1, -1, -1, -1, -1, 0, 0, 0, 1, -1, -1, 1, -1, -1, 0, 1, 1, 1, -1, 1, -1, 0, 0, 1, 0, 1, 1, 1, 0, 0, 1, -1, -1, -1, 1, 1, -1, -1, 0, 0, 0, 0, 1, 1, 0, 0): [0, 0, 1], (0, 0, 0, 0, 0, 0, 0, 0, 0, -1, 0, 1, 1, 1, 0, 0, 0, 1, -1, -1, -1, -1, -1, 0, 0, 0, 1, -1, -1, 1, -1, -1, 0, 1, 1, 1, -1, 1, -1, 0, 0, 1, 0, 1, 1, 1, 0, 0, 1, -1, -1, -1, 1, 1, 1, -1, 0, 0, 0, 0, 1, 1, 0, 1): [0, 0, 1], (0, 0, 0, 0, 0, 0, 0, 0, 0, -1, 0, 1, 1, 1, 0, 0, 0, 1, -1, -1, -1, -1, -1, 0, 0, 0, -1, -1, -1, 1, -1, -1, 0, -1, 1, 1, -1, 1, -1, 0, -1, 1, 0, 1, 1, 1, 0, 0, 1, -1, -1, -1, 1, 1, 1, -1, 0, 0, 0, 0, 1, 1, 0, 1): [0, 0, 1], (0, 0, 0, 0, 0, 0, 0, 0, 0, -1, 0, 1, 1, 1, 0, 0, 0, 1, -1, -1, -1, -1, -1, 0, 0, 0, -1, -1, -1, 1, -1, -1, 0, -1, 1, 1, -1, 1, -1, 0, -1, 1, 0, 1, 1, 1, 0, 0, 1, -1, 1, 1, 1, 1, 1, -1, 0, 0, 0, 1, 1, 1, 0, 1): [0, 0, 1], (0, 0, 0, 0, 0, 0, 0, 0, 0, -1, 0, 1, 1, 1, 0, 0, 0, 1, -1, -1, -1, -1, -1, 0, 0, 0, -1, -1, -1, 1, -1, -1, 0, -1, -1, -1, -1, 1, -1, 0, -1, 1, -1, 1, 1, 1, 0, 0, 1, -1, 1, 1, 1, 1, 1, -1, 0, 0, 0, 1, 1, 1, 0, 1): [0, 0, 1], (0, 1, 0, 0, 0, 0, 0, 0, 0, 1, 0, 1, 1, 1, 0, 0, 0, 1, -1, -1, -1, -1, -1, 0, 0, 0, -1, -1, -1, 1, -1, -1, 0, -1, -1, -1, -1, 1, -1, 0, -1, 1, -1, 1, 1, 1, 0, 0, 1, -1, 1, 1, 1, 1, 1, -1, 0, 0, 0, 1, 1, 1, 0, 1): [0, 0, 1], (0, 1, 0, 0, 0, 0, 0, 0, 0, 1, 0, 1, 1, 1, 0, 0, -1, -1, -1, -1, -1, -1, -1, 0, 0, 0, -1, -1, -1, 1, -1, -1, 0, -1, -1, -1, -1, 1, -1, 0, -1, 1, -1, 1, 1, 1, 0, 0, 1, -1, 1, 1, 1, 1, 1, -1, 0, 0, 0, 1, 1, 1, 0, 1): [0, 0, 1], (0, 1, 0, 0, 0, 0, 0, 0, 0, 1, 0, 1, 1, 1, 0, 0, -1, -1, -1, -1, -1, -1, -1, 0, 1, 0, -1, -1, -1, 1, -1, 1, 0, 1, -1, -1, -1, 1, 1, 0, -1, 1, 1, 1, 1, 1, 0, 0, 1, -1, 1, 1, 1, 1, 1, -1, 0, 0, 0, 1, 1, 1, 0, 1): [0, 0, 1], (0, 1, 0, 0, 0, -1, 0, 0, 0, 1, 0, 1, -1, -1, 0, 0, -1, -1, -1, -1, -1, -1, -1, 0, 1, 0, -1, -1, -1, 1, -1, 1, 0, 1, -1, -1, -1, 1, 1, 0, -1, 1, 1, 1, 1, 1, 0, 0, 1, -1, 1, 1, 1, 1, 1, -1, 0, 0, 0, 1, 1, 1, 0, 1): [0, 0, 1], (0, 1, 0, 0, 0, -1, 0, 0, 0, 1, 0, 1, -1, -1, 0, 0, -1, -1, -1, -1, -1, -1, -1, 0, 1, 0, -1, -1, -1, 1, -1, 1, 0, 1, -1, -1, -1, 1, 1, 0, -1, 1, 1, 1, 1, 1, 0, 0, 1, 1, 1, 1, 1, 1, 1, -1, 1, 0, 0, 1, 1, 1, 0, 1): [0, 0, 1], (0, 1, 0, -1, 0, -1, 0, 0, 0, 1, 0, -1, -1, -1, 0, 0, -1, -1, -1, -1, -1, -1, -1, 0, 1, 0, -1, -1, -1, 1, -1, 1, 0, 1, -1, -1, -1, 1, 1, 0, -1, 1, 1, 1, 1, 1, 0, 0, 1, 1, 1, 1, 1, 1, 1, -1, 1, 0, 0, 1, 1, 1, 0, 1): [0, 0, 1], (0, 1, 1, -1, 0, -1, 0, 0, 0, 1, 0, 1, -1, -1, 0, 0, -1, -1, -1, -1, 1, -1, -1, 0, 1, 0, -1, -1, -1, 1, -1, 1, 0, 1, -1, -1, -1, 1, 1, 0, -1, 1, 1, 1, 1, 1, 0, 0, 1, 1, 1, 1, 1, 1, 1, -1, 1, 0, 0, 1, 1, 1, 0, 1): [0, 0, 1], (0, 1, 1, -1, 0, -1, 0, 0, 0, 1, -1, -1, -1, -1, 0, 0, -1, -1, -1, -1, 1, -1, -1, 0, 1, 0, -1, -1, -1, 1, -1, 1, 0, 1, -1, -1, -1, 1, 1, 0, -1, 1, 1, 1, 1, 1, 0, 0, 1, 1, 1, 1, 1, 1, 1, -1, 1, 0, 0, 1, 1, 1, 0, 1): [0, 0, 1], (0, 1, 1, -1, 0, -1, 0, 0, 1, 1, -1, -1, -1, -1, 0, 0, 1, 1, -1, -1, 1, -1, -1, 0, 1, 0, 1, -1, -1, 1, -1, 1, 0, 1, -1, 1, -1, 1, 1, 0, -1, 1, 1, 1, 1, 1, 0, 0, 1, 1, 1, 1, 1, 1, 1, -1, 1, 0, 0, 1, 1, 1, 0, 1): [0, 0, 1], (0, 1, 1, -1, 0, -1, 0, 0, 1, 1, -1, -1, -1, -1, 0, 0, 1, 1, -1, -1, 1, -1, -1, 0, 1, -1, -1, -1, -1, 1, -1, 1, 0, 1, -1, 1, -1, 1, 1, 0, -1, 1, 1, 1, 1, 1, 0, 0, 1, 1, 1, 1, 1, 1, 1, -1, 1, 0, 0, 1, 1, 1, 0, 1): [0, 0, 1], (0, 1, 1, -1, 0, -1, 0, 0, 1, 1, -1, -1, -1, -1, 0, 0, 1, 1, -1, -1, 1, -1, -1, 0, 1, -1, -1, -1, -1, 1, -1, 1, 0, 1, -1, 1, -1, 1, 1, 0, 1, 1, 1, 1, 1, 1, 0, 1, 1, 1, 1, 1, 1, 1, 1, 1, 1, 0, 0, 1, 1, 1, 0, 1): [0, 0, 1], (0, 1, 1, -1, 0, -1, 0, 0, 1, 1, -1, -1, -1, -1, 0, 0, 1, 1, -1, -1, 1, -1, -1, 0, 1, -1, -1, -1, -1, 1, -1, 1, 0, 1, -1, -1, -1, 1, 1, 0, 1, -1, 1, 1, -1, 1, 0, 1, -1, 1, 1, 1, 1, -1, 1, -1, 1, 0, 0, 1, 1, 1, -1, 1): [0, 0, 1], (0, 1, 1, 1, 1, -1, 0, 0, 1, 1, -1, -1, 1, 1, 0, 0, 1, 1, -1, -1, 1, -1, 1, 0, 1, -1, -1, -1, -1, 1, -1, 1, 0, 1, -1, -1, -1, 1, 1, 0, 1, -1, 1, 1, -1, 1, 0, 1, -1, 1, 1, 1, 1, -1, 1, -1, 1, 0, 0, 1, 1, 1, -1, 1): [0, 0, 1], (0, 1, 1, 1, 1, -1, 0, 0, 1, 1, -1, -1, 1, 1, 0, -1, -1, -1, -1, -1, 1, -1, -1, 0, 1, -1, -1, -1, -1, -1, -1, 1, 0, 1, -1, -1, -1, 1, 1, 0, 1, -1, 1, 1, -1, 1, 0, 1, -1, 1, 1, 1, 1, -1, 1, -1, 1, 0, 0, 1, 1, 1, -1, 1): [0, 0, 1], (0, 1, 1, 1, 1, 1, 1, 0, 1, 1, -1, -1, 1, 1, 0, 1, -1, -1, -1, -1, 1, -1, -1, 0, 1, -1, -1, -1, -1, -1, -1, 1, 0, 1, -1, -1, -1, 1, 1, 0, 1, -1, 1, 1, -1, 1, 0, 1, -1, 1, 1, 1, 1, -1, 1, -1, 1, 0, 0, 1, 1, 1, -1, 1): [0, 0, 1], (-1, 1, 1, 1, 1, 1, 1, 0, -1, -1, -1, -1, 1, 1, 0, 1, -1, -1, -1, -1, 1, -1, -1, 0, 1, -1, -1, -1, -1, -1, -1, 1, 0, 1, -1, -1, -1, 1, 1, 0, 1, -1, 1, 1, -1, 1, 0, 1, -1, 1, 1, 1, 1, -1, 1, -1, 1, 0, 0, 1, 1, 1, -1, 1): [0, 0, 1], (-1, 1, 1, 1, 1, 1, 1, 0, -1, -1, -1, -1, 1, 1, 0, 1, -1, -1, -1, -1, 1, 1, -1, 0, 1, -1, -1, -1, -1, -1, 1, 1, 0, 1, -1, -1, -1, 1, 1, 1, 1, -1, 1, 1, -1, 1, 0, 1, -1, 1, 1, 1, 1, -1, 1, -1, 1, 0, 0, 1, 1, 1, -1, 1): [0, 0, 1], (-1, 1, 1, 1, 1, 1, 1, 0, -1, -1, -1, -1, 1, 1, 0, 1, -1, -1, -1, -1, 1, 1, -1, 0, 1, -1, -1, -1, -1, -1, 1, -1, 0, 1, -1, -1, -1, 1, 1, 1, -1, -1, -1, 1, -1, 1, 0, 1, -1, -1, -1, -1, 1, -1, 1, -1, 1, 0, -1, -1, -1, -1, -1, 1): [0, 0, 1], (-1, 1, 1, 1, 1, 1, 1, 0, -1, -1, -1, -1, 1, 1, 1, 1, -1, -1, -1, -1, 1, 1, 1, 0, 1, -1, -1, -1, -1, -1, 1, -1, 0, 1, -1, -1, -1, 1, 1, 1, -1, -1, -1, 1, -1, 1, 0, 1, -1, -1, -1, -1, 1, -1, 1, -1, 1, 0, -1, -1, -1, -1, -1, 1): [0, 0, 1], (-1, 1, 1, 1, 1, 1, 1, -1, -1, -1, -1, -1, 1, 1, -1, 1, -1, -1, -1, -1, 1, -1, 1, 0, 1, -1, -1, -1, -1, -1, 1, -1, 0, 1, -1, -1, -1, 1, 1, 1, -1, -1, -1, 1, -1, 1, 0, 1, -1, -1, -1, -1, 1, -1, 1, -1, 1, 0, -1, -1, -1, -1, -1, 1): [0, 0, 1], (-1, 1, 1, 1, 1, 1, 1, -1, -1, -1, -1, -1, 1, 1, -1, 1, -1, -1, -1, -1, 1, -1, 1, 0, 1, -1, -1, -1, -1, -1, 1, -1, 0, 1, -1, -1, -1, 1, 1, 1, -1, 1, -1, 1, -1, 1, 0, 1, 1, 1, 1, -1, 1, -1, 1, -1, 1, 1, -1, -1, -1, -1, -1, 1): [0, 0, 1], (-1, 1, 1, 1, 1, 1, 1, -1, -1, -1, -1, -1, 1, 1, -1, -1, -1, -1, -1, -1, 1, -1, -1, -1, -1, -1, -1, -1, -1, -1, -1, -1, 0, 1, -1, -1, -1, -1, 1, 1, -1, 1, -1, 1, -1, 1, 0, 1, 1, 1, 1, -1, 1, -1, 1, -1, 1, 1, -1, -1, -1, -1, -1, 1): [0, 0, 1], (-1, 1, 1, 1, 1, 1, 1, -1, -1, -1, -1, 1, 1, 1, 1, -1, -1, -1, 1, -1, 1, -1, -1, 1, -1, 1, -1, -1, -1, -1, -1, -1, 1, 1, -1, -1, -1, -1, 1, 1, 1, 1, -1, 1, -1, 1, 0, 1, 1, 1, 1, -1, 1, -1, 1, -1, 1, 1, -1, -1, -1, -1, -1, 1): [0, 0, 1], (-1, 1, 1, 1, 1, 1, 1, -1, -1, -1, -1, 1, 1, 1, 1, -1, -1, -1, 1, -1, 1, -1, -1, 1, -1, 1, -1, -1, -1, -1, -1, -1, 1, 1, -1, -1, -1, -1, -1, 1, 1, 1, -1, 1, -1, -1, -1, 1, 1, 1, 1, -1, 1, -1, -1, -1, 1, 1, -1, -1, -1, -1, -1, 1): [0, 0, 1], (0, 0, 0, 0, 0, 0, 0, 0, 0, 0, 0, 0, 0, 0, 0, 0, 0, 0, -1, 0, 0, 0, 0, 0, 0, -1, -1, -1, 1, 0, 0, 0, 0, 0, 0, 1, 1, 1, 0, 0, 0, 0, 0, 0, 0, 0, 0, 0, 0, 0, 0, 0, 0, 0, 0, 0, 0, 0, 0, 0, 0, 0, 0, 0): [0, 1, 0], (0, 0, 0, 0, 0, 0, 0, 0, 0, 0, 0, 0, 0, 0, 0, 0, 0, 1, -1, 0, 0, 0, 0, 0, 0, -1, 1, -1, 1, 0, 0, 0, 0, 0, 0, 1, 1, 1, 0, 0, 0, 0, 0, 0, 0, 0, 0, 0, 0, 0, 0, 0, 0, 0, 0, 0, 0, 0, 0, 0, 0, 0, 0, 0): [0, 1, 0], (0, 0, 0, 0, 0, 0, 0, 0, 0, 0, 0, 0, 0, 0, 0, 0, -1, -1, -1, 0, 0, 0, 0, 0, 0, -1, 1, -1, 1, 0, 0, 0, 0, 0, 0, 1, 1, 1, 0, 0, 0, 0, 0, 0, 0, 0, 0, 0, 0, 0, 0, 0, 0, 0, 0, 0, 0, 0, 0, 0, 0, 0, 0, 0): [0, 1, 0], (0, 0, 0, 0, 0, 0, 0, 0, 0, 1, 0, 0, 0, 0, 0, 0, -1, -1, 1, 0, 0, 0, 0, 0, 0, -1, 1, 1, 1, 0, 0, 0, 0, 0, 0, 1, 1, 1, 0, 0, 0, 0, 0, 0, 0, 0, 0, 0, 0, 0, 0, 0, 0, 0, 0, 0, 0, 0, 0, 0, 0, 0, 0, 0): [0, 1, 0], (0, 0, 0, 0, 0, 0, 0, 0, 0, 1, 0, 0, 0, 0, 0, 0, -1, -1, 1, 0, 0, 0, 0, 0, 0, -1, -1, -1, -1, -1, 0, 0, 0, 0, 0, 1, 1, 1, 0, 0, 0, 0, 0, 0, 0, 0, 0, 0, 0, 0, 0, 0, 0, 0, 0, 0, 0, 0, 0, 0, 0, 0, 0, 0): [0, 1, 0], (0, 0, 0, 0, 0, 0, 0, 0, 0, 1, 0, 0, 0, 0, 0, 0, -1, 1, 1, 0, 0, 0, 0, 0, 0, 1, -1, -1, -1, -1, 0, 0, 0, 1, 0, 1, 1, 1, 0, 0, 0, 0, 0, 0, 0, 0, 0, 0, 0, 0, 0, 0, 0, 0, 0, 0, 0, 0, 0, 0, 0, 0, 0, 0): [0, 1, 0], (0, 0, -1, 0, 0, 0, 0, 0, 0, -1, 0, 0, 0, 0, 0, 0, -1, 1, 1, 0, 0, 0, 0, 0, 0, 1, -1, -1, -1, -1, 0, 0, 0, 1, 0, 1, 1, 1, 0, 0, 0, 0, 0, 0, 0, 0, 0, 0, 0, 0, 0, 0, 0, 0, 0, 0, 0, 0, 0, 0, 0, 0, 0, 0): [0, 1, 0], (0, 0, -1, 0, 0, 0, 0, 0, 0, -1, 0, 0, 0, 0, 0, 0, -1, 1, 1, 0, 0, 0, 0, 0, 0, 1, 1, 1, 1, 1, 1, 0, 0, 1, 0, 1, 1, 1, 0, 0, 0, 0, 0, 0, 0, 0, 0, 0, 0, 0, 0, 0, 0, 0, 0, 0, 0, 0, 0, 0, 0, 0, 0, 0): [0, 1, 0], (0, 0, -1, 0, 0, 0, 0, 0, 0, -1, 0, 0, 0, 0, 0, 0, -1, 1, -1, 0, 0, 0, 0, 0, 0, 1, 1, -1, 1, 1, 1, 0, 0, 1, 0, 1, -1, 1, 0, 0, 0, 0, 0, 0, 0, -1, 0, 0, 0, 0, 0, 0, 0, 0, 0, 0, 0, 0, 0, 0, 0, 0, 0, 0): [0, 1, 0], (0, 0, -1, 0, 0, 0, 0, 0, 0, -1, 0, 0, 0, 0, 0, 0, -1, 1, 1, 1, 0, 0, 0, 0, 0, 1, 1, 1, 1, 1, 1, 0, 0, 1, 0, 1, -1, 1, 0, 0, 0, 0, 0, 0, 0, -1, 0, 0, 0, 0, 0, 0, 0, 0, 0, 0, 0, 0, 0, 0, 0, 0, 0, 0): [0, 1, 0], (0, 0, -1, 0, 0, 0, 0, 0, 0, -1, 0, 0, 0, 0, 0, 0, -1, 1, 1, 1, 0, 0, -1, 0, 0, 1, 1, 1, 1, -1, 1, 0, 0, 1, 0, 1, -1, 1, 0, 0, 0, 0, 0, 0, 0, -1, 0, 0, 0, 0, 0, 0, 0, 0, 0, 0, 0, 0, 0, 0, 0, 0, 0, 0): [0, 1, 0], (0, 0, -1, 0, 0, 0, 0, 0, 0, -1, 0, 0, 0, 0, 0, 0, -1, 1, 1, 1, 0, 0, -1, 0, 0, 1, 1, 1, 1, -1, 1, 0, 0, 1, 0, 1, 1, 1, 0, 0, 0, 0, 0, 0, 0, 1, 0, 0, 0, 0, 0, 0, 0, 0, 1, 0, 0, 0, 0, 0, 0, 0, 0, 0): [0, 1, 0], (0, 0, -1, 0, 0, 0, 0, 0, 0, -1, 0, 0, 0, 0, 0, 0, -1, 1, 1, 1, 0, 0, -1, 0, 0, 1, 1, 1, 1, -1, 1, 0, 0, 1, 0, 1, 1, -1, 0, 0, 0, 0, 0, 0, 0, -1, 0, 0, 0, 0, 0, 0, 0, -1, 1, 0, 0, 0, 0, 0, 0, 0, 0, 0): [0, 1, 0], (0, 0, -1, 0, 0, 0, 0, 0, 0, -1, 0, 0, 0, 0, 0, 1, 1, 1, 1, 1, 0, 0, 1, 0, 0, 1, 1, 1, 1, 1, 1, 0, 0, 1, 0, 1, 1, -1, 0, 0, 0, 0, 0, 0, 0, -1, 0, 0, 0, 0, 0, 0, 0, -1, 1, 0, 0, 0, 0, 0, 0, 0, 0, 0): [0, 1, 0], (0, 0, -1, 0, 0, 0, 0, 0, 0, -1, -1, 0, 0, 0, 0, 1, 1, 1, 1, -1, 0, 0, 1, 0, 0, 1, 1, 1, -1, 1, 1, 0, 0, 1, 0, 1, 1, -1, 0, 0, 0, 0, 0, 0, 0, -1, 0, 0, 0, 0, 0, 0, 0, -1, 1, 0, 0, 0, 0, 0, 0, 0, 0, 0): [0, 1, 0], (1, 0, -1, 0, 0, 0, 0, 0, 0, 1, -1, 0, 0, 0, 0, 1, 1, 1, 1, -1, 0, 0, 1, 0, 0, 1, 1, 1, -1, 1, 1, 0, 0, 1, 0, 1, 1, -1, 0, 0, 0, 0, 0, 0, 0, -1, 0, 0, 0, 0, 0, 0, 0, -1, 1, 0, 0, 0, 0, 0, 0, 0, 0, 0): [0, 1, 0], (1, 0, -1, 0, 0, 0, 0, 0, 0, 1, -1, 0, 0, 0, 0, 1, 1, 1, 1, -1, 0, 0, 1, 0, 0, 1, 1, 1, -1, 1, 1, 0, 0, 1, 0, 1, 1, -1, 0, 0, 0, 0, 0, 0, 0, -1, 0, 0, 0, 0, 0, 0, 0, -1, -1, 0, 0, 0, 0, 0, 0, 0, 0, -1): [0, 1, 0], (1, 0, -1, 0, 0, 0, 0, 0, 0, 1, -1, 0, 0, 0, 0, 1, 1, 1, 1, -1, 0, 0, 1, 0, 0, 1, 1, 1, -1, 1, 1, 0, 0, 1, 0, 1, 1, 1, 0, 0, 0, 0, 0, 0, 1, -1, 0, 0, 0, 0, 0, 0, 0, -1, -1, 0, 0, 0, 0, 0, 0, 0, 0, -1): [0, 1, 0], (1, 0, -1, 0, 0, 0, 0, 0, 0, 1, -1, 0, 0, 0, 0, 1, 1, 1, 1, -1, 0, 0, 1, 0, 0, 1, 1, -1, -1, 1, 1, 0, 0, 1, 0, -1, 1, 1, 0, 0, 0, 0, 0, -1, -1, -1, 0, 0, 0, 0, 0, 0, 0, -1, -1, 0, 0, 0, 0, 0, 0, 0, 0, -1): [0, 1, 0], (1, 0, -1, 0, 0, 0, 0, 0, 0, 1, -1, 0, 0, 0, 0, 1, 1, 1, 1, -1, 0, 0, 1, 0, 0, 1, 1, -1, -1, 1, 1, 0, 0, 1, 0, 1, 1, 1, 0, 0, 0, 0, 0, -1, 1, -1, 0, 0, 0, 0, 0, 0, 0, 1, -1, 0, 0, 0, 0, 0, 0, 0, 1, -1): [0, 1, 0], (1, 0, -1, 0, 0, 0, 0, 0, 0, 1, -1, 0, 0, 0, 0, 1, 1, 1, 1, -1, 0, 0, 1, 0, 0, 1, 1, -1, -1, 1, 1, 0, 0, 1, 0, 1, 1, -1, 0, 0, 0, 0, 0, -1, 1, -1, -1, 0, 0, 0, 0, 0, 0, 1, -1, 0, 0, 0, 0, 0, 0, 0, 1, -1): [0, 1, 0], (1, 0, -1, 0, 0, 0, 0, 0, 0, 1, -1, 0, 1, 0, 0, 1, 1, 1, 1, 1, 0, 0, 1, 0, 0, 1, 1, -1, -1, 1, 1, 0, 0, 1, 0, 1, 1, -1, 0, 0, 0, 0, 0, -1, 1, -1, -1, 0, 0, 0, 0, 0, 0, 1, -1, 0, 0, 0, 0, 0, 0, 0, 1, -1): [0, 1, 0], (1, 0, -1, 0, 0, 0, 0, 0, 0, 1, -1, 0, 1, 0, 0, 1, 1, 1, 1, 1, 0, 0, 1, 0, 0, 1, 1, -1, -1, -1, -1, -1, 0, 1, 0, 1, 1, -1, 0, 0, 0, 0, 0, -1, 1, -1, -1, 0, 0, 0, 0, 0, 0, 1, -1, 0, 0, 0, 0, 0, 0, 0, 1, -1): [0, 1, 0], (1, 0, -1, 0, 0, 0, 0, 0, 0, 1, -1, 0, 1, 0, 0, 1, 1, 1, 1, 1, 0, 0, 1, 0, 0, 1, 1, -1, -1, -1, -1, -1, 0, 1, 0, 1, 1, -1, 0, 0, 0, 0, 0, -1, 1, 1, 1, 1, 0, 0, 0, 0, 0, 1, -1, 0, 0, 0, 0, 0, 0, 0, 1, -1): [0, 1, 0], (1, 0, -1, 0, 0, 0, 0, 0, 0, 1, -1, -1, 1, 0, 0, 1, 1, 1, 1, -1, 0, 0, 1, 0, 0, 1, 1, -1, -1, -1, -1, -1, 0, 1, 0, 1, 1, -1, 0, 0, 0, 0, 0, -1, 1, 1, 1, 1, 0, 0, 0, 0, 0, 1, -1, 0, 0, 0, 0, 0, 0, 0, 1, -1): [0, 1, 0], (1, 0, -1, 0, 0, 0, 0, 0, 0, 1, -1, -1, 1, 0, 0, 1, 1, 1, 1, -1, 0, 0, 1, 1, 0, 1, 1, -1, -1, -1, 1, -1, 0, 1, 0, 1, 1, 1, 0, 0, 0, 0, 0, -1, 1, 1, 1, 1, 0, 0, 0, 0, 0, 1, -1, 0, 0, 0, 0, 0, 0, 0, 1, -1): [0, 1, 0], (1, 0, -1, 0, 0, 0, 0, 0, 0, 1, -1, -1, 1, 0, 0, 1, 1, 1, -1, -1, 0, 0, 1, 1, 0, 1, -1, -1, -1, -1, 1, -1, 0, 1, -1, 1, 1, 1, 0, 0, 0, 0, 0, -1, 1, 1, 1, 1, 0, 0, 0, 0, 0, 1, -1, 0, 0, 0, 0, 0, 0, 0, 1, -1): [0, 1, 0], (1, 0, -1, 0, 0, 0, 0, 0, 0, 1, -1, -1, 1, 0, 0, 1, 1, 1, -1, -1, 0, 0, 1, 1, 0, 1, -1, -1, -1, -1, 1, 1, 0, 1, -1, 1, 1, 1, 0, 1, 0, 0, 0, -1, 1, 1, 1, 1, 0, 0, 0, 0, 0, 1, -1, 0, 0, 0, 0, 0, 0, 0, 1, -1): [0, 1, 0], (1, 0, -1, 0, 0, 0, 0, 0, 0, 1, -1, -1, 1, 0, 0, 1, 1, 1, -1, -1, 0, 0, 1, 1, 0, 1, -1, -1, -1, -1, 1, 1, 0, 1, -1, -1, -1, -1, -1, 1, 0, 0, 0, -1, 1, 1, -1, 1, 0, 0, 0, 0, 0, 1, -1, 0, 0, 0, 0, 0, 0, 0, 1, -1): [0, 1, 0], (1, 0, -1, 0, 0, 0, 0, 0, 0, 1, -1, -1, 1, 0, 0, 1, 1, 1, -1, -1, 0, 0, 1, 1, 0, 1, -1, -1, -1, -1, 1, 1, 0, 1, -1, -1, -1, -1, -1, 1, 0, 0, 1, 1, 1, 1, -1, 1, 0, 0, 0, 0, 0, 1, -1, 0, 0, 0, 0, 0, 0, 0, 1, -1): [0, 1, 0], (1, 0, -1, 0, 0, 0, 0, 0, 0, 1, -1, -1, 1, 0, 0, 1, 1, 1, -1, -1, 0, 0, 1, 1, 0, 1, -1, -1, -1, -1, 1, 1, 0, 1, -1, -1, -1, -1, -1, 1, 0, 0, -1, 1, 1, 1, -1, 1, 0, -1, 0, 0, 0, 1, -1, 0, 0, 0, 0, 0, 0, 0, 1, -1): [0, 1, 0], (1, 0, -1, 0, 0, 0, 0, 0, 0, 1, -1, -1, 1, 0, 0, 1, 1, 1, -1, -1, 0, 0, 1, 1, 0, 1, -1, -1, -1, -1, 1, 1, 0, 1, -1, -1, -1, -1, -1, 1, 0, 1, 1, 1, 1, 1, -1, 1, 0, -1, 0, 0, 0, 1, -1, 0, 0, 0, 0, 0, 0, 0, 1, -1): [0, 1, 0], (1, 0, -1, 0, 0, 0, 0, 0, 0, 1, -1, -1, 1, 0, 0, 1, 1, 1, -1, -1, 0, 0, 1, 1, 0, 1, -1, -1, -1, -1, 1, 1, 0, 1, -1, -1, -1, -1, -1, 1, 0, -1, 1, 1, 1, 1, -1, 1, -1, -1, 0, 0, 0, 1, -1, 0, 0, 0, 0, 0, 0, 0, 1, -1): [0, 1, 0], (1, 0, -1, 0, 0, 0, 0, 0, 0, 1, -1, -1, 1, 0, 0, 1, 1, 1, -1, -1, 0, 0, 1, 1, 0, 1, -1, -1, -1, -1, 1, 1, 0, 1, -1, -1, -1, -1, -1, 1, 0, -1, 1, 1, 1, 1, -1, 1, -1, -1, 0, 0, 0, 1, 1, 0, 0, 0, 0, 0, 0, 1, 1, -1): [0, 1, 0], (1, 0, -1, 0, 0, 0, 0, 0, 0, 1, -1, -1, 1, 0, 0, 1, 1, 1, -1, -1, 0, 0, 1, 1, 0, -1, -1, -1, -1, -1, 1, 1, -1, -1, -1, -1, -1, -1, -1, -1, 0, -1, 1, 1, 1, 1, -1, 1, -1, -1, 0, 0, 0, 1, 1, 0, 0, 0, 0, 0, 0, 1, 1, -1): [0, 1, 0], (1, 0, -1, 1, 0, 0, 0, 0, 0, 1, 1, 1, 1, 0, 0, 1, 1, 1, -1, 1, 0, 0, 1, 1, 0, -1, -1, 1, -1, -1, 1, 1, -1, -1, -1, 1, -1, -1, -1, -1, 0, -1, 1, 1, 1, 1, -1, 1, -1, -1, 0, 0, 0, 1, 1, 0, 0, 0, 0, 0, 0, 1, 1, -1): [0, 1, 0], (1, 0, -1, -1, -1, 0, 0, 0, 0, 1, 1, -1, 1, 0, 0, 1, 1, 1, -1, 1, 0, 0, 1, 1, 0, -1, -1, 1, -1, -1, 1, 1, -1, -1, -1, 1, -1, -1, -1, -1, 0, -1, 1, 1, 1, 1, -1, 1, -1, -1, 0, 0, 0, 1, 1, 0, 0, 0, 0, 0, 0, 1, 1, -1): [0, 1, 0], (1, 0, -1, -1, -1, 0, 0, 0, 0, 1, 1, -1, 1, 0, 0, 1, 1, 1, -1, 1, 0, 0, 1, 1, 0, -1, -1, 1, -1, -1, 1, 1, 1, -1, -1, 1, -1, -1, -1, -1, 0, 1, 1, 1, 1, 1, -1, 1, -1, -1, 1, 0, 0, 1, 1, 0, 0, 0, 0, 0, 0, 1, 1, -1): [0, 1, 0], (1, 0, -1, -1, -1, 0, 0, 0, 0, 1, 1, -1, 1, 0, 0, 1, 1, 1, -1, 1, 0, 0, 1, 1, 0, -1, -1, 1, -1, -1, 1, 1, 1, -1, -1, 1, -1, -1, -1, -1, 0, 1, 1, 1, 1, 1, -1, -1, -1, -1, 1, 0, 0, 1, 1, -1, 0, 0, 0, 0, 0, 1, 1, -1): [0, 1, 0], (1, 0, -1, -1, -1, 0, 0, 0, 0, 1, 1, -1, 1, 0, 0, 1, 1, 1, -1, 1, 0, 0, 1, 1, 1, 1, 1, 1, -1, -1, 1, 1, 1, 1, -1, 1, -1, -1, -1, -1, 0, 1, 1, 1, 1, 1, -1, -1, -1, -1, 1, 0, 0, 1, 1, -1, 0, 0, 0, 0, 0, 1, 1, -1): [0, 1, 0], (1, 0, -1, -1, -1, 0, 0, 0, 0, 1, 1, -1, 1, 0, -1, 1, 1, 1, -1, 1, 0, 0, -1, 1, 1, 1, 1, 1, -1, -1, -1, 1, 1, 1, -1, 1, -1, -1, -1, -1, 0, 1, 1, 1, 1, 1, -1, -1, -1, -1, 1, 0, 0, 1, 1, -1, 0, 0, 0, 0, 0, 1, 1, -1): [0, 1, 0], (1, 0, -1, -1, -1, 0, 0, 0, 0, 1, 1, -1, 1, 0, -1, 1, 1, 1, -1, 1, 0, 0, -1, 1, 1, 1, 1, 1, -1, -1, -1, 1, 1, 1, -1, 1, -1, -1, -1, -1, 0, 1, 1, 1, 1, 1, -1, -1, -1, 1, 1, 0, 0, 1, 1, -1, 0, 1, 0, 0, 0, 1, 1, -1): [0, 1, 0], (1, 0, -1, -1, -1, 0, 0, 0, 0, 1, 1, -1, 1, 0, -1, 1, 1, 1, -1, 1, 0, 0, -1, 1, 1, 1, 1, 1, -1, -1, -1, 1, 1, 1, -1, 1, -1, -1, -1, -1, 0, 1, -1, 1, 1, 1, -1, -1, -1, 1, -1, 0, 0, 1, 1, -1, 0, 1, -1, 0, 0, 1, 1, -1): [0, 1, 0], (1, 0, -1, -1, -1, 0, 0, 0, 0, 1, 1, -1, 1, 1, -1, 1, 1, 1, -1, 1, 0, 0, 1, 1, 1, 1, 1, 1, -1, -1, -1, 1, 1, 1, -1, 1, -1, -1, -1, -1, 0, 1, -1, 1, 1, 1, -1, -1, -1, 1, -1, 0, 0, 1, 1, -1, 0, 1, -1, 0, 0, 1, 1, -1): [0, 1, 0], (1, 0, -1, -1, -1, 0, 0, 0, 0, 1, 1, -1, -1, 1, -1, 1, 1, 1, -1, -1, -1, 0, 1, 1, 1, 1, 1, -1, -1, -1, -1, 1, 1, 1, -1, 1, -1, -1, -1, -1, 0, 1, -1, 1, 1, 1, -1, -1, -1, 1, -1, 0, 0, 1, 1, -1, 0, 1, -1, 0, 0, 1, 1, -1): [0, 1, 0], (1, 0, -1, -1, -1, 0, 0, 0, 0, 1, 1, -1, -1, 1, -1, 1, 1, 1, -1, -1, -1, 0, 1, 1, 1, 1, 1, -1, -1, -1, -1, 1, 1, 1, -1, 1, -1, -1, -1, -1, 0, 1, 1, 1, 1, 1, -1, -1, -1, 1, 1, 1, 0, 1, 1, -1, 0, 1, -1, 0, 0, 1, 1, -1): [0, 1, 0], (1, 0, -1, -1, -1, 0, -1, 0, 0, 1, 1, -1, -1, -1, -1, 1, 1, 1, -1, -1, -1, 0, 1, 1, 1, 1, 1, -1, -1, -1, -1, 1, 1, 1, -1, 1, -1, -1, -1, -1, 0, 1, 1, 1, 1, 1, -1, -1, -1, 1, 1, 1, 0, 1, 1, -1, 0, 1, -1, 0, 0, 1, 1, -1): [0, 1, 0], (1, 0, -1, -1, -1, 0, -1, 0, 0, 1, 1, -1, -1, -1, -1, 1, 1, 1, -1, -1, -1, 0, 1, 1, 1, 1, 1, -1, -1, -1, -1, 1, 1, 1, -1, 1, -1, -1, -1, -1, 0, 1, 1, 1, 1, 1, -1, -1, -1, 1, 1, 1, 0, 1, 1, -1, 0, 1, 1, 1, 0, 1, 1, -1): [0, 1, 0], (1, 0, -1, -1, -1, 0, -1, 0, 0, 1, 1, -1, -1, -1, -1, 1, 1, 1, -1, -1, -1, 0, -1, 1, 1, 1, -1, -1, -1, -1, -1, -1, 1, -1, -1, 1, -1, -1, -1, -1, -1, -1, -1, -1, -1, -1, -1, -1, -1, 1, 1, 1, 0, 1, 1, -1, 0, 1, 1, 1, 0, 1, 1, -1): [0, 1, 0], (1, 0, -1, -1, -1, 0, -1, 0, 0, 1, 1, -1, -1, -1, -1, 1, 1, 1, -1, -1, -1, 0, -1, 1, 1, 1, -1, -1, -1, -1, -1, 1, 1, -1, 1, 1, -1, -1, 1, -1, -1, -1, -1, 1, -1, 1, -1, -1, -1, 1, 1, 1, 1, 1, 1, -1, 0, 1, 1, 1, 0, 1, 1, -1): [0, 1, 0], (1, 0, -1, -1, -1, 0, -1, -1, 0, 1, 1, -1, -1, -1, -1, -1, 1, 1, -1, -1, -1, 0, -1, -1, 1, 1, -1, -1, -1, -1, -1, -1, 1, -1, 1, 1, -1, -1, 1, -1, -1, -1, -1, 1, -1, 1, -1, -1, -1, 1, 1, 1, 1, 1, 1, -1, 0, 1, 1, 1, 0, 1, 1, -1): [0, 1, 0], (1, 0, -1, -1, -1, 0, -1, 1, 0, 1, 1, -1, -1, -1, 1, -1, 1, 1, 1, 1, 1, 1, -1, -1, 1, 1, -1, -1, 1, 1, 1, -1, 1, -1, 1, 1, -1, 1, 1, 1, -1, -1, -1, 1, -1, 1, -1, -1, 1, 1, 1, 1, 1, 1, 1, -1, 0, 1, 1, 1, 0, 1, 1, -1): [0, 1, 0], (1, 0, -1, -1, -1, 0, -1, 1, -1, -1, -1, -1, -1, -1, 1, -1, -1, -1, 1, 1, 1, 1, -1, -1, -1, 1, -1, -1, 1, 1, 1, -1, -1, -1, 1, 1, -1, 1, 1, 1, -1, -1, -1, 1, -1, 1, -1, -1, 1, 1, 1, 1, 1, 1, 1, -1, 0, 1, 1, 1, 0, 1, 1, -1): [0, 1, 0], (1, 0, -1, -1, -1, 1, -1, 1, -1, -1, -1, -1, 1, 1, 1, -1, -1, -1, 1, 1, 1, 1, -1, -1, -1, 1, -1, -1, 1, 1, 1, -1, -1, -1, 1, 1, -1, 1, 1, 1, -1, -1, -1, 1, -1, 1, -1, -1, 1, 1, 1, 1, 1, 1, 1, -1, 0, 1, 1, 1, 0, 1, 1, -1): [0, 1, 0], (1, 0, -1, -1, -1, 1, -1, 1, -1, -1, -1, -1, 1, 1, 1, -1, -1, -1, 1, 1, 1, 1, -1, -1, -1, 1, -1, -1, 1, 1, 1, -1, -1, -1, 1, 1, -1, 1, 1, 1, -1, -1, -1, 1, -1, 1, -1, -1, -1, -1, 1, 1, 1, 1, 1, -1, -1, 1, 1, 1, 0, 1, 1, -1): [0, 1, 0], (1, 1, 1, 1, 1, 1, -1, 1, 1, 1, 1, -1, 1, 1, 1, 1, -1, 1, 1, 1, 1, 1, 1, -1, -1, 1, -1, -1, 1, 1, 1, -1, -1, -1, 1, 1, -1, 1, 1, 1, -1, -1, -1, 1, -1, 1, -1, -1, -1, -1, 1, 1, 1, 1, 1, -1, -1, 1, 1, 1, 0, 1, 1, -1): [0, 1, 0], (1, 1, 1, 1, 1, 1, -1, 1, 1, 1, 1, -1, 1, 1, 1, 1, -1, 1, 1, 1, 1, 1, 1, -1, -1, 1, -1, -1, 1, 1, 1, -1, -1, -1, 1, 1, -1, 1, 1, 1, -1, -1, -1, 1, -1, 1, -1, -1, -1, -1, 1, -1, -1, -1, 1, -1, -1, 1, 1, 1, -1, 1, 1, -1): [0, 1, 0], (0, 0, 0, 0, 0, 0, 0, 0, 0, 0, 0, 0, 0, 0, 0, 0, 0, 0, 0, 0, 0, 0, 0, 0, 0, 0, 0, -1, 1, 0, 0, 0, 0, 0, 0, 1, 1, 1, 0, 0, 0, 0, 0, 0, 0, 0, 0, 0, 0, 0, 0, 0, 0, 0, 0, 0, 0, 0, 0, 0, 0, 0, 0, 0): [0, 0, 1], (0, 0, 0, 0, 0, 0, 0, 0, 0, 0, 0, 0, 0, 0, 0, 0, 0, 0, 0, 0, 0, 0, 0, 0, 0, 0, 0, -1, 1, 0, 0, 0, 0, 0, 0, -1, 1, 1, 0, 0, 0, 0, 0, -1, 0, 0, 0, 0, 0, 0, 0, 0, 0, 0, 0, 0, 0, 0, 0, 0, 0, 0, 0, 0): [0, 0, 1], (0, 0, 0, 0, 0, 0, 0, 0, 0, 0, 0, 0, 0, 0, 0, 0, 0, 0, 1, 0, 0, 0, 0, 0, 0, 0, 0, 1, 1, 0, 0, 0, 0, 0, 0, -1, 1, 1, 0, 0, 0, 0, 0, -1, 0, 0, 0, 0, 0, 0, 0, 0, 0, 0, 0, 0, 0, 0, 0, 0, 0, 0, 0, 0): [0, 0, 1], (0, 0, 0, 0, 0, 0, 0, 0, 0, 0, 0, 0, 0, 0, 0, 0, 0, 0, 1, 0, 0, 0, 0, 0, 0, 0, 0, 1, 1, 0, 0, 0, 0, 0, 0, -1, -1, -1, -1, 0, 0, 0, 0, -1, 0, 0, 0, 0, 0, 0, 0, 0, 0, 0, 0, 0, 0, 0, 0, 0, 0, 0, 0, 0): [0, 0, 1], (0, 0, 0, 0, 0, 0, 0, 0, 0, 0, 0, 0, 0, 0, 0, 0, 0, 0, 1, 0, 0, 0, 0, 0, 0, 0, 0, 1, 1, 0, 0, 0, 0, 0, 0, 1, -1, -1, -1, 0, 0, 0, 0, 1, 0, 0, 0, 0, 0, 0, 0, 1, 0, 0, 0, 0, 0, 0, 0, 0, 0, 0, 0, 0): [0, 0, 1], (0, 0, 0, 0, 0, 0, 0, 0, 0, 0, 0, 0, 0, 0, 0, 0, 0, 0, 1, 0, -1, 0, 0, 0, 0, 0, 0, 1, -1, 0, 0, 0, 0, 0, 0, 1, -1, -1, -1, 0, 0, 0, 0, 1, 0, 0, 0, 0, 0, 0, 0, 1, 0, 0, 0, 0, 0, 0, 0, 0, 0, 0, 0, 0): [0, 0, 1], (0, 0, 0, 0, 0, 0, 0, 0, 0, 0, 0, 0, 0, 0, 0, 0, 0, 0, 1, 0, -1, 1, 0, 0, 0, 0, 0, 1, 1, 0, 0, 0, 0, 0, 0, 1, -1, -1, -1, 0, 0, 0, 0, 1, 0, 0, 0, 0, 0, 0, 0, 1, 0, 0, 0, 0, 0, 0, 0, 0, 0, 0, 0, 0): [0, 0, 1], (0, 0, 0, 0, 0, 0, 0, 0, 0, 0, 0, 0, 0, 0, 0, 0, 0, 0, 1, 0, -1, 1, 0, 0, 0, 0, 0, 1, 1, 0, 0, 0, 0, 0, 0, 1, -1, -1, -1, 0, 0, 0, 0, -1, 0, 0, 0, 0, 0, 0, -1, 1, 0, 0, 0, 0, 0, 0, 0, 0, 0, 0, 0, 0): [0, 0, 1], (0, 0, 0, 0, 0, 0, 0, 0, 0, 0, 0, 0, 0, 0, 0, 0, 0, 0, 1, 0, -1, 1, 0, 0, 0, 0, 0, 1, 1, 0, 0, 0, 0, 0, 0, 1, -1, 1, -1, 0, 0, 0, 0, -1, 0, 0, 1, 0, 0, 0, -1, 1, 0, 0, 0, 0, 0, 0, 0, 0, 0, 0, 0, 0): [0, 0, 1], (0, 0, 0, 0, 0, 0, 0, 0, 0, 0, 0, 0, 0, 0, 0, 0, 0, 0, 1, 0, -1, 1, 0, 0, 0, 0, 0, -1, 1, 0, 0, 0, 0, 0, -1, -1, -1, 1, -1, 0, 0, 0, 0, -1, 0, 0, 1, 0, 0, 0, -1, 1, 0, 0, 0, 0, 0, 0, 0, 0, 0, 0, 0, 0): [0, 0, 1], (0, 0, 0, 0, 0, 0, 0, 0, 0, 0, 0, 0, 0, 0, 0, 0, 0, 0, 1, 0, -1, 1, 0, 0, 0, 0, 0, -1, 1, 0, 0, 0, 0, 0, -1, -1, -1, 1, 1, 1, 0, 0, 0, -1, 0, 0, 1, 0, 0, 0, -1, 1, 0, 0, 0, 0, 0, 0, 0, 0, 0, 0, 0, 0): [0, 0, 1], (0, 0, 0, 0, 0, 0, 0, 0, 0, 0, 0, 0, 0, 0, 0, 0, 0, 0, 1, 0, -1, 1, 0, 0, 0, 0, 0, -1, 1, 0, 0, 0, 0, 0, -1, -1, -1, 1, 1, 1, 0, 0, 0, -1, 0, 0, 1, 0, 0, 0, -1, -1, 0, 0, 0, 0, 0, 0, 0, -1, 0, 0, 0, 0): [0, 0, 1], (0, 0, 0, 0, 0, 0, 0, 0, 0, 0, 0, 0, 1, 0, 0, 0, 0, 0, 1, 0, 1, 1, 0, 0, 0, 0, 0, -1, 1, 0, 0, 0, 0, 0, -1, -1, -1, 1, 1, 1, 0, 0, 0, -1, 0, 0, 1, 0, 0, 0, -1, -1, 0, 0, 0, 0, 0, 0, 0, -1, 0, 0, 0, 0): [0, 0, 1], (0, 0, 0, 0, 0, 0, 0, 0, 0, 0, 0, 0, 1, 0, 0, 0, 0, 0, 1, 0, 1, 1, 0, 0, 0, 0, 0, -1, -1, -1, 0, 0, 0, 0, -1, -1, -1, 1, 1, 1, 0, 0, 0, -1, 0, 0, 1, 0, 0, 0, -1, -1, 0, 0, 0, 0, 0, 0, 0, -1, 0, 0, 0, 0): [0, 0, 1], (0, 0, 0, 0, 0, 0, 0, 0, 0, 0, 0, 0, 1, 0, 0, 0, 0, 0, 1, 0, 1, 1, 0, 0, 0, 0, 0, -1, 1, -1, 0, 0, 0, 0, -1, 1, -1, 1, 1, 1, 0, 0, 1, -1, 0, 0, 1, 0, 0, 0, -1, -1, 0, 0, 0, 0, 0, 0, 0, -1, 0, 0, 0, 0): [0, 0, 1], (0, 0, 0, 0, 0, 0, 0, 0, 0, 0, 0, 0, 1, 0, 0, 0, 0, 0, 1, 0, 1, 1, 0, 0, 0, 0, 0, -1, 1, -1, 0, 0, 0, 0, -1, 1, -1, -1, 1, 1, 0, 0, 1, -1, 0, -1, 1, 0, 0, 0, -1, -1, 0, 0, 0, 0, 0, 0, 0, -1, 0, 0, 0, 0): [0, 0, 1], (0, 0, 0, 0, 0, 0, 0, 0, 0, 0, 0, 0, 1, 0, 0, 0, 0, 0, 1, 0, 1, 1, 0, 0, 0, 0, 1, 1, 1, -1, 0, 0, 0, 0, 1, 1, -1, -1, 1, 1, 0, 0, 1, -1, 0, -1, 1, 0, 0, 0, -1, -1, 0, 0, 0, 0, 0, 0, 0, -1, 0, 0, 0, 0): [0, 0, 1], (0, 0, 0, 0, 0, 0, 0, 0, 0, -1, 0, 0, 1, 0, 0, 0, 0, 0, -1, 0, 1, 1, 0, 0, 0, 0, 1, -1, 1, -1, 0, 0, 0, 0, 1, 1, -1, -1, 1, 1, 0, 0, 1, -1, 0, -1, 1, 0, 0, 0, -1, -1, 0, 0, 0, 0, 0, 0, 0, -1, 0, 0, 0, 0): [0, 0, 1], (0, 0, 0, 0, 0, 0, 0, 0, 0, -1, 0, 0, 1, 0, 0, 0, 0, 0, -1, 1, 1, 1, 0, 0, 0, 0, 1, 1, 1, -1, 0, 0, 0, 0, 1, 1, -1, -1, 1, 1, 0, 0, 1, -1, 0, -1, 1, 0, 0, 0, -1, -1, 0, 0, 0, 0, 0, 0, 0, -1, 0, 0, 0, 0): [0, 0, 1], (0, 0, 0, 0, 0, 0, 0, 0, 0, -1, 0, -1, 1, 0, 0, 0, 0, 0, -1, -1, -1, 1, 0, 0, 0, 0, 1, -1, 1, -1, 0, 0, 0, 0, 1, -1, -1, -1, 1, 1, 0, 0, 1, -1, 0, -1, 1, 0, 0, 0, -1, -1, 0, 0, 0, 0, 0, 0, 0, -1, 0, 0, 0, 0): [0, 0, 1], (0, 0, 0, 0, 0, 0, 0, 0, 0, -1, 0, -1, 1, 0, 0, 0, 0, 0, -1, -1, -1, 1, 0, 0, 0, 0, 1, -1, 1, 1, 0, 0, 0, 0, 1, -1, -1, 1, 1, 1, 0, 0, 1, -1, 0, 1, 1, 0, 0, 0, -1, -1, 0, 1, 0, 0, 0, 0, 0, -1, 0, 0, 0, 0): [0, 0, 1], (0, 0, 0, 0, 0, 0, 0, 0, 0, -1, 0, -1, 1, 0, 0, 0, 0, 0, -1, -1, -1, -1, -1, 0, 0, 0, 1, -1, 1, -1, 0, 0, 0, 0, 1, -1, -1, 1, 1, 1, 0, 0, 1, -1, 0, 1, 1, 0, 0, 0, -1, -1, 0, 1, 0, 0, 0, 0, 0, -1, 0, 0, 0, 0): [0, 0, 1], (0, 0, 0, 0, 0, 0, 0, 0, 0, -1, 0, -1, 1, 0, 0, 0, 0, 0, -1, -1, -1, 1, -1, 0, 0, 0, 1, -1, 1, 1, 1, 0, 0, 0, 1, -1, -1, 1, 1, 1, 0, 0, 1, -1, 0, 1, 1, 0, 0, 0, -1, -1, 0, 1, 0, 0, 0, 0, 0, -1, 0, 0, 0, 0): [0, 0, 1], (0, 0, 0, 0, 0, 0, 0, 0, 0, -1, 0, -1, 1, 0, 0, 0, 0, 0, -1, -1, -1, 1, -1, 0, 0, 0, 1, -1, 1, 1, 1, 0, 0, 0, 1, -1, -1, 1, 1, 1, 0, 0, -1, -1, 0, 1, 1, 0, 0, -1, -1, -1, 0, 1, 0, 0, 0, 0, 0, -1, 0, 0, 0, 0): [0, 0, 1], (0, 0, 1, 0, 0, 0, 0, 0, 0, -1, 0, 1, 1, 0, 0, 0, 0, 0, -1, -1, 1, 1, -1, 0, 0, 0, 1, -1, 1, 1, 1, 0, 0, 0, 1, -1, -1, 1, 1, 1, 0, 0, -1, -1, 0, 1, 1, 0, 0, -1, -1, -1, 0, 1, 0, 0, 0, 0, 0, -1, 0, 0, 0, 0): [0, 0, 1], (0, 0, 1, 0, 0, 0, 0, 0, 0, -1, 0, 1, 1, 0, 0, 0, 0, 0, -1, -1, 1, 1, -1, 0, 0, 0, 1, -1, -1, 1, 1, 0, 0, 0, 1, -1, -1, -1, 1, 1, 0, 0, -1, -1, 0, 1, -1, 0, 0, -1, -1, -1, 0, 1, 0, -1, 0, 0, 0, -1, 0, 0, 0, 0): [0, 0, 1], (0, 0, 1, 0, 0, 0, 0, 0, 0, -1, 0, 1, 1, 0, 0, 0, 0, 0, -1, -1, 1, 1, -1, 0, 0, 0, 1, -1, 1, 1, 1, 0, 0, 0, 1, 1, 1, 1, 1, 1, 0, 0, -1, -1, 1, 1, -1, 0, 0, -1, -1, -1, 0, 1, 0, -1, 0, 0, 0, -1, 0, 0, 0, 0): [0, 0, 1], (0, 0, 1, 0, 0, -1, 0, 0, 0, -1, 0, 1, -1, 0, 0, 0, 0, 0, -1, -1, 1, 1, -1, 0, 0, 0, 1, -1, 1, 1, 1, 0, 0, 0, 1, 1, 1, 1, 1, 1, 0, 0, -1, -1, 1, 1, -1, 0, 0, -1, -1, -1, 0, 1, 0, -1, 0, 0, 0, -1, 0, 0, 0, 0): [0, 0, 1], (0, 0, 1, 0, 0, -1, 0, 0, 0, -1, 0, 1, -1, 0, 0, 0, 0, 0, -1, -1, 1, 1, -1, 0, 0, 0, 1, -1, 1, 1, 1, 0, 0, 0, 1, 1, 1, 1, 1, 1, 0, 0, -1, 1, 1, 1, -1, 0, 0, -1, 1, -1, 0, 1, 0, -1, 0, 1, 0, -1, 0, 0, 0, 0): [0, 0, 1], (0, 0, 1, 0, 0, -1, 0, 0, 0, -1, 0, 1, -1, 0, 0, 0, 0, 0, -1, -1, 1, 1, -1, 0, 0, -1, -1, -1, 1, 1, 1, 0, 0, 0, 1, 1, 1, 1, 1, 1, 0, 0, -1, 1, 1, 1, -1, 0, 0, -1, 1, -1, 0, 1, 0, -1, 0, 1, 0, -1, 0, 0, 0, 0): [0, 0, 1], (0, 0, 1, 0, 0, -1, 0, 0, 0, -1, 0, 1, -1, 0, 0, 0, 0, 0, 1, -1, 1, 1, -1, 0, 0, 1, -1, -1, 1, 1, 1, 0, 1, 0, 1, 1, 1, 1, 1, 1, 0, 0, -1, 1, 1, 1, -1, 0, 0, -1, 1, -1, 0, 1, 0, -1, 0, 1, 0, -1, 0, 0, 0, 0): [0, 0, 1], (0, 0, 1, 0, 0, -1, 0, 0, 0, -1, 0, 1, -1, 0, -1, 0, 0, 0, 1, -1, 1, -1, -1, 0, 0, 1, -1, -1, -1, 1, 1, 0, 1, 0, 1, -1, 1, 1, 1, 1, 0, 0, -1, 1, 1, 1, -1, 0, 0, -1, 1, -1, 0, 1, 0, -1, 0, 1, 0, -1, 0, 0, 0, 0): [0, 0, 1], (0, 0, 1, 0, 0, -1, 0, 0, 0, -1, 0, 1, -1, 0, -1, 0, 0, 0, 1, -1, 1, -1, -1, 0, 0, 1, -1, -1, -1, 1, 1, 0, 1, 0, 1, -1, 1, 1, 1, 1, 0, 0, -1, 1, 1, 1, -1, 0, 0, -1, 1, 1, 0, 1, 0, -1, 0, 1, 1, -1, 0, 0, 0, 0): [0, 0, 1], (0, 0, 1, 0, 0, -1, 0, 0, 0, -1, 0, 1, -1, 0, -1, 0, 0, 0, 1, -1, 1, -1, -1, 0, 0, 1, -1, -1, -1, 1, 1, 0, 1, 0, 1, -1, 1, 1, 1, 1, 0, 0, -1, 1, 1, 1, -1, 0, 0, -1, 1, 1, 0, 1, 0, -1, -1, -1, -1, -1, 0, 0, 0, 0): [0, 0, 1], (0, 0, 1, 0, 1, -1, 0, 0, 0, -1, 0, 1, 1, 0, -1, 0, 0, 0, 1, -1, 1, -1, -1, 0, 0, 1, -1, -1, -1, 1, 1, 0, 1, 0, 1, -1, 1, 1, 1, 1, 0, 0, -1, 1, 1, 1, -1, 0, 0, -1, 1, 1, 0, 1, 0, -1, -1, -1, -1, -1, 0, 0, 0, 0): [0, 0, 1], (0, 0, 1, -1, -1, -1, 0, 0, 0, -1, 0, -1, -1, 0, -1, 0, 0, 0, 1, -1, 1, -1, -1, 0, 0, 1, -1, -1, -1, 1, 1, 0, 1, 0, 1, -1, 1, 1, 1, 1, 0, 0, -1, 1, 1, 1, -1, 0, 0, -1, 1, 1, 0, 1, 0, -1, -1, -1, -1, -1, 0, 0, 0, 0): [0, 0, 1], (0, 0, 1, -1, -1, -1, 0, 0, 0, -1, 0, -1, -1, 0, -1, 0, 0, 0, 1, -1, 1, -1, -1, 0, 0, 1, -1, -1, -1, 1, 1, 0, 1, 0, 1, -1, 1, 1, 1, 1, 0, 0, -1, 1, 1, 1, -1, 0, 1, 1, 1, 1, 0, 1, 0, -1, -1, -1, -1, -1, 0, 0, 0, 0): [0, 0, 1], (0, 0, 1, -1, -1, -1, 0, 0, 0, -1, 0, -1, -1, 0, -1, 0, 0, 0, 1, -1, 1, -1, -1, 0, 0, 1, -1, -1, -1, 1, 1, 0, 1, 0, 1, -1, 1, 1, 1, 1, -1, 0, -1, 1, 1, 1, -1, 0, -1, -1, 1, 1, 0, 1, 0, -1, -1, -1, -1, -1, 0, 0, 0, 0): [0, 0, 1], (1, 0, 1, -1, -1, -1, 0, 0, 0, 1, 0, -1, -1, 0, -1, 0, 0, 0, 1, -1, 1, -1, -1, 0, 0, 1, -1, -1, -1, 1, 1, 0, 1, 0, 1, -1, 1, 1, 1, 1, -1, 0, -1, 1, 1, 1, -1, 0, -1, -1, 1, 1, 0, 1, 0, -1, -1, -1, -1, -1, 0, 0, 0, 0): [0, 0, 1], (1, 0, 1, -1, -1, -1, 0, 0, 0, 1, 0, -1, -1, 0, -1, 0, 0, 0, 1, -1, 1, -1, -1, 0, 0, 1, -1, -1, -1, -1, -1, -1, 1, 0, 1, -1, 1, 1, 1, 1, -1, 0, -1, 1, 1, 1, -1, 0, -1, -1, 1, 1, 0, 1, 0, -1, -1, -1, -1, -1, 0, 0, 0, 0): [0, 0, 1], (1, 0, 1, -1, -1, -1, 0, 0, 0, 1, 0, -1, -1, 0, -1, 0, 0, 0, 1, -1, 1, -1, -1, 0, 0, 1, -1, -1, -1, -1, -1, -1, 1, 1, 1, -1, 1, 1, 1, 1, -1, 0, 1, 1, 1, 1, -1, 0, -1, -1, 1, 1, 0, 1, 0, -1, -1, -1, -1, -1, 0, 0, 0, 0): [0, 0, 1], (1, 0, 1, -1, -1, -1, 0, 0, 0, 1, 0, -1, -1, 0, -1, 0, 0, 0, 1, -1, 1, -1, -1, 0, 0, 1, -1, -1, -1, -1, -1, -1, 1, 1, 1, -1, 1, -1, 1, 1, -1, 0, 1, 1, 1, -1, -1, 0, -1, -1, 1, 1, 0, -1, 0, -1, -1, -1, -1, -1, 0, -1, 0, 0): [0, 0, 1], (1, 0, 1, -1, -1, -1, 0, 0, 0, 1, 0, -1, -1, 0, -1, 0, 0, 0, 1, -1, 1, -1, -1, 0, 0, 1, -1, -1, -1, -1, -1, -1, 1, 1, 1, -1, 1, -1, 1, 1, -1, 0, 1, 1, 1, 1, 1, 0, -1, -1, 1, 1, 0, -1, 1, -1, -1, -1, -1, -1, 0, -1, 0, 0): [0, 0, 1], (1, -1, -1, -1, -1, -1, 0, 0, 0, 1, 0, -1, -1, 0, -1, 0, 0, 0, 1, -1, 1, -1, -1, 0, 0, 1, -1, -1, -1, -1, -1, -1, 1, 1, 1, -1, 1, -1, 1, 1, -1, 0, 1, 1, 1, 1, 1, 0, -1, -1, 1, 1, 0, -1, 1, -1, -1, -1, -1, -1, 0, -1, 0, 0): [0, 0, 1], (1, -1, -1, -1, -1, -1, 1, 0, 0, 1, 0, -1, -1, 0, 1, 0, 0, 0, 1, -1, 1, -1, 1, 0, 0, 1, -1, -1, -1, -1, 1, -1, 1, 1, 1, -1, 1, -1, 1, 1, -1, 0, 1, 1, 1, 1, 1, 0, -1, -1, 1, 1, 0, -1, 1, -1, -1, -1, -1, -1, 0, -1, 0, 0): [0, 0, 1], (1, -1, -1, -1, -1, -1, -1, -1, 0, 1, 0, -1, -1, 0, -1, 0, 0, 0, 1, -1, 1, -1, 1, 0, 0, 1, -1, -1, -1, -1, 1, -1, 1, 1, 1, -1, 1, -1, 1, 1, -1, 0, 1, 1, 1, 1, 1, 0, -1, -1, 1, 1, 0, -1, 1, -1, -1, -1, -1, -1, 0, -1, 0, 0): [0, 0, 1], (1, -1, -1, -1, -1, -1, -1, -1, 0, 1, 1, -1, -1, 0, -1, 0, 0, 0, 1, 1, 1, -1, 1, 0, 0, 1, -1, -1, 1, -1, 1, -1, 1, 1, 1, -1, 1, 1, 1, 1, -1, 0, 1, 1, 1, 1, 1, 0, -1, -1, 1, 1, 0, -1, 1, -1, -1, -1, -1, -1, 0, -1, 0, 0): [0, 0, 1], (1, -1, -1, -1, -1, -1, -1, -1, 0, 1, 1, -1, -1, -1, -1, 0, 0, 0, 1, 1, -1, -1, -1, 0, 0, 1, -1, -1, 1, -1, 1, -1, 1, 1, 1, -1, 1, 1, 1, 1, -1, 0, 1, 1, 1, 1, 1, 0, -1, -1, 1, 1, 0, -1, 1, -1, -1, -1, -1, -1, 0, -1, 0, 0): [0, 0, 1], (1, -1, -1, -1, -1, -1, -1, -1, 0, 1, 1, -1, -1, -1, -1, 0, 0, 0, 1, 1, -1, -1, -1, 0, 0, 1, -1, -1, 1, -1, 1, -1, 1, 1, 1, -1, 1, 1, 1, 1, -1, 0, 1, 1, 1, 1, 1, 0, -1, -1, 1, 1, 0, 1, 1, -1, -1, -1, -1, -1, 0, -1, 1, 0): [0, 0, 1], (1, -1, -1, -1, -1, -1, -1, -1, 0, 1, 1, -1, -1, -1, -1, 0, 0, 0, 1, 1, -1, -1, -1, 0, 0, 1, -1, -1, 1, -1, 1, -1, 1, 1, 1, -1, 1, 1, -1, -1, -1, 0, 1, 1, 1, 1, 1, -1, -1, -1, 1, 1, 0, 1, -1, -1, -1, -1, -1, -1, 0, -1, 1, 0): [0, 0, 1], (1, -1, -1, -1, -1, -1, -1, -1, 0, 1, 1, -1, -1, -1, -1, 0, 0, 0, 1, 1, 1, 1, 1, 1, 0, 1, -1, -1, 1, -1, 1, -1, 1, 1, 1, -1, 1, 1, -1, -1, -1, 0, 1, 1, 1, 1, 1, -1, -1, -1, 1, 1, 0, 1, -1, -1, -1, -1, -1, -1, 0, -1, 1, 0): [0, 0, 1], (1, -1, -1, -1, -1, -1, -1, -1, 0, 1, 1, -1, -1, -1, -1, -1, 0, 0, 1, 1, 1, 1, -1, -1, 0, 1, -1, -1, 1, -1, 1, -1, 1, 1, 1, -1, 1, 1, -1, -1, -1, 0, 1, 1, 1, 1, 1, -1, -1, -1, 1, 1, 0, 1, -1, -1, -1, -1, -1, -1, 0, -1, 1, 0): [0, 0, 1], (1, -1, -1, -1, -1, -1, -1, -1, 0, 1, 1, -1, -1, -1, -1, -1, 0, 0, 1, 1, 1, 1, -1, -1, 0, 1, -1, -1, 1, -1, 1, -1, 1, 1, 1, -1, 1, 1, -1, -1, -1, 0, 1, 1, 1, 1, 1, -1, -1, 1, 1, 1, 0, 1, 1, -1, 1, -1, -1, -1, 0, -1, 1, 1): [0, 0, 1], (1, -1, -1, -1, -1, -1, -1, -1, 0, -1, -1, -1, -1, -1, -1, -1, 0, -1, -1, -1, -1, -1, -1, -1, 0, 1, -1, -1, 1, -1, 1, -1, 1, 1, 1, -1, 1, 1, -1, -1, -1, 0, 1, 1, 1, 1, 1, -1, -1, 1, 1, 1, 0, 1, 1, -1, 1, -1, -1, -1, 0, -1, 1, 1): [0, 0, 1], (1, -1, -1, -1, -1, -1, -1, -1, 1, -1, -1, -1, -1, -1, -1, 1, 0, 1, -1, -1, -1, -1, 1, -1, 0, 1, 1, -1, 1, 1, 1, -1, 1, 1, 1, 1, 1, 1, -1, -1, -1, 0, 1, 1, 1, 1, 1, -1, -1, 1, 1, 1, 0, 1, 1, -1, 1, -1, -1, -1, 0, -1, 1, 1): [0, 0, 1], (1, -1, -1, -1, -1, -1, -1, -1, 1, -1, -1, -1, -1, -1, -1, 1, -1, -1, -1, -1, -1, -1, 1, -1, 0, 1, 1, -1, 1, 1, 1, -1, 1, 1, 1, 1, 1, 1, -1, -1, -1, 0, 1, 1, 1, 1, 1, -1, -1, 1, 1, 1, 0, 1, 1, -1, 1, -1, -1, -1, 0, -1, 1, 1): [0, 0, 1], (1, -1, -1, -1, -1, -1, -1, -1, 1, -1, -1, -1, -1, -1, -1, 1, -1, -1, -1, -1, -1, -1, 1, -1, 0, 1, 1, -1, 1, 1, 1, -1, 1, 1, 1, 1, 1, 1, -1, -1, -1, 0, 1, 1, 1, 1, 1, -1, -1, 1, 1, 1, 0, 1, 1, -1, 1, -1, -1, -1, 1, 1, 1, 1): [0, 0, 1], (1, -1, -1, -1, -1, -1, -1, -1, 1, -1, -1, -1, -1, -1, -1, 1, -1, -1, -1, -1, -1, -1, 1, -1, 0, -1, 1, -1, -1, 1, 1, -1, 1, 1, -1, 1, -1, 1, -1, -1, -1, 0, 1, -1, -1, -1, 1, -1, -1, 1, 1, 1, -1, 1, 1, -1, 1, -1, -1, -1, 1, 1, 1, 1): [0, 0, 1], (1, -1, -1, -1, -1, -1, -1, -1, 1, -1, -1, -1, -1, -1, -1, 1, 1, -1, -1, -1, -1, -1, 1, -1, 1, 1, 1, -1, -1, 1, 1, -1, 1, 1, -1, 1, -1, 1, -1, -1, -1, 0, 1, -1, -1, -1, 1, -1, -1, 1, 1, 1, -1, 1, 1, -1, 1, -1, -1, -1, 1, 1, 1, 1): [0, 0, 1], (1, -1, -1, -1, -1, -1, -1, -1, 1, -1, -1, -1, -1, -1, -1, 1, 1, -1, -1, -1, -1, -1, 1, -1, 1, -1, 1, -1, -1, 1, 1, -1, -1, -1, -1, 1, -1, 1, -1, -1, -1, -1, -1, -1, -1, -1, 1, -1, -1, -1, -1, 1, -1, 1, 1, -1, 1, -1, -1, -1, 1, 1, 1, 1): [0, 0, 1], (0, 0, 0, 0, 0, 0, 0, 0, 0, 0, 0, 0, 0, 0, 0, 0, 0, 0, 0, 0, 0, 0, 0, 0, 0, 0, 0, -1, 1, 0, 0, 0, 0, 0, 0, -1, 1, 0, 0, 0, 0, 0, 0, -1, 1, 0, 0, 0, 0, 0, 0, 0, 0, 0, 0, 0, 0, 0, 0, 0, 0, 0, 0, 0): [0, 0, 1], (0, 0, 0, 0, 0, 0, 0, 0, 0, 0, 0, 0, 0, 0, 0, 0, 0, 0, 0, 0, 0, 0, 0, 0, 0, 0, 1, 1, 1, 0, 0, 0, 0, 0, 0, 1, 1, 0, 0, 0, 0, 0, 0, -1, 1, 0, 0, 0, 0, 0, 0, 0, 0, 0, 0, 0, 0, 0, 0, 0, 0, 0, 0, 0): [0, 0, 1], (0, 0, 0, 0, 0, 0, 0, 0, 0, 0, 0, 0, 0, 0, 0, 0, 0, 0, 0, -1, 0, 0, 0, 0, 0, 0, 1, -1, 1, 0, 0, 0, 0, 0, 0, -1, 1, 0, 0, 0, 0, 0, 0, -1, 1, 0, 0, 0, 0, 0, 0, 0, 0, 0, 0, 0, 0, 0, 0, 0, 0, 0, 0, 0): [0, 0, 1], (0, 0, 0, 0, 0, 0, 0, 0, 0, 0, 0, 0, 1, 0, 0, 0, 0, 0, 0, 1, 0, 0, 0, 0, 0, 0, 1, -1, 1, 0, 0, 0, 0, 0, 0, -1, 1, 0, 0, 0, 0, 0, 0, -1, 1, 0, 0, 0, 0, 0, 0, 0, 0, 0, 0, 0, 0, 0, 0, 0, 0, 0, 0, 0): [0, 0, 1], (0, 0, 0, 0, 0, 0, 0, 0, 0, 0, 0, 0, 1, 0, 0, 0, 0, 0, 0, 1, 0, 0, 0, 0, 0, 0, 1, -1, -1, -1, 0, 0, 0, 0, 0, -1, -1, 0, 0, 0, 0, 0, 0, -1, 1, 0, 0, 0, 0, 0, 0, 0, 0, 0, 0, 0, 0, 0, 0, 0, 0, 0, 0, 0): [0, 0, 1], (0, 0, 0, 0, 0, 0, 0, 0, 0, 0, 0, 0, 1, 0, 0, 0, 0, 0, 0, 1, 1, 0, 0, 0, 0, 0, 1, -1, 1, -1, 0, 0, 0, 0, 0, -1, 1, 0, 0, 0, 0, 0, 0, -1, 1, 0, 0, 0, 0, 0, 0, 0, 0, 0, 0, 0, 0, 0, 0, 0, 0, 0, 0, 0): [0, 0, 1], (0, 0, 0, 0, 0, 0, 0, 0, 0, 0, 0, 0, 1, 0, 0, 0, 0, 0, 0, 1, 1, 0, 0, 0, 0, 0, 1, -1, 1, -1, 0, 0, 0, 0, 0, -1, -1, 0, 0, 0, 0, 0, 0, -1, -1, -1, 0, 0, 0, 0, 0, 0, 0, 0, 0, 0, 0, 0, 0, 0, 0, 0, 0, 0): [0, 0, 1], (0, 0, 0, 0, 0, 0, 0, 0, 0, 0, 0, 0, 1, 0, 0, 0, 0, 0, 0, 1, 1, 0, 0, 0, 0, 0, 1, -1, 1, 1, 1, 0, 0, 0, 0, -1, -1, 0, 0, 0, 0, 0, 0, -1, -1, -1, 0, 0, 0, 0, 0, 0, 0, 0, 0, 0, 0, 0, 0, 0, 0, 0, 0, 0): [0, 0, 1], (0, 0, 0, 0, 0, 0, 0, 0, 0, 0, 0, -1, 1, 0, 0, 0, 0, 0, 0, -1, 1, 0, 0, 0, 0, 0, 1, -1, 1, 1, 1, 0, 0, 0, 0, -1, -1, 0, 0, 0, 0, 0, 0, -1, -1, -1, 0, 0, 0, 0, 0, 0, 0, 0, 0, 0, 0, 0, 0, 0, 0, 0, 0, 0): [0, 0, 1], (0, 0, 0, 0, 0, 0, 0, 0, 0, 0, 0, -1, 1, 0, 0, 0, 0, 0, 0, -1, 1, 0, 0, 0, 0, 0, 1, 1, 1, 1, 1, 0, 0, 0, 1, -1, -1, 0, 0, 0, 0, 0, 0, -1, -1, -1, 0, 0, 0, 0, 0, 0, 0, 0, 0, 0, 0, 0, 0, 0, 0, 0, 0, 0): [0, 0, 1], (0, 0, 0, 0, 0, 0, 0, 0, 0, 0, 0, -1, 1, 0, 0, 0, 0, 0, -1, -1, 1, 0, 0, 0, 0, 0, 1, -1, 1, 1, 1, 0, 0, 0, 1, -1, -1, 0, 0, 0, 0, 0, 0, -1, -1, -1, 0, 0, 0, 0, 0, 0, 0, 0, 0, 0, 0, 0, 0, 0, 0, 0, 0, 0): [0, 0, 1], (0, 0, 1, 0, 0, 0, 0, 0, 0, 0, 0, 1, 1, 0, 0, 0, 0, 0, -1, -1, 1, 0, 0, 0, 0, 0, 1, -1, 1, 1, 1, 0, 0, 0, 1, -1, -1, 0, 0, 0, 0, 0, 0, -1, -1, -1, 0, 0, 0, 0, 0, 0, 0, 0, 0, 0, 0, 0, 0, 0, 0, 0, 0, 0): [0, 0, 1], (0, 0, 1, 0, 0, 0, 0, 0, 0, 0, 0, 1, 1, 0, 0, 0, 0, 0, -1, -1, 1, 0, 0, 0, 0, 0, 1, -1, 1, 1, 1, 0, 0, 0, -1, -1, -1, 0, 0, 0, 0, -1, 0, -1, -1, -1, 0, 0, 0, 0, 0, 0, 0, 0, 0, 0, 0, 0, 0, 0, 0, 0, 0, 0): [0, 0, 1], (0, 0, 1, 0, 0, 0, 0, 0, 0, 0, 0, 1, 1, 0, 0, 0, 0, 0, -1, -1, 1, 0, 0, 0, 0, 0, 1, -1, 1, 1, 1, 0, 0, 0, -1, -1, 1, 0, 0, 0, 0, -1, 0, 1, -1, -1, 0, 0, 0, 0, 1, 0, 0, 0, 0, 0, 0, 0, 0, 0, 0, 0, 0, 0): [0, 0, 1], (0, 0, 1, 0, 0, 0, 0, 0, 0, 0, 0, 1, 1, 0, 0, 0, 0, 0, -1, -1, 1, 0, 0, 0, 0, -1, -1, -1, 1, 1, 1, 0, 0, 0, -1, -1, 1, 0, 0, 0, 0, -1, 0, 1, -1, -1, 0, 0, 0, 0, 1, 0, 0, 0, 0, 0, 0, 0, 0, 0, 0, 0, 0, 0): [0, 0, 1], (0, 0, 1, 0, 0, 0, 0, 0, 0, 0, 0, 1, 1, 0, 0, 0, 0, 0, -1, -1, 1, 0, 0, 0, 1, 1, 1, 1, 1, 1, 1, 0, 0, 0, -1, -1, 1, 0, 0, 0, 0, -1, 0, 1, -1, -1, 0, 0, 0, 0, 1, 0, 0, 0, 0, 0, 0, 0, 0, 0, 0, 0, 0, 0): [0, 0, 1], (0, 0, 1, 0, 0, 0, 0, 0, 0, 0, 0, 1, 1, 0, 0, 0, 0, 0, -1, -1, 1, 0, 0, 0, 1, 1, 1, 1, 1, 1, 1, 0, 0, 0, -1, -1, 1, 0, 0, 0, 0, -1, 0, -1, -1, -1, 0, 0, 0, 0, 1, 0, -1, 0, 0, 0, 0, 0, 0, 0, 0, 0, 0, 0): [0, 0, 1], (0, 0, 1, 0, 0, 0, 0, 0, 0, 0, 1, 1, 1, 0, 0, 0, 0, 0, 1, 1, 1, 0, 0, 0, 1, 1, 1, 1, 1, 1, 1, 0, 0, 0, -1, -1, 1, 0, 0, 0, 0, -1, 0, -1, -1, -1, 0, 0, 0, 0, 1, 0, -1, 0, 0, 0, 0, 0, 0, 0, 0, 0, 0, 0): [0, 0, 1], (0, 0, 1, -1, 0, 0, 0, 0, 0, 0, 1, -1, 1, 0, 0, 0, 0, 0, 1, -1, 1, 0, 0, 0, 1, 1, 1, -1, 1, 1, 1, 0, 0, 0, -1, -1, 1, 0, 0, 0, 0, -1, 0, -1, -1, -1, 0, 0, 0, 0, 1, 0, -1, 0, 0, 0, 0, 0, 0, 0, 0, 0, 0, 0): [0, 0, 1], (0, 0, 1, -1, 0, 0, 0, 0, 0, 0, 1, -1, 1, 0, 0, 0, 0, 0, 1, -1, 1, 0, 0, 0, 1, 1, 1, -1, 1, 1, 1, 0, 1, 0, -1, -1, 1, 0, 0, 0, 0, 1, 0, -1, -1, -1, 0, 0, 0, 0, 1, 0, -1, 0, 0, 0, 0, 0, 0, 0, 0, 0, 0, 0): [0, 0, 1], (0, 0, 1, -1, -1, 0, 0, 0, 0, 0, 1, -1, -1, 0, 0, 0, 0, 0, 1, -1, -1, 0, 0, 0, 1, 1, 1, -1, -1, 1, 1, 0, 1, 0, -1, -1, -1, 0, 0, 0, 0, 1, 0, -1, -1, -1, 0, 0, 0, 0, 1, 0, -1, 0, 0, 0, 0, 0, 0, 0, 0, 0, 0, 0): [0, 0, 1], (0, 0, 1, 1, 1, 1, 0, 0, 0, 0, 1, -1, 1, 0, 0, 0, 0, 0, 1, 1, -1, 0, 0, 0, 1, 1, 1, -1, -1, 1, 1, 0, 1, 0, -1, -1, -1, 0, 0, 0, 0, 1, 0, -1, -1, -1, 0, 0, 0, 0, 1, 0, -1, 0, 0, 0, 0, 0, 0, 0, 0, 0, 0, 0): [0, 0, 1], (0, 0, 1, 1, 1, 1, 0, 0, 0, 0, 1, -1, 1, 0, 0, 0, 0, 0, 1, 1, -1, 0, 0, 0, 1, 1, 1, -1, -1, -1, -1, -1, 1, 0, -1, -1, -1, 0, 0, 0, 0, 1, 0, -1, -1, -1, 0, 0, 0, 0, 1, 0, -1, 0, 0, 0, 0, 0, 0, 0, 0, 0, 0, 0): [0, 0, 1], (0, 0, 1, 1, 1, 1, 0, 0, 0, 0, 1, -1, 1, 0, 0, 0, 0, 0, 1, 1, -1, 0, 0, 0, 1, 1, 1, -1, -1, -1, -1, -1, 1, 0, -1, 1, -1, 0, 0, 0, 0, 1, 0, -1, 1, -1, 0, 0, 0, 0, 1, 0, -1, 1, 0, 0, 0, 0, 0, 0, 0, 0, 0, 0): [0, 0, 1], (0, 0, 1, 1, 1, 1, 0, 0, 0, 0, 1, -1, 1, 0, 0, 0, 0, 0, 1, 1, -1, 0, 0, 0, 1, 1, 1, -1, -1, -1, -1, -1, 1, 0, -1, 1, -1, 0, 0, 0, 0, 1, 0, -1, 1, -1, 0, 0, 0, 0, 1, 0, -1, -1, 0, 0, 0, 0, 0, 0, 0, -1, 0, 0): [0, 0, 1], (0, 0, 1, 1, 1, 1, 0, 0, 0, 0, 1, -1, 1, 0, 0, 0, 0, 0, 1, 1, -1, 0, 0, 0, 1, 1, 1, -1, -1, -1, -1, -1, 1, 1, 1, 1, -1, 0, 0, 0, 0, 1, 0, -1, 1, -1, 0, 0, 0, 0, 1, 0, -1, -1, 0, 0, 0, 0, 0, 0, 0, -1, 0, 0): [0, 0, 1], (0, 0, 1, 1, 1, 1, 0, 0, 0, 0, 1, -1, 1, 0, 0, 0, 0, 0, 1, 1, -1, 0, 0, 0, 1, 1, 1, -1, -1, -1, -1, -1, 1, 1, -1, 1, -1, 0, 0, 0, 0, -1, 0, -1, 1, -1, 0, 0, -1, 0, 1, 0, -1, -1, 0, 0, 0, 0, 0, 0, 0, -1, 0, 0): [0, 0, 1], (0, 0, 1, 1, 1, 1, 0, 0, 0, 0, 1, -1, 1, 0, 0, 0, 0, 0, 1, 1, -1, 0, 0, 0, 1, 1, 1, -1, -1, -1, -1, -1, 1, 1, -1, 1, -1, 0, 0, 0, 0, -1, 0, 1, 1, -1, 0, 0, -1, 0, 1, 1, -1, -1, 0, 0, 0, 0, 0, 0, 0, -1, 0, 0): [0, 0, 1], (0, 0, 1, 1, 1, 1, 0, 0, 0, 0, 1, -1, 1, 0, 0, 0, 0, 0, 1, 1, -1, 0, 0, 0, 1, 1, 1, -1, -1, -1, -1, -1, 1, 1, -1, -1, -1, 0, 0, 0, 0, -1, 0, -1, 1, -1, 0, 0, -1, 0, -1, -1, -1, -1, 0, 0, 0, 0, 0, -1, 0, -1, 0, 0): [0, 0, 1], (0, 0, 1, 1, 1, 1, 0, 0, 0, 0, 1, -1, 1, 0, 0, 0, 0, 0, 1, 1, -1, 0, 0, 0, 1, 1, 1, 1, -1, -1, -1, -1, 1, 1, -1, -1, 1, 0, 0, 0, 0, -1, 0, -1, 1, 1, 0, 0, -1, 0, -1, -1, -1, -1, 1, 0, 0, 0, 0, -1, 0, -1, 0, 0): [0, 0, 1], (0, 0, 1, 1, 1, 1, 0, 0, 0, -1, -1, -1, 1, 0, 0, 0, 0, 0, 1, 1, -1, 0, 0, 0, 1, 1, 1, 1, -1, -1, -1, -1, 1, 1, -1, -1, 1, 0, 0, 0, 0, -1, 0, -1, 1, 1, 0, 0, -1, 0, -1, -1, -1, -1, 1, 0, 0, 0, 0, -1, 0, -1, 0, 0): [0, 0, 1], (0, 0, 1, 1, 1, 1, 0, 0, 0, -1, -1, -1, 1, 0, 0, 0, 0, 0, 1, 1, -1, 0, 0, 0, 1, 1, 1, 1, -1, -1, -1, -1, 1, 1, -1, -1, 1, 0, 0, 0, 0, -1, 0, -1, 1, 1, 0, 0, -1, 0, -1, -1, -1, 1, 1, 0, 0, 0, 0, -1, 0, -1, 1, 0): [0, 0, 1], (0, 0, 1, 1, 1, 1, 0, 0, 0, -1, -1, -1, 1, 0, 0, 0, 0, 0, 1, 1, -1, 0, 0, 0, 1, 1, 1, 1, -1, -1, -1, -1, 1, 1, -1, -1, 1, 0, 0, 0, 0, -1, 0, -1, 1, 1, 0, 0, -1, 0, -1, -1, -1, 1, 1, 0, 0, 0, 0, -1, 0, -1, -1, -1): [0, 0, 1], (0, 0, 1, 1, 1, 1, 0, 0, 0, -1, -1, -1, 1, 0, 0, 0, 0, 0, 1, 1, -1, 0, 0, 0, 1, 1, 1, 1, -1, -1, -1, -1, 1, 1, 1, -1, 1, 0, 0, 0, 0, -1, 1, 1, 1, 1, 0, 0, -1, 0, -1, -1, -1, 1, 1, 0, 0, 0, 0, -1, 0, -1, -1, -1): [0, 0, 1], (0, 0, 1, 1, 1, 1, 0, 0, 0, -1, -1, -1, -1, -1, 0, 0, 0, 0, 1, 1, -1, 0, 0, 0, 1, 1, 1, 1, -1, -1, -1, -1, 1, 1, 1, -1, 1, 0, 0, 0, 0, -1, 1, 1, 1, 1, 0, 0, -1, 0, -1, -1, -1, 1, 1, 0, 0, 0, 0, -1, 0, -1, -1, -1): [0, 0, 1], (0, 0, 1, 1, 1, 1, 0, 0, 0, -1, 1, -1, -1, -1, 0, 0, 0, 1, 1, 1, -1, 0, 0, 0, 1, 1, 1, 1, -1, -1, -1, -1, 1, 1, 1, -1, 1, 0, 0, 0, 0, -1, 1, 1, 1, 1, 0, 0, -1, 0, -1, -1, -1, 1, 1, 0, 0, 0, 0, -1, 0, -1, -1, -1): [0, 0, 1], (0, 0, 1, 1, 1, 1, 0, 0, 0, -1, 1, -1, -1, -1, 0, 0, 0, 1, 1, 1, -1, 0, 0, 0, 1, 1, 1, 1, -1, -1, -1, -1, 1, 1, 1, -1, 1, 0, 0, 0, 0, -1, 1, 1, 1, 1, 0, 0, -1, 0, -1, -1, -1, -1, -1, -1, 0, 0, 0, -1, 0, -1, -1, -1): [0, 0, 1], (0, 0, 1, 1, 1, 1, 0, 0, 0, -1, 1, -1, -1, -1, 0, 0, 0, 1, 1, 1, -1, 0, 0, 0, 1, 1, 1, 1, -1, -1, -1, -1, 1, 1, 1, -1, 1, 0, 0, 0, 1, 1, 1, 1, 1, 1, 0, 0, -1, 0, -1, -1, -1, -1, -1, -1, 0, 0, 0, -1, 0, -1, -1, -1): [0, 0, 1], (0, 0, 1, 1, 1, 1, 0, 0, -1, -1, 1, -1, -1, -1, 0, 0, 0, -1, 1, 1, -1, 0, 0, 0, 1, 1, -1, 1, -1, -1, -1, -1, 1, 1, 1, -1, 1, 0, 0, 0, 1, 1, 1, 1, 1, 1, 0, 0, -1, 0, -1, -1, -1, -1, -1, -1, 0, 0, 0, -1, 0, -1, -1, -1): [0, 0, 1], (0, 0, 1, 1, 1, 1, 0, 0, -1, -1, 1, -1, -1, -1, 0, 0, 0, -1, 1, 1, -1, 0, 0, 0, 1, 1, -1, 1, -1, -1, -1, -1, 1, 1, 1, -1, 1, 0, 0, 0, 1, 1, 1, 1, 1, 1, 0, 0, 1, 0, -1, -1, -1, -1, -1, -1, 1, 0, 0, -1, 0, -1, -1, -1): [0, 0, 1], (0, 0, 1, 1, 1, 1, 0, 0, -1, -1, 1, -1, -1, -1, 0, 0, 0, -1, 1, 1, -1, 0, 0, 0, 1, 1, -1, 1, -1, -1, -1, -1, 1, 1, 1, -1, -1, -1, 0, 0, 1, 1, 1, 1, -1, -1, 0, 0, 1, 0, -1, -1, -1, -1, -1, -1, 1, 0, 0, -1, 0, -1, -1, -1): [0, 0, 1], (0, 0, 1, 1, 1, 1, 0, 0, -1, -1, 1, -1, -1, 1, 0, 0, 0, -1, 1, 1, -1, 0, 1, 0, 1, 1, -1, 1, -1, 1, -1, 1, 1, 1, 1, -1, 1, -1, 0, 0, 1, 1, 1, 1, -1, -1, 0, 0, 1, 0, -1, -1, -1, -1, -1, -1, 1, 0, 0, -1, 0, -1, -1, -1): [0, 0, 1], (0, 0, 1, 1, 1, 1, 0, 0, -1, -1, 1, -1, -1, 1, 0, 0, 0, -1, 1, 1, -1, 0, 1, 0, -1, 1, -1, 1, -1, -1, -1, -1, 1, 1, 1, -1, 1, -1, -1, 0, 1, 1, 1, 1, -1, -1, 0, 0, 1, 0, -1, -1, -1, -1, -1, -1, 1, 0, 0, -1, 0, -1, -1, -1): [0, 0, 1], (0, 1, 1, 1, 1, 1, 0, 0, -1, 1, 1, -1, -1, 1, 0, 0, 0, 1, 1, 1, -1, 0, 1, 0, -1, 1, -1, 1, -1, -1, -1, -1, 1, 1, 1, -1, 1, -1, -1, 0, 1, 1, 1, 1, -1, -1, 0, 0, 1, 0, -1, -1, -1, -1, -1, -1, 1, 0, 0, -1, 0, -1, -1, -1): [0, 0, 1], (0, 1, 1, 1, 1, 1, -1, 0, -1, 1, 1, -1, -1, -1, 0, 0, 0, 1, 1, 1, -1, 0, 1, 0, -1, 1, -1, 1, -1, -1, -1, -1, 1, 1, 1, -1, 1, -1, -1, 0, 1, 1, 1, 1, -1, -1, 0, 0, 1, 0, -1, -1, -1, -1, -1, -1, 1, 0, 0, -1, 0, -1, -1, -1): [0, 0, 1], (0, 1, 1, 1, 1, 1, -1, 0, -1, 1, 1, -1, -1, -1, 0, 0, 0, 1, 1, 1, -1, 0, 1, 0, -1, 1, -1, 1, -1, -1, -1, -1, 1, 1, 1, -1, 1, -1, -1, 0, 1, 1, 1, 1, -1, -1, 0, 0, 1, 0, 1, -1, -1, -1, -1, -1, 1, 1, 0, -1, 0, -1, -1, -1): [0, 0, 1], (0, 1, 1, 1, 1, 1, -1, 0, -1, 1, 1, -1, -1, -1, 0, 0, -1, -1, -1, -1, -1, 0, 1, 0, -1, -1, -1, 1, -1, -1, -1, -1, 1, 1, -1, -1, 1, -1, -1, 0, 1, 1, 1, -1, -1, -1, 0, 0, 1, 0, 1, -1, -1, -1, -1, -1, 1, 1, 0, -1, 0, -1, -1, -1): [0, 0, 1], (0, 1, 1, 1, 1, 1, -1, 0, -1, 1, 1, -1, -1, -1, 0, 0, -1, -1, -1, 1, -1, 0, 1, 0, -1, -1, -1, 1, 1, -1, 1, -1, 1, 1, -1, -1, 1, 1, 1, 0, 1, 1, 1, 1, 1, 1, 1, 0, 1, 0, 1, -1, -1, -1, -1, -1, 1, 1, 0, -1, 0, -1, -1, -1): [0, 0, 1], (0, 1, 1, 1, 1, 1, -1, 0, -1, 1, 1, -1, -1, -1, -1, 0, -1, -1, -1, 1, -1, 0, -1, 0, -1, -1, -1, 1, 1, -1, -1, -1, 1, 1, -1, -1, 1, 1, -1, 0, 1, 1, 1, 1, 1, 1, -1, 0, 1, 0, 1, -1, -1, -1, -1, -1, 1, 1, 0, -1, 0, -1, -1, -1): [0, 0, 1], (0, 1, 1, 1, 1, 1, 1, 1, 1, 1, 1, -1, -1, -1, -1, 0, 1, -1, -1, 1, -1, 0, -1, 0, -1, 1, -1, 1, 1, -1, -1, -1, 1, 1, 1, -1, 1, 1, -1, 0, 1, 1, 1, 1, 1, 1, -1, 0, 1, 0, 1, -1, -1, -1, -1, -1, 1, 1, 0, -1, 0, -1, -1, -1): [0, 0, 1], (0, 1, 1, 1, 1, 1, 1, 1, 1, 1, 1, -1, -1, -1, -1, 0, 1, -1, -1, 1, -1, 0, -1, 0, -1, -1, -1, 1, 1, -1, -1, -1, 1, -1, 1, -1, 1, 1, -1, 0, -1, -1, -1, 1, 1, 1, -1, 0, 1, -1, -1, -1, -1, -1, -1, -1, 1, 1, 0, -1, 0, -1, -1, -1): [0, 0, 1], (0, 1, 1, 1, 1, 1, 1, 1, 1, 1, 1, -1, 1, 1, 1, 0, 1, -1, -1, 1, 1, 1, -1, 0, -1, -1, -1, 1, 1, 1, -1, -1, 1, -1, 1, -1, 1, 1, -1, 0, -1, -1, -1, 1, 1, 1, -1, 0, 1, -1, -1, -1, -1, -1, -1, -1, 1, 1, 0, -1, 0, -1, -1, -1): [0, 0, 1], (-1, 1, 1, 1, 1, 1, 1, -1, -1, -1, 1, -1, 1, 1, -1, 0, -1, -1, -1, 1, 1, -1, -1, 0, -1, -1, -1, 1, -1, 1, -1, -1, 1, -1, 1, -1, 1, 1, -1, 0, -1, -1, -1, 1, 1, 1, -1, 0, 1, -1, -1, -1, -1, -1, -1, -1, 1, 1, 0, -1, 0, -1, -1, -1): [0, 0, 1], (-1, 1, 1, 1, 1, 1, 1, -1, -1, -1, 1, -1, 1, 1, -1, 0, -1, -1, -1, 1, 1, 1, -1, 0, -1, -1, -1, 1, -1, 1, 1, -1, 1, -1, 1, -1, 1, 1, 1, 1, 1, 1, 1, 1, 1, 1, -1, 0, 1, -1, -1, -1, -1, -1, -1, -1, 1, 1, 0, -1, 0, -1, -1, -1): [0, 0, 1], (-1, 1, 1, 1, 1, 1, 1, -1, -1, -1, 1, -1, 1, 1, -1, 0, -1, -1, -1, 1, -1, 1, -1, 0, -1, -1, -1, 1, -1, -1, 1, -1, 1, -1, 1, -1, 1, 1, -1, -1, -1, 1, 1, 1, 1, 1, -1, -1, -1, -1, -1, -1, -1, -1, -1, -1, 1, 1, 0, -1, 0, -1, -1, -1): [0, 0, 1], (-1, 1, 1, 1, 1, 1, 1, -1, -1, 1, 1, -1, 1, 1, 1, 0, 1, -1, -1, 1, -1, 1, 1, 1, 1, 1, 1, 1, -1, -1, 1, -1, 1, -1, 1, -1, 1, 1, -1, -1, -1, 1, 1, 1, 1, 1, -1, -1, -1, -1, -1, -1, -1, -1, -1, -1, 1, 1, 0, -1, 0, -1, -1, -1): [0, 0, 1], (-1, 1, 1, 1, 1, 1, 1, -1, -1, 1, 1, -1, -1, -1, -1, -1, -1, -1, -1, 1, -1, 1, -1, -1, -1, 1, 1, 1, -1, -1, 1, -1, 1, -1, 1, -1, 1, 1, -1, -1, -1, 1, 1, 1, 1, 1, -1, -1, -1, -1, -1, -1, -1, -1, -1, -1, 1, 1, 0, -1, 0, -1, -1, -1): [0, 0, 1], (-1, 1, 1, 1, 1, 1, 1, -1, -1, 1, 1, -1, -1, -1, -1, -1, -1, -1, -1, 1, -1, 1, -1, -1, -1, 1, 1, 1, -1, -1, 1, -1, 1, -1, 1, -1, 1, 1, -1, 1, -1, 1, 1, 1, 1, 1, 1, -1, -1, -1, -1, 1, 1, 1, -1, -1, 1, 1, 0, -1, 1, -1, -1, -1): [0, 0, 1], (-1, 1, 1, 1, 1, 1, 1, -1, -1, 1, 1, -1, -1, -1, -1, -1, -1, -1, -1, 1, -1, 1, -1, -1, -1, 1, 1, 1, -1, -1, -1, -1, 1, -1, 1, -1, 1, -1, -1, 1, -1, 1, 1, 1, -1, 1, 1, -1, -1, -1, -1, -1, 1, 1, -1, -1, 1, 1, -1, -1, 1, -1, -1, -1): [0, 0, 1], (0, 0, 0, 0, 0, 0, 0, 0, 0, 0, 0, 0, 0, 0, 0, 0, 0, 0, 0, 1, 0, 0, 0, 0, 0, 0, 0, 1, 1, 0, 0, 0, 0, 0, -1, -1, -1, 0, 0, 0, 0, 0, 0, 0, 0, 0, 0, 0, 0, 0, 0, 0, 0, 0, 0, 0, 0, 0, 0, 0, 0, 0, 0, 0): [1, 0, 0], (0, 0, 0, 0, 0, 0, 0, 0, 0, 0, 0, 0, 0, 0, 0, 0, 0, 0, 0, 1, 0, 0, 0, 0, 0, 0, 0, 1, 1, 0, 0, 0, 0, 0, -1, -1, 1, 0, 0, 0, 0, 0, 0, 0, 1, 0, 0, 0, 0, 0, 0, 0, 0, 0, 0, 0, 0, 0, 0, 0, 0, 0, 0, 0): [1, 0, 0], (0, 0, 0, 0, 0, 0, 0, 0, 0, 0, 0, -1, 0, 0, 0, 0, 0, 0, 0, -1, 0, 0, 0, 0, 0, 0, 0, -1, 1, 0, 0, 0, 0, 0, -1, -1, 1, 0, 0, 0, 0, 0, 0, 0, 1, 0, 0, 0, 0, 0, 0, 0, 0, 0, 0, 0, 0, 0, 0, 0, 0, 0, 0, 0): [1, 0, 0], (0, 0, 0, 0, 0, 0, 0, 0, 0, 0, 0, -1, 0, 0, 0, 0, 0, 0, 0, -1, 0, 0, 0, 0, 0, 0, 0, -1, 1, 0, 0, 0, 0, 1, 1, 1, 1, 0, 0, 0, 0, 0, 0, 0, 1, 0, 0, 0, 0, 0, 0, 0, 0, 0, 0, 0, 0, 0, 0, 0, 0, 0, 0, 0): [1, 0, 0], (0, 0, 0, 0, 0, 0, 0, 0, 0, 0, 0, -1, 0, 0, 0, 0, 0, 0, 0, -1, 0, 0, 0, 0, 0, 0, 0, -1, -1, -1, 0, 0, 0, 1, 1, 1, 1, 0, 0, 0, 0, 0, 0, 0, 1, 0, 0, 0, 0, 0, 0, 0, 0, 0, 0, 0, 0, 0, 0, 0, 0, 0, 0, 0): [1, 0, 0], (0, 0, 0, 1, 0, 0, 0, 0, 0, 0, 0, 1, 0, 0, 0, 0, 0, 0, 0, 1, 0, 0, 0, 0, 0, 0, 0, 1, -1, -1, 0, 0, 0, 1, 1, 1, 1, 0, 0, 0, 0, 0, 0, 0, 1, 0, 0, 0, 0, 0, 0, 0, 0, 0, 0, 0, 0, 0, 0, 0, 0, 0, 0, 0): [1, 0, 0], (0, 0, 0, 1, 0, 0, 0, 0, 0, 0, 0, 1, 0, 0, 0, 0, 0, 0, 0, 1, 0, 0, 0, 0, 0, 0, 0, 1, -1, -1, 0, 0, 0, 1, 1, 1, -1, 0, 0, 0, 0, 0, 0, 0, -1, 0, 0, 0, 0, 0, 0, 0, -1, 0, 0, 0, 0, 0, 0, 0, 0, 0, 0, 0): [1, 0, 0], (0, 0, 0, 1, 0, 0, 0, 0, 0, 0, 0, 1, 0, 0, 0, 0, 0, 0, 0, 1, 0, 0, 0, 0, 0, 0, 0, 1, 1, -1, 0, 0, 0, 1, 1, 1, 1, 1, 0, 0, 0, 0, 0, 0, -1, 0, 0, 0, 0, 0, 0, 0, -1, 0, 0, 0, 0, 0, 0, 0, 0, 0, 0, 0): [1, 0, 0], (0, 0, 0, 1, 0, 0, 0, 0, 0, 0, 0, 1, 0, 0, 0, 0, 0, 0, 0, 1, 0, 0, 0, 0, 0, 0, 0, 1, 1, -1, 0, 0, 0, 1, 1, 1, -1, 1, 0, 0, 0, 0, 0, -1, -1, 0, 0, 0, 0, 0, 0, 0, -1, 0, 0, 0, 0, 0, 0, 0, 0, 0, 0, 0): [1, 0, 0], (0, 0, 0, 1, 0, 0, 0, 0, 0, 0, 0, 1, 0, 0, 0, 0, 0, 0, 0, 1, 0, 0, 0, 0, 0, 0, 0, 1, 1, -1, 0, 0, 0, 1, 1, 1, -1, 1, 0, 0, 0, 0, 0, 1, 1, 0, 0, 0, 0, 0, 0, 1, -1, 0, 0, 0, 0, 0, 0, 0, 0, 0, 0, 0): [1, 0, 0], (0, 0, 0, 1, 0, 0, 0, 0, 0, 0, 0, 1, 0, 0, 0, 0, 0, 0, 0, 1, 0, 0, 0, 0, 0, 0, 0, 1, 1, -1, 0, 0, 0, 1, 1, 1, -1, -1, 0, 0, 0, 0, 0, 1, 1, -1, 0, 0, 0, 0, 0, 1, -1, 0, 0, 0, 0, 0, 0, 0, 0, 0, 0, 0): [1, 0, 0], (0, 0, 0, 1, 0, 0, 0, 0, 0, 0, 0, 1, 0, 0, 0, 0, 0, 0, 0, 1, 0, 0, 0, 0, 0, 0, 0, 1, 1, -1, 0, 0, 0, 1, 1, 1, -1, -1, 0, 0, 0, 0, 0, 1, 1, -1, 0, 0, 0, 0, 0, 1, 1, 0, 0, 0, 0, 0, 0, 0, 1, 0, 0, 0): [1, 0, 0], (0, 0, 0, 1, 0, 0, 0, 0, 0, 0, 0, 1, 0, 0, 0, 0, 0, 0, 0, 1, -1, 0, 0, 0, 0, 0, 0, 1, -1, -1, 0, 0, 0, 1, 1, 1, -1, -1, 0, 0, 0, 0, 0, 1, 1, -1, 0, 0, 0, 0, 0, 1, 1, 0, 0, 0, 0, 0, 0, 0, 1, 0, 0, 0): [1, 0, 0], (0, 0, 0, 1, 0, 0, 0, 0, 0, 0, 0, 1, 0, 0, 0, 0, 0, 0, 0, 1, -1, 0, 0, 0, 0, 0, 0, 1, 1, -1, 0, 0, 0, 1, 1, 1, -1, 1, 0, 0, 0, 0, 0, 1, 1, 1, 1, 0, 0, 0, 0, 1, 1, 0, 0, 0, 0, 0, 0, 0, 1, 0, 0, 0): [1, 0, 0], (0, 0, -1, 1, 0, 0, 0, 0, 0, 0, 0, -1, 0, 0, 0, 0, 0, 0, 0, 1, -1, 0, 0, 0, 0, 0, 0, 1, 1, -1, 0, 0, 0, 1, 1, 1, -1, 1, 0, 0, 0, 0, 0, 1, 1, 1, 1, 0, 0, 0, 0, 1, 1, 0, 0, 0, 0, 0, 0, 0, 1, 0, 0, 0): [1, 0, 0], (0, 0, -1, 1, 0, 0, 0, 0, 0, 0, 0, -1, 0, 0, 0, 0, 0, 0, 0, 1, -1, 0, 1, 0, 0, 0, 0, 1, 1, 1, 0, 0, 0, 1, 1, 1, 1, 1, 0, 0, 0, 0, 0, 1, 1, 1, 1, 0, 0, 0, 0, 1, 1, 0, 0, 0, 0, 0, 0, 0, 1, 0, 0, 0): [1, 0, 0], (0, 0, -1, 1, 0, 0, 0, 0, 0, 0, 0, -1, 0, 0, 0, 0, 0, 0, -1, -1, -1, 0, 1, 0, 0, 0, 0, 1, 1, 1, 0, 0, 0, 1, 1, 1, 1, 1, 0, 0, 0, 0, 0, 1, 1, 1, 1, 0, 0, 0, 0, 1, 1, 0, 0, 0, 0, 0, 0, 0, 1, 0, 0, 0): [1, 0, 0], (0, 0, -1, 1, 0, 0, 0, 0, 0, 0, 0, -1, 0, 1, 0, 0, 0, 0, -1, -1, 1, 0, 1, 0, 0, 0, 0, 1, 1, 1, 0, 0, 0, 1, 1, 1, 1, 1, 0, 0, 0, 0, 0, 1, 1, 1, 1, 0, 0, 0, 0, 1, 1, 0, 0, 0, 0, 0, 0, 0, 1, 0, 0, 0): [1, 0, 0], (0, 0, -1, 1, 0, 0, 0, 0, 0, 0, 0, -1, 0, 1, 0, 0, 0, 0, -1, -1, 1, 0, 1, 0, 0, 0, 0, -1, 1, 1, 0, 0, 0, 1, 1, -1, 1, 1, 0, 0, 0, 0, 0, -1, 1, 1, 1, 0, 0, 0, 0, -1, 1, 0, 0, 0, 0, 0, 0, -1, 1, 0, 0, 0): [1, 0, 0], (0, 0, -1, 1, 0, 0, 0, 0, 0, 1, 0, -1, 0, 1, 0, 0, 0, 0, 1, -1, 1, 0, 1, 0, 0, 0, 0, 1, 1, 1, 0, 0, 0, 1, 1, -1, 1, 1, 0, 0, 0, 0, 0, -1, 1, 1, 1, 0, 0, 0, 0, -1, 1, 0, 0, 0, 0, 0, 0, -1, 1, 0, 0, 0): [1, 0, 0], (0, 0, -1, 1, 0, 0, 0, 0, 0, 1, 0, -1, 0, 1, 0, 0, 0, 0, 1, -1, 1, 0, 1, 0, 0, 0, 0, 1, 1, 1, 0, 0, 0, 1, 1, -1, 1, 1, 0, 0, 0, 0, 0, -1, 1, 1, 1, 0, 0, 0, 0, -1, -1, 0, 0, 0, 0, 0, 0, -1, -1, -1, 0, 0): [1, 0, 0], (0, 0, -1, 1, 0, 0, 0, 0, 0, 1, 0, -1, 0, 1, 0, 0, 0, 0, 1, -1, 1, 0, 1, 0, 0, 0, 0, 1, 1, 1, 0, 0, 0, 1, 1, 1, 1, 1, 0, 0, 0, 0, 1, 1, 1, 1, 1, 0, 0, 0, 0, -1, -1, 0, 0, 0, 0, 0, 0, -1, -1, -1, 0, 0): [1, 0, 0], (0, 0, -1, -1, -1, 0, 0, 0, 0, 1, 0, -1, 0, 1, 0, 0, 0, 0, 1, -1, 1, 0, 1, 0, 0, 0, 0, 1, 1, 1, 0, 0, 0, 1, 1, 1, 1, 1, 0, 0, 0, 0, 1, 1, 1, 1, 1, 0, 0, 0, 0, -1, -1, 0, 0, 0, 0, 0, 0, -1, -1, -1, 0, 0): [1, 0, 0], (0, 0, -1, -1, -1, 0, 0, 0, 0, 1, 1, -1, 0, 1, 0, 0, 0, 0, 1, 1, 1, 0, 1, 0, 0, 0, 0, 1, 1, 1, 0, 0, 0, 1, 1, 1, 1, 1, 0, 0, 0, 0, 1, 1, 1, 1, 1, 0, 0, 0, 0, -1, -1, 0, 0, 0, 0, 0, 0, -1, -1, -1, 0, 0): [1, 0, 0], (0, 0, -1, -1, -1, 0, 0, 0, 0, 1, 1, -1, 0, 1, 0, 0, 0, 0, -1, 1, 1, 0, 1, 0, 0, -1, 0, 1, 1, 1, 0, 0, 0, 1, -1, 1, 1, 1, 0, 0, 0, 0, 1, -1, 1, 1, 1, 0, 0, 0, 0, -1, -1, 0, 0, 0, 0, 0, 0, -1, -1, -1, 0, 0): [1, 0, 0], (0, 0, -1, -1, -1, 0, 0, 0, 0, 1, 1, 1, 1, 1, 0, 0, 0, 0, -1, 1, 1, 0, 1, 0, 0, -1, 0, 1, 1, 1, 0, 0, 0, 1, -1, 1, 1, 1, 0, 0, 0, 0, 1, -1, 1, 1, 1, 0, 0, 0, 0, -1, -1, 0, 0, 0, 0, 0, 0, -1, -1, -1, 0, 0): [1, 0, 0], (0, 0, -1, -1, -1, 0, 0, 0, 0, 1, 1, 1, -1, 1, 0, 0, 0, 0, -1, -1, -1, -1, 1, 0, 0, -1, 0, 1, 1, 1, 0, 0, 0, 1, -1, 1, 1, 1, 0, 0, 0, 0, 1, -1, 1, 1, 1, 0, 0, 0, 0, -1, -1, 0, 0, 0, 0, 0, 0, -1, -1, -1, 0, 0): [1, 0, 0], (0, 0, -1, -1, -1, 0, 0, 0, 0, 1, 1, 1, -1, 1, 0, 0, 0, 0, 1, -1, -1, -1, 1, 0, 0, -1, 1, 1, 1, 1, 0, 0, 0, 1, 1, 1, 1, 1, 0, 0, 0, 0, 1, -1, 1, 1, 1, 0, 0, 0, 0, -1, -1, 0, 0, 0, 0, 0, 0, -1, -1, -1, 0, 0): [1, 0, 0], (0, 0, -1, -1, -1, 0, 0, 0, -1, -1, -1, -1, -1, 1, 0, 0, 0, 0, 1, -1, -1, -1, 1, 0, 0, -1, 1, 1, 1, 1, 0, 0, 0, 1, 1, 1, 1, 1, 0, 0, 0, 0, 1, -1, 1, 1, 1, 0, 0, 0, 0, -1, -1, 0, 0, 0, 0, 0, 0, -1, -1, -1, 0, 0): [1, 0, 0], (0, 0, -1, -1, -1, 0, 0, 0, -1, -1, -1, -1, -1, 1, 0, 0, 0, 0, 1, -1, -1, -1, 1, 0, 1, 1, 1, 1, 1, 1, 0, 0, 0, 1, 1, 1, 1, 1, 0, 0, 0, 0, 1, -1, 1, 1, 1, 0, 0, 0, 0, -1, -1, 0, 0, 0, 0, 0, 0, -1, -1, -1, 0, 0): [1, 0, 0], (0, 0, -1, -1, -1, 0, 0, 0, -1, -1, -1, -1, -1, 1, 0, 0, 0, 0, 1, -1, -1, -1, -1, -1, 1, 1, 1, 1, 1, 1, 0, 0, 0, 1, 1, 1, 1, 1, 0, 0, 0, 0, 1, -1, 1, 1, 1, 0, 0, 0, 0, -1, -1, 0, 0, 0, 0, 0, 0, -1, -1, -1, 0, 0): [1, 0, 0], (0, 1, -1, -1, -1, 0, 0, 0, -1, -1, 1, -1, -1, 1, 0, 0, 0, 0, 1, 1, -1, -1, -1, -1, 1, 1, 1, 1, 1, 1, 0, 0, 0, 1, 1, 1, 1, 1, 0, 0, 0, 0, 1, -1, 1, 1, 1, 0, 0, 0, 0, -1, -1, 0, 0, 0, 0, 0, 0, -1, -1, -1, 0, 0): [1, 0, 0], (0, 1, -1, -1, -1, 0, 0, 0, -1, -1, -1, -1, -1, 1, 0, 0, 0, 0, -1, 1, -1, -1, -1, -1, 1, 1, -1, 1, 1, 1, 0, 0, 0, 1, -1, 1, 1, 1, 0, 0, 0, 0, -1, -1, 1, 1, 1, 0, 0, 0, -1, -1, -1, 0, 0, 0, 0, 0, 0, -1, -1, -1, 0, 0): [1, 0, 0], (0, 1, -1, -1, -1, 0, 0, 0, -1, -1, -1, -1, -1, 1, 0, 0, 0, 0, -1, 1, -1, -1, -1, -1, 1, 1, -1, 1, 1, 1, 0, 0, 0, 1, -1, 1, 1, 1, 0, 0, 0, 0, -1, 1, 1, 1, 1, 0, 0, 0, 1, -1, -1, 0, 0, 0, 0, 1, 0, -1, -1, -1, 0, 0): [1, 0, 0], (0, 1, -1, -1, -1, 0, 0, 0, -1, -1, -1, -1, -1, 1, 0, 0, 0, 0, -1, 1, -1, -1, -1, -1, 1, 1, -1, -1, -1, -1, -1, 0, 0, 1, -1, 1, 1, -1, 0, 0, 0, 0, -1, 1, -1, 1, 1, 0, 0, 0, 1, -1, -1, 0, 0, 0, 0, 1, 0, -1, -1, -1, 0, 0): [1, 0, 0], (0, 1, -1, -1, -1, 0, 0, 0, -1, -1, -1, -1, -1, 1, 0, 0, 0, 0, -1, 1, -1, -1, 1, -1, 1, 1, 1, 1, 1, 1, 1, 1, 0, 1, -1, 1, 1, -1, 0, 0, 0, 0, -1, 1, -1, 1, 1, 0, 0, 0, 1, -1, -1, 0, 0, 0, 0, 1, 0, -1, -1, -1, 0, 0): [1, 0, 0], (0, 1, -1, -1, -1, 0, -1, 0, -1, -1, -1, -1, -1, -1, 0, 0, 0, 0, -1, 1, -1, -1, 1, -1, 1, 1, 1, 1, 1, 1, 1, 1, 0, 1, -1, 1, 1, -1, 0, 0, 0, 0, -1, 1, -1, 1, 1, 0, 0, 0, 1, -1, -1, 0, 0, 0, 0, 1, 0, -1, -1, -1, 0, 0): [1, 0, 0], (0, 1, -1, -1, -1, 0, -1, 0, -1, 1, -1, -1, -1, -1, 0, 0, 0, 1, 1, 1, -1, -1, 1, -1, 1, 1, 1, 1, 1, 1, 1, 1, 0, 1, -1, 1, 1, -1, 0, 0, 0, 0, -1, 1, -1, 1, 1, 0, 0, 0, 1, -1, -1, 0, 0, 0, 0, 1, 0, -1, -1, -1, 0, 0): [1, 0, 0], (0, 1, -1, -1, -1, 0, -1, 0, -1, 1, -1, -1, -1, -1, 0, 0, 0, 1, 1, 1, -1, -1, 1, -1, 1, 1, 1, 1, 1, 1, 1, 1, 0, 1, -1, 1, 1, -1, 0, 0, 0, 0, -1, 1, -1, -1, -1, -1, 0, 0, 1, -1, -1, 0, 0, 0, 0, 1, 0, -1, -1, -1, 0, 0): [1, 0, 0], (0, 1, -1, -1, -1, 0, -1, 0, -1, 1, -1, -1, -1, -1, 0, 0, 0, 1, 1, 1, -1, -1, 1, -1, 1, 1, 1, 1, 1, 1, 1, 1, 0, 1, -1, 1, 1, 1, 0, 0, 0, 0, -1, 1, -1, -1, 1, -1, 0, 0, 1, -1, -1, 0, 0, 1, 0, 1, 0, -1, -1, -1, 0, 0): [1, 0, 0], (0, 1, -1, -1, -1, 0, -1, 0, -1, -1, -1, -1, -1, -1, 0, 0, -1, -1, -1, -1, -1, -1, 1, -1, 1, -1, 1, 1, 1, 1, 1, 1, 0, 1, -1, 1, 1, 1, 0, 0, 0, 0, -1, 1, -1, -1, 1, -1, 0, 0, 1, -1, -1, 0, 0, 1, 0, 1, 0, -1, -1, -1, 0, 0): [1, 0, 0], (0, 1, 1, 1, 1, 1, -1, 0, -1, -1, -1, -1, 1, 1, 0, 0, -1, -1, -1, 1, -1, 1, 1, -1, 1, -1, 1, 1, 1, 1, 1, 1, 0, 1, -1, 1, 1, 1, 0, 0, 0, 0, -1, 1, -1, -1, 1, -1, 0, 0, 1, -1, -1, 0, 0, 1, 0, 1, 0, -1, -1, -1, 0, 0): [1, 0, 0], (0, 1, 1, 1, 1, 1, -1, 0, -1, -1, -1, -1, 1, 1, 0, 0, -1, -1, -1, 1, -1, 1, 1, -1, 1, -1, 1, 1, 1, 1, 1, 1, 0, 1, -1, 1, 1, 1, 0, 0, 0, 0, -1, 1, -1, -1, 1, -1, 0, -1, -1, -1, -1, 0, 0, 1, 0, 1, 0, -1, -1, -1, 0, 0): [1, 0, 0], (0, 1, 1, 1, 1, 1, -1, 0, -1, -1, -1, -1, 1, 1, 0, 0, -1, -1, -1, 1, -1, 1, 1, -1, 1, -1, 1, 1, 1, 1, 1, 1, 0, 1, 1, 1, 1, 1, 0, 0, 0, 1, 1, 1, -1, -1, 1, -1, 0, 1, -1, -1, -1, 0, 0, 1, 0, 1, 0, -1, -1, -1, 0, 0): [1, 0, 0], (0, 1, 1, 1, 1, 1, -1, 0, -1, -1, -1, -1, 1, 1, 0, 0, -1, -1, -1, 1, -1, 1, 1, -1, 1, -1, 1, 1, 1, 1, 1, 1, 0, 1, 1, 1, 1, 1, 0, 0, -1, -1, -1, -1, -1, -1, 1, -1, 0, 1, -1, -1, -1, 0, 0, 1, 0, 1, 0, -1, -1, -1, 0, 0): [1, 0, 0], (0, 1, 1, 1, 1, 1, -1, 0, -1, -1, -1, -1, 1, 1, 0, 0, -1, -1, -1, 1, -1, 1, 1, -1, 1, -1, 1, 1, 1, 1, 1, 1, 0, 1, 1, 1, 1, 1, 0, 0, -1, 1, -1, -1, -1, -1, 1, -1, 1, 1, -1, -1, -1, 0, 0, 1, 0, 1, 0, -1, -1, -1, 0, 0): [1, 0, 0], (0, 1, 1, 1, 1, 1, -1, 0, -1, -1, -1, -1, 1, 1, 0, 0, -1, -1, -1, 1, -1, 1, 1, -1, 1, -1, 1, 1, 1, 1, 1, 1, 0, 1, 1, 1, 1, 1, 0, 0, -1, 1, -1, -1, -1, -1, 1, -1, -1, -1, -1, -1, -1, 0, 0, 1, -1, 1, 0, -1, -1, -1, 0, 0): [1, 0, 0], (0, 1, 1, 1, 1, 1, -1, 0, -1, -1, -1, -1, 1, 1, 0, 0, -1, -1, -1, 1, -1, 1, 1, -1, 1, -1, 1, 1, 1, 1, 1, 1, 0, 1, 1, 1, 1, 1, 0, 0, 1, 1, -1, -1, -1, 1, 1, 1, -1, -1, -1, -1, -1, 0, 1, 1, -1, 1, 0, -1, -1, -1, 0, 0): [1, 0, 0], (0, 1, 1, 1, 1, 1, -1, 0, -1, -1, -1, -1, 1, 1, 0, 0, -1, -1, -1, 1, -1, 1, 1, -1, -1, -1, 1, 1, 1, -1, 1, -1, 0, 1, 1, 1, 1, 1, -1, 0, 1, 1, -1, -1, -1, -1, 1, -1, -1, -1, -1, -1, -1, 0, 1, 1, -1, 1, 0, -1, -1, -1, 0, 0): [1, 0, 0], (1, 1, 1, 1, 1, 1, -1, 0, -1, 1, -1, -1, 1, 1, 0, 0, -1, -1, 1, 1, -1, 1, 1, -1, -1, -1, 1, 1, 1, -1, 1, -1, 0, 1, 1, 1, 1, 1, -1, 0, 1, 1, -1, -1, -1, -1, 1, -1, -1, -1, -1, -1, -1, 0, 1, 1, -1, 1, 0, -1, -1, -1, 0, 0): [1, 0, 0], (1, 1, 1, 1, 1, 1, -1, 0, -1, 1, -1, -1, 1, 1, 0, 0, -1, -1, 1, 1, -1, 1, 1, -1, -1, -1, 1, 1, 1, -1, 1, -1, 0, 1, 1, 1, 1, 1, -1, 0, 1, 1, -1, -1, -1, -1, -1, -1, -1, -1, -1, -1, -1, 0, -1, -1, -1, 1, 0, -1, -1, -1, -1, 0): [1, 0, 0], (1, 1, 1, 1, 1, 1, -1, 0, -1, 1, -1, -1, 1, 1, 0, 0, -1, -1, 1, 1, -1, 1, 1, -1, -1, -1, 1, 1, 1, -1, 1, -1, 0, 1, 1, 1, 1, 1, -1, 0, 1, 1, 1, -1, -1, 1, -1, -1, -1, 1, -1, -1, -1, 0, 1, -1, 1, 1, 0, -1, -1, -1, -1, 1): [1, 0, 0], (1, 1, 1, 1, 1, 1, -1, 0, -1, 1, -1, -1, 1, 1, 0, 0, -1, -1, 1, 1, -1, 1, 1, -1, -1, -1, 1, 1, 1, -1, 1, -1, 0, 1, 1, 1, 1, -1, -1, 0, 1, 1, 1, -1, -1, -1, -1, -1, -1, 1, -1, -1, -1, -1, 1, -1, 1, 1, 0, -1, -1, -1, -1, 1): [1, 0, 0], (1, 1, 1, 1, 1, 1, 1, 1, 1, 1, -1, -1, 1, 1, 0, 0, 1, -1, 1, 1, -1, 1, 1, -1, -1, 1, 1, 1, 1, -1, 1, -1, 0, 1, 1, 1, 1, -1, -1, 0, 1, 1, 1, -1, -1, -1, -1, -1, -1, 1, -1, -1, -1, -1, 1, -1, 1, 1, 0, -1, -1, -1, -1, 1): [1, 0, 0], (1, 1, 1, 1, 1, 1, 1, 1, 1, 1, -1, -1, 1, 1, 0, 0, 1, -1, -1, 1, -1, 1, 1, -1, -1, -1, 1, 1, 1, -1, 1, -1, -1, -1, -1, -1, -1, -1, -1, 0, -1, -1, 1, -1, -1, -1, -1, -1, -1, 1, -1, -1, -1, -1, 1, -1, 1, 1, 0, -1, -1, -1, -1, 1): [1, 0, 0], (1, 1, 1, 1, 1, 1, 1, 1, 1, 1, -1, -1, 1, 1, 0, 0, 1, -1, -1, 1, -1, 1, 1, -1, -1, -1, 1, 1, 1, -1, 1, -1, -1, -1, -1, -1, -1, 1, -1, 0, -1, -1, 1, -1, 1, -1, -1, -1, -1, 1, 1, 1, -1, -1, 1, -1, 1, 1, 1, -1, -1, -1, -1, 1): [1, 0, 0], (1, 1, 1, 1, 1, 1, 1, 1, 1, 1, -1, -1, -1, -1, -1, 0, 1, -1, -1, 1, -1, -1, -1, -1, -1, -1, 1, 1, -1, -1, -1, -1, -1, -1, -1, -1, -1, 1, -1, 0, -1, -1, 1, -1, 1, -1, -1, -1, -1, 1, 1, 1, -1, -1, 1, -1, 1, 1, 1, -1, -1, -1, -1, 1): [1, 0, 0], (1, 1, 1, 1, 1, 1, 1, 1, 1, 1, 1, 1, 1, 1, 1, 1, 1, -1, -1, 1, -1, -1, 1, -1, 1, -1, 1, 1, -1, 1, -1, -1, -1, 1, -1, -1, 1, 1, -1, 0, -1, -1, 1, 1, 1, -1, -1, -1, -1, 1, 1, 1, -1, -1, 1, -1, 1, 1, 1, -1, -1, -1, -1, 1): [1, 0, 0], (0, 0, 0, 0, 0, 0, 0, 0, 0, 0, 0, 0, 0, 0, 0, 0, 0, 0, -1, 1, 0, 0, 0, 0, 0, 0, 1, 1, 1, 0, 0, 0, 0, 0, 0, 1, -1, 0, 0, 0, 0, 0, 0, 0, 0, 0, 0, 0, 0, 0, 0, 0, 0, 0, 0, 0, 0, 0, 0, 0, 0, 0, 0, 0): [0, 1, 0], (0, 0, 0, 0, 0, 0, 0, 0, 0, 0, 0, 0, 0, 0, 0, 0, 0, 0, -1, 1, 0, 0, 0, 0, 0, 0, -1, 1, 1, 0, 0, 0, 0, 0, -1, -1, -1, 0, 0, 0, 0, 0, 0, 0, 0, 0, 0, 0, 0, 0, 0, 0, 0, 0, 0, 0, 0, 0, 0, 0, 0, 0, 0, 0): [0, 1, 0], (0, 0, 0, 0, 0, 0, 0, 0, 0, 0, 0, 0, 0, 0, 0, 0, 0, 1, 1, 1, 0, 0, 0, 0, 0, 0, -1, 1, 1, 0, 0, 0, 0, 0, -1, -1, -1, 0, 0, 0, 0, 0, 0, 0, 0, 0, 0, 0, 0, 0, 0, 0, 0, 0, 0, 0, 0, 0, 0, 0, 0, 0, 0, 0): [0, 1, 0], (0, 0, 0, 0, 0, 0, 0, 0, 0, 0, 0, 0, 0, 0, 0, 0, 0, 1, 1, 1, -1, 0, 0, 0, 0, 0, -1, -1, -1, 0, 0, 0, 0, 0, -1, -1, -1, 0, 0, 0, 0, 0, 0, 0, 0, 0, 0, 0, 0, 0, 0, 0, 0, 0, 0, 0, 0, 0, 0, 0, 0, 0, 0, 0): [0, 1, 0], (0, 0, 0, 0, 0, 0, 0, 0, 0, 0, 0, 0, 0, 0, 0, 0, 0, 1, 1, 1, -1, 0, 0, 0, 0, 0, -1, 1, -1, 0, 0, 0, 0, 0, -1, -1, 1, 0, 0, 0, 0, 0, 0, 0, 0, 1, 0, 0, 0, 0, 0, 0, 0, 0, 0, 0, 0, 0, 0, 0, 0, 0, 0, 0): [0, 1, 0], (0, 0, 0, 0, 0, 0, 0, 0, -1, 0, 0, 0, 0, 0, 0, 0, 0, -1, 1, 1, -1, 0, 0, 0, 0, 0, -1, 1, -1, 0, 0, 0, 0, 0, -1, -1, 1, 0, 0, 0, 0, 0, 0, 0, 0, 1, 0, 0, 0, 0, 0, 0, 0, 0, 0, 0, 0, 0, 0, 0, 0, 0, 0, 0): [0, 1, 0], (0, 0, 0, 0, 0, 0, 0, 0, -1, 0, 0, 0, 0, 0, 0, 0, 0, -1, 1, 1, -1, 0, 0, 0, 0, 1, 1, 1, -1, 0, 0, 0, 0, 0, -1, -1, 1, 0, 0, 0, 0, 0, 0, 0, 0, 1, 0, 0, 0, 0, 0, 0, 0, 0, 0, 0, 0, 0, 0, 0, 0, 0, 0, 0): [0, 1, 0], (0, 0, 0, 0, 0, 0, 0, 0, -1, 0, 0, 0, 0, 0, 0, 0, 0, -1, 1, 1, -1, 0, 0, 0, -1, -1, -1, -1, -1, 0, 0, 0, 0, 0, -1, -1, 1, 0, 0, 0, 0, 0, 0, 0, 0, 1, 0, 0, 0, 0, 0, 0, 0, 0, 0, 0, 0, 0, 0, 0, 0, 0, 0, 0): [0, 1, 0], (0, 0, 0, 0, 0, 0, 0, 0, -1, 0, 0, 0, 0, 0, 0, 0, 0, -1, 1, 1, 1, 1, 0, 0, -1, -1, -1, -1, -1, 0, 0, 0, 0, 0, -1, -1, 1, 0, 0, 0, 0, 0, 0, 0, 0, 1, 0, 0, 0, 0, 0, 0, 0, 0, 0, 0, 0, 0, 0, 0, 0, 0, 0, 0): [0, 1, 0], (0, 0, 0, 0, 0, 0, 0, 0, -1, -1, 0, 0, 0, 0, 0, 0, 0, -1, -1, 1, 1, 1, 0, 0, -1, -1, -1, -1, -1, 0, 0, 0, 0, 0, -1, -1, 1, 0, 0, 0, 0, 0, 0, 0, 0, 1, 0, 0, 0, 0, 0, 0, 0, 0, 0, 0, 0, 0, 0, 0, 0, 0, 0, 0): [0, 1, 0], (0, 0, 0, 0, 0, 0, 0, 0, -1, -1, 0, 0, 0, 0, 0, 0, 0, -1, -1, 1, 1, 1, 0, 0, -1, -1, -1, -1, 1, 0, 0, 0, 0, 0, -1, -1, 1, 1, 0, 0, 0, 0, 0, 0, 0, 1, 0, 0, 0, 0, 0, 0, 0, 0, 0, 0, 0, 0, 0, 0, 0, 0, 0, 0): [0, 1, 0], (0, 0, 0, 0, 0, 0, 0, 0, -1, -1, 0, 0, -1, 0, 0, 0, 0, -1, -1, -1, 1, 1, 0, 0, -1, -1, -1, -1, 1, 0, 0, 0, 0, 0, -1, -1, 1, 1, 0, 0, 0, 0, 0, 0, 0, 1, 0, 0, 0, 0, 0, 0, 0, 0, 0, 0, 0, 0, 0, 0, 0, 0, 0, 0): [0, 1, 0], (0, 0, 0, 1, 0, 0, 0, 0, -1, -1, 0, 0, 1, 0, 0, 0, 0, -1, -1, -1, 1, 1, 0, 0, -1, -1, -1, -1, 1, 0, 0, 0, 0, 0, -1, -1, 1, 1, 0, 0, 0, 0, 0, 0, 0, 1, 0, 0, 0, 0, 0, 0, 0, 0, 0, 0, 0, 0, 0, 0, 0, 0, 0, 0): [0, 1, 0], (0, 0, 0, 1, 0, 0, 0, 0, -1, -1, 0, 0, 1, 0, 0, 0, 0, -1, -1, -1, 1, 1, 0, 0, -1, -1, -1, -1, -1, -1, 0, 0, 0, 0, -1, -1, 1, 1, 0, 0, 0, 0, 0, 0, 0, 1, 0, 0, 0, 0, 0, 0, 0, 0, 0, 0, 0, 0, 0, 0, 0, 0, 0, 0): [0, 1, 0], (0, 0, 0, 1, 0, 0, 0, 0, -1, -1, 0, 0, 1, 0, 0, 0, 0, -1, -1, -1, 1, 1, 0, 0, -1, -1, -1, -1, 1, -1, 0, 0, 0, 0, -1, 1, 1, 1, 0, 0, 0, 0, 1, 0, 0, 1, 0, 0, 0, 0, 0, 0, 0, 0, 0, 0, 0, 0, 0, 0, 0, 0, 0, 0): [0, 1, 0], (0, 0, 0, 1, 0, 0, 0, 0, -1, -1, 0, 0, 1, 0, 0, 0, 0, -1, -1, -1, 1, 1, 0, 0, -1, -1, -1, -1, 1, -1, 0, 0, 0, 0, -1, 1, 1, 1, 0, 0, 0, 0, -1, 0, 0, 1, 0, 0, 0, 0, -1, 0, 0, 0, 0, 0, 0, 0, 0, 0, 0, 0, 0, 0): [0, 1, 0], (0, 0, 0, 1, 0, 0, 0, 0, -1, -1, 0, 0, 1, 0, 0, 0, 0, -1, -1, -1, 1, 1, 0, 0, -1, -1, -1, -1, 1, -1, 0, 0, 0, 0, -1, 1, 1, 1, 0, 0, 0, 0, 1, 0, 0, 1, 0, 0, 0, 1, -1, 0, 0, 0, 0, 0, 0, 0, 0, 0, 0, 0, 0, 0): [0, 1, 0], (0, 0, 0, 1, 0, 0, 0, 0, -1, -1, 0, 0, 1, 0, 0, 0, 0, -1, -1, -1, 1, 1, 0, 0, -1, -1, -1, -1, 1, -1, 0, 0, 0, 0, -1, 1, 1, 1, 0, 0, 0, 0, 1, 0, 0, 1, 0, 0, -1, -1, -1, 0, 0, 0, 0, 0, 0, 0, 0, 0, 0, 0, 0, 0): [0, 1, 0], (0, 0, 0, 1, 0, 0, 0, 0, -1, -1, 1, 0, 1, 0, 0, 0, 0, -1, 1, 1, 1, 1, 0, 0, -1, -1, 1, -1, 1, -1, 0, 0, 0, 0, 1, 1, 1, 1, 0, 0, 0, 0, 1, 0, 0, 1, 0, 0, -1, -1, -1, 0, 0, 0, 0, 0, 0, 0, 0, 0, 0, 0, 0, 0): [0, 1, 0], (0, 0, 0, 1, 0, 0, 0, 0, -1, -1, 1, 0, 1, 0, 0, 0, 0, -1, 1, 1, 1, 1, 0, 0, -1, -1, 1, -1, 1, -1, 0, 0, 0, 0, -1, -1, -1, 1, 0, 0, 0, 0, 1, -1, 0, 1, 0, 0, -1, -1, -1, 0, 0, 0, 0, 0, 0, 0, 0, 0, 0, 0, 0, 0): [0, 1, 0], (0, 0, 0, 1, 0, 0, 0, 0, -1, -1, 1, 0, 1, 0, 0, 0, 0, -1, 1, 1, 1, 1, 0, 0, -1, -1, 1, 1, 1, -1, 0, 0, 0, 0, -1, 1, -1, 1, 0, 0, 0, 0, 1, 1, 0, 1, 0, 0, -1, -1, -1, 1, 0, 0, 0, 0, 0, 0, 0, 0, 0, 0, 0, 0): [0, 1, 0], (0, 0, 0, 1, 0, 0, 0, 0, -1, -1, 1, 0, 1, 0, 0, 0, 0, -1, -1, -1, -1, -1, -1, 0, -1, -1, 1, 1, 1, -1, 0, 0, 0, 0, -1, 1, -1, 1, 0, 0, 0, 0, 1, 1, 0, 1, 0, 0, -1, -1, -1, 1, 0, 0, 0, 0, 0, 0, 0, 0, 0, 0, 0, 0): [0, 1, 0], (0, 0, 0, 1, 0, 0, 0, 0, -1, -1, 1, 0, 1, 0, 0, 1, 0, -1, -1, -1, -1, -1, 1, 0, -1, -1, 1, 1, 1, 1, 0, 0, 0, 0, -1, 1, 1, 1, 0, 0, 0, 0, 1, 1, 0, 1, 0, 0, -1, -1, -1, 1, 0, 0, 0, 0, 0, 0, 0, 0, 0, 0, 0, 0): [0, 1, 0], (0, 0, 0, 1, 0, 0, 0, 0, -1, -1, 1, 0, 1, 0, 0, 1, 0, -1, -1, -1, -1, -1, 1, 0, -1, -1, -1, 1, -1, 1, 0, 0, 0, 0, -1, -1, -1, 1, 0, 0, 0, 0, 1, 1, -1, 1, 0, 0, -1, -1, -1, 1, 0, 0, 0, 0, 0, 0, 0, 0, 0, 0, 0, 0): [0, 1, 0], (0, 0, 0, 1, 0, 0, 0, 0, -1, -1, 1, 0, 1, 0, 1, 1, 0, -1, -1, -1, -1, 1, 1, 0, -1, -1, -1, 1, 1, 1, 0, 0, 0, 0, -1, 1, -1, 1, 0, 0, 0, 0, 1, 1, -1, 1, 0, 0, -1, -1, -1, 1, 0, 0, 0, 0, 0, 0, 0, 0, 0, 0, 0, 0): [0, 1, 0], (0, 0, 0, 1, 0, 0, 0, 0, -1, -1, 1, 0, 1, 0, 1, 1, 0, -1, -1, -1, -1, 1, 1, 0, -1, -1, -1, 1, -1, 1, 0, 0, 0, 0, -1, 1, -1, -1, 0, 0, 0, 0, 1, 1, -1, -1, -1, 0, -1, -1, -1, 1, 0, 0, 0, 0, 0, 0, 0, 0, 0, 0, 0, 0): [0, 1, 0], (0, 0, 0, 1, 0, 0, 0, 0, -1, -1, 1, 0, 1, 0, 1, 1, 0, -1, -1, -1, -1, 1, 1, 0, -1, -1, -1, 1, -1, 1, 0, 0, 0, 0, 1, 1, -1, -1, 0, 0, 0, 1, 1, 1, -1, -1, -1, 0, -1, -1, -1, 1, 0, 0, 0, 0, 0, 0, 0, 0, 0, 0, 0, 0): [0, 1, 0], (0, 0, 0, 1, 0, 0, -1, 0, -1, -1, 1, 0, 1, 0, 1, -1, 0, -1, -1, -1, -1, 1, 1, 0, -1, -1, -1, 1, -1, 1, 0, 0, 0, 0, 1, 1, -1, -1, 0, 0, 0, 1, 1, 1, -1, -1, -1, 0, -1, -1, -1, 1, 0, 0, 0, 0, 0, 0, 0, 0, 0, 0, 0, 0): [0, 1, 0], (0, 0, 0, 1, 0, 0, -1, 0, -1, -1, 1, 0, 1, 0, 1, -1, 1, 1, 1, 1, 1, 1, 1, 0, -1, 1, -1, 1, -1, 1, 0, 0, 0, 0, 1, 1, -1, -1, 0, 0, 0, 1, 1, 1, -1, -1, -1, 0, -1, -1, -1, 1, 0, 0, 0, 0, 0, 0, 0, 0, 0, 0, 0, 0): [0, 1, 0], (0, 0, 0, 1, -1, 0, -1, 0, -1, -1, 1, 0, -1, 0, 1, -1, 1, 1, 1, 1, -1, 1, 1, 0, -1, 1, -1, 1, -1, 1, 0, 0, 0, 0, 1, 1, -1, -1, 0, 0, 0, 1, 1, 1, -1, -1, -1, 0, -1, -1, -1, 1, 0, 0, 0, 0, 0, 0, 0, 0, 0, 0, 0, 0): [0, 1, 0], (0, 0, 0, 1, -1, 0, -1, 0, -1, -1, 1, 0, -1, 1, 1, -1, 1, 1, 1, 1, 1, 1, 1, 0, -1, 1, -1, 1, -1, 1, 0, 0, 0, 0, 1, 1, -1, -1, 0, 0, 0, 1, 1, 1, -1, -1, -1, 0, -1, -1, -1, 1, 0, 0, 0, 0, 0, 0, 0, 0, 0, 0, 0, 0): [0, 1, 0], (0, 0, 0, 1, -1, 0, -1, 0, -1, -1, 1, 0, -1, 1, 1, -1, 1, 1, 1, 1, 1, 1, 1, 0, -1, 1, -1, 1, -1, 1, 0, 0, 0, 0, 1, 1, -1, -1, 0, 0, 0, 1, 1, 1, -1, -1, -1, 0, -1, -1, -1, -1, -1, 0, 0, 0, 0, 0, 0, 0, 0, 0, 0, 0): [0, 1, 0], (0, 0, 0, 1, -1, 0, -1, 0, -1, -1, 1, 0, -1, 1, 1, -1, 1, 1, 1, 1, 1, 1, 1, 0, -1, 1, 1, 1, -1, 1, 0, 0, 0, 1, 1, 1, -1, -1, 0, 0, 0, 1, 1, 1, -1, -1, -1, 0, -1, -1, -1, -1, -1, 0, 0, 0, 0, 0, 0, 0, 0, 0, 0, 0): [0, 1, 0], (0, 0, 0, 1, -1, 0, -1, 0, -1, -1, 1, 0, -1, 1, 1, -1, 1, 1, 1, -1, 1, 1, 1, 0, -1, 1, -1, 1, -1, 1, 0, 0, 0, -1, 1, 1, -1, -1, 0, 0, -1, -1, -1, -1, -1, -1, -1, 0, -1, -1, -1, -1, -1, 0, 0, 0, 0, 0, 0, 0, 0, 0, 0, 0): [0, 1, 0], (0, 0, 0, 1, -1, 0, -1, 0, -1, -1, 1, 0, -1, 1, 1, -1, 1, 1, 1, -1, 1, 1, 1, 0, -1, 1, -1, 1, -1, 1, 0, 0, 0, -1, 1, 1, 1, -1, 0, 0, -1, -1, -1, -1, -1, 1, -1, 0, -1, -1, -1, -1, -1, 0, 1, 0, 0, 0, 0, 0, 0, 0, 0, 0): [0, 1, 0], (0, 0, 0, 1, -1, 0, -1, 0, -1, -1, -1, -1, -1, 1, 1, -1, 1, 1, 1, -1, 1, 1, 1, 0, -1, 1, -1, 1, -1, 1, 0, 0, 0, -1, 1, 1, 1, -1, 0, 0, -1, -1, -1, -1, -1, 1, -1, 0, -1, -1, -1, -1, -1, 0, 1, 0, 0, 0, 0, 0, 0, 0, 0, 0): [0, 1, 0], (0, 0, 0, 1, -1, 0, -1, 0, -1, -1, -1, -1, -1, 1, 1, -1, 1, 1, 1, -1, 1, 1, 1, 0, -1, 1, -1, 1, -1, 1, 0, 0, 0, -1, 1, 1, 1, -1, 0, 0, -1, -1, -1, 1, -1, 1, -1, 0, -1, -1, -1, -1, 1, 0, 1, 0, 0, 0, 0, 0, 0, 1, 0, 0): [0, 1, 0], (0, 0, 0, 1, -1, -1, -1, 0, -1, -1, -1, -1, -1, -1, 1, -1, 1, 1, 1, -1, 1, -1, 1, 0, -1, 1, -1, 1, -1, -1, 0, 0, 0, -1, 1, 1, 1, -1, 0, 0, -1, -1, -1, 1, -1, 1, -1, 0, -1, -1, -1, -1, 1, 0, 1, 0, 0, 0, 0, 0, 0, 1, 0, 0): [0, 1, 0], (0, 0, 0, 1, 1, 1, 1, 1, 1, 1, 1, 1, 1, 1, 1, -1, 1, 1, 1, -1, 1, -1, 1, 0, -1, 1, -1, 1, -1, -1, 0, 0, 0, -1, 1, 1, 1, -1, 0, 0, -1, -1, -1, 1, -1, 1, -1, 0, -1, -1, -1, -1, 1, 0, 1, 0, 0, 0, 0, 0, 0, 1, 0, 0): [0, 1, 0], (0, 0, 0, 1, 1, 1, 1, 1, 1, 1, 1, 1, 1, 1, 1, -1, 1, 1, 1, -1, 1, -1, 1, 0, -1, 1, -1, 1, -1, -1, 0, 0, 0, -1, 1, 1, 1, -1, 0, 0, -1, -1, -1, 1, -1, -1, -1, 0, -1, -1, -1, -1, -1, -1, 1, 0, 0, 0, 0, 0, 0, 1, 0, 0): [0, 1, 0], (0, 0, 0, 1, 1, 1, 1, 1, 1, 1, 1, 1, 1, 1, 1, -1, 1, 1, 1, -1, 1, -1, 1, 0, -1, 1, -1, 1, -1, -1, 0, 0, 0, -1, 1, 1, 1, -1, 0, 0, -1, -1, -1, 1, 1, -1, -1, 0, -1, -1, -1, -1, 1, -1, 1, 0, 0, 0, 0, 0, 1, 1, 0, 0): [0, 1, 0], (0, 0, -1, 1, 1, 1, 1, 1, 1, 1, -1, -1, 1, 1, 1, -1, 1, 1, -1, -1, -1, -1, 1, 0, -1, 1, -1, 1, -1, -1, 0, 0, 0, -1, 1, 1, 1, -1, 0, 0, -1, -1, -1, 1, 1, -1, -1, 0, -1, -1, -1, -1, 1, -1, 1, 0, 0, 0, 0, 0, 1, 1, 0, 0): [0, 1, 0], (0, 0, -1, 1, 1, 1, 1, 1, 1, 1, -1, -1, 1, 1, 1, -1, 1, 1, -1, -1, -1, -1, 1, 0, -1, 1, -1, 1, -1, -1, 0, 0, 0, -1, 1, 1, 1, -1, 0, 0, -1, -1, 1, 1, 1, -1, -1, 0, -1, -1, 1, 1, 1, -1, 1, 0, 0, 0, 1, 0, 1, 1, 0, 0): [0, 1, 0], (0, 0, -1, 1, 1, 1, 1, 1, 1, -1, -1, -1, 1, 1, 1, -1, -1, 1, -1, -1, -1, -1, -1, -1, -1, 1, -1, 1, -1, -1, 0, 0, 0, -1, 1, 1, 1, -1, 0, 0, -1, -1, 1, 1, 1, -1, -1, 0, -1, -1, 1, 1, 1, -1, 1, 0, 0, 0, 1, 0, 1, 1, 0, 0): [0, 1, 0], (0, 0, -1, 1, 1, 1, 1, 1, 1, -1, -1, -1, 1, 1, 1, -1, -1, 1, -1, -1, -1, -1, -1, -1, -1, 1, -1, 1, -1, -1, 0, 0, 0, -1, 1, 1, 1, 1, 1, 0, -1, -1, 1, 1, 1, 1, 1, 0, -1, -1, 1, 1, 1, -1, 1, 0, 0, 0, 1, 0, 1, 1, 0, 0): [0, 1, 0], (-1, 0, -1, 1, 1, 1, 1, -1, -1, -1, -1, -1, 1, 1, -1, -1, -1, 1, -1, -1, -1, -1, -1, -1, -1, 1, -1, 1, -1, -1, 0, 0, 0, -1, 1, 1, 1, 1, 1, 0, -1, -1, 1, 1, 1, 1, 1, 0, -1, -1, 1, 1, 1, -1, 1, 0, 0, 0, 1, 0, 1, 1, 0, 0): [0, 1, 0], (-1, 1, 1, 1, 1, 1, 1, -1, 1, 1, 1, -1, 1, 1, -1, 1, -1, 1, -1, 1, -1, -1, 1, -1, -1, 1, -1, 1, 1, 1, 0, 0, 0, -1, 1, 1, 1, 1, 1, 0, -1, -1, 1, 1, 1, 1, 1, 0, -1, -1, 1, 1, 1, -1, 1, 0, 0, 0, 1, 0, 1, 1, 0, 0): [0, 1, 0], (-1, 1, 1, 1, 1, 1, 1, -1, 1, 1, 1, -1, 1, 1, -1, 1, -1, 1, -1, 1, -1, -1, 1, -1, -1, 1, -1, -1, 1, 1, 0, 0, 0, -1, 1, 1, -1, 1, 1, 0, -1, -1, 1, 1, 1, -1, 1, 0, -1, -1, 1, 1, 1, -1, -1, 0, 0, 0, 1, 0, 1, 1, 0, -1): [0, 1, 0], (-1, 1, 1, 1, 1, 1, 1, -1, 1, 1, 1, -1, 1, 1, -1, 1, -1, 1, -1, 1, -1, -1, 1, -1, -1, 1, -1, -1, 1, 1, 0, 0, 0, -1, 1, 1, -1, 1, 1, 0, -1, -1, 1, 1, 1, -1, 1, 0, -1, 1, 1, 1, 1, -1, -1, 0, 1, 0, 1, 0, 1, 1, 0, -1): [0, 1, 0], (-1, 1, 1, 1, 1, 1, 1, -1, 1, 1, 1, -1, 1, 1, -1, 1, -1, 1, -1, 1, -1, -1, 1, -1, -1, 1, -1, -1, 1, 1, 0, 0, 0, -1, 1, 1, -1, -1, -1, -1, -1, -1, 1, 1, 1, -1, -1, 0, -1, 1, 1, 1, 1, -1, -1, 0, 1, 0, 1, 0, 1, 1, 0, -1): [0, 1, 0], (-1, 1, 1, 1, 1, 1, 1, -1, 1, 1, 1, -1, 1, 1, -1, 1, 1, 1, -1, 1, -1, 1, 1, 1, -1, 1, -1, -1, 1, 1, 1, 0, 0, -1, 1, 1, -1, 1, -1, -1, -1, -1, 1, 1, 1, -1, -1, 0, -1, 1, 1, 1, 1, -1, -1, 0, 1, 0, 1, 0, 1, 1, 0, -1): [0, 1, 0], (-1, 1, 1, 1, 1, 1, 1, -1, 1, 1, 1, -1, 1, 1, -1, -1, 1, 1, -1, 1, -1, 1, 1, -1, -1, 1, -1, -1, -1, -1, -1, -1, 0, -1, 1, 1, -1, 1, -1, -1, -1, -1, 1, 1, 1, -1, -1, 0, -1, 1, 1, 1, 1, -1, -1, 0, 1, 0, 1, 0, 1, 1, 0, -1): [0, 1, 0], (-1, 1, 1, 1, 1, 1, 1, -1, 1, 1, 1, -1, 1, 1, 1, -1, 1, 1, -1, 1, -1, 1, 1, 1, 1, 1, -1, -1, -1, -1, -1, -1, 1, 1, 1, 1, -1, 1, -1, 1, 1, 1, 1, 1, 1, -1, 1, 0, 1, 1, 1, 1, 1, 1, -1, 0, 1, 0, 1, 0, 1, 1, 0, -1): [0, 1, 0], (-1, 1, 1, 1, 1, 1, 1, -1, 1, 1, 1, -1, 1, 1, 1, -1, 1, 1, -1, 1, -1, 1, 1, 1, 1, 1, -1, -1, -1, -1, -1, -1, 1, -1, 1, 1, -1, 1, -1, -1, -1, 1, 1, 1, 1, -1, -1, -1, -1, -1, -1, -1, -1, -1, -1, 0, 1, 0, 1, 0, 1, 1, 0, -1): [0, 1, 0], (-1, 1, 1, 1, 1, 1, 1, -1, 1, 1, 1, -1, 1, 1, 1, -1, 1, 1, -1, 1, -1, 1, 1, 1, 1, 1, -1, -1, -1, -1, 1, -1, 1, -1, 1, 1, -1, 1, 1, -1, -1, 1, 1, 1, 1, -1, 1, -1, -1, -1, -1, -1, -1, 1, 1, 0, 1, 0, 1, 0, 1, 1, 1, -1): [0, 1, 0], (-1, 1, 1, 1, 1, 1, 1, -1, 1, 1, 1, -1, 1, 1, 1, -1, 1, 1, -1, 1, -1, 1, 1, 1, 1, 1, -1, -1, -1, -1, 1, -1, 1, -1, 1, 1, -1, 1, 1, -1, -1, 1, 1, 1, 1, -1, 1, -1, -1, -1, -1, -1, -1, 1, 1, 0, 1, 0, 1, -1, 1, 1, 1, -1): [0, 1, 0], (-1, 1, 1, 1, 1, 1, 1, -1, 1, 1, 1, -1, 1, 1, 1, -1, 1, 1, -1, 1, -1, 1, 1, 1, 1, 1, -1, -1, -1, -1, 1, -1, 1, -1, 1, 1, -1, 1, 1, 1, -1, 1, 1, 1, 1, -1, 1, -1, 1, 1, 1, -1, -1, 1, 1, 0, 1, 1, 1, -1, 1, 1, 1, -1): [0, 1, 0], (-1, 1, 1, 1, 1, 1, 1, -1, 1, 1, 1, -1, 1, 1, 1, -1, 1, 1, -1, 1, -1, 1, 1, 1, 1, 1, -1, -1, -1, -1, 1, -1, 1, -1, -1, 1, -1, -1, 1, 1, -1, -1, 1, 1, 1, -1, -1, -1, -1, 1, 1, -1, -1, -1, -1, -1, -1, -1, -1, -1, 1, 1, 1, -1): [0, 1, 0], (0, 0, 0, 0, 0, 0, 0, 0, 0, 0, 0, 0, 0, 0, 0, 0, 0, 0, -1, 0, 0, 0, 0, 0, 0, 0, -1, -1, 1, 0, 0, 0, 0, 0, -1, 1, 1, 1, 0, 0, 0, 0, 0, 0, 0, 0, 0, 0, 0, 0, 0, 0, 0, 0, 0, 0, 0, 0, 0, 0, 0, 0, 0, 0): [0, 0, 1], (0, 0, 0, 0, 0, 0, 0, 0, 0, 1, 0, 0, 0, 0, 0, 0, 0, 0, 1, 0, 0, 0, 0, 0, 0, 0, -1, 1, 1, 0, 0, 0, 0, 0, -1, 1, 1, 1, 0, 0, 0, 0, 0, 0, 0, 0, 0, 0, 0, 0, 0, 0, 0, 0, 0, 0, 0, 0, 0, 0, 0, 0, 0, 0): [0, 0, 1], (0, 0, 0, 0, 0, 0, 0, 0, 0, 1, -1, 0, 0, 0, 0, 0, 0, 0, -1, 0, 0, 0, 0, 0, 0, 0, -1, 1, 1, 0, 0, 0, 0, 0, -1, 1, 1, 1, 0, 0, 0, 0, 0, 0, 0, 0, 0, 0, 0, 0, 0, 0, 0, 0, 0, 0, 0, 0, 0, 0, 0, 0, 0, 0): [0, 0, 1], (0, 0, 0, 0, 0, 0, 0, 0, 0, 1, -1, 0, 0, 0, 0, 0, 0, 1, -1, 0, 0, 0, 0, 0, 0, 0, 1, 1, 1, 0, 0, 0, 0, 0, -1, 1, 1, 1, 0, 0, 0, 0, 0, 0, 0, 0, 0, 0, 0, 0, 0, 0, 0, 0, 0, 0, 0, 0, 0, 0, 0, 0, 0, 0): [0, 0, 1], (-1, 0, 0, 0, 0, 0, 0, 0, 0, -1, -1, 0, 0, 0, 0, 0, 0, 1, -1, 0, 0, 0, 0, 0, 0, 0, 1, 1, 1, 0, 0, 0, 0, 0, -1, 1, 1, 1, 0, 0, 0, 0, 0, 0, 0, 0, 0, 0, 0, 0, 0, 0, 0, 0, 0, 0, 0, 0, 0, 0, 0, 0, 0, 0): [0, 0, 1], (-1, 1, 0, 0, 0, 0, 0, 0, 0, 1, -1, 0, 0, 0, 0, 0, 0, 1, -1, 0, 0, 0, 0, 0, 0, 0, 1, 1, 1, 0, 0, 0, 0, 0, -1, 1, 1, 1, 0, 0, 0, 0, 0, 0, 0, 0, 0, 0, 0, 0, 0, 0, 0, 0, 0, 0, 0, 0, 0, 0, 0, 0, 0, 0): [0, 0, 1], (-1, 1, 0, 0, 0, 0, 0, 0, 0, 1, -1, 0, 0, 0, 0, 0, 0, 1, -1, 0, 0, 0, 0, 0, 0, 0, 1, 1, 1, 0, 0, 0, 0, 0, -1, -1, -1, -1, -1, 0, 0, 0, 0, 0, 0, 0, 0, 0, 0, 0, 0, 0, 0, 0, 0, 0, 0, 0, 0, 0, 0, 0, 0, 0): [0, 0, 1], (-1, 1, 0, 1, 0, 0, 0, 0, 0, 1, 1, 0, 0, 0, 0, 0, 0, 1, -1, 0, 0, 0, 0, 0, 0, 0, 1, 1, 1, 0, 0, 0, 0, 0, -1, -1, -1, -1, -1, 0, 0, 0, 0, 0, 0, 0, 0, 0, 0, 0, 0, 0, 0, 0, 0, 0, 0, 0, 0, 0, 0, 0, 0, 0): [0, 0, 1], (-1, 1, 0, 1, 0, 0, 0, 0, 0, 1, 1, 0, 0, 0, 0, 0, 0, 1, -1, 0, 0, -1, 0, 0, 0, 0, 1, 1, -1, 0, 0, 0, 0, 0, -1, -1, -1, -1, -1, 0, 0, 0, 0, 0, 0, 0, 0, 0, 0, 0, 0, 0, 0, 0, 0, 0, 0, 0, 0, 0, 0, 0, 0, 0): [0, 0, 1], (-1, 1, 0, 1, 0, 0, 0, 0, 0, 1, 1, 0, 0, 0, 0, 0, 0, 1, -1, 0, 0, -1, 0, 0, 0, 0, 1, 1, 1, 1, 0, 0, 0, 0, -1, -1, -1, -1, -1, 0, 0, 0, 0, 0, 0, 0, 0, 0, 0, 0, 0, 0, 0, 0, 0, 0, 0, 0, 0, 0, 0, 0, 0, 0): [0, 0, 1], (-1, 1, 0, 1, 0, 0, 0, 0, 0, 1, 1, 0, 0, 0, 0, 0, 0, 1, -1, 0, 0, -1, -1, 0, 0, 0, 1, 1, 1, -1, 0, 0, 0, 0, -1, -1, -1, -1, -1, 0, 0, 0, 0, 0, 0, 0, 0, 0, 0, 0, 0, 0, 0, 0, 0, 0, 0, 0, 0, 0, 0, 0, 0, 0): [0, 0, 1], (-1, 1, 0, 1, 0, 0, 0, 0, 0, 1, 1, 0, 0, 0, 0, 0, 0, 1, -1, 0, 0, -1, -1, 0, 0, 0, 1, 1, 1, 1, 1, 0, 0, 0, -1, -1, -1, -1, -1, 0, 0, 0, 0, 0, 0, 0, 0, 0, 0, 0, 0, 0, 0, 0, 0, 0, 0, 0, 0, 0, 0, 0, 0, 0): [0, 0, 1], (-1, 1, 0, 1, 0, 0, 0, 0, 0, 1, 1, 0, 0, 0, 0, 0, -1, -1, -1, 0, 0, -1, -1, 0, 0, 0, 1, 1, 1, 1, 1, 0, 0, 0, -1, -1, -1, -1, -1, 0, 0, 0, 0, 0, 0, 0, 0, 0, 0, 0, 0, 0, 0, 0, 0, 0, 0, 0, 0, 0, 0, 0, 0, 0): [0, 0, 1], (-1, 1, 0, 1, 0, 0, 0, 0, 0, 1, 1, 0, 0, 0, 0, 0, -1, -1, -1, 0, 0, -1, -1, 0, 0, 0, 1, 1, 1, 1, 1, 0, 0, 0, -1, -1, 1, 1, -1, 0, 0, 0, 0, 0, 0, 1, 0, 0, 0, 0, 0, 0, 0, 0, 0, 0, 0, 0, 0, 0, 0, 0, 0, 0): [0, 0, 1], (-1, 1, 0, 1, 0, 0, 0, 0, 0, 1, 1, 0, 0, 0, 0, 0, -1, -1, -1, 0, -1, -1, -1, 0, 0, 0, 1, -1, 1, -1, 1, 0, 0, 0, -1, -1, 1, 1, -1, 0, 0, 0, 0, 0, 0, 1, 0, 0, 0, 0, 0, 0, 0, 0, 0, 0, 0, 0, 0, 0, 0, 0, 0, 0): [0, 0, 1], (-1, 1, 0, 1, 0, 0, 0, 0, 0, 1, 1, 0, 0, 0, 0, 0, -1, 1, -1, 0, -1, -1, -1, 0, 1, 0, 1, -1, 1, -1, 1, 0, 0, 0, -1, -1, 1, 1, -1, 0, 0, 0, 0, 0, 0, 1, 0, 0, 0, 0, 0, 0, 0, 0, 0, 0, 0, 0, 0, 0, 0, 0, 0, 0): [0, 0, 1], (-1, 1, 0, 1, 0, 0, 0, 0, 0, 1, 1, 0, 0, 0, 0, 0, -1, 1, -1, 0, -1, -1, -1, 0, 1, -1, -1, -1, 1, -1, 1, 0, 0, 0, -1, -1, 1, 1, -1, 0, 0, 0, 0, 0, 0, 1, 0, 0, 0, 0, 0, 0, 0, 0, 0, 0, 0, 0, 0, 0, 0, 0, 0, 0): [0, 0, 1], (-1, 1, 0, 1, 0, 0, 0, 0, 0, 1, 1, 0, 0, 0, 0, 0, -1, 1, 1, 1, -1, -1, -1, 0, 1, -1, -1, -1, 1, -1, 1, 0, 0, 0, -1, -1, 1, 1, -1, 0, 0, 0, 0, 0, 0, 1, 0, 0, 0, 0, 0, 0, 0, 0, 0, 0, 0, 0, 0, 0, 0, 0, 0, 0): [0, 0, 1], (-1, 1, 0, 1, 0, 0, 0, 0, 0, 1, 1, 0, -1, 0, 0, 0, -1, 1, 1, -1, -1, -1, -1, 0, 1, -1, -1, -1, 1, -1, 1, 0, 0, 0, -1, -1, 1, 1, -1, 0, 0, 0, 0, 0, 0, 1, 0, 0, 0, 0, 0, 0, 0, 0, 0, 0, 0, 0, 0, 0, 0, 0, 0, 0): [0, 0, 1], (-1, 1, 0, 1, 0, 0, 0, 0, 1, 1, 1, 0, -1, 0, 0, 0, 1, 1, 1, -1, -1, -1, -1, 0, 1, -1, -1, -1, 1, -1, 1, 0, 0, 0, -1, -1, 1, 1, -1, 0, 0, 0, 0, 0, 0, 1, 0, 0, 0, 0, 0, 0, 0, 0, 0, 0, 0, 0, 0, 0, 0, 0, 0, 0): [0, 0, 1], (-1, 1, 0, 1, 0, 0, 0, 0, 1, 1, 1, 0, -1, 0, 0, 0, 1, 1, 1, -1, -1, -1, -1, 0, 1, -1, -1, -1, 1, -1, 1, 0, 0, 0, -1, -1, -1, 1, -1, 0, 0, 0, 0, 0, 0, -1, 0, 0, 0, 0, 0, 0, 0, 0, -1, 0, 0, 0, 0, 0, 0, 0, 0, 0): [0, 0, 1], (-1, 1, 0, 1, 0, 0, 0, 0, 1, 1, 1, 0, -1, 0, 0, 0, 1, 1, 1, -1, -1, -1, -1, 0, 1, -1, -1, 1, 1, -1, 1, 0, 0, 0, -1, -1, 1, 1, -1, 0, 0, 0, 0, 0, 0, 1, 0, 0, 0, 0, 0, 0, 0, 0, 1, 0, 0, 0, 0, 0, 0, 0, 0, 1): [0, 0, 1], (-1, 1, 0, 1, 0, 0, 0, 0, -1, 1, 1, 0, -1, 0, 0, 0, -1, 1, 1, -1, -1, -1, -1, 0, -1, -1, -1, 1, 1, -1, 1, 0, -1, 0, -1, -1, 1, 1, -1, 0, 0, 0, 0, 0, 0, 1, 0, 0, 0, 0, 0, 0, 0, 0, 1, 0, 0, 0, 0, 0, 0, 0, 0, 1): [0, 0, 1], (-1, 1, 0, 1, 0, 0, 0, 0, -1, 1, 1, 0, -1, 0, 1, 0, -1, 1, 1, -1, -1, 1, 1, 0, -1, -1, -1, 1, 1, -1, 1, 0, -1, 0, -1, -1, 1, 1, -1, 0, 0, 0, 0, 0, 0, 1, 0, 0, 0, 0, 0, 0, 0, 0, 1, 0, 0, 0, 0, 0, 0, 0, 0, 1): [0, 0, 1], (-1, 1, 0, 1, 0, 0, 0, -1, -1, 1, 1, 0, -1, 0, -1, 0, -1, 1, 1, -1, -1, -1, 1, 0, -1, -1, -1, 1, -1, -1, 1, 0, -1, 0, -1, -1, 1, 1, -1, 0, 0, 0, 0, 0, 0, 1, 0, 0, 0, 0, 0, 0, 0, 0, 1, 0, 0, 0, 0, 0, 0, 0, 0, 1): [0, 0, 1], (-1, 1, 0, 1, 0, 0, 0, -1, -1, 1, 1, 0, -1, 0, -1, 0, -1, 1, 1, -1, -1, -1, 1, 0, 1, -1, -1, 1, -1, -1, 1, 1, -1, 0, -1, -1, 1, 1, 1, 0, 0, 0, 0, 0, 0, 1, 0, 0, 0, 0, 0, 0, 0, 0, 1, 0, 0, 0, 0, 0, 0, 0, 0, 1): [0, 0, 1], (-1, 1, 0, 1, 0, 0, 0, -1, -1, 1, 1, 0, -1, 0, -1, 0, -1, 1, 1, -1, -1, -1, 1, 0, 1, -1, -1, 1, -1, -1, 1, 1, -1, 0, -1, -1, -1, 1, 1, 0, 0, 0, 0, -1, 0, 1, 0, 0, 0, 0, 0, 0, 0, 0, 1, 0, 0, 0, 0, 0, 0, 0, 0, 1): [0, 0, 1], (-1, 1, 0, 1, 0, 0, 0, -1, -1, 1, 1, 0, -1, 0, -1, 0, -1, 1, 1, -1, -1, -1, 1, 0, 1, -1, 1, 1, -1, -1, 1, 1, -1, 0, 1, -1, -1, 1, 1, 0, 0, 0, 1, -1, 0, 1, 0, 0, 0, 0, 0, 0, 0, 0, 1, 0, 0, 0, 0, 0, 0, 0, 0, 1): [0, 0, 1], (-1, 1, 0, 1, 0, 0, 0, -1, -1, 1, 1, 0, -1, 0, -1, 0, -1, 1, 1, -1, -1, -1, 1, 0, 1, -1, 1, 1, -1, -1, -1, 1, -1, 0, 1, -1, -1, -1, -1, -1, 0, 0, 1, -1, 0, 1, 0, 0, 0, 0, 0, 0, 0, 0, 1, 0, 0, 0, 0, 0, 0, 0, 0, 1): [0, 0, 1], (-1, 1, 0, 1, 0, 0, 0, -1, -1, 1, 1, 0, -1, 0, -1, 0, -1, 1, 1, -1, -1, -1, 1, 0, 1, -1, 1, 1, -1, -1, -1, 1, -1, 0, 1, 1, -1, -1, -1, -1, 0, 0, 1, 1, 0, 1, 0, 0, 0, 0, 0, 1, 0, 0, 1, 0, 0, 0, 0, 0, 0, 0, 0, 1): [0, 0, 1], (-1, 1, 0, 1, 0, 0, 0, -1, -1, 1, 1, 0, -1, 0, -1, 0, -1, 1, 1, -1, -1, -1, -1, -1, -1, -1, 1, 1, -1, -1, -1, -1, -1, 0, 1, 1, -1, -1, -1, -1, 0, 0, 1, 1, 0, 1, 0, 0, 0, 0, 0, 1, 0, 0, 1, 0, 0, 0, 0, 0, 0, 0, 0, 1): [0, 0, 1], (-1, 1, 0, 1, 0, 0, 0, -1, -1, 1, 1, 0, -1, 0, -1, 1, 1, 1, 1, -1, -1, -1, 1, -1, -1, -1, 1, 1, -1, 1, -1, -1, -1, 0, 1, 1, 1, -1, -1, -1, 0, 0, 1, 1, 0, 1, 0, 0, 0, 0, 0, 1, 0, 0, 1, 0, 0, 0, 0, 0, 0, 0, 0, 1): [0, 0, 1], (-1, 1, 0, 1, 0, 0, 0, -1, -1, 1, 1, 0, -1, 0, -1, 1, 1, 1, 1, -1, -1, -1, 1, -1, -1, -1, -1, 1, -1, 1, -1, -1, -1, -1, -1, -1, -1, -1, -1, -1, 0, 0, 1, 1, 0, 1, 0, 0, 0, 0, 0, 1, 0, 0, 1, 0, 0, 0, 0, 0, 0, 0, 0, 1): [0, 0, 1], (-1, 1, 0, 1, 0, 0, 0, -1, -1, 1, 1, 0, -1, 0, -1, 1, 1, 1, 1, -1, -1, -1, 1, 1, -1, -1, 1, 1, -1, 1, 1, -1, -1, -1, -1, 1, -1, 1, -1, -1, 0, 0, 1, 1, 1, 1, 0, 0, 0, 0, 0, 1, 0, 0, 1, 0, 0, 0, 0, 0, 0, 0, 0, 1): [0, 0, 1], (-1, 1, 0, 1, 0, 0, 0, -1, -1, 1, 1, 0, -1, 0, -1, 1, 1, 1, 1, -1, -1, -1, 1, 1, -1, -1, 1, 1, -1, 1, 1, -1, -1, -1, -1, 1, -1, 1, -1, -1, 0, 0, -1, -1, 1, 1, 0, 0, 0, 0, -1, 1, 0, 0, 1, 0, 0, 0, 0, 0, 0, 0, 0, 1): [0, 0, 1], (-1, 1, 0, 1, 1, 0, 0, -1, -1, 1, 1, 0, 1, 0, -1, 1, 1, 1, 1, -1, 1, -1, 1, 1, -1, -1, 1, 1, 1, 1, 1, -1, -1, -1, -1, 1, 1, 1, -1, -1, 0, 0, -1, -1, 1, 1, 0, 0, 0, 0, -1, 1, 0, 0, 1, 0, 0, 0, 0, 0, 0, 0, 0, 1): [0, 0, 1], (-1, 1, 0, 1, 1, 0, 0, -1, -1, 1, 1, 0, 1, -1, -1, 1, 1, 1, 1, -1, -1, -1, -1, 1, -1, -1, 1, -1, 1, 1, 1, -1, -1, -1, -1, 1, 1, 1, -1, -1, 0, 0, -1, -1, 1, 1, 0, 0, 0, 0, -1, 1, 0, 0, 1, 0, 0, 0, 0, 0, 0, 0, 0, 1): [0, 0, 1], (-1, 1, 0, 1, 1, 0, 0, -1, -1, 1, 1, 1, 1, -1, -1, 1, 1, 1, 1, 1, 1, -1, -1, 1, -1, -1, 1, 1, 1, 1, 1, -1, -1, -1, -1, 1, 1, 1, -1, -1, 0, 0, -1, -1, 1, 1, 0, 0, 0, 0, -1, 1, 0, 0, 1, 0, 0, 0, 0, 0, 0, 0, 0, 1): [0, 0, 1], (-1, 1, 0, 1, 1, 0, 0, -1, -1, 1, 1, 1, 1, -1, -1, 1, 1, 1, 1, 1, 1, -1, -1, 1, -1, -1, 1, 1, 1, 1, 1, -1, -1, -1, -1, 1, 1, 1, -1, -1, 0, 0, -1, -1, -1, -1, -1, 0, 0, 0, -1, 1, 0, 0, 1, 0, 0, 0, 0, 0, 0, 0, 0, 1): [0, 0, 1], (-1, 1, 0, 1, 1, 0, 0, -1, -1, 1, 1, 1, 1, -1, -1, 1, 1, 1, 1, 1, 1, -1, -1, 1, -1, 1, 1, 1, 1, 1, 1, -1, 1, 1, 1, 1, 1, 1, -1, -1, 0, 1, -1, -1, -1, -1, -1, 0, 0, 0, -1, 1, 0, 0, 1, 0, 0, 0, 0, 0, 0, 0, 0, 1): [0, 0, 1], (-1, 1, 0, 1, 1, 0, 0, -1, -1, 1, 1, 1, 1, -1, -1, 1, 1, 1, 1, 1, 1, -1, -1, 1, -1, 1, 1, 1, 1, 1, 1, -1, 1, 1, 1, 1, 1, 1, -1, -1, 0, 1, -1, -1, -1, -1, -1, 0, 0, 0, -1, -1, 0, 0, 1, 0, 0, 0, 0, 0, -1, 0, 0, 1): [0, 0, 1], (-1, 1, 0, 1, 1, 0, 0, -1, -1, 1, 1, 1, 1, -1, -1, 1, 1, 1, 1, 1, 1, -1, -1, 1, -1, 1, 1, 1, 1, 1, 1, -1, 1, 1, 1, 1, 1, 1, -1, -1, 0, 1, 1, -1, 1, -1, -1, 0, 0, 0, 1, 1, 0, 0, 1, 0, 0, 0, 1, 0, -1, 0, 0, 1): [0, 0, 1], (-1, 1, 0, 1, 1, 0, -1, -1, -1, 1, 1, 1, 1, -1, -1, -1, 1, 1, 1, 1, 1, -1, -1, 1, -1, 1, 1, 1, 1, 1, 1, -1, 1, 1, 1, 1, 1, 1, -1, -1, 0, 1, 1, -1, 1, -1, -1, 0, 0, 0, 1, 1, 0, 0, 1, 0, 0, 0, 1, 0, -1, 0, 0, 1): [0, 0, 1], (-1, 1, 0, 1, 1, 0, -1, -1, -1, 1, 1, 1, 1, -1, -1, -1, 1, 1, 1, 1, 1, -1, -1, 1, -1, 1, 1, 1, 1, 1, 1, 1, 1, 1, 1, 1, 1, 1, 1, 1, 0, 1, 1, -1, 1, 1, 1, 1, 0, 0, 1, 1, 0, 0, 1, 0, 0, 0, 1, 0, -1, 0, 0, 1): [0, 0, 1], (-1, 1, 0, 1, 1, 0, -1, -1, -1, 1, 1, 1, 1, -1, -1, -1, 1, -1, 1, 1, 1, -1, -1, 1, -1, 1, -1, 1, 1, -1, 1, 1, 1, 1, 1, -1, 1, -1, 1, 1, 0, 1, 1, -1, -1, -1, 1, 1, 0, 0, 1, 1, 0, -1, 1, 0, 0, 0, 1, 0, -1, 0, 0, 1): [0, 0, 1], (-1, 1, 0, 1, 1, 1, -1, -1, -1, 1, 1, 1, 1, -1, 1, -1, 1, -1, 1, 1, 1, -1, -1, 1, -1, 1, -1, 1, 1, -1, 1, 1, 1, 1, 1, -1, 1, -1, 1, 1, 0, 1, 1, -1, -1, -1, 1, 1, 0, 0, 1, 1, 0, -1, 1, 0, 0, 0, 1, 0, -1, 0, 0, 1): [0, 0, 1], (-1, 1, 0, 1, 1, 1, -1, -1, -1, 1, 1, 1, 1, -1, 1, -1, 1, -1, 1, 1, 1, -1, -1, -1, -1, 1, -1, 1, 1, -1, 1, -1, 1, 1, 1, -1, 1, -1, 1, -1, 0, 1, 1, -1, -1, -1, -1, -1, 0, 0, 1, 1, 0, -1, -1, -1, 0, 0, 1, 0, -1, 0, 0, 1): [0, 0, 1], (-1, 1, 0, 1, 1, 1, -1, -1, -1, 1, 1, 1, 1, -1, 1, -1, 1, -1, 1, 1, 1, -1, -1, -1, -1, 1, -1, 1, 1, -1, 1, -1, 1, 1, 1, -1, 1, -1, 1, -1, 0, 1, 1, -1, -1, -1, -1, -1, 0, 0, 1, 1, 0, -1, -1, -1, 0, 0, 1, 0, -1, 1, 0, 1): [0, 0, 1], (-1, 1, 0, 1, 1, 1, -1, -1, -1, 1, 1, 1, 1, -1, 1, -1, 1, -1, 1, 1, 1, -1, -1, -1, -1, -1, -1, 1, 1, -1, 1, -1, 1, -1, 1, -1, 1, -1, 1, -1, 0, -1, -1, -1, -1, -1, -1, -1, 0, -1, 1, 1, 0, -1, -1, -1, 0, 0, 1, 0, -1, 1, 0, 1): [0, 0, 1], (-1, 1, 0, 1, 1, 1, -1, -1, -1, 1, 1, 1, 1, -1, 1, -1, 1, -1, 1, 1, 1, -1, -1, -1, -1, -1, -1, 1, 1, -1, 1, -1, 1, -1, 1, -1, 1, -1, 1, -1, 0, -1, -1, -1, -1, -1, 1, -1, 0, -1, 1, 1, 0, -1, 1, -1, 0, 0, 1, 0, -1, 1, 1, 1): [0, 0, 1], (-1, 1, -1, -1, -1, -1, -1, -1, -1, -1, -1, -1, 1, -1, 1, -1, -1, -1, -1, 1, -1, -1, -1, -1, -1, -1, -1, 1, 1, -1, 1, -1, 1, -1, 1, -1, 1, -1, 1, -1, 0, -1, -1, -1, -1, -1, 1, -1, 0, -1, 1, 1, 0, -1, 1, -1, 0, 0, 1, 0, -1, 1, 1, 1): [0, 0, 1], (-1, 1, -1, -1, -1, -1, -1, -1, -1, -1, -1, -1, 1, -1, 1, -1, -1, -1, -1, 1, -1, -1, -1, -1, -1, -1, -1, 1, 1, -1, 1, -1, 1, -1, 1, 1, 1, -1, 1, -1, 0, -1, 1, -1, -1, -1, 1, 1, 0, 1, 1, 1, 0, -1, 1, -1, 1, 0, 1, 0, -1, 1, 1, 1): [0, 0, 1], (-1, 1, -1, -1, -1, -1, -1, -1, -1, -1, -1, -1, 1, -1, 1, -1, -1, -1, -1, 1, -1, -1, -1, -1, -1, -1, -1, 1, 1, -1, 1, -1, 1, -1, 1, 1, 1, -1, 1, -1, 0, -1, 1, -1, -1, -1, 1, 1, 0, -1, -1, 1, 0, -1, 1, -1, 1, -1, 1, 0, -1, 1, 1, 1): [0, 0, 1], (-1, 1, -1, -1, -1, -1, -1, -1, -1, -1, -1, -1, 1, -1, 1, -1, -1, -1, -1, 1, -1, -1, -1, -1, -1, -1, -1, 1, 1, -1, 1, -1, 1, -1, 1, 1, 1, -1, 1, -1, 0, 1, 1, -1, -1, -1, 1, 1, 0, -1, 1, 1, 0, -1, 1, -1, 1, -1, 1, 1, 1, 1, 1, 1): [0, 0, 1], (-1, 1, -1, -1, -1, -1, -1, -1, -1, -1, -1, -1, 1, -1, 1, -1, -1, -1, -1, 1, -1, -1, -1, -1, -1, -1, -1, 1, 1, -1, 1, -1, 1, -1, 1, 1, 1, -1, 1, -1, 0, 1, 1, -1, -1, -1, 1, 1, 0, -1, -1, -1, -1, -1, 1, -1, 1, -1, 1, 1, 1, 1, 1, 1): [0, 0, 1], (-1, 1, -1, -1, -1, -1, -1, -1, -1, -1, -1, -1, 1, -1, 1, -1, -1, -1, -1, 1, -1, -1, -1, -1, -1, -1, -1, 1, 1, -1, 1, -1, 1, -1, 1, 1, 1, -1, 1, 1, 0, 1, 1, -1, -1, -1, 1, 1, 1, 1, 1, 1, 1, 1, 1, -1, 1, -1, 1, 1, 1, 1, 1, 1): [0, 0, 1], (-1, 1, -1, -1, -1, -1, -1, -1, -1, -1, -1, -1, 1, -1, 1, -1, -1, -1, -1, 1, -1, -1, -1, -1, -1, -1, -1, 1, 1, -1, 1, -1, -1, -1, 1, 1, 1, -1, 1, 1, -1, -1, -1, -1, -1, -1, 1, 1, 1, 1, 1, 1, 1, 1, 1, -1, 1, -1, 1, 1, 1, 1, 1, 1): [0, 0, 1]}\n"
          ],
          "name": "stdout"
        }
      ]
    },
    {
      "cell_type": "code",
      "metadata": {
        "id": "VHlNVqxIKAQS"
      },
      "source": [
        "def create_player(knowledge) :\n",
        "    def player(tab, turn) :\n",
        "        valid_moves = get_valid_moves(tab, turn)\n",
        "\n",
        "        ## Computando scores de cada move\n",
        "        scores = []\n",
        "        for move in valid_moves :\n",
        "            ## Colocando a peça no tabuleiro\n",
        "            ltab = list(tab)\n",
        "            ltab[move] = turn\n",
        "\n",
        "            ## Computando score\n",
        "            a,b,c = knowledge.get( tuple(ltab), (1,0,0) )\n",
        "            scores.append(  turn*(b-c)/(a+b+c) )\n",
        "\n",
        "        \n",
        "        chosen = valid_moves[ scores.index( max(scores) )  ] \n",
        "        return (turn, chosen )\n",
        "    return player"
      ],
      "execution_count": null,
      "outputs": []
    },
    {
      "cell_type": "code",
      "metadata": {
        "colab": {
          "base_uri": "https://localhost:8080/"
        },
        "id": "k0LBNeQ7KMAO",
        "outputId": "40cb2c8e-5f67-437f-bc56-d0922d079bc6"
      },
      "source": [
        "player2 = create_player(knowledge)\n",
        "draw, p1, p2 = campeonato(player, player2)\n",
        "print(\"Draw = %i, P1 = %i, P2 = %i\" % (draw, p1, p2))"
      ],
      "execution_count": null,
      "outputs": [
        {
          "output_type": "stream",
          "text": [
            "Draw = 639, P1 = 141, P2 = 220\n"
          ],
          "name": "stdout"
        }
      ]
    }
  ]
}