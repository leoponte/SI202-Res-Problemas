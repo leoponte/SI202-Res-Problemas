{
  "nbformat": 4,
  "nbformat_minor": 0,
  "metadata": {
    "colab": {
      "name": "Atividade03.ipynb",
      "provenance": [],
      "collapsed_sections": []
    },
    "kernelspec": {
      "name": "python3",
      "display_name": "Python 3"
    }
  },
  "cells": [
    {
      "cell_type": "markdown",
      "metadata": {
        "id": "E1cOVfsOWUXb"
      },
      "source": [
        "###REVERSI\n"
      ]
    },
    {
      "cell_type": "markdown",
      "metadata": {
        "id": "k4Us71l9WzF8"
      },
      "source": [
        "#1 - Tabuleiro Vazio do Jogo\n",
        "<img src=\"https://bonaludo.files.wordpress.com/2016/01/othello-board.png?w=454&h=454\" width=\"200\"/> <br/><br/>\n",
        "\n",
        "###O tabuleiro padrão do jogo Reversi (também chamado de Othello) é composto por um quadrado de dimensão 8x8, e se suas coordenadas fossem aumentadas ou diminuídas, isso mudaria um pouco sobre a execução do jogo, mas não o invalidaria por completo, mantendo a mesma mecânica de jogo.\n",
        "\n",
        "\n",
        "<!---\n",
        "\n",
        "</br></br></br></br>\n",
        "Descrição: Avise se o tabuleiro pode ser diminuído ou aumentado para simplificar ou complicar a partida, ou se isso invalidaria o jogo completamente. </br>\n",
        "       Por exemplo, eu posso aumento um tabuleiro de damas facilmente e colocar mais peças. O jogo seria muito parecido, só que com mais peças e um tabuleiro maior. Entretanto, eu não posso fazer isso com um tabuleiro de Xadrez, porque a expansão não faria sentido (quais seriam as novas peças, ...).-->\n"
      ]
    },
    {
      "cell_type": "markdown",
      "metadata": {
        "id": "CGj3G50TW5pO"
      },
      "source": [
        "#2 - VISUALIZAÇÃO DE TODOS OS MOVIMENTOS POSSÍVEIS\n",
        "###O jogo possui apenas 2 jogadores, representados pelas peças pretas e brancas, cada um. \n",
        "<br/>\n",
        "<br/>\n",
        "\n",
        "##Eles são iniciados na seguinte formação:\n",
        "<img src=\"https://www.iggamecenter.com/images/info/reversi/2.png\" width=\"200\"/>\n",
        "<!--   -->\n",
        "\n",
        "###O jogo é sempre iniciado pelas peças pretas.\n",
        "\n",
        "<br/>\n",
        "<br/>\n",
        "\n",
        "##Sobre a movimentação:\n",
        "\n",
        "###É preciso que haja pelo menos uma linha reta (horizontal, vertical ou diagonal) sem espaços vazios entre a posição que o jogador deseja e uma outra peça de sua cor, e que haja uma ou mais peças do oponente entre elas.\n",
        "\n",
        "<br/>\n",
        "\n",
        "###Após isso, uma vez que um jogador faça uma jogada válida, todas as peças do oponente que estejam em uma linha reta (horizontal, vertical ou diagonal) entre a peça recém-colocada e qualquer outra peça do jogador que fez o movimento são viradas e passam a ser da cor deste jogador.\n",
        "\n",
        "<br/>\n",
        "\n",
        "<img src = \"https://roobeedoo2.files.wordpress.com/2017/08/othello-game.gif?w=700\" width=\"200\" />\n",
        "\n",
        "\n",
        "\n",
        "\n",
        "\n"
      ]
    },
    {
      "cell_type": "markdown",
      "metadata": {
        "id": "23snu8ffXZCx"
      },
      "source": [
        "#3 - CONDIÇÕES DE VITÓRIA\n",
        "###O jogo se encerra quando o tabuleiro está completamente preenchido por todas as peças do jogo, e vence o jogador que possuir o maior número de peças de sua cor viradas para cima no tabuleiro.\n",
        "<br/><br/>\n",
        "\n",
        "##Vitória das peças pretas\n",
        "\n",
        "<img src=\"https://images.yourturnmyturn.com/rules/reversi/image026.jpg\" width=\"200\"/>\n",
        "\n",
        "<!-- -->\n",
        "\n",
        "Na situação do tabuleiro final demonstrado acima, o jogador que estivesse controlando as peças **pretas** teria vencido a partida, pois o tabuleiro possuía 40 peças pretas contra apenas 24 peças brancas.\n",
        "<br/><br/>\n",
        "\n",
        "##Vitória das peças brancas\n",
        "<img src=\"https://images.yourturnmyturn.com/rules/reversi/image016.jpg\" width=\"200\"/>\n",
        "\n",
        "Já na situação do tabuleiro posto acima, a vitória seria do jogador que estivesse controlando as peças **brancas** do jogo pois, uma vez com o tabuleiro completo, elas seriam maioria na partida, tendo 40 peças dispostas, jogando contra 24 peças pretas no tabuleiro."
      ]
    }
  ]
}