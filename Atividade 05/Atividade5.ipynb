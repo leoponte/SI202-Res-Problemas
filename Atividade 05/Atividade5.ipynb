{
  "nbformat": 4,
  "nbformat_minor": 0,
  "metadata": {
    "colab": {
      "name": "Atividade5.ipynb",
      "provenance": [],
      "collapsed_sections": [
        "uOJeZeFoe3Ot",
        "_bWT59-qF_Hl",
        "DX6YhK1hOXVV",
        "AEQ6LKT4Rhk3",
        "uQlJdwuIYhX3",
        "Re0jv6uFbQeN"
      ]
    },
    "kernelspec": {
      "name": "python3",
      "display_name": "Python 3"
    }
  },
  "cells": [
    {
      "cell_type": "markdown",
      "metadata": {
        "id": "Lkqw1rkczSLg"
      },
      "source": [
        "# **Inicializando o Tabuleiro**"
      ]
    },
    {
      "cell_type": "markdown",
      "metadata": {
        "id": "uOJeZeFoe3Ot"
      },
      "source": [
        "### **Definindo tabuleio**"
      ]
    },
    {
      "cell_type": "code",
      "metadata": {
        "id": "OoU5uanjzcgo"
      },
      "source": [
        "def initialize_board():\n",
        "  ## Tabuleiro vazio:\n",
        "  tabuleiroList = []\n",
        "  for i in range(64):\n",
        "    if i == 27 or i == 36:\n",
        "      tabuleiroList.append(-1) #colocando peças BRANCAS na posição inicial do meio do tabuleiro\n",
        "    elif i == 28 or i == 35:\n",
        "      tabuleiroList.append(1) #colocando peças PRETAS na posição inicial do meio do tabuleiro\n",
        "    else:\n",
        "      tabuleiroList.append(0)\n",
        "\n",
        "  return tabuleiroList\n",
        "\n",
        "  #Printa conteúdo do tabuleiro na proporção de 8x8\n",
        "  #for i in range(64):\n",
        "  #  print(\"   {}\".format(tabuleiro[i]), end=\"\")\n",
        "  #  if ((i + 1) % 8 == 0):\n",
        "#    print(\"\\n\")\n"
      ],
      "execution_count": 68,
      "outputs": []
    },
    {
      "cell_type": "markdown",
      "metadata": {
        "id": "_bWT59-qF_Hl"
      },
      "source": [
        "### **Definindo Jogadas Válidas**"
      ]
    },
    {
      "cell_type": "code",
      "metadata": {
        "id": "pWyXpDFpGGR7"
      },
      "source": [
        "## Função que devolve as jogadas válidas\n",
        "def get_valid_moves(tab, turn) :\n",
        "    valids = []\n",
        "    for i in range(len(tab)) :\n",
        "        if tab[i] == turn:  \n",
        "\n",
        "\n",
        "            ##Verificação da linha sentido direita \n",
        "            if i <= 61 and (i+1)%8!=0:\n",
        "              if tab[i+1] == -(turn):\n",
        "                for y in range(2,8):\n",
        "                  if (i+y)%8==0:\n",
        "                    break\n",
        "                  elif tab[i+y] == 0:\n",
        "                    valids.append(i+y)\n",
        "                    break\n",
        "\n",
        " \n",
        "            if i >= 2 and (i-1)%8!=7:\n",
        "              if tab[i-1] == -(turn):\n",
        "                for y in range(2,8):\n",
        "                  if (i-y)%8==7:\n",
        "                    break\n",
        "                  elif tab[i-y] == 0:\n",
        "                    valids.append(i-y)\n",
        "                    break     \n",
        "                \n",
        "\n",
        "\n",
        "            ##Verificação da coluna sentido baixo \n",
        "            if i <= 47:\n",
        "              if tab[i+8] == -(turn): #Verificação de igualdade com a peça adversária\n",
        "                if tab[i+16] == 0:\n",
        "                    valids.append(i+16)\n",
        "                elif tab[i+24] == 0:\n",
        "                    valids.append(i+24)\n",
        "                elif tab[i+32] == 0:\n",
        "                    valids.append(i+32)\n",
        "                elif tab[i+40] == 0:\n",
        "                    valids.append(i+40)\n",
        "                elif tab[i+48] == 0:\n",
        "                    valids.append(i+48)\n",
        "                elif tab[i+56] == 0:\n",
        "                  valids.append(i+56)\n",
        "\n",
        "            \n",
        "            ##Verificação da coluna sentido cima\n",
        "            if i > 15:\n",
        "              if tab[i-8] == -(turn): #Verificação de igualdade com a peça adversária\n",
        "                if tab[i-16] == 0:\n",
        "                  valids.append(i-16)\n",
        "                elif tab[i-24] == 0:\n",
        "                  valids.append(i-24)\n",
        "                elif tab[i-32] == 0:\n",
        "                  valids.append(i-32)\n",
        "                elif tab[i-40] == 0:\n",
        "                  valids.append(i-40)\n",
        "                elif tab[i-48] == 0:\n",
        "                  valids.append(i-48)\n",
        "                elif tab[i-56] == 0:\n",
        "                  valids.append(i-56)\n",
        "            \n",
        "\n",
        "            ##Verificação da diagonal inferior direita \n",
        "            if i <= 45:\n",
        "              if tab[i+9] == -(turn): #Verificação da diagonal inferior direita\n",
        "                if tab[i+18] == 0:\n",
        "                  valids.append(i+18)\n",
        "                elif tab[i+27] == 0:\n",
        "                  valids.append(i+27)\n",
        "                elif tab[i+36] == 0:\n",
        "                  valids.append(i+36)\n",
        "                elif tab[i+45] == 0:\n",
        "                  valids.append(i+45)\n",
        "                elif tab[i+54] == 0:\n",
        "                  valids.append(i+54)\n",
        "                elif tab[i+63] == 0:\n",
        "                  valids.append(i+63)\n",
        "\n",
        "            ##Verificação da diagonal inferior esquerda\n",
        "            if i <= 47:\n",
        "              if tab[i+7] == -(turn):\n",
        "                if tab[i+14] == 0:\n",
        "                  valids.append(i+14)\n",
        "                elif tab[i+21] == 0:\n",
        "                  valids.append(i+21)\n",
        "                elif tab[i+28] == 0:\n",
        "                  valids.append(i+28)\n",
        "                elif tab[i+35] == 0:\n",
        "                  valids.append(i+35)\n",
        "                elif tab[i+42] == 0:\n",
        "                  valids.append(i+42)\n",
        "                elif tab[i+49] == 0:\n",
        "                  valids.append(i+49)\n",
        "\n",
        "              ##Verificação da diagonal superior direita\n",
        "              if i >= 16:\n",
        "                if tab[i-7] == -(turn):\n",
        "                  if tab[i-14] == 0:\n",
        "                    valids.append(i-14)\n",
        "                  elif tab[i-21] == 0:\n",
        "                    valids.append(i-21)\n",
        "                  elif tab[i-28] == 0:\n",
        "                    valids.append(i-28)\n",
        "                  elif tab[i-35] == 0:\n",
        "                    valids.append(i-35)\n",
        "                  elif tab[i-42] == 0:\n",
        "                    valids.append(i-42)\n",
        "                  elif tab[i-49] == 0:\n",
        "                    valids.append(i-49)\n",
        "\n",
        "            ##Verificação da diagonal superior esquerda\n",
        "            if i >= 18:\n",
        "              if tab[i-9] == -(turn): #Verificação da diagonal inferior direita\n",
        "                if tab[i-18] == 0:\n",
        "                  valids.append(i-18)\n",
        "                elif tab[i-27] == 0:\n",
        "                  valids.append(i-27)\n",
        "                elif tab[i-36] == 0:\n",
        "                  valids.append(i-36)\n",
        "                elif tab[i-45] == 0:\n",
        "                  valids.append(i-45)\n",
        "                elif tab[i+54] == 0:\n",
        "                  valids.append(i-54)\n",
        "                elif tab[i-63] == 0:\n",
        "                  valids.append(i-63)  \n",
        "\n",
        "\n",
        "    return valids"
      ],
      "execution_count": 69,
      "outputs": []
    },
    {
      "cell_type": "markdown",
      "metadata": {
        "id": "DX6YhK1hOXVV"
      },
      "source": [
        "### **Desenhando as peças no tabuleiro**"
      ]
    },
    {
      "cell_type": "code",
      "metadata": {
        "id": "Mgi8Qi0VOcW-"
      },
      "source": [
        "def draw_piece(draw, cell, piece) :\n",
        "    ## Convertendo linear para matricial\n",
        "    line   = cell // 8\n",
        "    column = cell  % 8\n",
        "\n",
        "    ## Gerando as coordenadas\n",
        "    x0 = column * 50\n",
        "    x1 = (column+1)*50\n",
        "    y0 = line*50\n",
        "    y1 = (line+1)*50\n",
        "\n",
        "    if piece == 1 :\n",
        "        draw.ellipse([x0, y0, x1, y1], width=2, fill = \"black\")\n",
        "    elif piece == -1 :\n",
        "        draw.ellipse([x0, y0, x1, y1], width=2, fill = \"white\")"
      ],
      "execution_count": 70,
      "outputs": []
    },
    {
      "cell_type": "markdown",
      "metadata": {
        "id": "AEQ6LKT4Rhk3"
      },
      "source": [
        "### **Desenhando jogadas válidas no tabuleiro**"
      ]
    },
    {
      "cell_type": "code",
      "metadata": {
        "id": "YjU6UiuTRYzI"
      },
      "source": [
        "def draw_piece_valid_moves(draw, cell) :\n",
        "    ## Convertendo linear para matricial\n",
        "    line   = cell // 8\n",
        "    column = cell  % 8\n",
        "\n",
        "    ## Gerando as coordenadas\n",
        "    x0 = column * 50\n",
        "    x1 = (column+1)*50\n",
        "    y0 = line*50\n",
        "    y1 = (line+1)*50\n",
        "\n",
        "    draw.ellipse([x0, y0, x1, y1], width=1, outline = \"silver\")"
      ],
      "execution_count": 71,
      "outputs": []
    },
    {
      "cell_type": "markdown",
      "metadata": {
        "id": "cL2yDQ-0CWOQ"
      },
      "source": [
        "### **Desenhando tabuleiro junto com jogadas válidas**"
      ]
    },
    {
      "cell_type": "code",
      "metadata": {
        "id": "OmqX3dXLn3Ps"
      },
      "source": [
        "## Importa biblioteca\n",
        "from PIL import Image, ImageDraw\n",
        "\n",
        "def draw_board(tab, turn) :\n",
        "    turno = turn\n",
        "    ## Desenhamos um quadrado 400x400\n",
        "    board = Image.new('RGB', (400, 400),  \"green\")\n",
        "\n",
        "    ## Criamos uma espécie de canvas para desenhar\n",
        "    draw  = ImageDraw.Draw(board)\n",
        "\n",
        "    ## Desenhamos duas linhas horizontais\n",
        "    x0 = 0\n",
        "    y0 = 0\n",
        "    x1 = 400\n",
        "    y1 = 0\n",
        "    for i in range(9):\n",
        "      draw.line( (x0, y0, x1, y1), fill = \"black\", width = 1 ) \n",
        "      y0 += 50\n",
        "      y1 = y0\n",
        "\n",
        "    ## Desenhamos duas linhas verticais\n",
        "    x0 = 0\n",
        "    y0 = 0\n",
        "    x1 = 0\n",
        "    y1 = 400\n",
        "    for i in range(9):\n",
        "      draw.line( (x0, y0, x1, y1), fill = \"black\", width = 1 ) \n",
        "      x0 += 50\n",
        "      x1 = x0\n",
        "\n",
        "    ## Densenha as peças no tabuleiro\n",
        "    for i in range(len(tab)) :\n",
        "        if (tab[i]) :\n",
        "            draw_piece(draw, i, tab[i])\n",
        "   \n",
        "    ## Denfine as jogadas válidas para o atual ou próximo jogador no tabuleiro\n",
        "    if playgame == True :  \n",
        "      if turn == 1:\n",
        "        turno = -1\n",
        "      else :\n",
        "        turno = 1\n",
        "   \n",
        "    validMove = get_valid_moves(tabuleiro, turno)\n",
        "\n",
        "    for i in range(len(validMove)) :\n",
        "        draw_piece_valid_moves(draw, validMove[i])   \n",
        "\n",
        "    return board\n",
        "\n"
      ],
      "execution_count": 80,
      "outputs": []
    },
    {
      "cell_type": "code",
      "metadata": {
        "id": "9nd2FwoNMRNw",
        "outputId": "2a100e4d-db8c-4719-d614-ba782df18fdd",
        "colab": {
          "base_uri": "https://localhost:8080/",
          "height": 435
        }
      },
      "source": [
        "board = draw_board(tabuleiro, 1)\n",
        "display(board)"
      ],
      "execution_count": 29,
      "outputs": [
        {
          "output_type": "stream",
          "text": [
            "[26, 44, 37, 19]\n"
          ],
          "name": "stdout"
        },
        {
          "output_type": "display_data",
          "data": {
            "image/png": "[encoded data removed]",
            "text/plain": [
              "<PIL.Image.Image image mode=RGB size=400x400 at 0x7F3F201B3E10>"
            ]
          },
          "metadata": {
            "tags": []
          }
        }
      ]
    },
    {
      "cell_type": "markdown",
      "metadata": {
        "id": "wlT6sqfyxuBK"
      },
      "source": [
        "# **Criando jogadores \"bobinho\" e humano**"
      ]
    },
    {
      "cell_type": "markdown",
      "metadata": {
        "id": "Ioo465nq1Spj"
      },
      "source": [
        "### **Jogador bobinho que faz jogadas ao acaso**"
      ]
    },
    {
      "cell_type": "code",
      "metadata": {
        "id": "inAGb1S5WCz1"
      },
      "source": [
        "import random\n",
        "def player(tab, turn) :\n",
        "    valid_moves = get_valid_moves(tab, turn)\n",
        "    if valid_moves :\n",
        "        return (turn, random.choice(valid_moves) )"
      ],
      "execution_count": 73,
      "outputs": []
    },
    {
      "cell_type": "code",
      "metadata": {
        "id": "4o4Q3roCY0d2",
        "outputId": "2c27c00f-6038-4d8f-8031-8118329f6abc",
        "colab": {
          "base_uri": "https://localhost:8080/"
        }
      },
      "source": [
        "jogada = player(tabuleiro, 1)\n",
        "print(jogada)"
      ],
      "execution_count": null,
      "outputs": [
        {
          "output_type": "stream",
          "text": [
            "(1, 37)\n"
          ],
          "name": "stdout"
        }
      ]
    },
    {
      "cell_type": "markdown",
      "metadata": {
        "id": "2sA1eYmEyBmu"
      },
      "source": [
        "### **Jogador humano**"
      ]
    },
    {
      "cell_type": "code",
      "metadata": {
        "id": "ni3UvZ-dyHh5"
      },
      "source": [
        "def human_player(tab, turn) :        \n",
        "    valids  = get_valid_moves(tab, turn)\n",
        "    print(\"Jogadas válidos: %s\" % (valids))\n",
        "\n",
        "    board = draw_board( tab, turn )\n",
        "    display(board)\n",
        "\n",
        "    move = int(input())\n",
        "\n",
        "    while not move in valids : \n",
        "        print(\"Jogadas válidos: %s\" % (valids))\n",
        "        move = int(input())\n",
        "    return turn, move"
      ],
      "execution_count": 74,
      "outputs": []
    },
    {
      "cell_type": "code",
      "metadata": {
        "id": "maOUveN-6Z82",
        "outputId": "e097f60d-2741-407c-c151-9aeb1d3aa358",
        "colab": {
          "base_uri": "https://localhost:8080/"
        }
      },
      "source": [
        "human_player(tabuleiro, 1)"
      ],
      "execution_count": 35,
      "outputs": [
        {
          "output_type": "stream",
          "text": [
            "Jogadas válidos: [26, 44, 37, 19]\n",
            "26\n"
          ],
          "name": "stdout"
        },
        {
          "output_type": "execute_result",
          "data": {
            "text/plain": [
              "(1, 26)"
            ]
          },
          "metadata": {
            "tags": []
          },
          "execution_count": 35
        }
      ]
    },
    {
      "cell_type": "markdown",
      "metadata": {
        "id": "uQlJdwuIYhX3"
      },
      "source": [
        "### **Definindo ganhador**"
      ]
    },
    {
      "cell_type": "code",
      "metadata": {
        "id": "jq9kiWN_Yp_q"
      },
      "source": [
        "## Código que devolve o jogador vencedor, \n",
        "## ou zero em caso de não ter um vencedor\n",
        "## definido\n",
        "def winner(tab) :\n",
        "    somas0 = tab.count(0)\n",
        "    somas1 = tab.count(1)\n",
        "    somas2 = tab.count(-1)\n",
        "    if (somas2 > somas1) and (somas0 == 0) : #Pecas BRANCAS ganham quando forem maioria, e quando não houverem espacos vazios\n",
        "        return -1\n",
        "    elif (somas2 < somas1) and (somas0 == 0): #Pecas PRETAS ganham quando forem maioria, e quando não houverem espacos vazios\n",
        "        return 1\n",
        "    else:\n",
        "        return 0"
      ],
      "execution_count": 75,
      "outputs": []
    },
    {
      "cell_type": "markdown",
      "metadata": {
        "id": "roS_X8aUa-Cy"
      },
      "source": [
        "### **Desenhando jogada escolhida( NÃÃO EXECUTAR ESSA FUNÇÂO SERÁ FEITA DEPOIS!)**"
      ]
    },
    {
      "cell_type": "code",
      "metadata": {
        "id": "vA86hAgbo4M3"
      },
      "source": [
        "def paint_ball(tab, pos, turn) :\n",
        "  cont = 2\n",
        "  if tab[cont-2] "
      ],
      "execution_count": null,
      "outputs": []
    },
    {
      "cell_type": "markdown",
      "metadata": {
        "id": "LVvMACkjyxPv"
      },
      "source": [
        "# **Função que gerencia o jogo**"
      ]
    },
    {
      "cell_type": "code",
      "metadata": {
        "id": "QX8zdr3_y3pP"
      },
      "source": [
        "## Abaixo uma função que gerencia um jogo. \n",
        "def game(humano_player, player) :\n",
        "    ## Inicialização\n",
        "    playgame = False\n",
        "    turn   = 1\n",
        "    result = 0 \n",
        "    tabuleiro = tuple( initialize_board() )\n",
        "    \n",
        "    ## Lista que guardará o histórico\n",
        "    history = [] \n",
        "\n",
        "    ## Enquanto houverem jogadas, pedimos para o jogador vez prosseguir\n",
        "    while get_valid_moves(tabuleiro, turn) :\n",
        "\n",
        "        ## Pedindo uma jogada ao jogador da vez.\n",
        "        piece, pos = None, None\n",
        "        if turn == 1 :\n",
        "            piece, pos = human_player(tabuleiro, turn)    \n",
        "        else : \n",
        "            piece, pos = player(tabuleiro, turn)\n",
        "        \n",
        "         ## Colocando a peça no tabuleiro\n",
        "        ltab = list(tabuleiro)\n",
        "        ltab[pos] = piece\n",
        "        ##ltab = paint_ball(ltab) função que irá mudar as cores das peças\n",
        "        tabuleiro  = tuple(ltab)\n",
        "\n",
        "        # Após o primeiro lance indica que o jogo começou\n",
        "        playgame = True;\n",
        "\n",
        "        ## Adicionando tabuleiro no histórico\n",
        "        history.append(tabuleiro)\n",
        "\n",
        "        ## Verificando se alguém ganhou\n",
        "        result = winner(tabuleiro)\n",
        "        if result :\n",
        "            break\n",
        "\n",
        "        ## Trocando a vez de jogar\n",
        "        turn = -turn\n",
        "    \n",
        "    return result, history\n"
      ],
      "execution_count": 81,
      "outputs": []
    },
    {
      "cell_type": "code",
      "metadata": {
        "id": "aoZA7MmxkbSG",
        "outputId": "0f3e3568-8ee0-4eef-d477-8ce639f9f40b",
        "colab": {
          "base_uri": "https://localhost:8080/",
          "height": 973
        }
      },
      "source": [
        "result, history = game(human_player, player)\n",
        "print(result)"
      ],
      "execution_count": 84,
      "outputs": [
        {
          "output_type": "stream",
          "text": [
            "Jogadas válidos: [26, 44, 37, 19]\n"
          ],
          "name": "stdout"
        },
        {
          "output_type": "display_data",
          "data": {
            "image/png": "[encoded data removed]",
            "text/plain": [
              "<PIL.Image.Image image mode=RGB size=400x400 at 0x7F3F201E0390>"
            ]
          },
          "metadata": {
            "tags": []
          }
        },
        {
          "output_type": "error",
          "ename": "KeyboardInterrupt",
          "evalue": "ignored",
          "traceback": [
            "\u001b[0;31m---------------------------------------------------------------------------\u001b[0m",
            "\u001b[0;31mKeyboardInterrupt\u001b[0m                         Traceback (most recent call last)",
            "\u001b[0;32m/usr/local/lib/python3.6/dist-packages/ipykernel/kernelbase.py\u001b[0m in \u001b[0;36m_input_request\u001b[0;34m(self, prompt, ident, parent, password)\u001b[0m\n\u001b[1;32m    728\u001b[0m             \u001b[0;32mtry\u001b[0m\u001b[0;34m:\u001b[0m\u001b[0;34m\u001b[0m\u001b[0;34m\u001b[0m\u001b[0m\n\u001b[0;32m--> 729\u001b[0;31m                 \u001b[0mident\u001b[0m\u001b[0;34m,\u001b[0m \u001b[0mreply\u001b[0m \u001b[0;34m=\u001b[0m \u001b[0mself\u001b[0m\u001b[0;34m.\u001b[0m\u001b[0msession\u001b[0m\u001b[0;34m.\u001b[0m\u001b[0mrecv\u001b[0m\u001b[0;34m(\u001b[0m\u001b[0mself\u001b[0m\u001b[0;34m.\u001b[0m\u001b[0mstdin_socket\u001b[0m\u001b[0;34m,\u001b[0m \u001b[0;36m0\u001b[0m\u001b[0;34m)\u001b[0m\u001b[0;34m\u001b[0m\u001b[0;34m\u001b[0m\u001b[0m\n\u001b[0m\u001b[1;32m    730\u001b[0m             \u001b[0;32mexcept\u001b[0m \u001b[0mException\u001b[0m\u001b[0;34m:\u001b[0m\u001b[0;34m\u001b[0m\u001b[0;34m\u001b[0m\u001b[0m\n",
            "\u001b[0;32m/usr/local/lib/python3.6/dist-packages/jupyter_client/session.py\u001b[0m in \u001b[0;36mrecv\u001b[0;34m(self, socket, mode, content, copy)\u001b[0m\n\u001b[1;32m    802\u001b[0m         \u001b[0;32mtry\u001b[0m\u001b[0;34m:\u001b[0m\u001b[0;34m\u001b[0m\u001b[0;34m\u001b[0m\u001b[0m\n\u001b[0;32m--> 803\u001b[0;31m             \u001b[0mmsg_list\u001b[0m \u001b[0;34m=\u001b[0m \u001b[0msocket\u001b[0m\u001b[0;34m.\u001b[0m\u001b[0mrecv_multipart\u001b[0m\u001b[0;34m(\u001b[0m\u001b[0mmode\u001b[0m\u001b[0;34m,\u001b[0m \u001b[0mcopy\u001b[0m\u001b[0;34m=\u001b[0m\u001b[0mcopy\u001b[0m\u001b[0;34m)\u001b[0m\u001b[0;34m\u001b[0m\u001b[0;34m\u001b[0m\u001b[0m\n\u001b[0m\u001b[1;32m    804\u001b[0m         \u001b[0;32mexcept\u001b[0m \u001b[0mzmq\u001b[0m\u001b[0;34m.\u001b[0m\u001b[0mZMQError\u001b[0m \u001b[0;32mas\u001b[0m \u001b[0me\u001b[0m\u001b[0;34m:\u001b[0m\u001b[0;34m\u001b[0m\u001b[0;34m\u001b[0m\u001b[0m\n",
            "\u001b[0;32m/usr/local/lib/python3.6/dist-packages/zmq/sugar/socket.py\u001b[0m in \u001b[0;36mrecv_multipart\u001b[0;34m(self, flags, copy, track)\u001b[0m\n\u001b[1;32m    490\u001b[0m         \"\"\"\n\u001b[0;32m--> 491\u001b[0;31m         \u001b[0mparts\u001b[0m \u001b[0;34m=\u001b[0m \u001b[0;34m[\u001b[0m\u001b[0mself\u001b[0m\u001b[0;34m.\u001b[0m\u001b[0mrecv\u001b[0m\u001b[0;34m(\u001b[0m\u001b[0mflags\u001b[0m\u001b[0;34m,\u001b[0m \u001b[0mcopy\u001b[0m\u001b[0;34m=\u001b[0m\u001b[0mcopy\u001b[0m\u001b[0;34m,\u001b[0m \u001b[0mtrack\u001b[0m\u001b[0;34m=\u001b[0m\u001b[0mtrack\u001b[0m\u001b[0;34m)\u001b[0m\u001b[0;34m]\u001b[0m\u001b[0;34m\u001b[0m\u001b[0;34m\u001b[0m\u001b[0m\n\u001b[0m\u001b[1;32m    492\u001b[0m         \u001b[0;31m# have first part already, only loop while more to receive\u001b[0m\u001b[0;34m\u001b[0m\u001b[0;34m\u001b[0m\u001b[0;34m\u001b[0m\u001b[0m\n",
            "\u001b[0;32mzmq/backend/cython/socket.pyx\u001b[0m in \u001b[0;36mzmq.backend.cython.socket.Socket.recv\u001b[0;34m()\u001b[0m\n",
            "\u001b[0;32mzmq/backend/cython/socket.pyx\u001b[0m in \u001b[0;36mzmq.backend.cython.socket.Socket.recv\u001b[0;34m()\u001b[0m\n",
            "\u001b[0;32mzmq/backend/cython/socket.pyx\u001b[0m in \u001b[0;36mzmq.backend.cython.socket._recv_copy\u001b[0;34m()\u001b[0m\n",
            "\u001b[0;32m/usr/local/lib/python3.6/dist-packages/zmq/backend/cython/checkrc.pxd\u001b[0m in \u001b[0;36mzmq.backend.cython.checkrc._check_rc\u001b[0;34m()\u001b[0m\n",
            "\u001b[0;31mKeyboardInterrupt\u001b[0m: ",
            "\nDuring handling of the above exception, another exception occurred:\n",
            "\u001b[0;31mKeyboardInterrupt\u001b[0m                         Traceback (most recent call last)",
            "\u001b[0;32m<ipython-input-84-a73a38d6d95c>\u001b[0m in \u001b[0;36m<module>\u001b[0;34m()\u001b[0m\n\u001b[0;32m----> 1\u001b[0;31m \u001b[0mresult\u001b[0m\u001b[0;34m,\u001b[0m \u001b[0mhistory\u001b[0m \u001b[0;34m=\u001b[0m \u001b[0mgame\u001b[0m\u001b[0;34m(\u001b[0m\u001b[0mhuman_player\u001b[0m\u001b[0;34m,\u001b[0m \u001b[0mplayer\u001b[0m\u001b[0;34m)\u001b[0m\u001b[0;34m\u001b[0m\u001b[0;34m\u001b[0m\u001b[0m\n\u001b[0m\u001b[1;32m      2\u001b[0m \u001b[0mprint\u001b[0m\u001b[0;34m(\u001b[0m\u001b[0mresult\u001b[0m\u001b[0;34m)\u001b[0m\u001b[0;34m\u001b[0m\u001b[0;34m\u001b[0m\u001b[0m\n",
            "\u001b[0;32m<ipython-input-81-9a972b27c3ce>\u001b[0m in \u001b[0;36mgame\u001b[0;34m(humano_player, player)\u001b[0m\n\u001b[1;32m     16\u001b[0m         \u001b[0mpiece\u001b[0m\u001b[0;34m,\u001b[0m \u001b[0mpos\u001b[0m \u001b[0;34m=\u001b[0m \u001b[0;32mNone\u001b[0m\u001b[0;34m,\u001b[0m \u001b[0;32mNone\u001b[0m\u001b[0;34m\u001b[0m\u001b[0;34m\u001b[0m\u001b[0m\n\u001b[1;32m     17\u001b[0m         \u001b[0;32mif\u001b[0m \u001b[0mturn\u001b[0m \u001b[0;34m==\u001b[0m \u001b[0;36m1\u001b[0m \u001b[0;34m:\u001b[0m\u001b[0;34m\u001b[0m\u001b[0;34m\u001b[0m\u001b[0m\n\u001b[0;32m---> 18\u001b[0;31m             \u001b[0mpiece\u001b[0m\u001b[0;34m,\u001b[0m \u001b[0mpos\u001b[0m \u001b[0;34m=\u001b[0m \u001b[0mhuman_player\u001b[0m\u001b[0;34m(\u001b[0m\u001b[0mtabuleiro\u001b[0m\u001b[0;34m,\u001b[0m \u001b[0mturn\u001b[0m\u001b[0;34m)\u001b[0m\u001b[0;34m\u001b[0m\u001b[0;34m\u001b[0m\u001b[0m\n\u001b[0m\u001b[1;32m     19\u001b[0m         \u001b[0;32melse\u001b[0m \u001b[0;34m:\u001b[0m\u001b[0;34m\u001b[0m\u001b[0;34m\u001b[0m\u001b[0m\n\u001b[1;32m     20\u001b[0m             \u001b[0mpiece\u001b[0m\u001b[0;34m,\u001b[0m \u001b[0mpos\u001b[0m \u001b[0;34m=\u001b[0m \u001b[0mplayer\u001b[0m\u001b[0;34m(\u001b[0m\u001b[0mtabuleiro\u001b[0m\u001b[0;34m,\u001b[0m \u001b[0mturn\u001b[0m\u001b[0;34m)\u001b[0m\u001b[0;34m\u001b[0m\u001b[0;34m\u001b[0m\u001b[0m\n",
            "\u001b[0;32m<ipython-input-74-19d31b801a31>\u001b[0m in \u001b[0;36mhuman_player\u001b[0;34m(tab, turn)\u001b[0m\n\u001b[1;32m      6\u001b[0m     \u001b[0mdisplay\u001b[0m\u001b[0;34m(\u001b[0m\u001b[0mboard\u001b[0m\u001b[0;34m)\u001b[0m\u001b[0;34m\u001b[0m\u001b[0;34m\u001b[0m\u001b[0m\n\u001b[1;32m      7\u001b[0m \u001b[0;34m\u001b[0m\u001b[0m\n\u001b[0;32m----> 8\u001b[0;31m     \u001b[0mmove\u001b[0m \u001b[0;34m=\u001b[0m \u001b[0mint\u001b[0m\u001b[0;34m(\u001b[0m\u001b[0minput\u001b[0m\u001b[0;34m(\u001b[0m\u001b[0;34m)\u001b[0m\u001b[0;34m)\u001b[0m\u001b[0;34m\u001b[0m\u001b[0;34m\u001b[0m\u001b[0m\n\u001b[0m\u001b[1;32m      9\u001b[0m \u001b[0;34m\u001b[0m\u001b[0m\n\u001b[1;32m     10\u001b[0m     \u001b[0;32mwhile\u001b[0m \u001b[0;32mnot\u001b[0m \u001b[0mmove\u001b[0m \u001b[0;32min\u001b[0m \u001b[0mvalids\u001b[0m \u001b[0;34m:\u001b[0m\u001b[0;34m\u001b[0m\u001b[0;34m\u001b[0m\u001b[0m\n",
            "\u001b[0;32m/usr/local/lib/python3.6/dist-packages/ipykernel/kernelbase.py\u001b[0m in \u001b[0;36mraw_input\u001b[0;34m(self, prompt)\u001b[0m\n\u001b[1;32m    702\u001b[0m             \u001b[0mself\u001b[0m\u001b[0;34m.\u001b[0m\u001b[0m_parent_ident\u001b[0m\u001b[0;34m,\u001b[0m\u001b[0;34m\u001b[0m\u001b[0;34m\u001b[0m\u001b[0m\n\u001b[1;32m    703\u001b[0m             \u001b[0mself\u001b[0m\u001b[0;34m.\u001b[0m\u001b[0m_parent_header\u001b[0m\u001b[0;34m,\u001b[0m\u001b[0;34m\u001b[0m\u001b[0;34m\u001b[0m\u001b[0m\n\u001b[0;32m--> 704\u001b[0;31m             \u001b[0mpassword\u001b[0m\u001b[0;34m=\u001b[0m\u001b[0;32mFalse\u001b[0m\u001b[0;34m,\u001b[0m\u001b[0;34m\u001b[0m\u001b[0;34m\u001b[0m\u001b[0m\n\u001b[0m\u001b[1;32m    705\u001b[0m         )\n\u001b[1;32m    706\u001b[0m \u001b[0;34m\u001b[0m\u001b[0m\n",
            "\u001b[0;32m/usr/local/lib/python3.6/dist-packages/ipykernel/kernelbase.py\u001b[0m in \u001b[0;36m_input_request\u001b[0;34m(self, prompt, ident, parent, password)\u001b[0m\n\u001b[1;32m    732\u001b[0m             \u001b[0;32mexcept\u001b[0m \u001b[0mKeyboardInterrupt\u001b[0m\u001b[0;34m:\u001b[0m\u001b[0;34m\u001b[0m\u001b[0;34m\u001b[0m\u001b[0m\n\u001b[1;32m    733\u001b[0m                 \u001b[0;31m# re-raise KeyboardInterrupt, to truncate traceback\u001b[0m\u001b[0;34m\u001b[0m\u001b[0;34m\u001b[0m\u001b[0;34m\u001b[0m\u001b[0m\n\u001b[0;32m--> 734\u001b[0;31m                 \u001b[0;32mraise\u001b[0m \u001b[0mKeyboardInterrupt\u001b[0m\u001b[0;34m\u001b[0m\u001b[0;34m\u001b[0m\u001b[0m\n\u001b[0m\u001b[1;32m    735\u001b[0m             \u001b[0;32melse\u001b[0m\u001b[0;34m:\u001b[0m\u001b[0;34m\u001b[0m\u001b[0;34m\u001b[0m\u001b[0m\n\u001b[1;32m    736\u001b[0m                 \u001b[0;32mbreak\u001b[0m\u001b[0;34m\u001b[0m\u001b[0;34m\u001b[0m\u001b[0m\n",
            "\u001b[0;31mKeyboardInterrupt\u001b[0m: "
          ]
        }
      ]
    }
  ]
}