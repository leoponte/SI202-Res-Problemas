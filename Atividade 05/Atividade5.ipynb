{
  "nbformat": 4,
  "nbformat_minor": 0,
  "metadata": {
    "colab": {
      "name": "Atividade5.ipynb",
      "provenance": [],
      "collapsed_sections": [
        "Lkqw1rkczSLg",
        "_bWT59-qF_Hl"
      ]
    },
    "kernelspec": {
      "name": "python3",
      "display_name": "Python 3"
    }
  },
  "cells": [
    {
      "cell_type": "code",
      "metadata": {
        "id": "nYiNJ8MOhI8Z"
      },
      "source": [
        "## Essa variavel irá ajudar no controle da criação de jogadas válidas\n",
        "playgame = False"
      ],
      "execution_count": null,
      "outputs": []
    },
    {
      "cell_type": "markdown",
      "metadata": {
        "id": "Lkqw1rkczSLg"
      },
      "source": [
        "## **Definindo Tabuleiro**"
      ]
    },
    {
      "cell_type": "code",
      "metadata": {
        "id": "OoU5uanjzcgo",
        "outputId": "fd756214-bbc8-4984-b139-3510164304ee",
        "colab": {
          "base_uri": "https://localhost:8080/"
        }
      },
      "source": [
        "## Tabuleiro vazio:\n",
        "tabuleiroList = []\n",
        "for i in range(64):\n",
        "  if i == 27 or i == 36:\n",
        "    tabuleiroList.append(-1) #colocando peças BRANCAS na posição inicial do meio do tabuleiro\n",
        "  elif i == 28 or i == 35:\n",
        "    tabuleiroList.append(1) #colocando peças PRETAS na posição inicial do meio do tabuleiro\n",
        "  else:\n",
        "    tabuleiroList.append(0)\n",
        "tabuleiro = tuple(tabuleiroList)\n",
        "\n",
        "#Printa conteúdo do tabuleiro na proporção de 8x8\n",
        "for i in range(64):\n",
        "  print(\"   {}\".format(tabuleiro[i]), end=\"\")\n",
        "  if ((i + 1) % 8 == 0):\n",
        "    print(\"\\n\")\n"
      ],
      "execution_count": null,
      "outputs": [
        {
          "output_type": "stream",
          "text": [
            "   0   0   0   0   0   0   0   0\n",
            "\n",
            "   0   0   0   0   0   0   0   0\n",
            "\n",
            "   0   0   0   0   0   0   0   0\n",
            "\n",
            "   0   0   0   -1   1   0   0   0\n",
            "\n",
            "   0   0   0   1   -1   0   0   0\n",
            "\n",
            "   0   0   0   0   0   0   0   0\n",
            "\n",
            "   0   0   0   0   0   0   0   0\n",
            "\n",
            "   0   0   0   0   0   0   0   0\n",
            "\n"
          ],
          "name": "stdout"
        }
      ]
    },
    {
      "cell_type": "markdown",
      "metadata": {
        "id": "_bWT59-qF_Hl"
      },
      "source": [
        "## **Definindo Jogadas Válidas**"
      ]
    },
    {
      "cell_type": "code",
      "metadata": {
        "id": "pWyXpDFpGGR7"
      },
      "source": [
        "## Função que devolve as jogadas válidas\n",
        "def get_valid_moves(tab, turn) :\n",
        "    valids = []\n",
        "    for i in range(len(tab)) :\n",
        "        if tab[i] == turn:  \n",
        "\n",
        "\n",
        "            ##Verificação da linha sentido direita \n",
        "            if i <= 61 and (i+1)%8!=0:\n",
        "              if tab[i+1] == -(turn):\n",
        "                for y in range(2,8):\n",
        "                  if (i+y)%8==0:\n",
        "                    break\n",
        "                  elif tab[i+y] == 0:\n",
        "                    valids.append(i+y)\n",
        "                    break\n",
        "\n",
        " \n",
        "            if i >= 2 and (i-1)%8!=7:\n",
        "              if tab[i-1] == -(turn):\n",
        "                for y in range(2,8):\n",
        "                  if (i-y)%8==7:\n",
        "                    break\n",
        "                  elif tab[i-y] == 0:\n",
        "                    valids.append(i-y)\n",
        "                    break     \n",
        "                \n",
        "\n",
        "\n",
        "            ##Verificação da coluna sentido baixo \n",
        "            if i <= 47:\n",
        "              if tab[i+8] == -(turn): #Verificação de igualdade com a peça adversária\n",
        "                if tab[i+16] == 0:\n",
        "                    valids.append(i+16)\n",
        "                elif tab[i+24] == 0:\n",
        "                    valids.append(i+24)\n",
        "                elif tab[i+32] == 0:\n",
        "                    valids.append(i+32)\n",
        "                elif tab[i+40] == 0:\n",
        "                    valids.append(i+40)\n",
        "                elif tab[i+48] == 0:\n",
        "                    valids.append(i+48)\n",
        "                elif tab[i+56] == 0:\n",
        "                  valids.append(i+56)\n",
        "\n",
        "            \n",
        "            ##Verificação da coluna sentido cima\n",
        "            if i > 15:\n",
        "              if tab[i-8] == -(turn): #Verificação de igualdade com a peça adversária\n",
        "                if tab[i-16] == 0:\n",
        "                  valids.append(i-16)\n",
        "                elif tab[i-24] == 0:\n",
        "                  valids.append(i-24)\n",
        "                elif tab[i-32] == 0:\n",
        "                  valids.append(i-32)\n",
        "                elif tab[i-40] == 0:\n",
        "                  valids.append(i-40)\n",
        "                elif tab[i-48] == 0:\n",
        "                  valids.append(i-48)\n",
        "                elif tab[i-56] == 0:\n",
        "                  valids.append(i-56)\n",
        "            \n",
        "\n",
        "            ##Verificação da diagonal inferior direita \n",
        "            if i <= 45:\n",
        "              if tab[i+9] == -(turn): #Verificação da diagonal inferior direita\n",
        "                if tab[i+18] == 0:\n",
        "                  valids.append(i+18)\n",
        "                elif tab[i+27] == 0:\n",
        "                  valids.append(i+27)\n",
        "                elif tab[i+36] == 0:\n",
        "                  valids.append(i+36)\n",
        "                elif tab[i+45] == 0:\n",
        "                  valids.append(i+45)\n",
        "                elif tab[i+54] == 0:\n",
        "                  valids.append(i+54)\n",
        "                elif tab[i+63] == 0:\n",
        "                  valids.append(i+63)\n",
        "\n",
        "            ##Verificação da diagonal inferior esquerda\n",
        "            if i <= 47:\n",
        "              if tab[i+7] == -(turn):\n",
        "                if tab[i+14] == 0:\n",
        "                  valids.append(i+14)\n",
        "                elif tab[i+21] == 0:\n",
        "                  valids.append(i+21)\n",
        "                elif tab[i+28] == 0:\n",
        "                  valids.append(i+28)\n",
        "                elif tab[i+35] == 0:\n",
        "                  valids.append(i+35)\n",
        "                elif tab[i+42] == 0:\n",
        "                  valids.append(i+42)\n",
        "                elif tab[i+49] == 0:\n",
        "                  valids.append(i+49)\n",
        "\n",
        "              ##Verificação da diagonal superior direita\n",
        "              if i >= 16:\n",
        "                if tab[i-7] == -(turn):\n",
        "                  if tab[i-14] == 0:\n",
        "                    valids.append(i-14)\n",
        "                  elif tab[i-21] == 0:\n",
        "                    valids.append(i-21)\n",
        "                  elif tab[i-28] == 0:\n",
        "                    valids.append(i-28)\n",
        "                  elif tab[i-35] == 0:\n",
        "                    valids.append(i-35)\n",
        "                  elif tab[i-42] == 0:\n",
        "                    valids.append(i-42)\n",
        "                  elif tab[i-49] == 0:\n",
        "                    valids.append(i-49)\n",
        "\n",
        "            ##Verificação da diagonal superior esquerda\n",
        "            if i >= 18:\n",
        "              if tab[i-9] == -(turn): #Verificação da diagonal inferior direita\n",
        "                if tab[i-18] == 0:\n",
        "                  valids.append(i-18)\n",
        "                elif tab[i-27] == 0:\n",
        "                  valids.append(i-27)\n",
        "                elif tab[i-36] == 0:\n",
        "                  valids.append(i-36)\n",
        "                elif tab[i-45] == 0:\n",
        "                  valids.append(i-45)\n",
        "                elif tab[i+54] == 0:\n",
        "                  valids.append(i-54)\n",
        "                elif tab[i-63] == 0:\n",
        "                  valids.append(i-63)  \n",
        "\n",
        "\n",
        "    return valids"
      ],
      "execution_count": null,
      "outputs": []
    },
    {
      "cell_type": "code",
      "metadata": {
        "id": "XA8wxIGI2D5h"
      },
      "source": [
        "def draw_piece(draw, cell, piece) :\n",
        "    ## Convertendo linear para matricial\n",
        "    line   = cell // 8\n",
        "    column = cell  % 8\n",
        "\n",
        "    ## Gerando as coordenadas\n",
        "    x0 = column * 50\n",
        "    x1 = (column+1)*50\n",
        "    y0 = line*50\n",
        "    y1 = (line+1)*50\n",
        "\n",
        "    if piece == 1 :\n",
        "        draw.ellipse([x0, y0, x1, y1], width=4, fill = \"black\")\n",
        "    elif piece == -1 :\n",
        "        draw.ellipse([x0, y0, x1, y1], width=4, fill = \"white\")"
      ],
      "execution_count": null,
      "outputs": []
    },
    {
      "cell_type": "markdown",
      "metadata": {
        "id": "lPVy7IG1qFad"
      },
      "source": [
        "## **Desenhando Tabuleiro**\n"
      ]
    },
    {
      "cell_type": "code",
      "metadata": {
        "id": "bxOLv9JfBdMp"
      },
      "source": [
        "## Importa biblioteca\n",
        "from PIL import Image, ImageDraw"
      ],
      "execution_count": null,
      "outputs": []
    },
    {
      "cell_type": "markdown",
      "metadata": {
        "id": "DX6YhK1hOXVV"
      },
      "source": [
        "**Função que desenha as peças no tabuleiro**"
      ]
    },
    {
      "cell_type": "code",
      "metadata": {
        "id": "Mgi8Qi0VOcW-"
      },
      "source": [
        "def draw_piece(draw, cell, piece) :\n",
        "    ## Convertendo linear para matricial\n",
        "    line   = cell // 8\n",
        "    column = cell  % 8\n",
        "\n",
        "    ## Gerando as coordenadas\n",
        "    x0 = column * 50\n",
        "    x1 = (column+1)*50\n",
        "    y0 = line*50\n",
        "    y1 = (line+1)*50\n",
        "\n",
        "    if piece == 1 :\n",
        "         draw.ellipse([x0, y0, x1, y1], width=2, fill = \"black\")\n",
        "    elif piece == -1 :\n",
        "        draw.ellipse([x0, y0, x1, y1], width=2, fill = \"white\")"
      ],
      "execution_count": null,
      "outputs": []
    },
    {
      "cell_type": "markdown",
      "metadata": {
        "id": "AEQ6LKT4Rhk3"
      },
      "source": [
        "**Função que desenha jogadas válidas**"
      ]
    },
    {
      "cell_type": "code",
      "metadata": {
        "id": "YjU6UiuTRYzI"
      },
      "source": [
        "def draw_piece_valid_moves(draw, cell) :\n",
        "    ## Convertendo linear para matricial\n",
        "    line   = cell // 8\n",
        "    column = cell  % 8\n",
        "\n",
        "    ## Gerando as coordenadas\n",
        "    x0 = column * 50\n",
        "    x1 = (column+1)*50\n",
        "    y0 = line*50\n",
        "    y1 = (line+1)*50\n",
        "\n",
        "    draw.ellipse([x0, y0, x1, y1], width=1, outline = \"silver\")"
      ],
      "execution_count": null,
      "outputs": []
    },
    {
      "cell_type": "markdown",
      "metadata": {
        "id": "cL2yDQ-0CWOQ"
      },
      "source": [
        "**Função que desenha tabuleiro junto com jogadas válidas**"
      ]
    },
    {
      "cell_type": "code",
      "metadata": {
        "id": "OmqX3dXLn3Ps"
      },
      "source": [
        "def draw_board(tab, turn) :\n",
        "    turno = turn\n",
        "    ## Desenhamos um quadrado 400x400\n",
        "    board = Image.new('RGB', (400, 400),  \"green\")\n",
        "\n",
        "    ## Criamos uma espécie de canvas para desenhar\n",
        "    draw  = ImageDraw.Draw(board)\n",
        "\n",
        "    ## Desenhamos duas linhas horizontais\n",
        "    x0 = 0\n",
        "    y0 = 0\n",
        "    x1 = 400\n",
        "    y1 = 0\n",
        "    for i in range(9):\n",
        "      draw.line( (x0, y0, x1, y1), fill = \"black\", width = 1 ) \n",
        "      y0 += 50\n",
        "      y1 = y0\n",
        "\n",
        "    ## Desenhamos duas linhas verticais\n",
        "    x0 = 0\n",
        "    y0 = 0\n",
        "    x1 = 0\n",
        "    y1 = 400\n",
        "    for i in range(9):\n",
        "      draw.line( (x0, y0, x1, y1), fill = \"black\", width = 1 ) \n",
        "      x0 += 50\n",
        "      x1 = x0\n",
        "\n",
        "    ## Densenha as peças no tabuleiro\n",
        "    for i in range(len(tab)) :\n",
        "        if (tab[i]) :\n",
        "            draw_piece(draw, i, tab[i])\n",
        "   \n",
        "    ## Denfine as jogadas válidas para o atual ou próximo jogador no tabuleiro\n",
        "    if playgame == True :  \n",
        "      if turn == 1:\n",
        "        turno = -1\n",
        "      else :\n",
        "        turno = 1\n",
        "   \n",
        "    validMove = get_valid_moves(tabuleiro, turno)\n",
        "    print(validMove)\n",
        "\n",
        "    for i in range(len(validMove)) :\n",
        "        draw_piece_valid_moves(draw, validMove[i])   \n",
        "\n",
        "    return board\n",
        "\n"
      ],
      "execution_count": null,
      "outputs": []
    },
    {
      "cell_type": "code",
      "metadata": {
        "id": "9nd2FwoNMRNw"
      },
      "source": [
        "board = draw_board(tabuleiro, 1)\n",
        "display(board)"
      ],
      "execution_count": null,
      "outputs": []
    },
    {
      "cell_type": "markdown",
      "metadata": {
        "id": "wlT6sqfyxuBK"
      },
      "source": [
        "## **Criando jogador \"bobinho\"**"
      ]
    },
    {
      "cell_type": "code",
      "metadata": {
        "id": "inAGb1S5WCz1"
      },
      "source": [
        "import random\n",
        "\n",
        "## A função abaixo é um jogador. Ele receberá um tabuleiro\n",
        "## como parâmetro pela variável \"tab\". Na variável \"turn\", \n",
        "## o jogador saberá se deverá efetuar uma jogada como \"x\"\n",
        "## ou \"o\". Em outras palavras, se turn = 1, então o jogador\n",
        "## deverá efetuar uma jogada como \"x\". Caso contrário, se \n",
        "## turn = -1, o jogador deverá efetuar uma jogada como \"o\".\n",
        "def player(tab, turn) :\n",
        "    valid_moves = get_valid_moves(tab, turn)\n",
        "    if valid_moves :\n",
        "        return (turn, random.choice(valid_moves) )"
      ],
      "execution_count": null,
      "outputs": []
    },
    {
      "cell_type": "code",
      "metadata": {
        "id": "4o4Q3roCY0d2",
        "outputId": "afd103be-7f0c-4933-97ce-eb99bcca7f65",
        "colab": {
          "base_uri": "https://localhost:8080/"
        }
      },
      "source": [
        "jogada = player(tabuleiro, 1)\n",
        "print(jogada)"
      ],
      "execution_count": null,
      "outputs": [
        {
          "output_type": "stream",
          "text": [
            "(1, 37)\n"
          ],
          "name": "stdout"
        }
      ]
    },
    {
      "cell_type": "code",
      "metadata": {
        "id": "R2CoCDrWaKHb"
      },
      "source": [
        " ## Lista que guardará o histórico\n",
        "history = [] "
      ],
      "execution_count": null,
      "outputs": []
    },
    {
      "cell_type": "markdown",
      "metadata": {
        "id": "Re0jv6uFbQeN"
      },
      "source": [
        "**Colocando jogada escolhida no tabuleiro**"
      ]
    },
    {
      "cell_type": "code",
      "metadata": {
        "id": "BSIggUyUbokT",
        "outputId": "31753753-0a42-4c2e-9025-7d68d0f83165",
        "colab": {
          "base_uri": "https://localhost:8080/"
        }
      },
      "source": [
        "playgame = True\n",
        "piece, pos = jogada\n",
        "\n",
        "## Colocando a peça no tabuleiro\n",
        "ltab = list(tabuleiro)\n",
        "ltab[pos] = piece\n",
        "ltab = paint_ball(ltab)\n",
        "tabuleiro  = tuple(ltab)\n",
        "\n",
        "for i in range(64):\n",
        "  print(\"   {}\".format(tabuleiro[i]), end=\"\")\n",
        "  if ((i + 1) % 8 == 0):\n",
        "    print(\"\\n\")"
      ],
      "execution_count": null,
      "outputs": [
        {
          "output_type": "stream",
          "text": [
            "   0   0   0   0   0   0   0   0\n",
            "\n",
            "   0   0   0   0   0   0   0   0\n",
            "\n",
            "   0   0   0   0   0   0   0   0\n",
            "\n",
            "   0   0   0   -1   1   0   0   0\n",
            "\n",
            "   0   0   0   1   -1   1   0   0\n",
            "\n",
            "   0   0   0   0   0   0   0   0\n",
            "\n",
            "   0   0   0   0   0   0   0   0\n",
            "\n",
            "   0   0   0   0   0   0   0   0\n",
            "\n"
          ],
          "name": "stdout"
        }
      ]
    },
    {
      "cell_type": "markdown",
      "metadata": {
        "id": "roS_X8aUa-Cy"
      },
      "source": [
        "**Desenhando jogada escolhida**"
      ]
    },
    {
      "cell_type": "code",
      "metadata": {
        "id": "jQhj-poYc_6y"
      },
      "source": [
        "board = draw_board(tabuleiro, 1)\n",
        "display(board)"
      ],
      "execution_count": null,
      "outputs": []
    },
    {
      "cell_type": "markdown",
      "metadata": {
        "id": "cysFIpIVo4-c"
      },
      "source": [
        ""
      ]
    },
    {
      "cell_type": "code",
      "metadata": {
        "id": "vA86hAgbo4M3"
      },
      "source": [
        "def paint_ball(ltab, pos, turn) :\n",
        "  cont "
      ],
      "execution_count": null,
      "outputs": []
    }
  ]
}